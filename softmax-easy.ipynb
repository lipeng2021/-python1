{
  "nbformat": 4,
  "nbformat_minor": 0,
  "metadata": {
    "colab": {
      "name": "Untitled2.ipynb",
      "provenance": [],
      "authorship_tag": "ABX9TyMDOCI2NEUCiN7TC6TooYWj",
      "include_colab_link": true
    },
    "kernelspec": {
      "name": "python3",
      "display_name": "Python 3"
    },
    "language_info": {
      "name": "python"
    },
    "accelerator": "GPU",
    "widgets": {
      "application/vnd.jupyter.widget-state+json": {
        "40243d9eff1e4fc48c0612dab8ef881d": {
          "model_module": "@jupyter-widgets/controls",
          "model_name": "HBoxModel",
          "model_module_version": "1.5.0",
          "state": {
            "_dom_classes": [],
            "_model_module": "@jupyter-widgets/controls",
            "_model_module_version": "1.5.0",
            "_model_name": "HBoxModel",
            "_view_count": null,
            "_view_module": "@jupyter-widgets/controls",
            "_view_module_version": "1.5.0",
            "_view_name": "HBoxView",
            "box_style": "",
            "children": [
              "IPY_MODEL_ff9ff0451b6843c2951ca1d035fff76e",
              "IPY_MODEL_fd0548a60a2b4bd880d104ca3c1a1419",
              "IPY_MODEL_5b7363e3c02a49efa6496de468648768"
            ],
            "layout": "IPY_MODEL_6d79d7aef7444020a1d0cebd6d721f20"
          }
        },
        "ff9ff0451b6843c2951ca1d035fff76e": {
          "model_module": "@jupyter-widgets/controls",
          "model_name": "HTMLModel",
          "model_module_version": "1.5.0",
          "state": {
            "_dom_classes": [],
            "_model_module": "@jupyter-widgets/controls",
            "_model_module_version": "1.5.0",
            "_model_name": "HTMLModel",
            "_view_count": null,
            "_view_module": "@jupyter-widgets/controls",
            "_view_module_version": "1.5.0",
            "_view_name": "HTMLView",
            "description": "",
            "description_tooltip": null,
            "layout": "IPY_MODEL_25dfb931ec10412e8f87bb0241620c55",
            "placeholder": "​",
            "style": "IPY_MODEL_bd3536a104fa49b893c7fd4a9a5539ca",
            "value": ""
          }
        },
        "fd0548a60a2b4bd880d104ca3c1a1419": {
          "model_module": "@jupyter-widgets/controls",
          "model_name": "FloatProgressModel",
          "model_module_version": "1.5.0",
          "state": {
            "_dom_classes": [],
            "_model_module": "@jupyter-widgets/controls",
            "_model_module_version": "1.5.0",
            "_model_name": "FloatProgressModel",
            "_view_count": null,
            "_view_module": "@jupyter-widgets/controls",
            "_view_module_version": "1.5.0",
            "_view_name": "ProgressView",
            "bar_style": "success",
            "description": "",
            "description_tooltip": null,
            "layout": "IPY_MODEL_8093a5d33b05423986ed5c4d21bd0a36",
            "max": 26421880,
            "min": 0,
            "orientation": "horizontal",
            "style": "IPY_MODEL_329f92d138044685ba4659ef1d78ff60",
            "value": 26421880
          }
        },
        "5b7363e3c02a49efa6496de468648768": {
          "model_module": "@jupyter-widgets/controls",
          "model_name": "HTMLModel",
          "model_module_version": "1.5.0",
          "state": {
            "_dom_classes": [],
            "_model_module": "@jupyter-widgets/controls",
            "_model_module_version": "1.5.0",
            "_model_name": "HTMLModel",
            "_view_count": null,
            "_view_module": "@jupyter-widgets/controls",
            "_view_module_version": "1.5.0",
            "_view_name": "HTMLView",
            "description": "",
            "description_tooltip": null,
            "layout": "IPY_MODEL_d751fd984f9743de84d9a213d481e621",
            "placeholder": "​",
            "style": "IPY_MODEL_fdeebdf2159a44a7a78acaf2ea1f0cc4",
            "value": " 26422272/? [00:01&lt;00:00, 23475742.49it/s]"
          }
        },
        "6d79d7aef7444020a1d0cebd6d721f20": {
          "model_module": "@jupyter-widgets/base",
          "model_name": "LayoutModel",
          "model_module_version": "1.2.0",
          "state": {
            "_model_module": "@jupyter-widgets/base",
            "_model_module_version": "1.2.0",
            "_model_name": "LayoutModel",
            "_view_count": null,
            "_view_module": "@jupyter-widgets/base",
            "_view_module_version": "1.2.0",
            "_view_name": "LayoutView",
            "align_content": null,
            "align_items": null,
            "align_self": null,
            "border": null,
            "bottom": null,
            "display": null,
            "flex": null,
            "flex_flow": null,
            "grid_area": null,
            "grid_auto_columns": null,
            "grid_auto_flow": null,
            "grid_auto_rows": null,
            "grid_column": null,
            "grid_gap": null,
            "grid_row": null,
            "grid_template_areas": null,
            "grid_template_columns": null,
            "grid_template_rows": null,
            "height": null,
            "justify_content": null,
            "justify_items": null,
            "left": null,
            "margin": null,
            "max_height": null,
            "max_width": null,
            "min_height": null,
            "min_width": null,
            "object_fit": null,
            "object_position": null,
            "order": null,
            "overflow": null,
            "overflow_x": null,
            "overflow_y": null,
            "padding": null,
            "right": null,
            "top": null,
            "visibility": null,
            "width": null
          }
        },
        "25dfb931ec10412e8f87bb0241620c55": {
          "model_module": "@jupyter-widgets/base",
          "model_name": "LayoutModel",
          "model_module_version": "1.2.0",
          "state": {
            "_model_module": "@jupyter-widgets/base",
            "_model_module_version": "1.2.0",
            "_model_name": "LayoutModel",
            "_view_count": null,
            "_view_module": "@jupyter-widgets/base",
            "_view_module_version": "1.2.0",
            "_view_name": "LayoutView",
            "align_content": null,
            "align_items": null,
            "align_self": null,
            "border": null,
            "bottom": null,
            "display": null,
            "flex": null,
            "flex_flow": null,
            "grid_area": null,
            "grid_auto_columns": null,
            "grid_auto_flow": null,
            "grid_auto_rows": null,
            "grid_column": null,
            "grid_gap": null,
            "grid_row": null,
            "grid_template_areas": null,
            "grid_template_columns": null,
            "grid_template_rows": null,
            "height": null,
            "justify_content": null,
            "justify_items": null,
            "left": null,
            "margin": null,
            "max_height": null,
            "max_width": null,
            "min_height": null,
            "min_width": null,
            "object_fit": null,
            "object_position": null,
            "order": null,
            "overflow": null,
            "overflow_x": null,
            "overflow_y": null,
            "padding": null,
            "right": null,
            "top": null,
            "visibility": null,
            "width": null
          }
        },
        "bd3536a104fa49b893c7fd4a9a5539ca": {
          "model_module": "@jupyter-widgets/controls",
          "model_name": "DescriptionStyleModel",
          "model_module_version": "1.5.0",
          "state": {
            "_model_module": "@jupyter-widgets/controls",
            "_model_module_version": "1.5.0",
            "_model_name": "DescriptionStyleModel",
            "_view_count": null,
            "_view_module": "@jupyter-widgets/base",
            "_view_module_version": "1.2.0",
            "_view_name": "StyleView",
            "description_width": ""
          }
        },
        "8093a5d33b05423986ed5c4d21bd0a36": {
          "model_module": "@jupyter-widgets/base",
          "model_name": "LayoutModel",
          "model_module_version": "1.2.0",
          "state": {
            "_model_module": "@jupyter-widgets/base",
            "_model_module_version": "1.2.0",
            "_model_name": "LayoutModel",
            "_view_count": null,
            "_view_module": "@jupyter-widgets/base",
            "_view_module_version": "1.2.0",
            "_view_name": "LayoutView",
            "align_content": null,
            "align_items": null,
            "align_self": null,
            "border": null,
            "bottom": null,
            "display": null,
            "flex": null,
            "flex_flow": null,
            "grid_area": null,
            "grid_auto_columns": null,
            "grid_auto_flow": null,
            "grid_auto_rows": null,
            "grid_column": null,
            "grid_gap": null,
            "grid_row": null,
            "grid_template_areas": null,
            "grid_template_columns": null,
            "grid_template_rows": null,
            "height": null,
            "justify_content": null,
            "justify_items": null,
            "left": null,
            "margin": null,
            "max_height": null,
            "max_width": null,
            "min_height": null,
            "min_width": null,
            "object_fit": null,
            "object_position": null,
            "order": null,
            "overflow": null,
            "overflow_x": null,
            "overflow_y": null,
            "padding": null,
            "right": null,
            "top": null,
            "visibility": null,
            "width": null
          }
        },
        "329f92d138044685ba4659ef1d78ff60": {
          "model_module": "@jupyter-widgets/controls",
          "model_name": "ProgressStyleModel",
          "model_module_version": "1.5.0",
          "state": {
            "_model_module": "@jupyter-widgets/controls",
            "_model_module_version": "1.5.0",
            "_model_name": "ProgressStyleModel",
            "_view_count": null,
            "_view_module": "@jupyter-widgets/base",
            "_view_module_version": "1.2.0",
            "_view_name": "StyleView",
            "bar_color": null,
            "description_width": ""
          }
        },
        "d751fd984f9743de84d9a213d481e621": {
          "model_module": "@jupyter-widgets/base",
          "model_name": "LayoutModel",
          "model_module_version": "1.2.0",
          "state": {
            "_model_module": "@jupyter-widgets/base",
            "_model_module_version": "1.2.0",
            "_model_name": "LayoutModel",
            "_view_count": null,
            "_view_module": "@jupyter-widgets/base",
            "_view_module_version": "1.2.0",
            "_view_name": "LayoutView",
            "align_content": null,
            "align_items": null,
            "align_self": null,
            "border": null,
            "bottom": null,
            "display": null,
            "flex": null,
            "flex_flow": null,
            "grid_area": null,
            "grid_auto_columns": null,
            "grid_auto_flow": null,
            "grid_auto_rows": null,
            "grid_column": null,
            "grid_gap": null,
            "grid_row": null,
            "grid_template_areas": null,
            "grid_template_columns": null,
            "grid_template_rows": null,
            "height": null,
            "justify_content": null,
            "justify_items": null,
            "left": null,
            "margin": null,
            "max_height": null,
            "max_width": null,
            "min_height": null,
            "min_width": null,
            "object_fit": null,
            "object_position": null,
            "order": null,
            "overflow": null,
            "overflow_x": null,
            "overflow_y": null,
            "padding": null,
            "right": null,
            "top": null,
            "visibility": null,
            "width": null
          }
        },
        "fdeebdf2159a44a7a78acaf2ea1f0cc4": {
          "model_module": "@jupyter-widgets/controls",
          "model_name": "DescriptionStyleModel",
          "model_module_version": "1.5.0",
          "state": {
            "_model_module": "@jupyter-widgets/controls",
            "_model_module_version": "1.5.0",
            "_model_name": "DescriptionStyleModel",
            "_view_count": null,
            "_view_module": "@jupyter-widgets/base",
            "_view_module_version": "1.2.0",
            "_view_name": "StyleView",
            "description_width": ""
          }
        },
        "7f78654686e449a19a21589c71e73a8a": {
          "model_module": "@jupyter-widgets/controls",
          "model_name": "HBoxModel",
          "model_module_version": "1.5.0",
          "state": {
            "_dom_classes": [],
            "_model_module": "@jupyter-widgets/controls",
            "_model_module_version": "1.5.0",
            "_model_name": "HBoxModel",
            "_view_count": null,
            "_view_module": "@jupyter-widgets/controls",
            "_view_module_version": "1.5.0",
            "_view_name": "HBoxView",
            "box_style": "",
            "children": [
              "IPY_MODEL_1fe958e67a664be1aef8a12fe6fbcad6",
              "IPY_MODEL_ae91727a7bad474bb7e7acd52c670c01",
              "IPY_MODEL_45797a93671b49408b5642c93f03c6ca"
            ],
            "layout": "IPY_MODEL_52d0ccc4aabd4acb91705201d00a34c5"
          }
        },
        "1fe958e67a664be1aef8a12fe6fbcad6": {
          "model_module": "@jupyter-widgets/controls",
          "model_name": "HTMLModel",
          "model_module_version": "1.5.0",
          "state": {
            "_dom_classes": [],
            "_model_module": "@jupyter-widgets/controls",
            "_model_module_version": "1.5.0",
            "_model_name": "HTMLModel",
            "_view_count": null,
            "_view_module": "@jupyter-widgets/controls",
            "_view_module_version": "1.5.0",
            "_view_name": "HTMLView",
            "description": "",
            "description_tooltip": null,
            "layout": "IPY_MODEL_b7d912ea01744ec3ae6b84e4df4aea5e",
            "placeholder": "​",
            "style": "IPY_MODEL_ecbaef493ac042d59cc93bc8f4220209",
            "value": ""
          }
        },
        "ae91727a7bad474bb7e7acd52c670c01": {
          "model_module": "@jupyter-widgets/controls",
          "model_name": "FloatProgressModel",
          "model_module_version": "1.5.0",
          "state": {
            "_dom_classes": [],
            "_model_module": "@jupyter-widgets/controls",
            "_model_module_version": "1.5.0",
            "_model_name": "FloatProgressModel",
            "_view_count": null,
            "_view_module": "@jupyter-widgets/controls",
            "_view_module_version": "1.5.0",
            "_view_name": "ProgressView",
            "bar_style": "success",
            "description": "",
            "description_tooltip": null,
            "layout": "IPY_MODEL_6f40a3dc4bf442e9b1440371c60e7f11",
            "max": 29515,
            "min": 0,
            "orientation": "horizontal",
            "style": "IPY_MODEL_e8cf95a2d8f24d74b115429c07b6ced7",
            "value": 29515
          }
        },
        "45797a93671b49408b5642c93f03c6ca": {
          "model_module": "@jupyter-widgets/controls",
          "model_name": "HTMLModel",
          "model_module_version": "1.5.0",
          "state": {
            "_dom_classes": [],
            "_model_module": "@jupyter-widgets/controls",
            "_model_module_version": "1.5.0",
            "_model_name": "HTMLModel",
            "_view_count": null,
            "_view_module": "@jupyter-widgets/controls",
            "_view_module_version": "1.5.0",
            "_view_name": "HTMLView",
            "description": "",
            "description_tooltip": null,
            "layout": "IPY_MODEL_4b71a9b1037643c3a52bbe54acbb6735",
            "placeholder": "​",
            "style": "IPY_MODEL_a06500e380ad47138d705715a58f30b5",
            "value": " 29696/? [00:00&lt;00:00, 136436.96it/s]"
          }
        },
        "52d0ccc4aabd4acb91705201d00a34c5": {
          "model_module": "@jupyter-widgets/base",
          "model_name": "LayoutModel",
          "model_module_version": "1.2.0",
          "state": {
            "_model_module": "@jupyter-widgets/base",
            "_model_module_version": "1.2.0",
            "_model_name": "LayoutModel",
            "_view_count": null,
            "_view_module": "@jupyter-widgets/base",
            "_view_module_version": "1.2.0",
            "_view_name": "LayoutView",
            "align_content": null,
            "align_items": null,
            "align_self": null,
            "border": null,
            "bottom": null,
            "display": null,
            "flex": null,
            "flex_flow": null,
            "grid_area": null,
            "grid_auto_columns": null,
            "grid_auto_flow": null,
            "grid_auto_rows": null,
            "grid_column": null,
            "grid_gap": null,
            "grid_row": null,
            "grid_template_areas": null,
            "grid_template_columns": null,
            "grid_template_rows": null,
            "height": null,
            "justify_content": null,
            "justify_items": null,
            "left": null,
            "margin": null,
            "max_height": null,
            "max_width": null,
            "min_height": null,
            "min_width": null,
            "object_fit": null,
            "object_position": null,
            "order": null,
            "overflow": null,
            "overflow_x": null,
            "overflow_y": null,
            "padding": null,
            "right": null,
            "top": null,
            "visibility": null,
            "width": null
          }
        },
        "b7d912ea01744ec3ae6b84e4df4aea5e": {
          "model_module": "@jupyter-widgets/base",
          "model_name": "LayoutModel",
          "model_module_version": "1.2.0",
          "state": {
            "_model_module": "@jupyter-widgets/base",
            "_model_module_version": "1.2.0",
            "_model_name": "LayoutModel",
            "_view_count": null,
            "_view_module": "@jupyter-widgets/base",
            "_view_module_version": "1.2.0",
            "_view_name": "LayoutView",
            "align_content": null,
            "align_items": null,
            "align_self": null,
            "border": null,
            "bottom": null,
            "display": null,
            "flex": null,
            "flex_flow": null,
            "grid_area": null,
            "grid_auto_columns": null,
            "grid_auto_flow": null,
            "grid_auto_rows": null,
            "grid_column": null,
            "grid_gap": null,
            "grid_row": null,
            "grid_template_areas": null,
            "grid_template_columns": null,
            "grid_template_rows": null,
            "height": null,
            "justify_content": null,
            "justify_items": null,
            "left": null,
            "margin": null,
            "max_height": null,
            "max_width": null,
            "min_height": null,
            "min_width": null,
            "object_fit": null,
            "object_position": null,
            "order": null,
            "overflow": null,
            "overflow_x": null,
            "overflow_y": null,
            "padding": null,
            "right": null,
            "top": null,
            "visibility": null,
            "width": null
          }
        },
        "ecbaef493ac042d59cc93bc8f4220209": {
          "model_module": "@jupyter-widgets/controls",
          "model_name": "DescriptionStyleModel",
          "model_module_version": "1.5.0",
          "state": {
            "_model_module": "@jupyter-widgets/controls",
            "_model_module_version": "1.5.0",
            "_model_name": "DescriptionStyleModel",
            "_view_count": null,
            "_view_module": "@jupyter-widgets/base",
            "_view_module_version": "1.2.0",
            "_view_name": "StyleView",
            "description_width": ""
          }
        },
        "6f40a3dc4bf442e9b1440371c60e7f11": {
          "model_module": "@jupyter-widgets/base",
          "model_name": "LayoutModel",
          "model_module_version": "1.2.0",
          "state": {
            "_model_module": "@jupyter-widgets/base",
            "_model_module_version": "1.2.0",
            "_model_name": "LayoutModel",
            "_view_count": null,
            "_view_module": "@jupyter-widgets/base",
            "_view_module_version": "1.2.0",
            "_view_name": "LayoutView",
            "align_content": null,
            "align_items": null,
            "align_self": null,
            "border": null,
            "bottom": null,
            "display": null,
            "flex": null,
            "flex_flow": null,
            "grid_area": null,
            "grid_auto_columns": null,
            "grid_auto_flow": null,
            "grid_auto_rows": null,
            "grid_column": null,
            "grid_gap": null,
            "grid_row": null,
            "grid_template_areas": null,
            "grid_template_columns": null,
            "grid_template_rows": null,
            "height": null,
            "justify_content": null,
            "justify_items": null,
            "left": null,
            "margin": null,
            "max_height": null,
            "max_width": null,
            "min_height": null,
            "min_width": null,
            "object_fit": null,
            "object_position": null,
            "order": null,
            "overflow": null,
            "overflow_x": null,
            "overflow_y": null,
            "padding": null,
            "right": null,
            "top": null,
            "visibility": null,
            "width": null
          }
        },
        "e8cf95a2d8f24d74b115429c07b6ced7": {
          "model_module": "@jupyter-widgets/controls",
          "model_name": "ProgressStyleModel",
          "model_module_version": "1.5.0",
          "state": {
            "_model_module": "@jupyter-widgets/controls",
            "_model_module_version": "1.5.0",
            "_model_name": "ProgressStyleModel",
            "_view_count": null,
            "_view_module": "@jupyter-widgets/base",
            "_view_module_version": "1.2.0",
            "_view_name": "StyleView",
            "bar_color": null,
            "description_width": ""
          }
        },
        "4b71a9b1037643c3a52bbe54acbb6735": {
          "model_module": "@jupyter-widgets/base",
          "model_name": "LayoutModel",
          "model_module_version": "1.2.0",
          "state": {
            "_model_module": "@jupyter-widgets/base",
            "_model_module_version": "1.2.0",
            "_model_name": "LayoutModel",
            "_view_count": null,
            "_view_module": "@jupyter-widgets/base",
            "_view_module_version": "1.2.0",
            "_view_name": "LayoutView",
            "align_content": null,
            "align_items": null,
            "align_self": null,
            "border": null,
            "bottom": null,
            "display": null,
            "flex": null,
            "flex_flow": null,
            "grid_area": null,
            "grid_auto_columns": null,
            "grid_auto_flow": null,
            "grid_auto_rows": null,
            "grid_column": null,
            "grid_gap": null,
            "grid_row": null,
            "grid_template_areas": null,
            "grid_template_columns": null,
            "grid_template_rows": null,
            "height": null,
            "justify_content": null,
            "justify_items": null,
            "left": null,
            "margin": null,
            "max_height": null,
            "max_width": null,
            "min_height": null,
            "min_width": null,
            "object_fit": null,
            "object_position": null,
            "order": null,
            "overflow": null,
            "overflow_x": null,
            "overflow_y": null,
            "padding": null,
            "right": null,
            "top": null,
            "visibility": null,
            "width": null
          }
        },
        "a06500e380ad47138d705715a58f30b5": {
          "model_module": "@jupyter-widgets/controls",
          "model_name": "DescriptionStyleModel",
          "model_module_version": "1.5.0",
          "state": {
            "_model_module": "@jupyter-widgets/controls",
            "_model_module_version": "1.5.0",
            "_model_name": "DescriptionStyleModel",
            "_view_count": null,
            "_view_module": "@jupyter-widgets/base",
            "_view_module_version": "1.2.0",
            "_view_name": "StyleView",
            "description_width": ""
          }
        },
        "8ec539b3923b4a62a150ff1266911398": {
          "model_module": "@jupyter-widgets/controls",
          "model_name": "HBoxModel",
          "model_module_version": "1.5.0",
          "state": {
            "_dom_classes": [],
            "_model_module": "@jupyter-widgets/controls",
            "_model_module_version": "1.5.0",
            "_model_name": "HBoxModel",
            "_view_count": null,
            "_view_module": "@jupyter-widgets/controls",
            "_view_module_version": "1.5.0",
            "_view_name": "HBoxView",
            "box_style": "",
            "children": [
              "IPY_MODEL_2d412a1d0a1e4d1888a17302ba6b63a8",
              "IPY_MODEL_9e5eaa0b1b8a4bfc95ff7b46c87c3c08",
              "IPY_MODEL_c2e400482d1147dd93be82dcdd1d3ca5"
            ],
            "layout": "IPY_MODEL_c727980879094d88b36d308a2559d714"
          }
        },
        "2d412a1d0a1e4d1888a17302ba6b63a8": {
          "model_module": "@jupyter-widgets/controls",
          "model_name": "HTMLModel",
          "model_module_version": "1.5.0",
          "state": {
            "_dom_classes": [],
            "_model_module": "@jupyter-widgets/controls",
            "_model_module_version": "1.5.0",
            "_model_name": "HTMLModel",
            "_view_count": null,
            "_view_module": "@jupyter-widgets/controls",
            "_view_module_version": "1.5.0",
            "_view_name": "HTMLView",
            "description": "",
            "description_tooltip": null,
            "layout": "IPY_MODEL_185e756105e646a5888ec424642d1df2",
            "placeholder": "​",
            "style": "IPY_MODEL_4bfc2d17f3a440ed9697666d6f3914a8",
            "value": ""
          }
        },
        "9e5eaa0b1b8a4bfc95ff7b46c87c3c08": {
          "model_module": "@jupyter-widgets/controls",
          "model_name": "FloatProgressModel",
          "model_module_version": "1.5.0",
          "state": {
            "_dom_classes": [],
            "_model_module": "@jupyter-widgets/controls",
            "_model_module_version": "1.5.0",
            "_model_name": "FloatProgressModel",
            "_view_count": null,
            "_view_module": "@jupyter-widgets/controls",
            "_view_module_version": "1.5.0",
            "_view_name": "ProgressView",
            "bar_style": "success",
            "description": "",
            "description_tooltip": null,
            "layout": "IPY_MODEL_ddda0ebc777946d48d02916ac37b81a5",
            "max": 4422102,
            "min": 0,
            "orientation": "horizontal",
            "style": "IPY_MODEL_71966b67554b4537b1518967285000bb",
            "value": 4422102
          }
        },
        "c2e400482d1147dd93be82dcdd1d3ca5": {
          "model_module": "@jupyter-widgets/controls",
          "model_name": "HTMLModel",
          "model_module_version": "1.5.0",
          "state": {
            "_dom_classes": [],
            "_model_module": "@jupyter-widgets/controls",
            "_model_module_version": "1.5.0",
            "_model_name": "HTMLModel",
            "_view_count": null,
            "_view_module": "@jupyter-widgets/controls",
            "_view_module_version": "1.5.0",
            "_view_name": "HTMLView",
            "description": "",
            "description_tooltip": null,
            "layout": "IPY_MODEL_27bf334ba3e6495ba50afc8cfc1321ac",
            "placeholder": "​",
            "style": "IPY_MODEL_153a8925e1214334b1d08b6c643924af",
            "value": " 4422656/? [00:00&lt;00:00, 8702043.64it/s]"
          }
        },
        "c727980879094d88b36d308a2559d714": {
          "model_module": "@jupyter-widgets/base",
          "model_name": "LayoutModel",
          "model_module_version": "1.2.0",
          "state": {
            "_model_module": "@jupyter-widgets/base",
            "_model_module_version": "1.2.0",
            "_model_name": "LayoutModel",
            "_view_count": null,
            "_view_module": "@jupyter-widgets/base",
            "_view_module_version": "1.2.0",
            "_view_name": "LayoutView",
            "align_content": null,
            "align_items": null,
            "align_self": null,
            "border": null,
            "bottom": null,
            "display": null,
            "flex": null,
            "flex_flow": null,
            "grid_area": null,
            "grid_auto_columns": null,
            "grid_auto_flow": null,
            "grid_auto_rows": null,
            "grid_column": null,
            "grid_gap": null,
            "grid_row": null,
            "grid_template_areas": null,
            "grid_template_columns": null,
            "grid_template_rows": null,
            "height": null,
            "justify_content": null,
            "justify_items": null,
            "left": null,
            "margin": null,
            "max_height": null,
            "max_width": null,
            "min_height": null,
            "min_width": null,
            "object_fit": null,
            "object_position": null,
            "order": null,
            "overflow": null,
            "overflow_x": null,
            "overflow_y": null,
            "padding": null,
            "right": null,
            "top": null,
            "visibility": null,
            "width": null
          }
        },
        "185e756105e646a5888ec424642d1df2": {
          "model_module": "@jupyter-widgets/base",
          "model_name": "LayoutModel",
          "model_module_version": "1.2.0",
          "state": {
            "_model_module": "@jupyter-widgets/base",
            "_model_module_version": "1.2.0",
            "_model_name": "LayoutModel",
            "_view_count": null,
            "_view_module": "@jupyter-widgets/base",
            "_view_module_version": "1.2.0",
            "_view_name": "LayoutView",
            "align_content": null,
            "align_items": null,
            "align_self": null,
            "border": null,
            "bottom": null,
            "display": null,
            "flex": null,
            "flex_flow": null,
            "grid_area": null,
            "grid_auto_columns": null,
            "grid_auto_flow": null,
            "grid_auto_rows": null,
            "grid_column": null,
            "grid_gap": null,
            "grid_row": null,
            "grid_template_areas": null,
            "grid_template_columns": null,
            "grid_template_rows": null,
            "height": null,
            "justify_content": null,
            "justify_items": null,
            "left": null,
            "margin": null,
            "max_height": null,
            "max_width": null,
            "min_height": null,
            "min_width": null,
            "object_fit": null,
            "object_position": null,
            "order": null,
            "overflow": null,
            "overflow_x": null,
            "overflow_y": null,
            "padding": null,
            "right": null,
            "top": null,
            "visibility": null,
            "width": null
          }
        },
        "4bfc2d17f3a440ed9697666d6f3914a8": {
          "model_module": "@jupyter-widgets/controls",
          "model_name": "DescriptionStyleModel",
          "model_module_version": "1.5.0",
          "state": {
            "_model_module": "@jupyter-widgets/controls",
            "_model_module_version": "1.5.0",
            "_model_name": "DescriptionStyleModel",
            "_view_count": null,
            "_view_module": "@jupyter-widgets/base",
            "_view_module_version": "1.2.0",
            "_view_name": "StyleView",
            "description_width": ""
          }
        },
        "ddda0ebc777946d48d02916ac37b81a5": {
          "model_module": "@jupyter-widgets/base",
          "model_name": "LayoutModel",
          "model_module_version": "1.2.0",
          "state": {
            "_model_module": "@jupyter-widgets/base",
            "_model_module_version": "1.2.0",
            "_model_name": "LayoutModel",
            "_view_count": null,
            "_view_module": "@jupyter-widgets/base",
            "_view_module_version": "1.2.0",
            "_view_name": "LayoutView",
            "align_content": null,
            "align_items": null,
            "align_self": null,
            "border": null,
            "bottom": null,
            "display": null,
            "flex": null,
            "flex_flow": null,
            "grid_area": null,
            "grid_auto_columns": null,
            "grid_auto_flow": null,
            "grid_auto_rows": null,
            "grid_column": null,
            "grid_gap": null,
            "grid_row": null,
            "grid_template_areas": null,
            "grid_template_columns": null,
            "grid_template_rows": null,
            "height": null,
            "justify_content": null,
            "justify_items": null,
            "left": null,
            "margin": null,
            "max_height": null,
            "max_width": null,
            "min_height": null,
            "min_width": null,
            "object_fit": null,
            "object_position": null,
            "order": null,
            "overflow": null,
            "overflow_x": null,
            "overflow_y": null,
            "padding": null,
            "right": null,
            "top": null,
            "visibility": null,
            "width": null
          }
        },
        "71966b67554b4537b1518967285000bb": {
          "model_module": "@jupyter-widgets/controls",
          "model_name": "ProgressStyleModel",
          "model_module_version": "1.5.0",
          "state": {
            "_model_module": "@jupyter-widgets/controls",
            "_model_module_version": "1.5.0",
            "_model_name": "ProgressStyleModel",
            "_view_count": null,
            "_view_module": "@jupyter-widgets/base",
            "_view_module_version": "1.2.0",
            "_view_name": "StyleView",
            "bar_color": null,
            "description_width": ""
          }
        },
        "27bf334ba3e6495ba50afc8cfc1321ac": {
          "model_module": "@jupyter-widgets/base",
          "model_name": "LayoutModel",
          "model_module_version": "1.2.0",
          "state": {
            "_model_module": "@jupyter-widgets/base",
            "_model_module_version": "1.2.0",
            "_model_name": "LayoutModel",
            "_view_count": null,
            "_view_module": "@jupyter-widgets/base",
            "_view_module_version": "1.2.0",
            "_view_name": "LayoutView",
            "align_content": null,
            "align_items": null,
            "align_self": null,
            "border": null,
            "bottom": null,
            "display": null,
            "flex": null,
            "flex_flow": null,
            "grid_area": null,
            "grid_auto_columns": null,
            "grid_auto_flow": null,
            "grid_auto_rows": null,
            "grid_column": null,
            "grid_gap": null,
            "grid_row": null,
            "grid_template_areas": null,
            "grid_template_columns": null,
            "grid_template_rows": null,
            "height": null,
            "justify_content": null,
            "justify_items": null,
            "left": null,
            "margin": null,
            "max_height": null,
            "max_width": null,
            "min_height": null,
            "min_width": null,
            "object_fit": null,
            "object_position": null,
            "order": null,
            "overflow": null,
            "overflow_x": null,
            "overflow_y": null,
            "padding": null,
            "right": null,
            "top": null,
            "visibility": null,
            "width": null
          }
        },
        "153a8925e1214334b1d08b6c643924af": {
          "model_module": "@jupyter-widgets/controls",
          "model_name": "DescriptionStyleModel",
          "model_module_version": "1.5.0",
          "state": {
            "_model_module": "@jupyter-widgets/controls",
            "_model_module_version": "1.5.0",
            "_model_name": "DescriptionStyleModel",
            "_view_count": null,
            "_view_module": "@jupyter-widgets/base",
            "_view_module_version": "1.2.0",
            "_view_name": "StyleView",
            "description_width": ""
          }
        },
        "17aade2bc0144f2ba20bb3444e18c92e": {
          "model_module": "@jupyter-widgets/controls",
          "model_name": "HBoxModel",
          "model_module_version": "1.5.0",
          "state": {
            "_dom_classes": [],
            "_model_module": "@jupyter-widgets/controls",
            "_model_module_version": "1.5.0",
            "_model_name": "HBoxModel",
            "_view_count": null,
            "_view_module": "@jupyter-widgets/controls",
            "_view_module_version": "1.5.0",
            "_view_name": "HBoxView",
            "box_style": "",
            "children": [
              "IPY_MODEL_994c984741264a89bf7e7eb835b1247b",
              "IPY_MODEL_8ca01690f1ea410eae8ead630e4ea2e3",
              "IPY_MODEL_b9d872dbcc874a869d4f618a686a65f6"
            ],
            "layout": "IPY_MODEL_a7c32eb57532463cbb1e6bc56cc35166"
          }
        },
        "994c984741264a89bf7e7eb835b1247b": {
          "model_module": "@jupyter-widgets/controls",
          "model_name": "HTMLModel",
          "model_module_version": "1.5.0",
          "state": {
            "_dom_classes": [],
            "_model_module": "@jupyter-widgets/controls",
            "_model_module_version": "1.5.0",
            "_model_name": "HTMLModel",
            "_view_count": null,
            "_view_module": "@jupyter-widgets/controls",
            "_view_module_version": "1.5.0",
            "_view_name": "HTMLView",
            "description": "",
            "description_tooltip": null,
            "layout": "IPY_MODEL_9895c2d42b6c415abe014d616d331c24",
            "placeholder": "​",
            "style": "IPY_MODEL_867e54a441504caba69f4e3318650b67",
            "value": ""
          }
        },
        "8ca01690f1ea410eae8ead630e4ea2e3": {
          "model_module": "@jupyter-widgets/controls",
          "model_name": "FloatProgressModel",
          "model_module_version": "1.5.0",
          "state": {
            "_dom_classes": [],
            "_model_module": "@jupyter-widgets/controls",
            "_model_module_version": "1.5.0",
            "_model_name": "FloatProgressModel",
            "_view_count": null,
            "_view_module": "@jupyter-widgets/controls",
            "_view_module_version": "1.5.0",
            "_view_name": "ProgressView",
            "bar_style": "success",
            "description": "",
            "description_tooltip": null,
            "layout": "IPY_MODEL_22d631dfba6b4dc3b59cdafc7210316f",
            "max": 5148,
            "min": 0,
            "orientation": "horizontal",
            "style": "IPY_MODEL_e8e5c81c1df44cb59c5c5cfb65bc79bb",
            "value": 5148
          }
        },
        "b9d872dbcc874a869d4f618a686a65f6": {
          "model_module": "@jupyter-widgets/controls",
          "model_name": "HTMLModel",
          "model_module_version": "1.5.0",
          "state": {
            "_dom_classes": [],
            "_model_module": "@jupyter-widgets/controls",
            "_model_module_version": "1.5.0",
            "_model_name": "HTMLModel",
            "_view_count": null,
            "_view_module": "@jupyter-widgets/controls",
            "_view_module_version": "1.5.0",
            "_view_name": "HTMLView",
            "description": "",
            "description_tooltip": null,
            "layout": "IPY_MODEL_0a81586d553e430a899af71a6c33daf2",
            "placeholder": "​",
            "style": "IPY_MODEL_ec97d50c23e64263a7bd78f7aca98b0d",
            "value": " 6144/? [00:00&lt;00:00, 75530.52it/s]"
          }
        },
        "a7c32eb57532463cbb1e6bc56cc35166": {
          "model_module": "@jupyter-widgets/base",
          "model_name": "LayoutModel",
          "model_module_version": "1.2.0",
          "state": {
            "_model_module": "@jupyter-widgets/base",
            "_model_module_version": "1.2.0",
            "_model_name": "LayoutModel",
            "_view_count": null,
            "_view_module": "@jupyter-widgets/base",
            "_view_module_version": "1.2.0",
            "_view_name": "LayoutView",
            "align_content": null,
            "align_items": null,
            "align_self": null,
            "border": null,
            "bottom": null,
            "display": null,
            "flex": null,
            "flex_flow": null,
            "grid_area": null,
            "grid_auto_columns": null,
            "grid_auto_flow": null,
            "grid_auto_rows": null,
            "grid_column": null,
            "grid_gap": null,
            "grid_row": null,
            "grid_template_areas": null,
            "grid_template_columns": null,
            "grid_template_rows": null,
            "height": null,
            "justify_content": null,
            "justify_items": null,
            "left": null,
            "margin": null,
            "max_height": null,
            "max_width": null,
            "min_height": null,
            "min_width": null,
            "object_fit": null,
            "object_position": null,
            "order": null,
            "overflow": null,
            "overflow_x": null,
            "overflow_y": null,
            "padding": null,
            "right": null,
            "top": null,
            "visibility": null,
            "width": null
          }
        },
        "9895c2d42b6c415abe014d616d331c24": {
          "model_module": "@jupyter-widgets/base",
          "model_name": "LayoutModel",
          "model_module_version": "1.2.0",
          "state": {
            "_model_module": "@jupyter-widgets/base",
            "_model_module_version": "1.2.0",
            "_model_name": "LayoutModel",
            "_view_count": null,
            "_view_module": "@jupyter-widgets/base",
            "_view_module_version": "1.2.0",
            "_view_name": "LayoutView",
            "align_content": null,
            "align_items": null,
            "align_self": null,
            "border": null,
            "bottom": null,
            "display": null,
            "flex": null,
            "flex_flow": null,
            "grid_area": null,
            "grid_auto_columns": null,
            "grid_auto_flow": null,
            "grid_auto_rows": null,
            "grid_column": null,
            "grid_gap": null,
            "grid_row": null,
            "grid_template_areas": null,
            "grid_template_columns": null,
            "grid_template_rows": null,
            "height": null,
            "justify_content": null,
            "justify_items": null,
            "left": null,
            "margin": null,
            "max_height": null,
            "max_width": null,
            "min_height": null,
            "min_width": null,
            "object_fit": null,
            "object_position": null,
            "order": null,
            "overflow": null,
            "overflow_x": null,
            "overflow_y": null,
            "padding": null,
            "right": null,
            "top": null,
            "visibility": null,
            "width": null
          }
        },
        "867e54a441504caba69f4e3318650b67": {
          "model_module": "@jupyter-widgets/controls",
          "model_name": "DescriptionStyleModel",
          "model_module_version": "1.5.0",
          "state": {
            "_model_module": "@jupyter-widgets/controls",
            "_model_module_version": "1.5.0",
            "_model_name": "DescriptionStyleModel",
            "_view_count": null,
            "_view_module": "@jupyter-widgets/base",
            "_view_module_version": "1.2.0",
            "_view_name": "StyleView",
            "description_width": ""
          }
        },
        "22d631dfba6b4dc3b59cdafc7210316f": {
          "model_module": "@jupyter-widgets/base",
          "model_name": "LayoutModel",
          "model_module_version": "1.2.0",
          "state": {
            "_model_module": "@jupyter-widgets/base",
            "_model_module_version": "1.2.0",
            "_model_name": "LayoutModel",
            "_view_count": null,
            "_view_module": "@jupyter-widgets/base",
            "_view_module_version": "1.2.0",
            "_view_name": "LayoutView",
            "align_content": null,
            "align_items": null,
            "align_self": null,
            "border": null,
            "bottom": null,
            "display": null,
            "flex": null,
            "flex_flow": null,
            "grid_area": null,
            "grid_auto_columns": null,
            "grid_auto_flow": null,
            "grid_auto_rows": null,
            "grid_column": null,
            "grid_gap": null,
            "grid_row": null,
            "grid_template_areas": null,
            "grid_template_columns": null,
            "grid_template_rows": null,
            "height": null,
            "justify_content": null,
            "justify_items": null,
            "left": null,
            "margin": null,
            "max_height": null,
            "max_width": null,
            "min_height": null,
            "min_width": null,
            "object_fit": null,
            "object_position": null,
            "order": null,
            "overflow": null,
            "overflow_x": null,
            "overflow_y": null,
            "padding": null,
            "right": null,
            "top": null,
            "visibility": null,
            "width": null
          }
        },
        "e8e5c81c1df44cb59c5c5cfb65bc79bb": {
          "model_module": "@jupyter-widgets/controls",
          "model_name": "ProgressStyleModel",
          "model_module_version": "1.5.0",
          "state": {
            "_model_module": "@jupyter-widgets/controls",
            "_model_module_version": "1.5.0",
            "_model_name": "ProgressStyleModel",
            "_view_count": null,
            "_view_module": "@jupyter-widgets/base",
            "_view_module_version": "1.2.0",
            "_view_name": "StyleView",
            "bar_color": null,
            "description_width": ""
          }
        },
        "0a81586d553e430a899af71a6c33daf2": {
          "model_module": "@jupyter-widgets/base",
          "model_name": "LayoutModel",
          "model_module_version": "1.2.0",
          "state": {
            "_model_module": "@jupyter-widgets/base",
            "_model_module_version": "1.2.0",
            "_model_name": "LayoutModel",
            "_view_count": null,
            "_view_module": "@jupyter-widgets/base",
            "_view_module_version": "1.2.0",
            "_view_name": "LayoutView",
            "align_content": null,
            "align_items": null,
            "align_self": null,
            "border": null,
            "bottom": null,
            "display": null,
            "flex": null,
            "flex_flow": null,
            "grid_area": null,
            "grid_auto_columns": null,
            "grid_auto_flow": null,
            "grid_auto_rows": null,
            "grid_column": null,
            "grid_gap": null,
            "grid_row": null,
            "grid_template_areas": null,
            "grid_template_columns": null,
            "grid_template_rows": null,
            "height": null,
            "justify_content": null,
            "justify_items": null,
            "left": null,
            "margin": null,
            "max_height": null,
            "max_width": null,
            "min_height": null,
            "min_width": null,
            "object_fit": null,
            "object_position": null,
            "order": null,
            "overflow": null,
            "overflow_x": null,
            "overflow_y": null,
            "padding": null,
            "right": null,
            "top": null,
            "visibility": null,
            "width": null
          }
        },
        "ec97d50c23e64263a7bd78f7aca98b0d": {
          "model_module": "@jupyter-widgets/controls",
          "model_name": "DescriptionStyleModel",
          "model_module_version": "1.5.0",
          "state": {
            "_model_module": "@jupyter-widgets/controls",
            "_model_module_version": "1.5.0",
            "_model_name": "DescriptionStyleModel",
            "_view_count": null,
            "_view_module": "@jupyter-widgets/base",
            "_view_module_version": "1.2.0",
            "_view_name": "StyleView",
            "description_width": ""
          }
        }
      }
    }
  },
  "cells": [
    {
      "cell_type": "markdown",
      "metadata": {
        "id": "view-in-github",
        "colab_type": "text"
      },
      "source": [
        "<a href=\"https://colab.research.google.com/github/lipeng2021/-python1/blob/main/softmax-easy.ipynb\" target=\"_parent\"><img src=\"https://colab.research.google.com/assets/colab-badge.svg\" alt=\"Open In Colab\"/></a>"
      ]
    },
    {
      "cell_type": "code",
      "source": [
        "%matplotlib inline\n",
        "import torch\n",
        "import torch.nn as nn\n",
        "import torch.optim as optim\n",
        "from IPython import display\n",
        "from torch.nn import init \n",
        "import time\n",
        "import sys\n",
        "import torchvision\n",
        "import torchvision.transforms as transforms\n",
        "import matplotlib.pyplot as plt\n",
        "FILENAME = '../content/sample_data/FashionMNIST'"
      ],
      "metadata": {
        "id": "xZkiPwg00EWt"
      },
      "execution_count": 22,
      "outputs": []
    },
    {
      "cell_type": "code",
      "source": [
        "mnist_train = torchvision.datasets.FashionMNIST(root=FILENAME,train=True,download=True,transform=transforms.ToTensor())\n",
        "mnist_test = torchvision.datasets.FashionMNIST(root=FILENAME,train=False,download=True,transform=transforms.ToTensor())"
      ],
      "metadata": {
        "colab": {
          "base_uri": "https://localhost:8080/",
          "height": 453,
          "referenced_widgets": [
            "40243d9eff1e4fc48c0612dab8ef881d",
            "ff9ff0451b6843c2951ca1d035fff76e",
            "fd0548a60a2b4bd880d104ca3c1a1419",
            "5b7363e3c02a49efa6496de468648768",
            "6d79d7aef7444020a1d0cebd6d721f20",
            "25dfb931ec10412e8f87bb0241620c55",
            "bd3536a104fa49b893c7fd4a9a5539ca",
            "8093a5d33b05423986ed5c4d21bd0a36",
            "329f92d138044685ba4659ef1d78ff60",
            "d751fd984f9743de84d9a213d481e621",
            "fdeebdf2159a44a7a78acaf2ea1f0cc4",
            "7f78654686e449a19a21589c71e73a8a",
            "1fe958e67a664be1aef8a12fe6fbcad6",
            "ae91727a7bad474bb7e7acd52c670c01",
            "45797a93671b49408b5642c93f03c6ca",
            "52d0ccc4aabd4acb91705201d00a34c5",
            "b7d912ea01744ec3ae6b84e4df4aea5e",
            "ecbaef493ac042d59cc93bc8f4220209",
            "6f40a3dc4bf442e9b1440371c60e7f11",
            "e8cf95a2d8f24d74b115429c07b6ced7",
            "4b71a9b1037643c3a52bbe54acbb6735",
            "a06500e380ad47138d705715a58f30b5",
            "8ec539b3923b4a62a150ff1266911398",
            "2d412a1d0a1e4d1888a17302ba6b63a8",
            "9e5eaa0b1b8a4bfc95ff7b46c87c3c08",
            "c2e400482d1147dd93be82dcdd1d3ca5",
            "c727980879094d88b36d308a2559d714",
            "185e756105e646a5888ec424642d1df2",
            "4bfc2d17f3a440ed9697666d6f3914a8",
            "ddda0ebc777946d48d02916ac37b81a5",
            "71966b67554b4537b1518967285000bb",
            "27bf334ba3e6495ba50afc8cfc1321ac",
            "153a8925e1214334b1d08b6c643924af",
            "17aade2bc0144f2ba20bb3444e18c92e",
            "994c984741264a89bf7e7eb835b1247b",
            "8ca01690f1ea410eae8ead630e4ea2e3",
            "b9d872dbcc874a869d4f618a686a65f6",
            "a7c32eb57532463cbb1e6bc56cc35166",
            "9895c2d42b6c415abe014d616d331c24",
            "867e54a441504caba69f4e3318650b67",
            "22d631dfba6b4dc3b59cdafc7210316f",
            "e8e5c81c1df44cb59c5c5cfb65bc79bb",
            "0a81586d553e430a899af71a6c33daf2",
            "ec97d50c23e64263a7bd78f7aca98b0d"
          ]
        },
        "id": "9qTdnrbF04Pn",
        "outputId": "f5e7d3b2-fa9e-4654-cad9-0b669b9c131f"
      },
      "execution_count": 6,
      "outputs": [
        {
          "output_type": "stream",
          "name": "stdout",
          "text": [
            "Downloading http://fashion-mnist.s3-website.eu-central-1.amazonaws.com/train-images-idx3-ubyte.gz\n",
            "Downloading http://fashion-mnist.s3-website.eu-central-1.amazonaws.com/train-images-idx3-ubyte.gz to ../content/sample_data/FashionMNIST/FashionMNIST/raw/train-images-idx3-ubyte.gz\n"
          ]
        },
        {
          "output_type": "display_data",
          "data": {
            "text/plain": [
              "  0%|          | 0/26421880 [00:00<?, ?it/s]"
            ],
            "application/vnd.jupyter.widget-view+json": {
              "version_major": 2,
              "version_minor": 0,
              "model_id": "40243d9eff1e4fc48c0612dab8ef881d"
            }
          },
          "metadata": {}
        },
        {
          "output_type": "stream",
          "name": "stdout",
          "text": [
            "Extracting ../content/sample_data/FashionMNIST/FashionMNIST/raw/train-images-idx3-ubyte.gz to ../content/sample_data/FashionMNIST/FashionMNIST/raw\n",
            "\n",
            "Downloading http://fashion-mnist.s3-website.eu-central-1.amazonaws.com/train-labels-idx1-ubyte.gz\n",
            "Downloading http://fashion-mnist.s3-website.eu-central-1.amazonaws.com/train-labels-idx1-ubyte.gz to ../content/sample_data/FashionMNIST/FashionMNIST/raw/train-labels-idx1-ubyte.gz\n"
          ]
        },
        {
          "output_type": "display_data",
          "data": {
            "text/plain": [
              "  0%|          | 0/29515 [00:00<?, ?it/s]"
            ],
            "application/vnd.jupyter.widget-view+json": {
              "version_major": 2,
              "version_minor": 0,
              "model_id": "7f78654686e449a19a21589c71e73a8a"
            }
          },
          "metadata": {}
        },
        {
          "output_type": "stream",
          "name": "stdout",
          "text": [
            "Extracting ../content/sample_data/FashionMNIST/FashionMNIST/raw/train-labels-idx1-ubyte.gz to ../content/sample_data/FashionMNIST/FashionMNIST/raw\n",
            "\n",
            "Downloading http://fashion-mnist.s3-website.eu-central-1.amazonaws.com/t10k-images-idx3-ubyte.gz\n",
            "Downloading http://fashion-mnist.s3-website.eu-central-1.amazonaws.com/t10k-images-idx3-ubyte.gz to ../content/sample_data/FashionMNIST/FashionMNIST/raw/t10k-images-idx3-ubyte.gz\n"
          ]
        },
        {
          "output_type": "display_data",
          "data": {
            "text/plain": [
              "  0%|          | 0/4422102 [00:00<?, ?it/s]"
            ],
            "application/vnd.jupyter.widget-view+json": {
              "version_major": 2,
              "version_minor": 0,
              "model_id": "8ec539b3923b4a62a150ff1266911398"
            }
          },
          "metadata": {}
        },
        {
          "output_type": "stream",
          "name": "stdout",
          "text": [
            "Extracting ../content/sample_data/FashionMNIST/FashionMNIST/raw/t10k-images-idx3-ubyte.gz to ../content/sample_data/FashionMNIST/FashionMNIST/raw\n",
            "\n",
            "Downloading http://fashion-mnist.s3-website.eu-central-1.amazonaws.com/t10k-labels-idx1-ubyte.gz\n",
            "Downloading http://fashion-mnist.s3-website.eu-central-1.amazonaws.com/t10k-labels-idx1-ubyte.gz to ../content/sample_data/FashionMNIST/FashionMNIST/raw/t10k-labels-idx1-ubyte.gz\n"
          ]
        },
        {
          "output_type": "display_data",
          "data": {
            "text/plain": [
              "  0%|          | 0/5148 [00:00<?, ?it/s]"
            ],
            "application/vnd.jupyter.widget-view+json": {
              "version_major": 2,
              "version_minor": 0,
              "model_id": "17aade2bc0144f2ba20bb3444e18c92e"
            }
          },
          "metadata": {}
        },
        {
          "output_type": "stream",
          "name": "stdout",
          "text": [
            "Extracting ../content/sample_data/FashionMNIST/FashionMNIST/raw/t10k-labels-idx1-ubyte.gz to ../content/sample_data/FashionMNIST/FashionMNIST/raw\n",
            "\n"
          ]
        }
      ]
    },
    {
      "cell_type": "code",
      "source": [
        "def get_fashion_mnist_labels(labels):\n",
        "  text_labels = ['t-shirt','trouser','pullover','dress','coat','sandal','sneaker','bag','ankle','boot']\n",
        "  return [text_labels[int(i)] for i in labels]"
      ],
      "metadata": {
        "id": "Cw-R0EXx6u_M"
      },
      "execution_count": 7,
      "outputs": []
    },
    {
      "cell_type": "code",
      "source": [
        "def set_svg_figure():\n",
        "  display.set_matplotlib_formats('svg')\n",
        "def set_figsize(figsize=(3.5,2.5)):\n",
        "  set_svg_figure()\n",
        "  plt.rcParams['figure_figsize']=figsize"
      ],
      "metadata": {
        "id": "GAKN-P798AT_"
      },
      "execution_count": 8,
      "outputs": []
    },
    {
      "cell_type": "code",
      "source": [
        "def show_fashion_mnist(images,labels):\n",
        "  set_svg_figure()\n",
        "  _,figs = plt.subplots(1,len(images),figsize=(12,12))\n",
        "  for f,img,lbl in zip(figs,images,labels):\n",
        "    f.imshow(img.view((28,28)).numpy())\n",
        "    f.set_title(lbl)\n",
        "    f.axes.get_xaxis().set_visible(False)\n",
        "    f.axes.get_yaxis().set_visible(False)\n",
        "  plt.show()"
      ],
      "metadata": {
        "id": "aH4xmnR-7Vz9"
      },
      "execution_count": 15,
      "outputs": []
    },
    {
      "cell_type": "code",
      "source": [
        "X,y=[],[]\n",
        "for i in range(5):\n",
        "  X.append(mnist_train[i][0])\n",
        "  y.append(mnist_train[i][1])\n",
        "show_fashion_mnist(X,get_fashion_mnist_labels(y))"
      ],
      "metadata": {
        "colab": {
          "base_uri": "https://localhost:8080/",
          "height": 238
        },
        "id": "B6P8vADjCvP_",
        "outputId": "0d84e889-84a0-4ea0-b865-135ba8808432"
      },
      "execution_count": 16,
      "outputs": [
        {
          "output_type": "display_data",
          "data": {
            "text/plain": [
              "<Figure size 864x864 with 5 Axes>"
            ],
            "image/svg+xml": "<?xml version=\"1.0\" encoding=\"utf-8\" standalone=\"no\"?>\n<!DOCTYPE svg PUBLIC \"-//W3C//DTD SVG 1.1//EN\"\n  \"http://www.w3.org/Graphics/SVG/1.1/DTD/svg11.dtd\">\n<!-- Created with matplotlib (https://matplotlib.org/) -->\n<svg height=\"148.466401pt\" version=\"1.1\" viewBox=\"0 0 687.5 148.466401\" width=\"687.5pt\" xmlns=\"http://www.w3.org/2000/svg\" xmlns:xlink=\"http://www.w3.org/1999/xlink\">\n <defs>\n  <style type=\"text/css\">\n*{stroke-linecap:butt;stroke-linejoin:round;}\n  </style>\n </defs>\n <g id=\"figure_1\">\n  <g id=\"patch_1\">\n   <path d=\"M 0 148.466401 \nL 687.5 148.466401 \nL 687.5 -0 \nL 0 -0 \nz\n\" style=\"fill:none;\"/>\n  </g>\n  <g id=\"axes_1\">\n   <g id=\"patch_2\">\n    <path d=\"M 10.7 137.766401 \nL 126.148276 137.766401 \nL 126.148276 22.318125 \nL 10.7 22.318125 \nz\n\" style=\"fill:#ffffff;\"/>\n   </g>\n   <g clip-path=\"url(#pb327aca6db)\">\n    <image height=\"116\" id=\"image6daf99269c\" transform=\"scale(1 -1)translate(0 -116)\" width=\"116\" x=\"10.7\" xlink:href=\"data:image/png;base64,\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\" y=\"-21.766401\"/>\n   </g>\n   <g id=\"patch_3\">\n    <path d=\"M 10.7 137.766401 \nL 10.7 22.318125 \n\" style=\"fill:none;stroke:#000000;stroke-linecap:square;stroke-linejoin:miter;stroke-width:0.8;\"/>\n   </g>\n   <g id=\"patch_4\">\n    <path d=\"M 126.148276 137.766401 \nL 126.148276 22.318125 \n\" style=\"fill:none;stroke:#000000;stroke-linecap:square;stroke-linejoin:miter;stroke-width:0.8;\"/>\n   </g>\n   <g id=\"patch_5\">\n    <path d=\"M 10.7 137.766401 \nL 126.148276 137.766401 \n\" style=\"fill:none;stroke:#000000;stroke-linecap:square;stroke-linejoin:miter;stroke-width:0.8;\"/>\n   </g>\n   <g id=\"patch_6\">\n    <path d=\"M 10.7 22.318125 \nL 126.148276 22.318125 \n\" style=\"fill:none;stroke:#000000;stroke-linecap:square;stroke-linejoin:miter;stroke-width:0.8;\"/>\n   </g>\n   <g id=\"text_1\">\n    <!-- boot -->\n    <defs>\n     <path d=\"M 48.6875 27.296875 \nQ 48.6875 37.203125 44.609375 42.84375 \nQ 40.53125 48.484375 33.40625 48.484375 \nQ 26.265625 48.484375 22.1875 42.84375 \nQ 18.109375 37.203125 18.109375 27.296875 \nQ 18.109375 17.390625 22.1875 11.75 \nQ 26.265625 6.109375 33.40625 6.109375 \nQ 40.53125 6.109375 44.609375 11.75 \nQ 48.6875 17.390625 48.6875 27.296875 \nz\nM 18.109375 46.390625 \nQ 20.953125 51.265625 25.265625 53.625 \nQ 29.59375 56 35.59375 56 \nQ 45.5625 56 51.78125 48.09375 \nQ 58.015625 40.1875 58.015625 27.296875 \nQ 58.015625 14.40625 51.78125 6.484375 \nQ 45.5625 -1.421875 35.59375 -1.421875 \nQ 29.59375 -1.421875 25.265625 0.953125 \nQ 20.953125 3.328125 18.109375 8.203125 \nL 18.109375 0 \nL 9.078125 0 \nL 9.078125 75.984375 \nL 18.109375 75.984375 \nz\n\" id=\"DejaVuSans-98\"/>\n     <path d=\"M 30.609375 48.390625 \nQ 23.390625 48.390625 19.1875 42.75 \nQ 14.984375 37.109375 14.984375 27.296875 \nQ 14.984375 17.484375 19.15625 11.84375 \nQ 23.34375 6.203125 30.609375 6.203125 \nQ 37.796875 6.203125 41.984375 11.859375 \nQ 46.1875 17.53125 46.1875 27.296875 \nQ 46.1875 37.015625 41.984375 42.703125 \nQ 37.796875 48.390625 30.609375 48.390625 \nz\nM 30.609375 56 \nQ 42.328125 56 49.015625 48.375 \nQ 55.71875 40.765625 55.71875 27.296875 \nQ 55.71875 13.875 49.015625 6.21875 \nQ 42.328125 -1.421875 30.609375 -1.421875 \nQ 18.84375 -1.421875 12.171875 6.21875 \nQ 5.515625 13.875 5.515625 27.296875 \nQ 5.515625 40.765625 12.171875 48.375 \nQ 18.84375 56 30.609375 56 \nz\n\" id=\"DejaVuSans-111\"/>\n     <path d=\"M 18.3125 70.21875 \nL 18.3125 54.6875 \nL 36.8125 54.6875 \nL 36.8125 47.703125 \nL 18.3125 47.703125 \nL 18.3125 18.015625 \nQ 18.3125 11.328125 20.140625 9.421875 \nQ 21.96875 7.515625 27.59375 7.515625 \nL 36.8125 7.515625 \nL 36.8125 0 \nL 27.59375 0 \nQ 17.1875 0 13.234375 3.875 \nQ 9.28125 7.765625 9.28125 18.015625 \nL 9.28125 47.703125 \nL 2.6875 47.703125 \nL 2.6875 54.6875 \nL 9.28125 54.6875 \nL 9.28125 70.21875 \nz\n\" id=\"DejaVuSans-116\"/>\n    </defs>\n    <g transform=\"translate(54.920388 16.318125)scale(0.12 -0.12)\">\n     <use xlink:href=\"#DejaVuSans-98\"/>\n     <use x=\"63.476562\" xlink:href=\"#DejaVuSans-111\"/>\n     <use x=\"124.658203\" xlink:href=\"#DejaVuSans-111\"/>\n     <use x=\"185.839844\" xlink:href=\"#DejaVuSans-116\"/>\n    </g>\n   </g>\n  </g>\n  <g id=\"axes_2\">\n   <g id=\"patch_7\">\n    <path d=\"M 149.237931 137.766401 \nL 264.686207 137.766401 \nL 264.686207 22.318125 \nL 149.237931 22.318125 \nz\n\" style=\"fill:#ffffff;\"/>\n   </g>\n   <g clip-path=\"url(#p92ff4a85d5)\">\n    <image height=\"116\" id=\"image71b5c72865\" transform=\"scale(1 -1)translate(0 -116)\" width=\"116\" x=\"149.237931\" xlink:href=\"data:image/png;base64,\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\" y=\"-21.766401\"/>\n   </g>\n   <g id=\"patch_8\">\n    <path d=\"M 149.237931 137.766401 \nL 149.237931 22.318125 \n\" style=\"fill:none;stroke:#000000;stroke-linecap:square;stroke-linejoin:miter;stroke-width:0.8;\"/>\n   </g>\n   <g id=\"patch_9\">\n    <path d=\"M 264.686207 137.766401 \nL 264.686207 22.318125 \n\" style=\"fill:none;stroke:#000000;stroke-linecap:square;stroke-linejoin:miter;stroke-width:0.8;\"/>\n   </g>\n   <g id=\"patch_10\">\n    <path d=\"M 149.237931 137.766401 \nL 264.686207 137.766401 \n\" style=\"fill:none;stroke:#000000;stroke-linecap:square;stroke-linejoin:miter;stroke-width:0.8;\"/>\n   </g>\n   <g id=\"patch_11\">\n    <path d=\"M 149.237931 22.318125 \nL 264.686207 22.318125 \n\" style=\"fill:none;stroke:#000000;stroke-linecap:square;stroke-linejoin:miter;stroke-width:0.8;\"/>\n   </g>\n   <g id=\"text_2\">\n    <!-- t-shirt -->\n    <defs>\n     <path d=\"M 4.890625 31.390625 \nL 31.203125 31.390625 \nL 31.203125 23.390625 \nL 4.890625 23.390625 \nz\n\" id=\"DejaVuSans-45\"/>\n     <path d=\"M 44.28125 53.078125 \nL 44.28125 44.578125 \nQ 40.484375 46.53125 36.375 47.5 \nQ 32.28125 48.484375 27.875 48.484375 \nQ 21.1875 48.484375 17.84375 46.4375 \nQ 14.5 44.390625 14.5 40.28125 \nQ 14.5 37.15625 16.890625 35.375 \nQ 19.28125 33.59375 26.515625 31.984375 \nL 29.59375 31.296875 \nQ 39.15625 29.25 43.1875 25.515625 \nQ 47.21875 21.78125 47.21875 15.09375 \nQ 47.21875 7.46875 41.1875 3.015625 \nQ 35.15625 -1.421875 24.609375 -1.421875 \nQ 20.21875 -1.421875 15.453125 -0.5625 \nQ 10.6875 0.296875 5.421875 2 \nL 5.421875 11.28125 \nQ 10.40625 8.6875 15.234375 7.390625 \nQ 20.0625 6.109375 24.8125 6.109375 \nQ 31.15625 6.109375 34.5625 8.28125 \nQ 37.984375 10.453125 37.984375 14.40625 \nQ 37.984375 18.0625 35.515625 20.015625 \nQ 33.0625 21.96875 24.703125 23.78125 \nL 21.578125 24.515625 \nQ 13.234375 26.265625 9.515625 29.90625 \nQ 5.8125 33.546875 5.8125 39.890625 \nQ 5.8125 47.609375 11.28125 51.796875 \nQ 16.75 56 26.8125 56 \nQ 31.78125 56 36.171875 55.265625 \nQ 40.578125 54.546875 44.28125 53.078125 \nz\n\" id=\"DejaVuSans-115\"/>\n     <path d=\"M 54.890625 33.015625 \nL 54.890625 0 \nL 45.90625 0 \nL 45.90625 32.71875 \nQ 45.90625 40.484375 42.875 44.328125 \nQ 39.84375 48.1875 33.796875 48.1875 \nQ 26.515625 48.1875 22.3125 43.546875 \nQ 18.109375 38.921875 18.109375 30.90625 \nL 18.109375 0 \nL 9.078125 0 \nL 9.078125 75.984375 \nL 18.109375 75.984375 \nL 18.109375 46.1875 \nQ 21.34375 51.125 25.703125 53.5625 \nQ 30.078125 56 35.796875 56 \nQ 45.21875 56 50.046875 50.171875 \nQ 54.890625 44.34375 54.890625 33.015625 \nz\n\" id=\"DejaVuSans-104\"/>\n     <path d=\"M 9.421875 54.6875 \nL 18.40625 54.6875 \nL 18.40625 0 \nL 9.421875 0 \nz\nM 9.421875 75.984375 \nL 18.40625 75.984375 \nL 18.40625 64.59375 \nL 9.421875 64.59375 \nz\n\" id=\"DejaVuSans-105\"/>\n     <path d=\"M 41.109375 46.296875 \nQ 39.59375 47.171875 37.8125 47.578125 \nQ 36.03125 48 33.890625 48 \nQ 26.265625 48 22.1875 43.046875 \nQ 18.109375 38.09375 18.109375 28.8125 \nL 18.109375 0 \nL 9.078125 0 \nL 9.078125 54.6875 \nL 18.109375 54.6875 \nL 18.109375 46.1875 \nQ 20.953125 51.171875 25.484375 53.578125 \nQ 30.03125 56 36.53125 56 \nQ 37.453125 56 38.578125 55.875 \nQ 39.703125 55.765625 41.0625 55.515625 \nz\n\" id=\"DejaVuSans-114\"/>\n    </defs>\n    <g transform=\"translate(189.031444 16.318125)scale(0.12 -0.12)\">\n     <use xlink:href=\"#DejaVuSans-116\"/>\n     <use x=\"39.208984\" xlink:href=\"#DejaVuSans-45\"/>\n     <use x=\"75.292969\" xlink:href=\"#DejaVuSans-115\"/>\n     <use x=\"127.392578\" xlink:href=\"#DejaVuSans-104\"/>\n     <use x=\"190.771484\" xlink:href=\"#DejaVuSans-105\"/>\n     <use x=\"218.554688\" xlink:href=\"#DejaVuSans-114\"/>\n     <use x=\"259.667969\" xlink:href=\"#DejaVuSans-116\"/>\n    </g>\n   </g>\n  </g>\n  <g id=\"axes_3\">\n   <g id=\"patch_12\">\n    <path d=\"M 287.775862 137.766401 \nL 403.224138 137.766401 \nL 403.224138 22.318125 \nL 287.775862 22.318125 \nz\n\" style=\"fill:#ffffff;\"/>\n   </g>\n   <g clip-path=\"url(#pd826192afd)\">\n    <image height=\"116\" id=\"imagee912c5f2a5\" transform=\"scale(1 -1)translate(0 -116)\" width=\"116\" x=\"287.775862\" xlink:href=\"data:image/png;base64,\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\" y=\"-21.766401\"/>\n   </g>\n   <g id=\"patch_13\">\n    <path d=\"M 287.775862 137.766401 \nL 287.775862 22.318125 \n\" style=\"fill:none;stroke:#000000;stroke-linecap:square;stroke-linejoin:miter;stroke-width:0.8;\"/>\n   </g>\n   <g id=\"patch_14\">\n    <path d=\"M 403.224138 137.766401 \nL 403.224138 22.318125 \n\" style=\"fill:none;stroke:#000000;stroke-linecap:square;stroke-linejoin:miter;stroke-width:0.8;\"/>\n   </g>\n   <g id=\"patch_15\">\n    <path d=\"M 287.775862 137.766401 \nL 403.224138 137.766401 \n\" style=\"fill:none;stroke:#000000;stroke-linecap:square;stroke-linejoin:miter;stroke-width:0.8;\"/>\n   </g>\n   <g id=\"patch_16\">\n    <path d=\"M 287.775862 22.318125 \nL 403.224138 22.318125 \n\" style=\"fill:none;stroke:#000000;stroke-linecap:square;stroke-linejoin:miter;stroke-width:0.8;\"/>\n   </g>\n   <g id=\"text_3\">\n    <!-- t-shirt -->\n    <g transform=\"translate(327.569375 16.318125)scale(0.12 -0.12)\">\n     <use xlink:href=\"#DejaVuSans-116\"/>\n     <use x=\"39.208984\" xlink:href=\"#DejaVuSans-45\"/>\n     <use x=\"75.292969\" xlink:href=\"#DejaVuSans-115\"/>\n     <use x=\"127.392578\" xlink:href=\"#DejaVuSans-104\"/>\n     <use x=\"190.771484\" xlink:href=\"#DejaVuSans-105\"/>\n     <use x=\"218.554688\" xlink:href=\"#DejaVuSans-114\"/>\n     <use x=\"259.667969\" xlink:href=\"#DejaVuSans-116\"/>\n    </g>\n   </g>\n  </g>\n  <g id=\"axes_4\">\n   <g id=\"patch_17\">\n    <path d=\"M 426.313793 137.766401 \nL 541.762069 137.766401 \nL 541.762069 22.318125 \nL 426.313793 22.318125 \nz\n\" style=\"fill:#ffffff;\"/>\n   </g>\n   <g clip-path=\"url(#p9fa302032d)\">\n    <image height=\"116\" id=\"imagee946def66e\" transform=\"scale(1 -1)translate(0 -116)\" width=\"116\" x=\"426.313793\" xlink:href=\"data:image/png;base64,\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\" y=\"-21.766401\"/>\n   </g>\n   <g id=\"patch_18\">\n    <path d=\"M 426.313793 137.766401 \nL 426.313793 22.318125 \n\" style=\"fill:none;stroke:#000000;stroke-linecap:square;stroke-linejoin:miter;stroke-width:0.8;\"/>\n   </g>\n   <g id=\"patch_19\">\n    <path d=\"M 541.762069 137.766401 \nL 541.762069 22.318125 \n\" style=\"fill:none;stroke:#000000;stroke-linecap:square;stroke-linejoin:miter;stroke-width:0.8;\"/>\n   </g>\n   <g id=\"patch_20\">\n    <path d=\"M 426.313793 137.766401 \nL 541.762069 137.766401 \n\" style=\"fill:none;stroke:#000000;stroke-linecap:square;stroke-linejoin:miter;stroke-width:0.8;\"/>\n   </g>\n   <g id=\"patch_21\">\n    <path d=\"M 426.313793 22.318125 \nL 541.762069 22.318125 \n\" style=\"fill:none;stroke:#000000;stroke-linecap:square;stroke-linejoin:miter;stroke-width:0.8;\"/>\n   </g>\n   <g id=\"text_4\">\n    <!-- dress -->\n    <defs>\n     <path d=\"M 45.40625 46.390625 \nL 45.40625 75.984375 \nL 54.390625 75.984375 \nL 54.390625 0 \nL 45.40625 0 \nL 45.40625 8.203125 \nQ 42.578125 3.328125 38.25 0.953125 \nQ 33.9375 -1.421875 27.875 -1.421875 \nQ 17.96875 -1.421875 11.734375 6.484375 \nQ 5.515625 14.40625 5.515625 27.296875 \nQ 5.515625 40.1875 11.734375 48.09375 \nQ 17.96875 56 27.875 56 \nQ 33.9375 56 38.25 53.625 \nQ 42.578125 51.265625 45.40625 46.390625 \nz\nM 14.796875 27.296875 \nQ 14.796875 17.390625 18.875 11.75 \nQ 22.953125 6.109375 30.078125 6.109375 \nQ 37.203125 6.109375 41.296875 11.75 \nQ 45.40625 17.390625 45.40625 27.296875 \nQ 45.40625 37.203125 41.296875 42.84375 \nQ 37.203125 48.484375 30.078125 48.484375 \nQ 22.953125 48.484375 18.875 42.84375 \nQ 14.796875 37.203125 14.796875 27.296875 \nz\n\" id=\"DejaVuSans-100\"/>\n     <path d=\"M 56.203125 29.59375 \nL 56.203125 25.203125 \nL 14.890625 25.203125 \nQ 15.484375 15.921875 20.484375 11.0625 \nQ 25.484375 6.203125 34.421875 6.203125 \nQ 39.59375 6.203125 44.453125 7.46875 \nQ 49.3125 8.734375 54.109375 11.28125 \nL 54.109375 2.78125 \nQ 49.265625 0.734375 44.1875 -0.34375 \nQ 39.109375 -1.421875 33.890625 -1.421875 \nQ 20.796875 -1.421875 13.15625 6.1875 \nQ 5.515625 13.8125 5.515625 26.8125 \nQ 5.515625 40.234375 12.765625 48.109375 \nQ 20.015625 56 32.328125 56 \nQ 43.359375 56 49.78125 48.890625 \nQ 56.203125 41.796875 56.203125 29.59375 \nz\nM 47.21875 32.234375 \nQ 47.125 39.59375 43.09375 43.984375 \nQ 39.0625 48.390625 32.421875 48.390625 \nQ 24.90625 48.390625 20.390625 44.140625 \nQ 15.875 39.890625 15.1875 32.171875 \nz\n\" id=\"DejaVuSans-101\"/>\n    </defs>\n    <g transform=\"translate(467.954181 16.318125)scale(0.12 -0.12)\">\n     <use xlink:href=\"#DejaVuSans-100\"/>\n     <use x=\"63.476562\" xlink:href=\"#DejaVuSans-114\"/>\n     <use x=\"102.339844\" xlink:href=\"#DejaVuSans-101\"/>\n     <use x=\"163.863281\" xlink:href=\"#DejaVuSans-115\"/>\n     <use x=\"215.962891\" xlink:href=\"#DejaVuSans-115\"/>\n    </g>\n   </g>\n  </g>\n  <g id=\"axes_5\">\n   <g id=\"patch_22\">\n    <path d=\"M 564.851724 137.766401 \nL 680.3 137.766401 \nL 680.3 22.318125 \nL 564.851724 22.318125 \nz\n\" style=\"fill:#ffffff;\"/>\n   </g>\n   <g clip-path=\"url(#p689146e8d6)\">\n    <image height=\"116\" id=\"image24ce63ad76\" transform=\"scale(1 -1)translate(0 -116)\" width=\"116\" x=\"564.851724\" xlink:href=\"data:image/png;base64,\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\" y=\"-21.766401\"/>\n   </g>\n   <g id=\"patch_23\">\n    <path d=\"M 564.851724 137.766401 \nL 564.851724 22.318125 \n\" style=\"fill:none;stroke:#000000;stroke-linecap:square;stroke-linejoin:miter;stroke-width:0.8;\"/>\n   </g>\n   <g id=\"patch_24\">\n    <path d=\"M 680.3 137.766401 \nL 680.3 22.318125 \n\" style=\"fill:none;stroke:#000000;stroke-linecap:square;stroke-linejoin:miter;stroke-width:0.8;\"/>\n   </g>\n   <g id=\"patch_25\">\n    <path d=\"M 564.851724 137.766401 \nL 680.3 137.766401 \n\" style=\"fill:none;stroke:#000000;stroke-linecap:square;stroke-linejoin:miter;stroke-width:0.8;\"/>\n   </g>\n   <g id=\"patch_26\">\n    <path d=\"M 564.851724 22.318125 \nL 680.3 22.318125 \n\" style=\"fill:none;stroke:#000000;stroke-linecap:square;stroke-linejoin:miter;stroke-width:0.8;\"/>\n   </g>\n   <g id=\"text_5\">\n    <!-- t-shirt -->\n    <g transform=\"translate(604.645237 16.318125)scale(0.12 -0.12)\">\n     <use xlink:href=\"#DejaVuSans-116\"/>\n     <use x=\"39.208984\" xlink:href=\"#DejaVuSans-45\"/>\n     <use x=\"75.292969\" xlink:href=\"#DejaVuSans-115\"/>\n     <use x=\"127.392578\" xlink:href=\"#DejaVuSans-104\"/>\n     <use x=\"190.771484\" xlink:href=\"#DejaVuSans-105\"/>\n     <use x=\"218.554688\" xlink:href=\"#DejaVuSans-114\"/>\n     <use x=\"259.667969\" xlink:href=\"#DejaVuSans-116\"/>\n    </g>\n   </g>\n  </g>\n </g>\n <defs>\n  <clipPath id=\"pb327aca6db\">\n   <rect height=\"115.448276\" width=\"115.448276\" x=\"10.7\" y=\"22.318125\"/>\n  </clipPath>\n  <clipPath id=\"p92ff4a85d5\">\n   <rect height=\"115.448276\" width=\"115.448276\" x=\"149.237931\" y=\"22.318125\"/>\n  </clipPath>\n  <clipPath id=\"pd826192afd\">\n   <rect height=\"115.448276\" width=\"115.448276\" x=\"287.775862\" y=\"22.318125\"/>\n  </clipPath>\n  <clipPath id=\"p9fa302032d\">\n   <rect height=\"115.448276\" width=\"115.448276\" x=\"426.313793\" y=\"22.318125\"/>\n  </clipPath>\n  <clipPath id=\"p689146e8d6\">\n   <rect height=\"115.448276\" width=\"115.448276\" x=\"564.851724\" y=\"22.318125\"/>\n  </clipPath>\n </defs>\n</svg>\n"
          },
          "metadata": {
            "needs_background": "light"
          }
        }
      ]
    },
    {
      "cell_type": "code",
      "source": [
        "batch_size = 256\n",
        "if sys.platform.startswith('win'):\n",
        "  num_workers = 0\n",
        "else:\n",
        "  num_workers = 4\n",
        "train_iter = torch.utils.data.DataLoader(mnist_train,batch_size,shuffle=True,num_workers = num_workers)\n",
        "test_iter = torch.utils.data.DataLoader(mnist_test,batch_size,shuffle=False,num_workers = num_workers)"
      ],
      "metadata": {
        "colab": {
          "base_uri": "https://localhost:8080/"
        },
        "id": "BUNqY_DQJ4eo",
        "outputId": "fdc4da50-e101-4104-96d8-711935dd97b4"
      },
      "execution_count": 11,
      "outputs": [
        {
          "output_type": "stream",
          "name": "stderr",
          "text": [
            "/usr/local/lib/python3.7/dist-packages/torch/utils/data/dataloader.py:481: UserWarning: This DataLoader will create 4 worker processes in total. Our suggested max number of worker in current system is 2, which is smaller than what this DataLoader is going to create. Please be aware that excessive worker creation might get DataLoader running slow or even freeze, lower the worker number to avoid potential slowness/freeze if necessary.\n",
            "  cpuset_checked))\n"
          ]
        }
      ]
    },
    {
      "cell_type": "markdown",
      "source": [
        "定义函数"
      ],
      "metadata": {
        "id": "sPlOOm33HBGq"
      }
    },
    {
      "cell_type": "code",
      "source": [
        "num_inputs = 784\n",
        "num_outputs = 10\n",
        "class LinearNet(nn.Module):\n",
        "  def __init__(self,num_inputs,num_outputs):\n",
        "    super(LinearNet,self).__init__()\n",
        "    self.linear = nn.Linear(num_inputs,num_outputs)\n",
        "  def forward(self,x):\n",
        "    y = self.linear(x.view(x.shape[0],-1))\n",
        "    return y\n",
        "net = LinearNet(num_inputs,num_outputs)"
      ],
      "metadata": {
        "id": "eESd2_rFHAbZ"
      },
      "execution_count": 21,
      "outputs": []
    },
    {
      "cell_type": "code",
      "source": [
        "class FlattenLayer(nn.Module):\n",
        "  def __init__(self):\n",
        "    super(FlattenLayer,self).__init__()\n",
        "  def forward(self,x):\n",
        "    return x.view(x.shape[0],-1)"
      ],
      "metadata": {
        "id": "pqHh-cMgJyRu"
      },
      "execution_count": null,
      "outputs": []
    },
    {
      "cell_type": "code",
      "source": [
        "from collections import OrderedDict\n",
        "net = nn.Sequential(\n",
        "    OrderedDict([\n",
        "      ('flatten',FlattenLayer()),\n",
        "      ('linear',nn.Linear(num_inputs,num_outputs))])\n",
        ")"
      ],
      "metadata": {
        "id": "KZHV8cNVLBzx"
      },
      "execution_count": null,
      "outputs": []
    },
    {
      "cell_type": "code",
      "source": [
        "init.normal_(net.linear.weight,mean=0,std=0.01)\n",
        "init.constant_(net.linear.bias,val=0)"
      ],
      "metadata": {
        "id": "b_94BPphL_Mu"
      },
      "execution_count": null,
      "outputs": []
    },
    {
      "cell_type": "code",
      "source": [
        "loss = nn.CrossEntropyLoss()"
      ],
      "metadata": {
        "id": "L5ikXFm7Mbuc"
      },
      "execution_count": null,
      "outputs": []
    },
    {
      "cell_type": "code",
      "source": [
        "optimizer = optim.SGD(net.parameters(),lr = 0.1)"
      ],
      "metadata": {
        "id": "HS_MyvWcMy4H"
      },
      "execution_count": null,
      "outputs": []
    }
  ]
}