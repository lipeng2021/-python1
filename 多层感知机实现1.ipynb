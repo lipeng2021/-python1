{
  "nbformat": 4,
  "nbformat_minor": 0,
  "metadata": {
    "colab": {
      "name": "Untitled4.ipynb",
      "provenance": [],
      "authorship_tag": "ABX9TyPnHf3NPmPbElfaLJggiMGx",
      "include_colab_link": true
    },
    "kernelspec": {
      "name": "python3",
      "display_name": "Python 3"
    },
    "language_info": {
      "name": "python"
    },
    "accelerator": "GPU",
    "widgets": {
      "application/vnd.jupyter.widget-state+json": {
        "2cafcfb6d962484b8fb8f1cff4ceba94": {
          "model_module": "@jupyter-widgets/controls",
          "model_name": "HBoxModel",
          "model_module_version": "1.5.0",
          "state": {
            "_dom_classes": [],
            "_model_module": "@jupyter-widgets/controls",
            "_model_module_version": "1.5.0",
            "_model_name": "HBoxModel",
            "_view_count": null,
            "_view_module": "@jupyter-widgets/controls",
            "_view_module_version": "1.5.0",
            "_view_name": "HBoxView",
            "box_style": "",
            "children": [
              "IPY_MODEL_9ccd9b6e8820454ba011d7d8c612e3c2",
              "IPY_MODEL_c8502252970a4e62b568e3555c1eac36",
              "IPY_MODEL_1d6e5cb6602e49a6a012396a199a6eeb"
            ],
            "layout": "IPY_MODEL_ca1d34b3ab604d67b21db9a4e1d071db"
          }
        },
        "9ccd9b6e8820454ba011d7d8c612e3c2": {
          "model_module": "@jupyter-widgets/controls",
          "model_name": "HTMLModel",
          "model_module_version": "1.5.0",
          "state": {
            "_dom_classes": [],
            "_model_module": "@jupyter-widgets/controls",
            "_model_module_version": "1.5.0",
            "_model_name": "HTMLModel",
            "_view_count": null,
            "_view_module": "@jupyter-widgets/controls",
            "_view_module_version": "1.5.0",
            "_view_name": "HTMLView",
            "description": "",
            "description_tooltip": null,
            "layout": "IPY_MODEL_bbed130583de4c78ae4eae26bce11441",
            "placeholder": "​",
            "style": "IPY_MODEL_6db12e04d9eb4ac9b76874bd44035a91",
            "value": ""
          }
        },
        "c8502252970a4e62b568e3555c1eac36": {
          "model_module": "@jupyter-widgets/controls",
          "model_name": "FloatProgressModel",
          "model_module_version": "1.5.0",
          "state": {
            "_dom_classes": [],
            "_model_module": "@jupyter-widgets/controls",
            "_model_module_version": "1.5.0",
            "_model_name": "FloatProgressModel",
            "_view_count": null,
            "_view_module": "@jupyter-widgets/controls",
            "_view_module_version": "1.5.0",
            "_view_name": "ProgressView",
            "bar_style": "success",
            "description": "",
            "description_tooltip": null,
            "layout": "IPY_MODEL_a986d062be7e4ce8b9ca9fec8c1a3c63",
            "max": 26421880,
            "min": 0,
            "orientation": "horizontal",
            "style": "IPY_MODEL_42517c04a3384a3bbaa79f6aee73ad26",
            "value": 26421880
          }
        },
        "1d6e5cb6602e49a6a012396a199a6eeb": {
          "model_module": "@jupyter-widgets/controls",
          "model_name": "HTMLModel",
          "model_module_version": "1.5.0",
          "state": {
            "_dom_classes": [],
            "_model_module": "@jupyter-widgets/controls",
            "_model_module_version": "1.5.0",
            "_model_name": "HTMLModel",
            "_view_count": null,
            "_view_module": "@jupyter-widgets/controls",
            "_view_module_version": "1.5.0",
            "_view_name": "HTMLView",
            "description": "",
            "description_tooltip": null,
            "layout": "IPY_MODEL_801b88d474234b488ec8cf018d89db3b",
            "placeholder": "​",
            "style": "IPY_MODEL_8d3b2d91942a4c6eabf8b77954807bed",
            "value": " 26422272/? [00:01&lt;00:00, 22652373.79it/s]"
          }
        },
        "ca1d34b3ab604d67b21db9a4e1d071db": {
          "model_module": "@jupyter-widgets/base",
          "model_name": "LayoutModel",
          "model_module_version": "1.2.0",
          "state": {
            "_model_module": "@jupyter-widgets/base",
            "_model_module_version": "1.2.0",
            "_model_name": "LayoutModel",
            "_view_count": null,
            "_view_module": "@jupyter-widgets/base",
            "_view_module_version": "1.2.0",
            "_view_name": "LayoutView",
            "align_content": null,
            "align_items": null,
            "align_self": null,
            "border": null,
            "bottom": null,
            "display": null,
            "flex": null,
            "flex_flow": null,
            "grid_area": null,
            "grid_auto_columns": null,
            "grid_auto_flow": null,
            "grid_auto_rows": null,
            "grid_column": null,
            "grid_gap": null,
            "grid_row": null,
            "grid_template_areas": null,
            "grid_template_columns": null,
            "grid_template_rows": null,
            "height": null,
            "justify_content": null,
            "justify_items": null,
            "left": null,
            "margin": null,
            "max_height": null,
            "max_width": null,
            "min_height": null,
            "min_width": null,
            "object_fit": null,
            "object_position": null,
            "order": null,
            "overflow": null,
            "overflow_x": null,
            "overflow_y": null,
            "padding": null,
            "right": null,
            "top": null,
            "visibility": null,
            "width": null
          }
        },
        "bbed130583de4c78ae4eae26bce11441": {
          "model_module": "@jupyter-widgets/base",
          "model_name": "LayoutModel",
          "model_module_version": "1.2.0",
          "state": {
            "_model_module": "@jupyter-widgets/base",
            "_model_module_version": "1.2.0",
            "_model_name": "LayoutModel",
            "_view_count": null,
            "_view_module": "@jupyter-widgets/base",
            "_view_module_version": "1.2.0",
            "_view_name": "LayoutView",
            "align_content": null,
            "align_items": null,
            "align_self": null,
            "border": null,
            "bottom": null,
            "display": null,
            "flex": null,
            "flex_flow": null,
            "grid_area": null,
            "grid_auto_columns": null,
            "grid_auto_flow": null,
            "grid_auto_rows": null,
            "grid_column": null,
            "grid_gap": null,
            "grid_row": null,
            "grid_template_areas": null,
            "grid_template_columns": null,
            "grid_template_rows": null,
            "height": null,
            "justify_content": null,
            "justify_items": null,
            "left": null,
            "margin": null,
            "max_height": null,
            "max_width": null,
            "min_height": null,
            "min_width": null,
            "object_fit": null,
            "object_position": null,
            "order": null,
            "overflow": null,
            "overflow_x": null,
            "overflow_y": null,
            "padding": null,
            "right": null,
            "top": null,
            "visibility": null,
            "width": null
          }
        },
        "6db12e04d9eb4ac9b76874bd44035a91": {
          "model_module": "@jupyter-widgets/controls",
          "model_name": "DescriptionStyleModel",
          "model_module_version": "1.5.0",
          "state": {
            "_model_module": "@jupyter-widgets/controls",
            "_model_module_version": "1.5.0",
            "_model_name": "DescriptionStyleModel",
            "_view_count": null,
            "_view_module": "@jupyter-widgets/base",
            "_view_module_version": "1.2.0",
            "_view_name": "StyleView",
            "description_width": ""
          }
        },
        "a986d062be7e4ce8b9ca9fec8c1a3c63": {
          "model_module": "@jupyter-widgets/base",
          "model_name": "LayoutModel",
          "model_module_version": "1.2.0",
          "state": {
            "_model_module": "@jupyter-widgets/base",
            "_model_module_version": "1.2.0",
            "_model_name": "LayoutModel",
            "_view_count": null,
            "_view_module": "@jupyter-widgets/base",
            "_view_module_version": "1.2.0",
            "_view_name": "LayoutView",
            "align_content": null,
            "align_items": null,
            "align_self": null,
            "border": null,
            "bottom": null,
            "display": null,
            "flex": null,
            "flex_flow": null,
            "grid_area": null,
            "grid_auto_columns": null,
            "grid_auto_flow": null,
            "grid_auto_rows": null,
            "grid_column": null,
            "grid_gap": null,
            "grid_row": null,
            "grid_template_areas": null,
            "grid_template_columns": null,
            "grid_template_rows": null,
            "height": null,
            "justify_content": null,
            "justify_items": null,
            "left": null,
            "margin": null,
            "max_height": null,
            "max_width": null,
            "min_height": null,
            "min_width": null,
            "object_fit": null,
            "object_position": null,
            "order": null,
            "overflow": null,
            "overflow_x": null,
            "overflow_y": null,
            "padding": null,
            "right": null,
            "top": null,
            "visibility": null,
            "width": null
          }
        },
        "42517c04a3384a3bbaa79f6aee73ad26": {
          "model_module": "@jupyter-widgets/controls",
          "model_name": "ProgressStyleModel",
          "model_module_version": "1.5.0",
          "state": {
            "_model_module": "@jupyter-widgets/controls",
            "_model_module_version": "1.5.0",
            "_model_name": "ProgressStyleModel",
            "_view_count": null,
            "_view_module": "@jupyter-widgets/base",
            "_view_module_version": "1.2.0",
            "_view_name": "StyleView",
            "bar_color": null,
            "description_width": ""
          }
        },
        "801b88d474234b488ec8cf018d89db3b": {
          "model_module": "@jupyter-widgets/base",
          "model_name": "LayoutModel",
          "model_module_version": "1.2.0",
          "state": {
            "_model_module": "@jupyter-widgets/base",
            "_model_module_version": "1.2.0",
            "_model_name": "LayoutModel",
            "_view_count": null,
            "_view_module": "@jupyter-widgets/base",
            "_view_module_version": "1.2.0",
            "_view_name": "LayoutView",
            "align_content": null,
            "align_items": null,
            "align_self": null,
            "border": null,
            "bottom": null,
            "display": null,
            "flex": null,
            "flex_flow": null,
            "grid_area": null,
            "grid_auto_columns": null,
            "grid_auto_flow": null,
            "grid_auto_rows": null,
            "grid_column": null,
            "grid_gap": null,
            "grid_row": null,
            "grid_template_areas": null,
            "grid_template_columns": null,
            "grid_template_rows": null,
            "height": null,
            "justify_content": null,
            "justify_items": null,
            "left": null,
            "margin": null,
            "max_height": null,
            "max_width": null,
            "min_height": null,
            "min_width": null,
            "object_fit": null,
            "object_position": null,
            "order": null,
            "overflow": null,
            "overflow_x": null,
            "overflow_y": null,
            "padding": null,
            "right": null,
            "top": null,
            "visibility": null,
            "width": null
          }
        },
        "8d3b2d91942a4c6eabf8b77954807bed": {
          "model_module": "@jupyter-widgets/controls",
          "model_name": "DescriptionStyleModel",
          "model_module_version": "1.5.0",
          "state": {
            "_model_module": "@jupyter-widgets/controls",
            "_model_module_version": "1.5.0",
            "_model_name": "DescriptionStyleModel",
            "_view_count": null,
            "_view_module": "@jupyter-widgets/base",
            "_view_module_version": "1.2.0",
            "_view_name": "StyleView",
            "description_width": ""
          }
        },
        "c3f965a01b7e4494b1309230f8aaf7f0": {
          "model_module": "@jupyter-widgets/controls",
          "model_name": "HBoxModel",
          "model_module_version": "1.5.0",
          "state": {
            "_dom_classes": [],
            "_model_module": "@jupyter-widgets/controls",
            "_model_module_version": "1.5.0",
            "_model_name": "HBoxModel",
            "_view_count": null,
            "_view_module": "@jupyter-widgets/controls",
            "_view_module_version": "1.5.0",
            "_view_name": "HBoxView",
            "box_style": "",
            "children": [
              "IPY_MODEL_57dffada9c124d2ea671b3a171762c7c",
              "IPY_MODEL_73fcf2e632ee4e3d86f48bae2ff57f83",
              "IPY_MODEL_32b627ba150549bb94dec2151fb1e511"
            ],
            "layout": "IPY_MODEL_5c6fb14b98014b688ada82b0a0c80fe4"
          }
        },
        "57dffada9c124d2ea671b3a171762c7c": {
          "model_module": "@jupyter-widgets/controls",
          "model_name": "HTMLModel",
          "model_module_version": "1.5.0",
          "state": {
            "_dom_classes": [],
            "_model_module": "@jupyter-widgets/controls",
            "_model_module_version": "1.5.0",
            "_model_name": "HTMLModel",
            "_view_count": null,
            "_view_module": "@jupyter-widgets/controls",
            "_view_module_version": "1.5.0",
            "_view_name": "HTMLView",
            "description": "",
            "description_tooltip": null,
            "layout": "IPY_MODEL_bd0adf30ef244fba8a4cad9898d6b314",
            "placeholder": "​",
            "style": "IPY_MODEL_bcd47bc1f289475289495e395d1adf66",
            "value": ""
          }
        },
        "73fcf2e632ee4e3d86f48bae2ff57f83": {
          "model_module": "@jupyter-widgets/controls",
          "model_name": "FloatProgressModel",
          "model_module_version": "1.5.0",
          "state": {
            "_dom_classes": [],
            "_model_module": "@jupyter-widgets/controls",
            "_model_module_version": "1.5.0",
            "_model_name": "FloatProgressModel",
            "_view_count": null,
            "_view_module": "@jupyter-widgets/controls",
            "_view_module_version": "1.5.0",
            "_view_name": "ProgressView",
            "bar_style": "success",
            "description": "",
            "description_tooltip": null,
            "layout": "IPY_MODEL_ad351659b30743bdbc2406bd01838a01",
            "max": 29515,
            "min": 0,
            "orientation": "horizontal",
            "style": "IPY_MODEL_a70c28c87b654893993951edb2b9c825",
            "value": 29515
          }
        },
        "32b627ba150549bb94dec2151fb1e511": {
          "model_module": "@jupyter-widgets/controls",
          "model_name": "HTMLModel",
          "model_module_version": "1.5.0",
          "state": {
            "_dom_classes": [],
            "_model_module": "@jupyter-widgets/controls",
            "_model_module_version": "1.5.0",
            "_model_name": "HTMLModel",
            "_view_count": null,
            "_view_module": "@jupyter-widgets/controls",
            "_view_module_version": "1.5.0",
            "_view_name": "HTMLView",
            "description": "",
            "description_tooltip": null,
            "layout": "IPY_MODEL_8be000d4694f4a71aa5880382b52d51f",
            "placeholder": "​",
            "style": "IPY_MODEL_44cb616faccc4cfd83718ca0c48401da",
            "value": " 29696/? [00:00&lt;00:00, 126617.05it/s]"
          }
        },
        "5c6fb14b98014b688ada82b0a0c80fe4": {
          "model_module": "@jupyter-widgets/base",
          "model_name": "LayoutModel",
          "model_module_version": "1.2.0",
          "state": {
            "_model_module": "@jupyter-widgets/base",
            "_model_module_version": "1.2.0",
            "_model_name": "LayoutModel",
            "_view_count": null,
            "_view_module": "@jupyter-widgets/base",
            "_view_module_version": "1.2.0",
            "_view_name": "LayoutView",
            "align_content": null,
            "align_items": null,
            "align_self": null,
            "border": null,
            "bottom": null,
            "display": null,
            "flex": null,
            "flex_flow": null,
            "grid_area": null,
            "grid_auto_columns": null,
            "grid_auto_flow": null,
            "grid_auto_rows": null,
            "grid_column": null,
            "grid_gap": null,
            "grid_row": null,
            "grid_template_areas": null,
            "grid_template_columns": null,
            "grid_template_rows": null,
            "height": null,
            "justify_content": null,
            "justify_items": null,
            "left": null,
            "margin": null,
            "max_height": null,
            "max_width": null,
            "min_height": null,
            "min_width": null,
            "object_fit": null,
            "object_position": null,
            "order": null,
            "overflow": null,
            "overflow_x": null,
            "overflow_y": null,
            "padding": null,
            "right": null,
            "top": null,
            "visibility": null,
            "width": null
          }
        },
        "bd0adf30ef244fba8a4cad9898d6b314": {
          "model_module": "@jupyter-widgets/base",
          "model_name": "LayoutModel",
          "model_module_version": "1.2.0",
          "state": {
            "_model_module": "@jupyter-widgets/base",
            "_model_module_version": "1.2.0",
            "_model_name": "LayoutModel",
            "_view_count": null,
            "_view_module": "@jupyter-widgets/base",
            "_view_module_version": "1.2.0",
            "_view_name": "LayoutView",
            "align_content": null,
            "align_items": null,
            "align_self": null,
            "border": null,
            "bottom": null,
            "display": null,
            "flex": null,
            "flex_flow": null,
            "grid_area": null,
            "grid_auto_columns": null,
            "grid_auto_flow": null,
            "grid_auto_rows": null,
            "grid_column": null,
            "grid_gap": null,
            "grid_row": null,
            "grid_template_areas": null,
            "grid_template_columns": null,
            "grid_template_rows": null,
            "height": null,
            "justify_content": null,
            "justify_items": null,
            "left": null,
            "margin": null,
            "max_height": null,
            "max_width": null,
            "min_height": null,
            "min_width": null,
            "object_fit": null,
            "object_position": null,
            "order": null,
            "overflow": null,
            "overflow_x": null,
            "overflow_y": null,
            "padding": null,
            "right": null,
            "top": null,
            "visibility": null,
            "width": null
          }
        },
        "bcd47bc1f289475289495e395d1adf66": {
          "model_module": "@jupyter-widgets/controls",
          "model_name": "DescriptionStyleModel",
          "model_module_version": "1.5.0",
          "state": {
            "_model_module": "@jupyter-widgets/controls",
            "_model_module_version": "1.5.0",
            "_model_name": "DescriptionStyleModel",
            "_view_count": null,
            "_view_module": "@jupyter-widgets/base",
            "_view_module_version": "1.2.0",
            "_view_name": "StyleView",
            "description_width": ""
          }
        },
        "ad351659b30743bdbc2406bd01838a01": {
          "model_module": "@jupyter-widgets/base",
          "model_name": "LayoutModel",
          "model_module_version": "1.2.0",
          "state": {
            "_model_module": "@jupyter-widgets/base",
            "_model_module_version": "1.2.0",
            "_model_name": "LayoutModel",
            "_view_count": null,
            "_view_module": "@jupyter-widgets/base",
            "_view_module_version": "1.2.0",
            "_view_name": "LayoutView",
            "align_content": null,
            "align_items": null,
            "align_self": null,
            "border": null,
            "bottom": null,
            "display": null,
            "flex": null,
            "flex_flow": null,
            "grid_area": null,
            "grid_auto_columns": null,
            "grid_auto_flow": null,
            "grid_auto_rows": null,
            "grid_column": null,
            "grid_gap": null,
            "grid_row": null,
            "grid_template_areas": null,
            "grid_template_columns": null,
            "grid_template_rows": null,
            "height": null,
            "justify_content": null,
            "justify_items": null,
            "left": null,
            "margin": null,
            "max_height": null,
            "max_width": null,
            "min_height": null,
            "min_width": null,
            "object_fit": null,
            "object_position": null,
            "order": null,
            "overflow": null,
            "overflow_x": null,
            "overflow_y": null,
            "padding": null,
            "right": null,
            "top": null,
            "visibility": null,
            "width": null
          }
        },
        "a70c28c87b654893993951edb2b9c825": {
          "model_module": "@jupyter-widgets/controls",
          "model_name": "ProgressStyleModel",
          "model_module_version": "1.5.0",
          "state": {
            "_model_module": "@jupyter-widgets/controls",
            "_model_module_version": "1.5.0",
            "_model_name": "ProgressStyleModel",
            "_view_count": null,
            "_view_module": "@jupyter-widgets/base",
            "_view_module_version": "1.2.0",
            "_view_name": "StyleView",
            "bar_color": null,
            "description_width": ""
          }
        },
        "8be000d4694f4a71aa5880382b52d51f": {
          "model_module": "@jupyter-widgets/base",
          "model_name": "LayoutModel",
          "model_module_version": "1.2.0",
          "state": {
            "_model_module": "@jupyter-widgets/base",
            "_model_module_version": "1.2.0",
            "_model_name": "LayoutModel",
            "_view_count": null,
            "_view_module": "@jupyter-widgets/base",
            "_view_module_version": "1.2.0",
            "_view_name": "LayoutView",
            "align_content": null,
            "align_items": null,
            "align_self": null,
            "border": null,
            "bottom": null,
            "display": null,
            "flex": null,
            "flex_flow": null,
            "grid_area": null,
            "grid_auto_columns": null,
            "grid_auto_flow": null,
            "grid_auto_rows": null,
            "grid_column": null,
            "grid_gap": null,
            "grid_row": null,
            "grid_template_areas": null,
            "grid_template_columns": null,
            "grid_template_rows": null,
            "height": null,
            "justify_content": null,
            "justify_items": null,
            "left": null,
            "margin": null,
            "max_height": null,
            "max_width": null,
            "min_height": null,
            "min_width": null,
            "object_fit": null,
            "object_position": null,
            "order": null,
            "overflow": null,
            "overflow_x": null,
            "overflow_y": null,
            "padding": null,
            "right": null,
            "top": null,
            "visibility": null,
            "width": null
          }
        },
        "44cb616faccc4cfd83718ca0c48401da": {
          "model_module": "@jupyter-widgets/controls",
          "model_name": "DescriptionStyleModel",
          "model_module_version": "1.5.0",
          "state": {
            "_model_module": "@jupyter-widgets/controls",
            "_model_module_version": "1.5.0",
            "_model_name": "DescriptionStyleModel",
            "_view_count": null,
            "_view_module": "@jupyter-widgets/base",
            "_view_module_version": "1.2.0",
            "_view_name": "StyleView",
            "description_width": ""
          }
        },
        "4d3eebfc5ab9406bb1a881af17b0008f": {
          "model_module": "@jupyter-widgets/controls",
          "model_name": "HBoxModel",
          "model_module_version": "1.5.0",
          "state": {
            "_dom_classes": [],
            "_model_module": "@jupyter-widgets/controls",
            "_model_module_version": "1.5.0",
            "_model_name": "HBoxModel",
            "_view_count": null,
            "_view_module": "@jupyter-widgets/controls",
            "_view_module_version": "1.5.0",
            "_view_name": "HBoxView",
            "box_style": "",
            "children": [
              "IPY_MODEL_64d0beae017641a19a99b06f30ec0838",
              "IPY_MODEL_922dedce894148e89dd13a5c0ee6ab55",
              "IPY_MODEL_6fb5d8d4723b408e9b96e5ad5c79240f"
            ],
            "layout": "IPY_MODEL_3c2f4ccdd8dc48cc8cc175197d1a59f2"
          }
        },
        "64d0beae017641a19a99b06f30ec0838": {
          "model_module": "@jupyter-widgets/controls",
          "model_name": "HTMLModel",
          "model_module_version": "1.5.0",
          "state": {
            "_dom_classes": [],
            "_model_module": "@jupyter-widgets/controls",
            "_model_module_version": "1.5.0",
            "_model_name": "HTMLModel",
            "_view_count": null,
            "_view_module": "@jupyter-widgets/controls",
            "_view_module_version": "1.5.0",
            "_view_name": "HTMLView",
            "description": "",
            "description_tooltip": null,
            "layout": "IPY_MODEL_39b232b812cc4ca69af1f71254fe4075",
            "placeholder": "​",
            "style": "IPY_MODEL_feac3a69bc08465b86cc559e67f7e098",
            "value": ""
          }
        },
        "922dedce894148e89dd13a5c0ee6ab55": {
          "model_module": "@jupyter-widgets/controls",
          "model_name": "FloatProgressModel",
          "model_module_version": "1.5.0",
          "state": {
            "_dom_classes": [],
            "_model_module": "@jupyter-widgets/controls",
            "_model_module_version": "1.5.0",
            "_model_name": "FloatProgressModel",
            "_view_count": null,
            "_view_module": "@jupyter-widgets/controls",
            "_view_module_version": "1.5.0",
            "_view_name": "ProgressView",
            "bar_style": "success",
            "description": "",
            "description_tooltip": null,
            "layout": "IPY_MODEL_ee0162e36e124edd85ae8ecde5a41707",
            "max": 4422102,
            "min": 0,
            "orientation": "horizontal",
            "style": "IPY_MODEL_33c75d1b87c74567a75a5433326d884b",
            "value": 4422102
          }
        },
        "6fb5d8d4723b408e9b96e5ad5c79240f": {
          "model_module": "@jupyter-widgets/controls",
          "model_name": "HTMLModel",
          "model_module_version": "1.5.0",
          "state": {
            "_dom_classes": [],
            "_model_module": "@jupyter-widgets/controls",
            "_model_module_version": "1.5.0",
            "_model_name": "HTMLModel",
            "_view_count": null,
            "_view_module": "@jupyter-widgets/controls",
            "_view_module_version": "1.5.0",
            "_view_name": "HTMLView",
            "description": "",
            "description_tooltip": null,
            "layout": "IPY_MODEL_b3d96c2496464e3d918ee5649695a796",
            "placeholder": "​",
            "style": "IPY_MODEL_5f896d233cc2455d9d9cde6b1cd9fcf9",
            "value": " 4422656/? [00:00&lt;00:00, 7413498.30it/s]"
          }
        },
        "3c2f4ccdd8dc48cc8cc175197d1a59f2": {
          "model_module": "@jupyter-widgets/base",
          "model_name": "LayoutModel",
          "model_module_version": "1.2.0",
          "state": {
            "_model_module": "@jupyter-widgets/base",
            "_model_module_version": "1.2.0",
            "_model_name": "LayoutModel",
            "_view_count": null,
            "_view_module": "@jupyter-widgets/base",
            "_view_module_version": "1.2.0",
            "_view_name": "LayoutView",
            "align_content": null,
            "align_items": null,
            "align_self": null,
            "border": null,
            "bottom": null,
            "display": null,
            "flex": null,
            "flex_flow": null,
            "grid_area": null,
            "grid_auto_columns": null,
            "grid_auto_flow": null,
            "grid_auto_rows": null,
            "grid_column": null,
            "grid_gap": null,
            "grid_row": null,
            "grid_template_areas": null,
            "grid_template_columns": null,
            "grid_template_rows": null,
            "height": null,
            "justify_content": null,
            "justify_items": null,
            "left": null,
            "margin": null,
            "max_height": null,
            "max_width": null,
            "min_height": null,
            "min_width": null,
            "object_fit": null,
            "object_position": null,
            "order": null,
            "overflow": null,
            "overflow_x": null,
            "overflow_y": null,
            "padding": null,
            "right": null,
            "top": null,
            "visibility": null,
            "width": null
          }
        },
        "39b232b812cc4ca69af1f71254fe4075": {
          "model_module": "@jupyter-widgets/base",
          "model_name": "LayoutModel",
          "model_module_version": "1.2.0",
          "state": {
            "_model_module": "@jupyter-widgets/base",
            "_model_module_version": "1.2.0",
            "_model_name": "LayoutModel",
            "_view_count": null,
            "_view_module": "@jupyter-widgets/base",
            "_view_module_version": "1.2.0",
            "_view_name": "LayoutView",
            "align_content": null,
            "align_items": null,
            "align_self": null,
            "border": null,
            "bottom": null,
            "display": null,
            "flex": null,
            "flex_flow": null,
            "grid_area": null,
            "grid_auto_columns": null,
            "grid_auto_flow": null,
            "grid_auto_rows": null,
            "grid_column": null,
            "grid_gap": null,
            "grid_row": null,
            "grid_template_areas": null,
            "grid_template_columns": null,
            "grid_template_rows": null,
            "height": null,
            "justify_content": null,
            "justify_items": null,
            "left": null,
            "margin": null,
            "max_height": null,
            "max_width": null,
            "min_height": null,
            "min_width": null,
            "object_fit": null,
            "object_position": null,
            "order": null,
            "overflow": null,
            "overflow_x": null,
            "overflow_y": null,
            "padding": null,
            "right": null,
            "top": null,
            "visibility": null,
            "width": null
          }
        },
        "feac3a69bc08465b86cc559e67f7e098": {
          "model_module": "@jupyter-widgets/controls",
          "model_name": "DescriptionStyleModel",
          "model_module_version": "1.5.0",
          "state": {
            "_model_module": "@jupyter-widgets/controls",
            "_model_module_version": "1.5.0",
            "_model_name": "DescriptionStyleModel",
            "_view_count": null,
            "_view_module": "@jupyter-widgets/base",
            "_view_module_version": "1.2.0",
            "_view_name": "StyleView",
            "description_width": ""
          }
        },
        "ee0162e36e124edd85ae8ecde5a41707": {
          "model_module": "@jupyter-widgets/base",
          "model_name": "LayoutModel",
          "model_module_version": "1.2.0",
          "state": {
            "_model_module": "@jupyter-widgets/base",
            "_model_module_version": "1.2.0",
            "_model_name": "LayoutModel",
            "_view_count": null,
            "_view_module": "@jupyter-widgets/base",
            "_view_module_version": "1.2.0",
            "_view_name": "LayoutView",
            "align_content": null,
            "align_items": null,
            "align_self": null,
            "border": null,
            "bottom": null,
            "display": null,
            "flex": null,
            "flex_flow": null,
            "grid_area": null,
            "grid_auto_columns": null,
            "grid_auto_flow": null,
            "grid_auto_rows": null,
            "grid_column": null,
            "grid_gap": null,
            "grid_row": null,
            "grid_template_areas": null,
            "grid_template_columns": null,
            "grid_template_rows": null,
            "height": null,
            "justify_content": null,
            "justify_items": null,
            "left": null,
            "margin": null,
            "max_height": null,
            "max_width": null,
            "min_height": null,
            "min_width": null,
            "object_fit": null,
            "object_position": null,
            "order": null,
            "overflow": null,
            "overflow_x": null,
            "overflow_y": null,
            "padding": null,
            "right": null,
            "top": null,
            "visibility": null,
            "width": null
          }
        },
        "33c75d1b87c74567a75a5433326d884b": {
          "model_module": "@jupyter-widgets/controls",
          "model_name": "ProgressStyleModel",
          "model_module_version": "1.5.0",
          "state": {
            "_model_module": "@jupyter-widgets/controls",
            "_model_module_version": "1.5.0",
            "_model_name": "ProgressStyleModel",
            "_view_count": null,
            "_view_module": "@jupyter-widgets/base",
            "_view_module_version": "1.2.0",
            "_view_name": "StyleView",
            "bar_color": null,
            "description_width": ""
          }
        },
        "b3d96c2496464e3d918ee5649695a796": {
          "model_module": "@jupyter-widgets/base",
          "model_name": "LayoutModel",
          "model_module_version": "1.2.0",
          "state": {
            "_model_module": "@jupyter-widgets/base",
            "_model_module_version": "1.2.0",
            "_model_name": "LayoutModel",
            "_view_count": null,
            "_view_module": "@jupyter-widgets/base",
            "_view_module_version": "1.2.0",
            "_view_name": "LayoutView",
            "align_content": null,
            "align_items": null,
            "align_self": null,
            "border": null,
            "bottom": null,
            "display": null,
            "flex": null,
            "flex_flow": null,
            "grid_area": null,
            "grid_auto_columns": null,
            "grid_auto_flow": null,
            "grid_auto_rows": null,
            "grid_column": null,
            "grid_gap": null,
            "grid_row": null,
            "grid_template_areas": null,
            "grid_template_columns": null,
            "grid_template_rows": null,
            "height": null,
            "justify_content": null,
            "justify_items": null,
            "left": null,
            "margin": null,
            "max_height": null,
            "max_width": null,
            "min_height": null,
            "min_width": null,
            "object_fit": null,
            "object_position": null,
            "order": null,
            "overflow": null,
            "overflow_x": null,
            "overflow_y": null,
            "padding": null,
            "right": null,
            "top": null,
            "visibility": null,
            "width": null
          }
        },
        "5f896d233cc2455d9d9cde6b1cd9fcf9": {
          "model_module": "@jupyter-widgets/controls",
          "model_name": "DescriptionStyleModel",
          "model_module_version": "1.5.0",
          "state": {
            "_model_module": "@jupyter-widgets/controls",
            "_model_module_version": "1.5.0",
            "_model_name": "DescriptionStyleModel",
            "_view_count": null,
            "_view_module": "@jupyter-widgets/base",
            "_view_module_version": "1.2.0",
            "_view_name": "StyleView",
            "description_width": ""
          }
        },
        "f06909249ddf47e4a0b58bd3dbf83248": {
          "model_module": "@jupyter-widgets/controls",
          "model_name": "HBoxModel",
          "model_module_version": "1.5.0",
          "state": {
            "_dom_classes": [],
            "_model_module": "@jupyter-widgets/controls",
            "_model_module_version": "1.5.0",
            "_model_name": "HBoxModel",
            "_view_count": null,
            "_view_module": "@jupyter-widgets/controls",
            "_view_module_version": "1.5.0",
            "_view_name": "HBoxView",
            "box_style": "",
            "children": [
              "IPY_MODEL_944f87871b424c029de902896e5a8711",
              "IPY_MODEL_d80094ed7b434bab999bdc087b837be2",
              "IPY_MODEL_4d36f1c4e3e04a2ab55105a38c4fc479"
            ],
            "layout": "IPY_MODEL_8e07aab9897e44a6891e9caaa867cfad"
          }
        },
        "944f87871b424c029de902896e5a8711": {
          "model_module": "@jupyter-widgets/controls",
          "model_name": "HTMLModel",
          "model_module_version": "1.5.0",
          "state": {
            "_dom_classes": [],
            "_model_module": "@jupyter-widgets/controls",
            "_model_module_version": "1.5.0",
            "_model_name": "HTMLModel",
            "_view_count": null,
            "_view_module": "@jupyter-widgets/controls",
            "_view_module_version": "1.5.0",
            "_view_name": "HTMLView",
            "description": "",
            "description_tooltip": null,
            "layout": "IPY_MODEL_f159275613b14c06bf7fbad6c12aa980",
            "placeholder": "​",
            "style": "IPY_MODEL_fc837c2ffede4dfdbf1e5a3f077107cb",
            "value": ""
          }
        },
        "d80094ed7b434bab999bdc087b837be2": {
          "model_module": "@jupyter-widgets/controls",
          "model_name": "FloatProgressModel",
          "model_module_version": "1.5.0",
          "state": {
            "_dom_classes": [],
            "_model_module": "@jupyter-widgets/controls",
            "_model_module_version": "1.5.0",
            "_model_name": "FloatProgressModel",
            "_view_count": null,
            "_view_module": "@jupyter-widgets/controls",
            "_view_module_version": "1.5.0",
            "_view_name": "ProgressView",
            "bar_style": "success",
            "description": "",
            "description_tooltip": null,
            "layout": "IPY_MODEL_a25864121a5e49c287ad79c3061ca7cf",
            "max": 5148,
            "min": 0,
            "orientation": "horizontal",
            "style": "IPY_MODEL_6389f434005c4fa7867ef14ab310042d",
            "value": 5148
          }
        },
        "4d36f1c4e3e04a2ab55105a38c4fc479": {
          "model_module": "@jupyter-widgets/controls",
          "model_name": "HTMLModel",
          "model_module_version": "1.5.0",
          "state": {
            "_dom_classes": [],
            "_model_module": "@jupyter-widgets/controls",
            "_model_module_version": "1.5.0",
            "_model_name": "HTMLModel",
            "_view_count": null,
            "_view_module": "@jupyter-widgets/controls",
            "_view_module_version": "1.5.0",
            "_view_name": "HTMLView",
            "description": "",
            "description_tooltip": null,
            "layout": "IPY_MODEL_ce98b83c82a8418cbcc21b9991565e85",
            "placeholder": "​",
            "style": "IPY_MODEL_d371e86f0262461bb7c99fd1d2590b14",
            "value": " 6144/? [00:00&lt;00:00, 9569.38it/s]"
          }
        },
        "8e07aab9897e44a6891e9caaa867cfad": {
          "model_module": "@jupyter-widgets/base",
          "model_name": "LayoutModel",
          "model_module_version": "1.2.0",
          "state": {
            "_model_module": "@jupyter-widgets/base",
            "_model_module_version": "1.2.0",
            "_model_name": "LayoutModel",
            "_view_count": null,
            "_view_module": "@jupyter-widgets/base",
            "_view_module_version": "1.2.0",
            "_view_name": "LayoutView",
            "align_content": null,
            "align_items": null,
            "align_self": null,
            "border": null,
            "bottom": null,
            "display": null,
            "flex": null,
            "flex_flow": null,
            "grid_area": null,
            "grid_auto_columns": null,
            "grid_auto_flow": null,
            "grid_auto_rows": null,
            "grid_column": null,
            "grid_gap": null,
            "grid_row": null,
            "grid_template_areas": null,
            "grid_template_columns": null,
            "grid_template_rows": null,
            "height": null,
            "justify_content": null,
            "justify_items": null,
            "left": null,
            "margin": null,
            "max_height": null,
            "max_width": null,
            "min_height": null,
            "min_width": null,
            "object_fit": null,
            "object_position": null,
            "order": null,
            "overflow": null,
            "overflow_x": null,
            "overflow_y": null,
            "padding": null,
            "right": null,
            "top": null,
            "visibility": null,
            "width": null
          }
        },
        "f159275613b14c06bf7fbad6c12aa980": {
          "model_module": "@jupyter-widgets/base",
          "model_name": "LayoutModel",
          "model_module_version": "1.2.0",
          "state": {
            "_model_module": "@jupyter-widgets/base",
            "_model_module_version": "1.2.0",
            "_model_name": "LayoutModel",
            "_view_count": null,
            "_view_module": "@jupyter-widgets/base",
            "_view_module_version": "1.2.0",
            "_view_name": "LayoutView",
            "align_content": null,
            "align_items": null,
            "align_self": null,
            "border": null,
            "bottom": null,
            "display": null,
            "flex": null,
            "flex_flow": null,
            "grid_area": null,
            "grid_auto_columns": null,
            "grid_auto_flow": null,
            "grid_auto_rows": null,
            "grid_column": null,
            "grid_gap": null,
            "grid_row": null,
            "grid_template_areas": null,
            "grid_template_columns": null,
            "grid_template_rows": null,
            "height": null,
            "justify_content": null,
            "justify_items": null,
            "left": null,
            "margin": null,
            "max_height": null,
            "max_width": null,
            "min_height": null,
            "min_width": null,
            "object_fit": null,
            "object_position": null,
            "order": null,
            "overflow": null,
            "overflow_x": null,
            "overflow_y": null,
            "padding": null,
            "right": null,
            "top": null,
            "visibility": null,
            "width": null
          }
        },
        "fc837c2ffede4dfdbf1e5a3f077107cb": {
          "model_module": "@jupyter-widgets/controls",
          "model_name": "DescriptionStyleModel",
          "model_module_version": "1.5.0",
          "state": {
            "_model_module": "@jupyter-widgets/controls",
            "_model_module_version": "1.5.0",
            "_model_name": "DescriptionStyleModel",
            "_view_count": null,
            "_view_module": "@jupyter-widgets/base",
            "_view_module_version": "1.2.0",
            "_view_name": "StyleView",
            "description_width": ""
          }
        },
        "a25864121a5e49c287ad79c3061ca7cf": {
          "model_module": "@jupyter-widgets/base",
          "model_name": "LayoutModel",
          "model_module_version": "1.2.0",
          "state": {
            "_model_module": "@jupyter-widgets/base",
            "_model_module_version": "1.2.0",
            "_model_name": "LayoutModel",
            "_view_count": null,
            "_view_module": "@jupyter-widgets/base",
            "_view_module_version": "1.2.0",
            "_view_name": "LayoutView",
            "align_content": null,
            "align_items": null,
            "align_self": null,
            "border": null,
            "bottom": null,
            "display": null,
            "flex": null,
            "flex_flow": null,
            "grid_area": null,
            "grid_auto_columns": null,
            "grid_auto_flow": null,
            "grid_auto_rows": null,
            "grid_column": null,
            "grid_gap": null,
            "grid_row": null,
            "grid_template_areas": null,
            "grid_template_columns": null,
            "grid_template_rows": null,
            "height": null,
            "justify_content": null,
            "justify_items": null,
            "left": null,
            "margin": null,
            "max_height": null,
            "max_width": null,
            "min_height": null,
            "min_width": null,
            "object_fit": null,
            "object_position": null,
            "order": null,
            "overflow": null,
            "overflow_x": null,
            "overflow_y": null,
            "padding": null,
            "right": null,
            "top": null,
            "visibility": null,
            "width": null
          }
        },
        "6389f434005c4fa7867ef14ab310042d": {
          "model_module": "@jupyter-widgets/controls",
          "model_name": "ProgressStyleModel",
          "model_module_version": "1.5.0",
          "state": {
            "_model_module": "@jupyter-widgets/controls",
            "_model_module_version": "1.5.0",
            "_model_name": "ProgressStyleModel",
            "_view_count": null,
            "_view_module": "@jupyter-widgets/base",
            "_view_module_version": "1.2.0",
            "_view_name": "StyleView",
            "bar_color": null,
            "description_width": ""
          }
        },
        "ce98b83c82a8418cbcc21b9991565e85": {
          "model_module": "@jupyter-widgets/base",
          "model_name": "LayoutModel",
          "model_module_version": "1.2.0",
          "state": {
            "_model_module": "@jupyter-widgets/base",
            "_model_module_version": "1.2.0",
            "_model_name": "LayoutModel",
            "_view_count": null,
            "_view_module": "@jupyter-widgets/base",
            "_view_module_version": "1.2.0",
            "_view_name": "LayoutView",
            "align_content": null,
            "align_items": null,
            "align_self": null,
            "border": null,
            "bottom": null,
            "display": null,
            "flex": null,
            "flex_flow": null,
            "grid_area": null,
            "grid_auto_columns": null,
            "grid_auto_flow": null,
            "grid_auto_rows": null,
            "grid_column": null,
            "grid_gap": null,
            "grid_row": null,
            "grid_template_areas": null,
            "grid_template_columns": null,
            "grid_template_rows": null,
            "height": null,
            "justify_content": null,
            "justify_items": null,
            "left": null,
            "margin": null,
            "max_height": null,
            "max_width": null,
            "min_height": null,
            "min_width": null,
            "object_fit": null,
            "object_position": null,
            "order": null,
            "overflow": null,
            "overflow_x": null,
            "overflow_y": null,
            "padding": null,
            "right": null,
            "top": null,
            "visibility": null,
            "width": null
          }
        },
        "d371e86f0262461bb7c99fd1d2590b14": {
          "model_module": "@jupyter-widgets/controls",
          "model_name": "DescriptionStyleModel",
          "model_module_version": "1.5.0",
          "state": {
            "_model_module": "@jupyter-widgets/controls",
            "_model_module_version": "1.5.0",
            "_model_name": "DescriptionStyleModel",
            "_view_count": null,
            "_view_module": "@jupyter-widgets/base",
            "_view_module_version": "1.2.0",
            "_view_name": "StyleView",
            "description_width": ""
          }
        }
      }
    }
  },
  "cells": [
    {
      "cell_type": "markdown",
      "metadata": {
        "id": "view-in-github",
        "colab_type": "text"
      },
      "source": [
        "<a href=\"https://colab.research.google.com/github/lipeng2021/-python1/blob/main/%E5%A4%9A%E5%B1%82%E6%84%9F%E7%9F%A5%E6%9C%BA%E5%AE%9E%E7%8E%B01.ipynb\" target=\"_parent\"><img src=\"https://colab.research.google.com/assets/colab-badge.svg\" alt=\"Open In Colab\"/></a>"
      ]
    },
    {
      "cell_type": "code",
      "execution_count": 1,
      "metadata": {
        "id": "QuzJAFVskPq0"
      },
      "outputs": [],
      "source": [
        "%matplotlib inline\n",
        "import torch\n",
        "from IPython import display\n",
        "import torch.nn as nn\n",
        "import torchvision \n",
        "import torchvision.transforms as transforms\n",
        "import matplotlib.pyplot as plt\n",
        "import numpy as np\n",
        "import sys\n",
        "import time\n",
        "import torch.optim as optim\n",
        "FILENAME = './content/sample_data/lipeng'"
      ]
    },
    {
      "cell_type": "code",
      "source": [
        "mnist_train = torchvision.datasets.FashionMNIST(root=FILENAME,train=True,transform=transforms.ToTensor(),download=True)\n",
        "mnist_test = torchvision.datasets.FashionMNIST(root=FILENAME,train=False,transform=transforms.ToTensor(),download=True)"
      ],
      "metadata": {
        "colab": {
          "base_uri": "https://localhost:8080/",
          "height": 453,
          "referenced_widgets": [
            "2cafcfb6d962484b8fb8f1cff4ceba94",
            "9ccd9b6e8820454ba011d7d8c612e3c2",
            "c8502252970a4e62b568e3555c1eac36",
            "1d6e5cb6602e49a6a012396a199a6eeb",
            "ca1d34b3ab604d67b21db9a4e1d071db",
            "bbed130583de4c78ae4eae26bce11441",
            "6db12e04d9eb4ac9b76874bd44035a91",
            "a986d062be7e4ce8b9ca9fec8c1a3c63",
            "42517c04a3384a3bbaa79f6aee73ad26",
            "801b88d474234b488ec8cf018d89db3b",
            "8d3b2d91942a4c6eabf8b77954807bed",
            "c3f965a01b7e4494b1309230f8aaf7f0",
            "57dffada9c124d2ea671b3a171762c7c",
            "73fcf2e632ee4e3d86f48bae2ff57f83",
            "32b627ba150549bb94dec2151fb1e511",
            "5c6fb14b98014b688ada82b0a0c80fe4",
            "bd0adf30ef244fba8a4cad9898d6b314",
            "bcd47bc1f289475289495e395d1adf66",
            "ad351659b30743bdbc2406bd01838a01",
            "a70c28c87b654893993951edb2b9c825",
            "8be000d4694f4a71aa5880382b52d51f",
            "44cb616faccc4cfd83718ca0c48401da",
            "4d3eebfc5ab9406bb1a881af17b0008f",
            "64d0beae017641a19a99b06f30ec0838",
            "922dedce894148e89dd13a5c0ee6ab55",
            "6fb5d8d4723b408e9b96e5ad5c79240f",
            "3c2f4ccdd8dc48cc8cc175197d1a59f2",
            "39b232b812cc4ca69af1f71254fe4075",
            "feac3a69bc08465b86cc559e67f7e098",
            "ee0162e36e124edd85ae8ecde5a41707",
            "33c75d1b87c74567a75a5433326d884b",
            "b3d96c2496464e3d918ee5649695a796",
            "5f896d233cc2455d9d9cde6b1cd9fcf9",
            "f06909249ddf47e4a0b58bd3dbf83248",
            "944f87871b424c029de902896e5a8711",
            "d80094ed7b434bab999bdc087b837be2",
            "4d36f1c4e3e04a2ab55105a38c4fc479",
            "8e07aab9897e44a6891e9caaa867cfad",
            "f159275613b14c06bf7fbad6c12aa980",
            "fc837c2ffede4dfdbf1e5a3f077107cb",
            "a25864121a5e49c287ad79c3061ca7cf",
            "6389f434005c4fa7867ef14ab310042d",
            "ce98b83c82a8418cbcc21b9991565e85",
            "d371e86f0262461bb7c99fd1d2590b14"
          ]
        },
        "id": "J5HnIn0HkVyn",
        "outputId": "3fbbde9f-e342-45a3-bbd5-4440449bb2fd"
      },
      "execution_count": 2,
      "outputs": [
        {
          "output_type": "stream",
          "name": "stdout",
          "text": [
            "Downloading http://fashion-mnist.s3-website.eu-central-1.amazonaws.com/train-images-idx3-ubyte.gz\n",
            "Downloading http://fashion-mnist.s3-website.eu-central-1.amazonaws.com/train-images-idx3-ubyte.gz to ./content/sample_data/lipeng/FashionMNIST/raw/train-images-idx3-ubyte.gz\n"
          ]
        },
        {
          "output_type": "display_data",
          "data": {
            "text/plain": [
              "  0%|          | 0/26421880 [00:00<?, ?it/s]"
            ],
            "application/vnd.jupyter.widget-view+json": {
              "version_major": 2,
              "version_minor": 0,
              "model_id": "2cafcfb6d962484b8fb8f1cff4ceba94"
            }
          },
          "metadata": {}
        },
        {
          "output_type": "stream",
          "name": "stdout",
          "text": [
            "Extracting ./content/sample_data/lipeng/FashionMNIST/raw/train-images-idx3-ubyte.gz to ./content/sample_data/lipeng/FashionMNIST/raw\n",
            "\n",
            "Downloading http://fashion-mnist.s3-website.eu-central-1.amazonaws.com/train-labels-idx1-ubyte.gz\n",
            "Downloading http://fashion-mnist.s3-website.eu-central-1.amazonaws.com/train-labels-idx1-ubyte.gz to ./content/sample_data/lipeng/FashionMNIST/raw/train-labels-idx1-ubyte.gz\n"
          ]
        },
        {
          "output_type": "display_data",
          "data": {
            "text/plain": [
              "  0%|          | 0/29515 [00:00<?, ?it/s]"
            ],
            "application/vnd.jupyter.widget-view+json": {
              "version_major": 2,
              "version_minor": 0,
              "model_id": "c3f965a01b7e4494b1309230f8aaf7f0"
            }
          },
          "metadata": {}
        },
        {
          "output_type": "stream",
          "name": "stdout",
          "text": [
            "Extracting ./content/sample_data/lipeng/FashionMNIST/raw/train-labels-idx1-ubyte.gz to ./content/sample_data/lipeng/FashionMNIST/raw\n",
            "\n",
            "Downloading http://fashion-mnist.s3-website.eu-central-1.amazonaws.com/t10k-images-idx3-ubyte.gz\n",
            "Downloading http://fashion-mnist.s3-website.eu-central-1.amazonaws.com/t10k-images-idx3-ubyte.gz to ./content/sample_data/lipeng/FashionMNIST/raw/t10k-images-idx3-ubyte.gz\n"
          ]
        },
        {
          "output_type": "display_data",
          "data": {
            "text/plain": [
              "  0%|          | 0/4422102 [00:00<?, ?it/s]"
            ],
            "application/vnd.jupyter.widget-view+json": {
              "version_major": 2,
              "version_minor": 0,
              "model_id": "4d3eebfc5ab9406bb1a881af17b0008f"
            }
          },
          "metadata": {}
        },
        {
          "output_type": "stream",
          "name": "stdout",
          "text": [
            "Extracting ./content/sample_data/lipeng/FashionMNIST/raw/t10k-images-idx3-ubyte.gz to ./content/sample_data/lipeng/FashionMNIST/raw\n",
            "\n",
            "Downloading http://fashion-mnist.s3-website.eu-central-1.amazonaws.com/t10k-labels-idx1-ubyte.gz\n",
            "Downloading http://fashion-mnist.s3-website.eu-central-1.amazonaws.com/t10k-labels-idx1-ubyte.gz to ./content/sample_data/lipeng/FashionMNIST/raw/t10k-labels-idx1-ubyte.gz\n"
          ]
        },
        {
          "output_type": "display_data",
          "data": {
            "text/plain": [
              "  0%|          | 0/5148 [00:00<?, ?it/s]"
            ],
            "application/vnd.jupyter.widget-view+json": {
              "version_major": 2,
              "version_minor": 0,
              "model_id": "f06909249ddf47e4a0b58bd3dbf83248"
            }
          },
          "metadata": {}
        },
        {
          "output_type": "stream",
          "name": "stdout",
          "text": [
            "Extracting ./content/sample_data/lipeng/FashionMNIST/raw/t10k-labels-idx1-ubyte.gz to ./content/sample_data/lipeng/FashionMNIST/raw\n",
            "\n"
          ]
        }
      ]
    },
    {
      "cell_type": "code",
      "source": [
        "def set_svg_figure():\n",
        "  display.set_matplotlib_formats('svg')\n",
        "def set_figsize(figsize=(3.5,2.5)):\n",
        "  plt.rcParams['figure_figsize']=figsize"
      ],
      "metadata": {
        "id": "eNIa6UHZobHW"
      },
      "execution_count": 3,
      "outputs": []
    },
    {
      "cell_type": "code",
      "source": [
        "def get_fashion_mnist_labels(labels):\n",
        "  text_labels = ['t-shirt','trouser','pullover','dress','coat','sandal','sneaker','bag','ankle','boot']\n",
        "  return [text_labels[int(i)] for i in labels]"
      ],
      "metadata": {
        "id": "7Hs4s4_Wo0hM"
      },
      "execution_count": 4,
      "outputs": []
    },
    {
      "cell_type": "code",
      "source": [
        "def show_fashion_mnist(images,labels):\n",
        "  set_svg_figure()\n",
        "  _,imgs = plt.subplots(1,len(images),figsize=(12,12))\n",
        "  for img,figture,lbl in zip(imgs,images,labels):\n",
        "    img.imshow(figture.view((28,28)).numpy())\n",
        "    img.set_title(lbl)\n",
        "    img.axes.get_xaxis().set_visible(True)\n",
        "    img.axes.get_yaxis().set_visible(True)\n",
        "  plt.show()"
      ],
      "metadata": {
        "id": "N3SBNzBDpJ1k"
      },
      "execution_count": 5,
      "outputs": []
    },
    {
      "cell_type": "code",
      "source": [
        "x =[]\n",
        "y = []\n",
        "for i in range(5):\n",
        "  x.append(mnist_train[i][0])\n",
        "  y.append(mnist_train[i][1])\n",
        "show_fashion_mnist(x,get_fashion_mnist_labels(y))"
      ],
      "metadata": {
        "colab": {
          "base_uri": "https://localhost:8080/",
          "height": 236
        },
        "id": "1mBTUXeyqjO8",
        "outputId": "d193458b-1328-4737-820b-b1753ca4c8b8"
      },
      "execution_count": 6,
      "outputs": [
        {
          "output_type": "display_data",
          "data": {
            "text/plain": [
              "<Figure size 864x864 with 5 Axes>"
            ],
            "image/svg+xml": "<?xml version=\"1.0\" encoding=\"utf-8\" standalone=\"no\"?>\n<!DOCTYPE svg PUBLIC \"-//W3C//DTD SVG 1.1//EN\"\n  \"http://www.w3.org/Graphics/SVG/1.1/DTD/svg11.dtd\">\n<!-- Created with matplotlib (https://matplotlib.org/) -->\n<svg height=\"161.644526pt\" version=\"1.1\" viewBox=\"0 0 703.725 161.644526\" width=\"703.725pt\" xmlns=\"http://www.w3.org/2000/svg\" xmlns:xlink=\"http://www.w3.org/1999/xlink\">\n <defs>\n  <style type=\"text/css\">\n*{stroke-linecap:butt;stroke-linejoin:round;}\n  </style>\n </defs>\n <g id=\"figure_1\">\n  <g id=\"patch_1\">\n   <path d=\"M 0 161.644526 \nL 703.725 161.644526 \nL 703.725 0 \nL 0 0 \nz\n\" style=\"fill:none;\"/>\n  </g>\n  <g id=\"axes_1\">\n   <g id=\"patch_2\">\n    <path d=\"M 26.925 137.766401 \nL 142.373276 137.766401 \nL 142.373276 22.318125 \nL 26.925 22.318125 \nz\n\" style=\"fill:#ffffff;\"/>\n   </g>\n   <g clip-path=\"url(#paa80a4cf92)\">\n    <image height=\"116\" id=\"imagee76f21fedf\" transform=\"scale(1 -1)translate(0 -116)\" width=\"116\" x=\"26.925\" xlink:href=\"data:image/png;base64,\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\" y=\"-21.766401\"/>\n   </g>\n   <g id=\"matplotlib.axis_1\">\n    <g id=\"xtick_1\">\n     <g id=\"line2d_1\">\n      <defs>\n       <path d=\"M 0 0 \nL 0 3.5 \n\" id=\"md37ef46b91\" style=\"stroke:#000000;stroke-width:0.8;\"/>\n      </defs>\n      <g>\n       <use style=\"stroke:#000000;stroke-width:0.8;\" x=\"28.986576\" xlink:href=\"#md37ef46b91\" y=\"137.766401\"/>\n      </g>\n     </g>\n     <g id=\"text_1\">\n      <!-- 0 -->\n      <defs>\n       <path d=\"M 31.78125 66.40625 \nQ 24.171875 66.40625 20.328125 58.90625 \nQ 16.5 51.421875 16.5 36.375 \nQ 16.5 21.390625 20.328125 13.890625 \nQ 24.171875 6.390625 31.78125 6.390625 \nQ 39.453125 6.390625 43.28125 13.890625 \nQ 47.125 21.390625 47.125 36.375 \nQ 47.125 51.421875 43.28125 58.90625 \nQ 39.453125 66.40625 31.78125 66.40625 \nz\nM 31.78125 74.21875 \nQ 44.046875 74.21875 50.515625 64.515625 \nQ 56.984375 54.828125 56.984375 36.375 \nQ 56.984375 17.96875 50.515625 8.265625 \nQ 44.046875 -1.421875 31.78125 -1.421875 \nQ 19.53125 -1.421875 13.0625 8.265625 \nQ 6.59375 17.96875 6.59375 36.375 \nQ 6.59375 54.828125 13.0625 64.515625 \nQ 19.53125 74.21875 31.78125 74.21875 \nz\n\" id=\"DejaVuSans-48\"/>\n      </defs>\n      <g transform=\"translate(25.805326 152.364838)scale(0.1 -0.1)\">\n       <use xlink:href=\"#DejaVuSans-48\"/>\n      </g>\n     </g>\n    </g>\n    <g id=\"xtick_2\">\n     <g id=\"line2d_2\">\n      <g>\n       <use style=\"stroke:#000000;stroke-width:0.8;\" x=\"70.218103\" xlink:href=\"#md37ef46b91\" y=\"137.766401\"/>\n      </g>\n     </g>\n     <g id=\"text_2\">\n      <!-- 10 -->\n      <defs>\n       <path d=\"M 12.40625 8.296875 \nL 28.515625 8.296875 \nL 28.515625 63.921875 \nL 10.984375 60.40625 \nL 10.984375 69.390625 \nL 28.421875 72.90625 \nL 38.28125 72.90625 \nL 38.28125 8.296875 \nL 54.390625 8.296875 \nL 54.390625 0 \nL 12.40625 0 \nz\n\" id=\"DejaVuSans-49\"/>\n      </defs>\n      <g transform=\"translate(63.855603 152.364838)scale(0.1 -0.1)\">\n       <use xlink:href=\"#DejaVuSans-49\"/>\n       <use x=\"63.623047\" xlink:href=\"#DejaVuSans-48\"/>\n      </g>\n     </g>\n    </g>\n    <g id=\"xtick_3\">\n     <g id=\"line2d_3\">\n      <g>\n       <use style=\"stroke:#000000;stroke-width:0.8;\" x=\"111.449631\" xlink:href=\"#md37ef46b91\" y=\"137.766401\"/>\n      </g>\n     </g>\n     <g id=\"text_3\">\n      <!-- 20 -->\n      <defs>\n       <path d=\"M 19.1875 8.296875 \nL 53.609375 8.296875 \nL 53.609375 0 \nL 7.328125 0 \nL 7.328125 8.296875 \nQ 12.9375 14.109375 22.625 23.890625 \nQ 32.328125 33.6875 34.8125 36.53125 \nQ 39.546875 41.84375 41.421875 45.53125 \nQ 43.3125 49.21875 43.3125 52.78125 \nQ 43.3125 58.59375 39.234375 62.25 \nQ 35.15625 65.921875 28.609375 65.921875 \nQ 23.96875 65.921875 18.8125 64.3125 \nQ 13.671875 62.703125 7.8125 59.421875 \nL 7.8125 69.390625 \nQ 13.765625 71.78125 18.9375 73 \nQ 24.125 74.21875 28.421875 74.21875 \nQ 39.75 74.21875 46.484375 68.546875 \nQ 53.21875 62.890625 53.21875 53.421875 \nQ 53.21875 48.921875 51.53125 44.890625 \nQ 49.859375 40.875 45.40625 35.40625 \nQ 44.1875 33.984375 37.640625 27.21875 \nQ 31.109375 20.453125 19.1875 8.296875 \nz\n\" id=\"DejaVuSans-50\"/>\n      </defs>\n      <g transform=\"translate(105.087131 152.364838)scale(0.1 -0.1)\">\n       <use xlink:href=\"#DejaVuSans-50\"/>\n       <use x=\"63.623047\" xlink:href=\"#DejaVuSans-48\"/>\n      </g>\n     </g>\n    </g>\n   </g>\n   <g id=\"matplotlib.axis_2\">\n    <g id=\"ytick_1\">\n     <g id=\"line2d_4\">\n      <defs>\n       <path d=\"M 0 0 \nL -3.5 0 \n\" id=\"mf167ba6225\" style=\"stroke:#000000;stroke-width:0.8;\"/>\n      </defs>\n      <g>\n       <use style=\"stroke:#000000;stroke-width:0.8;\" x=\"26.925\" xlink:href=\"#mf167ba6225\" y=\"24.379701\"/>\n      </g>\n     </g>\n     <g id=\"text_4\">\n      <!-- 0 -->\n      <g transform=\"translate(13.5625 28.17892)scale(0.1 -0.1)\">\n       <use xlink:href=\"#DejaVuSans-48\"/>\n      </g>\n     </g>\n    </g>\n    <g id=\"ytick_2\">\n     <g id=\"line2d_5\">\n      <g>\n       <use style=\"stroke:#000000;stroke-width:0.8;\" x=\"26.925\" xlink:href=\"#mf167ba6225\" y=\"65.611228\"/>\n      </g>\n     </g>\n     <g id=\"text_5\">\n      <!-- 10 -->\n      <g transform=\"translate(7.2 69.410447)scale(0.1 -0.1)\">\n       <use xlink:href=\"#DejaVuSans-49\"/>\n       <use x=\"63.623047\" xlink:href=\"#DejaVuSans-48\"/>\n      </g>\n     </g>\n    </g>\n    <g id=\"ytick_3\">\n     <g id=\"line2d_6\">\n      <g>\n       <use style=\"stroke:#000000;stroke-width:0.8;\" x=\"26.925\" xlink:href=\"#mf167ba6225\" y=\"106.842756\"/>\n      </g>\n     </g>\n     <g id=\"text_6\">\n      <!-- 20 -->\n      <g transform=\"translate(7.2 110.641974)scale(0.1 -0.1)\">\n       <use xlink:href=\"#DejaVuSans-50\"/>\n       <use x=\"63.623047\" xlink:href=\"#DejaVuSans-48\"/>\n      </g>\n     </g>\n    </g>\n   </g>\n   <g id=\"patch_3\">\n    <path d=\"M 26.925 137.766401 \nL 26.925 22.318125 \n\" style=\"fill:none;stroke:#000000;stroke-linecap:square;stroke-linejoin:miter;stroke-width:0.8;\"/>\n   </g>\n   <g id=\"patch_4\">\n    <path d=\"M 142.373276 137.766401 \nL 142.373276 22.318125 \n\" style=\"fill:none;stroke:#000000;stroke-linecap:square;stroke-linejoin:miter;stroke-width:0.8;\"/>\n   </g>\n   <g id=\"patch_5\">\n    <path d=\"M 26.925 137.766401 \nL 142.373276 137.766401 \n\" style=\"fill:none;stroke:#000000;stroke-linecap:square;stroke-linejoin:miter;stroke-width:0.8;\"/>\n   </g>\n   <g id=\"patch_6\">\n    <path d=\"M 26.925 22.318125 \nL 142.373276 22.318125 \n\" style=\"fill:none;stroke:#000000;stroke-linecap:square;stroke-linejoin:miter;stroke-width:0.8;\"/>\n   </g>\n   <g id=\"text_7\">\n    <!-- boot -->\n    <defs>\n     <path d=\"M 48.6875 27.296875 \nQ 48.6875 37.203125 44.609375 42.84375 \nQ 40.53125 48.484375 33.40625 48.484375 \nQ 26.265625 48.484375 22.1875 42.84375 \nQ 18.109375 37.203125 18.109375 27.296875 \nQ 18.109375 17.390625 22.1875 11.75 \nQ 26.265625 6.109375 33.40625 6.109375 \nQ 40.53125 6.109375 44.609375 11.75 \nQ 48.6875 17.390625 48.6875 27.296875 \nz\nM 18.109375 46.390625 \nQ 20.953125 51.265625 25.265625 53.625 \nQ 29.59375 56 35.59375 56 \nQ 45.5625 56 51.78125 48.09375 \nQ 58.015625 40.1875 58.015625 27.296875 \nQ 58.015625 14.40625 51.78125 6.484375 \nQ 45.5625 -1.421875 35.59375 -1.421875 \nQ 29.59375 -1.421875 25.265625 0.953125 \nQ 20.953125 3.328125 18.109375 8.203125 \nL 18.109375 0 \nL 9.078125 0 \nL 9.078125 75.984375 \nL 18.109375 75.984375 \nz\n\" id=\"DejaVuSans-98\"/>\n     <path d=\"M 30.609375 48.390625 \nQ 23.390625 48.390625 19.1875 42.75 \nQ 14.984375 37.109375 14.984375 27.296875 \nQ 14.984375 17.484375 19.15625 11.84375 \nQ 23.34375 6.203125 30.609375 6.203125 \nQ 37.796875 6.203125 41.984375 11.859375 \nQ 46.1875 17.53125 46.1875 27.296875 \nQ 46.1875 37.015625 41.984375 42.703125 \nQ 37.796875 48.390625 30.609375 48.390625 \nz\nM 30.609375 56 \nQ 42.328125 56 49.015625 48.375 \nQ 55.71875 40.765625 55.71875 27.296875 \nQ 55.71875 13.875 49.015625 6.21875 \nQ 42.328125 -1.421875 30.609375 -1.421875 \nQ 18.84375 -1.421875 12.171875 6.21875 \nQ 5.515625 13.875 5.515625 27.296875 \nQ 5.515625 40.765625 12.171875 48.375 \nQ 18.84375 56 30.609375 56 \nz\n\" id=\"DejaVuSans-111\"/>\n     <path d=\"M 18.3125 70.21875 \nL 18.3125 54.6875 \nL 36.8125 54.6875 \nL 36.8125 47.703125 \nL 18.3125 47.703125 \nL 18.3125 18.015625 \nQ 18.3125 11.328125 20.140625 9.421875 \nQ 21.96875 7.515625 27.59375 7.515625 \nL 36.8125 7.515625 \nL 36.8125 0 \nL 27.59375 0 \nQ 17.1875 0 13.234375 3.875 \nQ 9.28125 7.765625 9.28125 18.015625 \nL 9.28125 47.703125 \nL 2.6875 47.703125 \nL 2.6875 54.6875 \nL 9.28125 54.6875 \nL 9.28125 70.21875 \nz\n\" id=\"DejaVuSans-116\"/>\n    </defs>\n    <g transform=\"translate(71.145388 16.318125)scale(0.12 -0.12)\">\n     <use xlink:href=\"#DejaVuSans-98\"/>\n     <use x=\"63.476562\" xlink:href=\"#DejaVuSans-111\"/>\n     <use x=\"124.658203\" xlink:href=\"#DejaVuSans-111\"/>\n     <use x=\"185.839844\" xlink:href=\"#DejaVuSans-116\"/>\n    </g>\n   </g>\n  </g>\n  <g id=\"axes_2\">\n   <g id=\"patch_7\">\n    <path d=\"M 165.462931 137.766401 \nL 280.911207 137.766401 \nL 280.911207 22.318125 \nL 165.462931 22.318125 \nz\n\" style=\"fill:#ffffff;\"/>\n   </g>\n   <g clip-path=\"url(#p354f0b4bd3)\">\n    <image height=\"116\" id=\"image58170715ac\" transform=\"scale(1 -1)translate(0 -116)\" width=\"116\" x=\"165.462931\" xlink:href=\"data:image/png;base64,\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\" y=\"-21.766401\"/>\n   </g>\n   <g id=\"matplotlib.axis_3\">\n    <g id=\"xtick_4\">\n     <g id=\"line2d_7\">\n      <g>\n       <use style=\"stroke:#000000;stroke-width:0.8;\" x=\"167.524507\" xlink:href=\"#md37ef46b91\" y=\"137.766401\"/>\n      </g>\n     </g>\n     <g id=\"text_8\">\n      <!-- 0 -->\n      <g transform=\"translate(164.343257 152.364838)scale(0.1 -0.1)\">\n       <use xlink:href=\"#DejaVuSans-48\"/>\n      </g>\n     </g>\n    </g>\n    <g id=\"xtick_5\">\n     <g id=\"line2d_8\">\n      <g>\n       <use style=\"stroke:#000000;stroke-width:0.8;\" x=\"208.756034\" xlink:href=\"#md37ef46b91\" y=\"137.766401\"/>\n      </g>\n     </g>\n     <g id=\"text_9\">\n      <!-- 10 -->\n      <g transform=\"translate(202.393534 152.364838)scale(0.1 -0.1)\">\n       <use xlink:href=\"#DejaVuSans-49\"/>\n       <use x=\"63.623047\" xlink:href=\"#DejaVuSans-48\"/>\n      </g>\n     </g>\n    </g>\n    <g id=\"xtick_6\">\n     <g id=\"line2d_9\">\n      <g>\n       <use style=\"stroke:#000000;stroke-width:0.8;\" x=\"249.987562\" xlink:href=\"#md37ef46b91\" y=\"137.766401\"/>\n      </g>\n     </g>\n     <g id=\"text_10\">\n      <!-- 20 -->\n      <g transform=\"translate(243.625062 152.364838)scale(0.1 -0.1)\">\n       <use xlink:href=\"#DejaVuSans-50\"/>\n       <use x=\"63.623047\" xlink:href=\"#DejaVuSans-48\"/>\n      </g>\n     </g>\n    </g>\n   </g>\n   <g id=\"matplotlib.axis_4\">\n    <g id=\"ytick_4\">\n     <g id=\"line2d_10\">\n      <g>\n       <use style=\"stroke:#000000;stroke-width:0.8;\" x=\"165.462931\" xlink:href=\"#mf167ba6225\" y=\"24.379701\"/>\n      </g>\n     </g>\n     <g id=\"text_11\">\n      <!-- 0 -->\n      <g transform=\"translate(152.100431 28.17892)scale(0.1 -0.1)\">\n       <use xlink:href=\"#DejaVuSans-48\"/>\n      </g>\n     </g>\n    </g>\n    <g id=\"ytick_5\">\n     <g id=\"line2d_11\">\n      <g>\n       <use style=\"stroke:#000000;stroke-width:0.8;\" x=\"165.462931\" xlink:href=\"#mf167ba6225\" y=\"65.611228\"/>\n      </g>\n     </g>\n     <g id=\"text_12\">\n      <!-- 10 -->\n      <g transform=\"translate(145.737931 69.410447)scale(0.1 -0.1)\">\n       <use xlink:href=\"#DejaVuSans-49\"/>\n       <use x=\"63.623047\" xlink:href=\"#DejaVuSans-48\"/>\n      </g>\n     </g>\n    </g>\n    <g id=\"ytick_6\">\n     <g id=\"line2d_12\">\n      <g>\n       <use style=\"stroke:#000000;stroke-width:0.8;\" x=\"165.462931\" xlink:href=\"#mf167ba6225\" y=\"106.842756\"/>\n      </g>\n     </g>\n     <g id=\"text_13\">\n      <!-- 20 -->\n      <g transform=\"translate(145.737931 110.641974)scale(0.1 -0.1)\">\n       <use xlink:href=\"#DejaVuSans-50\"/>\n       <use x=\"63.623047\" xlink:href=\"#DejaVuSans-48\"/>\n      </g>\n     </g>\n    </g>\n   </g>\n   <g id=\"patch_8\">\n    <path d=\"M 165.462931 137.766401 \nL 165.462931 22.318125 \n\" style=\"fill:none;stroke:#000000;stroke-linecap:square;stroke-linejoin:miter;stroke-width:0.8;\"/>\n   </g>\n   <g id=\"patch_9\">\n    <path d=\"M 280.911207 137.766401 \nL 280.911207 22.318125 \n\" style=\"fill:none;stroke:#000000;stroke-linecap:square;stroke-linejoin:miter;stroke-width:0.8;\"/>\n   </g>\n   <g id=\"patch_10\">\n    <path d=\"M 165.462931 137.766401 \nL 280.911207 137.766401 \n\" style=\"fill:none;stroke:#000000;stroke-linecap:square;stroke-linejoin:miter;stroke-width:0.8;\"/>\n   </g>\n   <g id=\"patch_11\">\n    <path d=\"M 165.462931 22.318125 \nL 280.911207 22.318125 \n\" style=\"fill:none;stroke:#000000;stroke-linecap:square;stroke-linejoin:miter;stroke-width:0.8;\"/>\n   </g>\n   <g id=\"text_14\">\n    <!-- t-shirt -->\n    <defs>\n     <path d=\"M 4.890625 31.390625 \nL 31.203125 31.390625 \nL 31.203125 23.390625 \nL 4.890625 23.390625 \nz\n\" id=\"DejaVuSans-45\"/>\n     <path d=\"M 44.28125 53.078125 \nL 44.28125 44.578125 \nQ 40.484375 46.53125 36.375 47.5 \nQ 32.28125 48.484375 27.875 48.484375 \nQ 21.1875 48.484375 17.84375 46.4375 \nQ 14.5 44.390625 14.5 40.28125 \nQ 14.5 37.15625 16.890625 35.375 \nQ 19.28125 33.59375 26.515625 31.984375 \nL 29.59375 31.296875 \nQ 39.15625 29.25 43.1875 25.515625 \nQ 47.21875 21.78125 47.21875 15.09375 \nQ 47.21875 7.46875 41.1875 3.015625 \nQ 35.15625 -1.421875 24.609375 -1.421875 \nQ 20.21875 -1.421875 15.453125 -0.5625 \nQ 10.6875 0.296875 5.421875 2 \nL 5.421875 11.28125 \nQ 10.40625 8.6875 15.234375 7.390625 \nQ 20.0625 6.109375 24.8125 6.109375 \nQ 31.15625 6.109375 34.5625 8.28125 \nQ 37.984375 10.453125 37.984375 14.40625 \nQ 37.984375 18.0625 35.515625 20.015625 \nQ 33.0625 21.96875 24.703125 23.78125 \nL 21.578125 24.515625 \nQ 13.234375 26.265625 9.515625 29.90625 \nQ 5.8125 33.546875 5.8125 39.890625 \nQ 5.8125 47.609375 11.28125 51.796875 \nQ 16.75 56 26.8125 56 \nQ 31.78125 56 36.171875 55.265625 \nQ 40.578125 54.546875 44.28125 53.078125 \nz\n\" id=\"DejaVuSans-115\"/>\n     <path d=\"M 54.890625 33.015625 \nL 54.890625 0 \nL 45.90625 0 \nL 45.90625 32.71875 \nQ 45.90625 40.484375 42.875 44.328125 \nQ 39.84375 48.1875 33.796875 48.1875 \nQ 26.515625 48.1875 22.3125 43.546875 \nQ 18.109375 38.921875 18.109375 30.90625 \nL 18.109375 0 \nL 9.078125 0 \nL 9.078125 75.984375 \nL 18.109375 75.984375 \nL 18.109375 46.1875 \nQ 21.34375 51.125 25.703125 53.5625 \nQ 30.078125 56 35.796875 56 \nQ 45.21875 56 50.046875 50.171875 \nQ 54.890625 44.34375 54.890625 33.015625 \nz\n\" id=\"DejaVuSans-104\"/>\n     <path d=\"M 9.421875 54.6875 \nL 18.40625 54.6875 \nL 18.40625 0 \nL 9.421875 0 \nz\nM 9.421875 75.984375 \nL 18.40625 75.984375 \nL 18.40625 64.59375 \nL 9.421875 64.59375 \nz\n\" id=\"DejaVuSans-105\"/>\n     <path d=\"M 41.109375 46.296875 \nQ 39.59375 47.171875 37.8125 47.578125 \nQ 36.03125 48 33.890625 48 \nQ 26.265625 48 22.1875 43.046875 \nQ 18.109375 38.09375 18.109375 28.8125 \nL 18.109375 0 \nL 9.078125 0 \nL 9.078125 54.6875 \nL 18.109375 54.6875 \nL 18.109375 46.1875 \nQ 20.953125 51.171875 25.484375 53.578125 \nQ 30.03125 56 36.53125 56 \nQ 37.453125 56 38.578125 55.875 \nQ 39.703125 55.765625 41.0625 55.515625 \nz\n\" id=\"DejaVuSans-114\"/>\n    </defs>\n    <g transform=\"translate(205.256444 16.318125)scale(0.12 -0.12)\">\n     <use xlink:href=\"#DejaVuSans-116\"/>\n     <use x=\"39.208984\" xlink:href=\"#DejaVuSans-45\"/>\n     <use x=\"75.292969\" xlink:href=\"#DejaVuSans-115\"/>\n     <use x=\"127.392578\" xlink:href=\"#DejaVuSans-104\"/>\n     <use x=\"190.771484\" xlink:href=\"#DejaVuSans-105\"/>\n     <use x=\"218.554688\" xlink:href=\"#DejaVuSans-114\"/>\n     <use x=\"259.667969\" xlink:href=\"#DejaVuSans-116\"/>\n    </g>\n   </g>\n  </g>\n  <g id=\"axes_3\">\n   <g id=\"patch_12\">\n    <path d=\"M 304.000862 137.766401 \nL 419.449138 137.766401 \nL 419.449138 22.318125 \nL 304.000862 22.318125 \nz\n\" style=\"fill:#ffffff;\"/>\n   </g>\n   <g clip-path=\"url(#p99c45970fd)\">\n    <image height=\"116\" id=\"image44d56f32fe\" transform=\"scale(1 -1)translate(0 -116)\" width=\"116\" x=\"304.000862\" xlink:href=\"data:image/png;base64,\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\" y=\"-21.766401\"/>\n   </g>\n   <g id=\"matplotlib.axis_5\">\n    <g id=\"xtick_7\">\n     <g id=\"line2d_13\">\n      <g>\n       <use style=\"stroke:#000000;stroke-width:0.8;\" x=\"306.062438\" xlink:href=\"#md37ef46b91\" y=\"137.766401\"/>\n      </g>\n     </g>\n     <g id=\"text_15\">\n      <!-- 0 -->\n      <g transform=\"translate(302.881188 152.364838)scale(0.1 -0.1)\">\n       <use xlink:href=\"#DejaVuSans-48\"/>\n      </g>\n     </g>\n    </g>\n    <g id=\"xtick_8\">\n     <g id=\"line2d_14\">\n      <g>\n       <use style=\"stroke:#000000;stroke-width:0.8;\" x=\"347.293966\" xlink:href=\"#md37ef46b91\" y=\"137.766401\"/>\n      </g>\n     </g>\n     <g id=\"text_16\">\n      <!-- 10 -->\n      <g transform=\"translate(340.931466 152.364838)scale(0.1 -0.1)\">\n       <use xlink:href=\"#DejaVuSans-49\"/>\n       <use x=\"63.623047\" xlink:href=\"#DejaVuSans-48\"/>\n      </g>\n     </g>\n    </g>\n    <g id=\"xtick_9\">\n     <g id=\"line2d_15\">\n      <g>\n       <use style=\"stroke:#000000;stroke-width:0.8;\" x=\"388.525493\" xlink:href=\"#md37ef46b91\" y=\"137.766401\"/>\n      </g>\n     </g>\n     <g id=\"text_17\">\n      <!-- 20 -->\n      <g transform=\"translate(382.162993 152.364838)scale(0.1 -0.1)\">\n       <use xlink:href=\"#DejaVuSans-50\"/>\n       <use x=\"63.623047\" xlink:href=\"#DejaVuSans-48\"/>\n      </g>\n     </g>\n    </g>\n   </g>\n   <g id=\"matplotlib.axis_6\">\n    <g id=\"ytick_7\">\n     <g id=\"line2d_16\">\n      <g>\n       <use style=\"stroke:#000000;stroke-width:0.8;\" x=\"304.000862\" xlink:href=\"#mf167ba6225\" y=\"24.379701\"/>\n      </g>\n     </g>\n     <g id=\"text_18\">\n      <!-- 0 -->\n      <g transform=\"translate(290.638362 28.17892)scale(0.1 -0.1)\">\n       <use xlink:href=\"#DejaVuSans-48\"/>\n      </g>\n     </g>\n    </g>\n    <g id=\"ytick_8\">\n     <g id=\"line2d_17\">\n      <g>\n       <use style=\"stroke:#000000;stroke-width:0.8;\" x=\"304.000862\" xlink:href=\"#mf167ba6225\" y=\"65.611228\"/>\n      </g>\n     </g>\n     <g id=\"text_19\">\n      <!-- 10 -->\n      <g transform=\"translate(284.275862 69.410447)scale(0.1 -0.1)\">\n       <use xlink:href=\"#DejaVuSans-49\"/>\n       <use x=\"63.623047\" xlink:href=\"#DejaVuSans-48\"/>\n      </g>\n     </g>\n    </g>\n    <g id=\"ytick_9\">\n     <g id=\"line2d_18\">\n      <g>\n       <use style=\"stroke:#000000;stroke-width:0.8;\" x=\"304.000862\" xlink:href=\"#mf167ba6225\" y=\"106.842756\"/>\n      </g>\n     </g>\n     <g id=\"text_20\">\n      <!-- 20 -->\n      <g transform=\"translate(284.275862 110.641974)scale(0.1 -0.1)\">\n       <use xlink:href=\"#DejaVuSans-50\"/>\n       <use x=\"63.623047\" xlink:href=\"#DejaVuSans-48\"/>\n      </g>\n     </g>\n    </g>\n   </g>\n   <g id=\"patch_13\">\n    <path d=\"M 304.000862 137.766401 \nL 304.000862 22.318125 \n\" style=\"fill:none;stroke:#000000;stroke-linecap:square;stroke-linejoin:miter;stroke-width:0.8;\"/>\n   </g>\n   <g id=\"patch_14\">\n    <path d=\"M 419.449138 137.766401 \nL 419.449138 22.318125 \n\" style=\"fill:none;stroke:#000000;stroke-linecap:square;stroke-linejoin:miter;stroke-width:0.8;\"/>\n   </g>\n   <g id=\"patch_15\">\n    <path d=\"M 304.000862 137.766401 \nL 419.449138 137.766401 \n\" style=\"fill:none;stroke:#000000;stroke-linecap:square;stroke-linejoin:miter;stroke-width:0.8;\"/>\n   </g>\n   <g id=\"patch_16\">\n    <path d=\"M 304.000862 22.318125 \nL 419.449138 22.318125 \n\" style=\"fill:none;stroke:#000000;stroke-linecap:square;stroke-linejoin:miter;stroke-width:0.8;\"/>\n   </g>\n   <g id=\"text_21\">\n    <!-- t-shirt -->\n    <g transform=\"translate(343.794375 16.318125)scale(0.12 -0.12)\">\n     <use xlink:href=\"#DejaVuSans-116\"/>\n     <use x=\"39.208984\" xlink:href=\"#DejaVuSans-45\"/>\n     <use x=\"75.292969\" xlink:href=\"#DejaVuSans-115\"/>\n     <use x=\"127.392578\" xlink:href=\"#DejaVuSans-104\"/>\n     <use x=\"190.771484\" xlink:href=\"#DejaVuSans-105\"/>\n     <use x=\"218.554688\" xlink:href=\"#DejaVuSans-114\"/>\n     <use x=\"259.667969\" xlink:href=\"#DejaVuSans-116\"/>\n    </g>\n   </g>\n  </g>\n  <g id=\"axes_4\">\n   <g id=\"patch_17\">\n    <path d=\"M 442.538793 137.766401 \nL 557.987069 137.766401 \nL 557.987069 22.318125 \nL 442.538793 22.318125 \nz\n\" style=\"fill:#ffffff;\"/>\n   </g>\n   <g clip-path=\"url(#p3fd2fb20b5)\">\n    <image height=\"116\" id=\"image1fae11f163\" transform=\"scale(1 -1)translate(0 -116)\" width=\"116\" x=\"442.538793\" xlink:href=\"data:image/png;base64,\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\" y=\"-21.766401\"/>\n   </g>\n   <g id=\"matplotlib.axis_7\">\n    <g id=\"xtick_10\">\n     <g id=\"line2d_19\">\n      <g>\n       <use style=\"stroke:#000000;stroke-width:0.8;\" x=\"444.600369\" xlink:href=\"#md37ef46b91\" y=\"137.766401\"/>\n      </g>\n     </g>\n     <g id=\"text_22\">\n      <!-- 0 -->\n      <g transform=\"translate(441.419119 152.364838)scale(0.1 -0.1)\">\n       <use xlink:href=\"#DejaVuSans-48\"/>\n      </g>\n     </g>\n    </g>\n    <g id=\"xtick_11\">\n     <g id=\"line2d_20\">\n      <g>\n       <use style=\"stroke:#000000;stroke-width:0.8;\" x=\"485.831897\" xlink:href=\"#md37ef46b91\" y=\"137.766401\"/>\n      </g>\n     </g>\n     <g id=\"text_23\">\n      <!-- 10 -->\n      <g transform=\"translate(479.469397 152.364838)scale(0.1 -0.1)\">\n       <use xlink:href=\"#DejaVuSans-49\"/>\n       <use x=\"63.623047\" xlink:href=\"#DejaVuSans-48\"/>\n      </g>\n     </g>\n    </g>\n    <g id=\"xtick_12\">\n     <g id=\"line2d_21\">\n      <g>\n       <use style=\"stroke:#000000;stroke-width:0.8;\" x=\"527.063424\" xlink:href=\"#md37ef46b91\" y=\"137.766401\"/>\n      </g>\n     </g>\n     <g id=\"text_24\">\n      <!-- 20 -->\n      <g transform=\"translate(520.700924 152.364838)scale(0.1 -0.1)\">\n       <use xlink:href=\"#DejaVuSans-50\"/>\n       <use x=\"63.623047\" xlink:href=\"#DejaVuSans-48\"/>\n      </g>\n     </g>\n    </g>\n   </g>\n   <g id=\"matplotlib.axis_8\">\n    <g id=\"ytick_10\">\n     <g id=\"line2d_22\">\n      <g>\n       <use style=\"stroke:#000000;stroke-width:0.8;\" x=\"442.538793\" xlink:href=\"#mf167ba6225\" y=\"24.379701\"/>\n      </g>\n     </g>\n     <g id=\"text_25\">\n      <!-- 0 -->\n      <g transform=\"translate(429.176293 28.17892)scale(0.1 -0.1)\">\n       <use xlink:href=\"#DejaVuSans-48\"/>\n      </g>\n     </g>\n    </g>\n    <g id=\"ytick_11\">\n     <g id=\"line2d_23\">\n      <g>\n       <use style=\"stroke:#000000;stroke-width:0.8;\" x=\"442.538793\" xlink:href=\"#mf167ba6225\" y=\"65.611228\"/>\n      </g>\n     </g>\n     <g id=\"text_26\">\n      <!-- 10 -->\n      <g transform=\"translate(422.813793 69.410447)scale(0.1 -0.1)\">\n       <use xlink:href=\"#DejaVuSans-49\"/>\n       <use x=\"63.623047\" xlink:href=\"#DejaVuSans-48\"/>\n      </g>\n     </g>\n    </g>\n    <g id=\"ytick_12\">\n     <g id=\"line2d_24\">\n      <g>\n       <use style=\"stroke:#000000;stroke-width:0.8;\" x=\"442.538793\" xlink:href=\"#mf167ba6225\" y=\"106.842756\"/>\n      </g>\n     </g>\n     <g id=\"text_27\">\n      <!-- 20 -->\n      <g transform=\"translate(422.813793 110.641974)scale(0.1 -0.1)\">\n       <use xlink:href=\"#DejaVuSans-50\"/>\n       <use x=\"63.623047\" xlink:href=\"#DejaVuSans-48\"/>\n      </g>\n     </g>\n    </g>\n   </g>\n   <g id=\"patch_18\">\n    <path d=\"M 442.538793 137.766401 \nL 442.538793 22.318125 \n\" style=\"fill:none;stroke:#000000;stroke-linecap:square;stroke-linejoin:miter;stroke-width:0.8;\"/>\n   </g>\n   <g id=\"patch_19\">\n    <path d=\"M 557.987069 137.766401 \nL 557.987069 22.318125 \n\" style=\"fill:none;stroke:#000000;stroke-linecap:square;stroke-linejoin:miter;stroke-width:0.8;\"/>\n   </g>\n   <g id=\"patch_20\">\n    <path d=\"M 442.538793 137.766401 \nL 557.987069 137.766401 \n\" style=\"fill:none;stroke:#000000;stroke-linecap:square;stroke-linejoin:miter;stroke-width:0.8;\"/>\n   </g>\n   <g id=\"patch_21\">\n    <path d=\"M 442.538793 22.318125 \nL 557.987069 22.318125 \n\" style=\"fill:none;stroke:#000000;stroke-linecap:square;stroke-linejoin:miter;stroke-width:0.8;\"/>\n   </g>\n   <g id=\"text_28\">\n    <!-- dress -->\n    <defs>\n     <path d=\"M 45.40625 46.390625 \nL 45.40625 75.984375 \nL 54.390625 75.984375 \nL 54.390625 0 \nL 45.40625 0 \nL 45.40625 8.203125 \nQ 42.578125 3.328125 38.25 0.953125 \nQ 33.9375 -1.421875 27.875 -1.421875 \nQ 17.96875 -1.421875 11.734375 6.484375 \nQ 5.515625 14.40625 5.515625 27.296875 \nQ 5.515625 40.1875 11.734375 48.09375 \nQ 17.96875 56 27.875 56 \nQ 33.9375 56 38.25 53.625 \nQ 42.578125 51.265625 45.40625 46.390625 \nz\nM 14.796875 27.296875 \nQ 14.796875 17.390625 18.875 11.75 \nQ 22.953125 6.109375 30.078125 6.109375 \nQ 37.203125 6.109375 41.296875 11.75 \nQ 45.40625 17.390625 45.40625 27.296875 \nQ 45.40625 37.203125 41.296875 42.84375 \nQ 37.203125 48.484375 30.078125 48.484375 \nQ 22.953125 48.484375 18.875 42.84375 \nQ 14.796875 37.203125 14.796875 27.296875 \nz\n\" id=\"DejaVuSans-100\"/>\n     <path d=\"M 56.203125 29.59375 \nL 56.203125 25.203125 \nL 14.890625 25.203125 \nQ 15.484375 15.921875 20.484375 11.0625 \nQ 25.484375 6.203125 34.421875 6.203125 \nQ 39.59375 6.203125 44.453125 7.46875 \nQ 49.3125 8.734375 54.109375 11.28125 \nL 54.109375 2.78125 \nQ 49.265625 0.734375 44.1875 -0.34375 \nQ 39.109375 -1.421875 33.890625 -1.421875 \nQ 20.796875 -1.421875 13.15625 6.1875 \nQ 5.515625 13.8125 5.515625 26.8125 \nQ 5.515625 40.234375 12.765625 48.109375 \nQ 20.015625 56 32.328125 56 \nQ 43.359375 56 49.78125 48.890625 \nQ 56.203125 41.796875 56.203125 29.59375 \nz\nM 47.21875 32.234375 \nQ 47.125 39.59375 43.09375 43.984375 \nQ 39.0625 48.390625 32.421875 48.390625 \nQ 24.90625 48.390625 20.390625 44.140625 \nQ 15.875 39.890625 15.1875 32.171875 \nz\n\" id=\"DejaVuSans-101\"/>\n    </defs>\n    <g transform=\"translate(484.179181 16.318125)scale(0.12 -0.12)\">\n     <use xlink:href=\"#DejaVuSans-100\"/>\n     <use x=\"63.476562\" xlink:href=\"#DejaVuSans-114\"/>\n     <use x=\"102.339844\" xlink:href=\"#DejaVuSans-101\"/>\n     <use x=\"163.863281\" xlink:href=\"#DejaVuSans-115\"/>\n     <use x=\"215.962891\" xlink:href=\"#DejaVuSans-115\"/>\n    </g>\n   </g>\n  </g>\n  <g id=\"axes_5\">\n   <g id=\"patch_22\">\n    <path d=\"M 581.076724 137.766401 \nL 696.525 137.766401 \nL 696.525 22.318125 \nL 581.076724 22.318125 \nz\n\" style=\"fill:#ffffff;\"/>\n   </g>\n   <g clip-path=\"url(#pf1f9d9c21e)\">\n    <image height=\"116\" id=\"imagea39af7a5b6\" transform=\"scale(1 -1)translate(0 -116)\" width=\"116\" x=\"581.076724\" xlink:href=\"data:image/png;base64,\niVBORw0KGgoAAAANSUhEUgAAAHQAAAB0CAYAAABUmhYnAAAABHNCSVQICAgIfAhkiAAABttJREFUeJztnU1oHGUYx5+ZyWY3+5FskzZpGrXE2BgKBdu0IrV6sRYp9dSiBw9eBO1F1IJHTx6UHuzBgx8gehCUEj0ISgWl9kOtsaLUJJo2aSQxTZombNxku7uTmfH8f95htwE3Mzw+v9t/MjPvhP++/GfeT+ugdSygmFN+8kHj2OLOJtAtj9wC3fliFfTa5BTo8Xf3gc5sKYHODuWMMts+/rHus0aNHfUDKP8taqgw1FBhNNU/pfEEDz8A+uvTH4K+7l4wrlnym0EPJlHvfew46A6WoZcOnwLd6WSwzMEVo8zek1nQ+19+AXTu0+gzVmuoMNRQYaihwohFhpqZifk1XOkxrin5SdCDyZug0ze9mmWev90NeqB5HvSE22mWGSyC/v6td0AfvvIUaG90vOYzNAKtocJQQ4WhhgojkgydfXU/6An2nTnhbgKdt7GdlYjIDWo/emBbNf++LzULuuDj/VrtsnHN9FoedMrCTB17pRV0/3M1H6EhaA0VhhoqDDVUGGqoMCJ5Keo8NAO63cbf1VX2O0tYa8Y95t02dgRfUKpZvEeanZ222EuTjWUshbRLpCwX9GbHAb1v4DroZfMWDUdrqDDUUGGoocKIJEMnp7Dhe7IPH+Nc8X7Q/S1zxj2yDn74n2PtAJ+8fhL0ldewzGtuCvR4tQt00W8xykxYGKxbnAnQw+O9oPtZrm8EWkOFoYYKQw0VRiQZ2vMVfr8NHsYBXmecCmieXURENvmg59bwu7THwU5ynolLHg744mTsinHsuwJm++Np7MDOjuL/EQVaQ4WhhgpDDRVGJBnadnEKtBdgHqZZhnpB7c5qIrPDe8HDzCx42JrLczll4eSmlI3ttkREFyb7QJe24rtAx6h5zUajNVQYaqgw1FBhRJKha3M4qPlyFfMsxwZolQPz+45/J/KctS3MZd6X6QaYf76Fv+2Ch5OXiIje2PsZ6C4Hy2g5O4L3NO7QeLSGCkMNFYYaKoxYTFYaKuACFrvTf4FeDGl3dVhCeYSZWA4SeD7LVJ6hnIqfMI5N++2gz7Ay/JI5IHyj0RoqDDVUGGqoMGKRoad/GwT96IE/QM+yyUtERJ5T+7dYDsnAWlRZW/CtNTO3+5L4/fzm2CHQ3TS2rjIbgdZQYaihwlBDhaGGCiMWL0Wbz2Lju3MAFwgNawSo1+nts98qH1TG4Q0JNpmLlD6Tw5VWPniv9kCzKNAaKgw1VBhqqDBikaHtV/4B/UQaO68nquaKJPUykjfO8/M5PKdzjlnmxQreI/nlcM17RoHWUGGoocJQQ4URiwwNLuPgqmX/NuiwyUpewDKUdWBXWSby8z3iGr9r+UA1IqKfS/cax+KG1lBhqKHCUEOFEYsM5fhB/c2e+HcjHwTG4ZnJ4W25W5qKxjmf39jNjswY50SN1lBhqKHCUEOFEcsM9UL6Is1z2Hck+87kE4D5wOwKa+stedgnmw5ZNOPqDC5etUMzVGk0aqgw1FBhxDJD3Tv4DuXwTOUDrfl3K9e2hWXyCcJERPZC9AtL1UNrqDDUUGGoocKIZYYm+AL/d4A5Abh2/yfvP/XZON+wtmEvE8UyGOtDa6gw1FBhqKHCUEOFEcuXok22uSMDh78E1f07e8/iA8+SbGcl3thPRGTnol9tsx5aQ4WhhgpDDRVGLDK0qXc7O/ILqLAJvyWfTRJmneJJtiI1z1Q+manCtmwu+UmjzHzbqnEsbmgNFYYaKgw1VBixyFB3G64UNrRqrhzG4QOh+Upgy2xXCD75iOsblAcdtitEKmHuNBw3tIYKQw0VhhoqjFhk6MpduNtu3saVoecDzDcisy027+A1z7biqtiTLmbicPke0P0p3EW4ne1uSGR2gscRraHCUEOFoYYKIyYZir8rvmtSWFtu0cPcPZLBiUNHnj4Oeu4E7j74zd73QZ8uDoD2Q/pDe7LL+AzGGdGjNVQYaqgw1FBhxCJDi/34jcj7KvmgaCKiu5sXQbexcUj2hV/xghM7QXY6uPsgz8zVkB0Rt6eXQP9unBE9WkOFoYYKQw0VRiwytGc75uEqG88TNvm2w8bxPfU2FXhoG7btjrt4PV8ko+iZY4PnK63sSKFmmVGgNVQYaqgw1FBhqKHCiMVL0Y78Auhm1nm9p2XKuGargy8x58v4wnL1oz2gT3W9DTrBBmbvSk2DHq30GGXuyv0N+lvKGOdEjdZQYaihwlBDhRGLDK14+BiXVvtAjxS7jWtWnt8M2hv5E/QONuHpJdoP2rmvF/TRL34AvTVhNhr8VMRdIZw8NoB4BewAjwKtocJQQ4WhhgrDOmgdW//Sl/8DeMYSEXnXrkfwJOtDa6gw1FBhqKHC+Bd7q8OpjFJXSAAAAABJRU5ErkJggg==\" y=\"-21.766401\"/>\n   </g>\n   <g id=\"matplotlib.axis_9\">\n    <g id=\"xtick_13\">\n     <g id=\"line2d_25\">\n      <g>\n       <use style=\"stroke:#000000;stroke-width:0.8;\" x=\"583.1383\" xlink:href=\"#md37ef46b91\" y=\"137.766401\"/>\n      </g>\n     </g>\n     <g id=\"text_29\">\n      <!-- 0 -->\n      <g transform=\"translate(579.95705 152.364838)scale(0.1 -0.1)\">\n       <use xlink:href=\"#DejaVuSans-48\"/>\n      </g>\n     </g>\n    </g>\n    <g id=\"xtick_14\">\n     <g id=\"line2d_26\">\n      <g>\n       <use style=\"stroke:#000000;stroke-width:0.8;\" x=\"624.369828\" xlink:href=\"#md37ef46b91\" y=\"137.766401\"/>\n      </g>\n     </g>\n     <g id=\"text_30\">\n      <!-- 10 -->\n      <g transform=\"translate(618.007328 152.364838)scale(0.1 -0.1)\">\n       <use xlink:href=\"#DejaVuSans-49\"/>\n       <use x=\"63.623047\" xlink:href=\"#DejaVuSans-48\"/>\n      </g>\n     </g>\n    </g>\n    <g id=\"xtick_15\">\n     <g id=\"line2d_27\">\n      <g>\n       <use style=\"stroke:#000000;stroke-width:0.8;\" x=\"665.601355\" xlink:href=\"#md37ef46b91\" y=\"137.766401\"/>\n      </g>\n     </g>\n     <g id=\"text_31\">\n      <!-- 20 -->\n      <g transform=\"translate(659.238855 152.364838)scale(0.1 -0.1)\">\n       <use xlink:href=\"#DejaVuSans-50\"/>\n       <use x=\"63.623047\" xlink:href=\"#DejaVuSans-48\"/>\n      </g>\n     </g>\n    </g>\n   </g>\n   <g id=\"matplotlib.axis_10\">\n    <g id=\"ytick_13\">\n     <g id=\"line2d_28\">\n      <g>\n       <use style=\"stroke:#000000;stroke-width:0.8;\" x=\"581.076724\" xlink:href=\"#mf167ba6225\" y=\"24.379701\"/>\n      </g>\n     </g>\n     <g id=\"text_32\">\n      <!-- 0 -->\n      <g transform=\"translate(567.714224 28.17892)scale(0.1 -0.1)\">\n       <use xlink:href=\"#DejaVuSans-48\"/>\n      </g>\n     </g>\n    </g>\n    <g id=\"ytick_14\">\n     <g id=\"line2d_29\">\n      <g>\n       <use style=\"stroke:#000000;stroke-width:0.8;\" x=\"581.076724\" xlink:href=\"#mf167ba6225\" y=\"65.611228\"/>\n      </g>\n     </g>\n     <g id=\"text_33\">\n      <!-- 10 -->\n      <g transform=\"translate(561.351724 69.410447)scale(0.1 -0.1)\">\n       <use xlink:href=\"#DejaVuSans-49\"/>\n       <use x=\"63.623047\" xlink:href=\"#DejaVuSans-48\"/>\n      </g>\n     </g>\n    </g>\n    <g id=\"ytick_15\">\n     <g id=\"line2d_30\">\n      <g>\n       <use style=\"stroke:#000000;stroke-width:0.8;\" x=\"581.076724\" xlink:href=\"#mf167ba6225\" y=\"106.842756\"/>\n      </g>\n     </g>\n     <g id=\"text_34\">\n      <!-- 20 -->\n      <g transform=\"translate(561.351724 110.641974)scale(0.1 -0.1)\">\n       <use xlink:href=\"#DejaVuSans-50\"/>\n       <use x=\"63.623047\" xlink:href=\"#DejaVuSans-48\"/>\n      </g>\n     </g>\n    </g>\n   </g>\n   <g id=\"patch_23\">\n    <path d=\"M 581.076724 137.766401 \nL 581.076724 22.318125 \n\" style=\"fill:none;stroke:#000000;stroke-linecap:square;stroke-linejoin:miter;stroke-width:0.8;\"/>\n   </g>\n   <g id=\"patch_24\">\n    <path d=\"M 696.525 137.766401 \nL 696.525 22.318125 \n\" style=\"fill:none;stroke:#000000;stroke-linecap:square;stroke-linejoin:miter;stroke-width:0.8;\"/>\n   </g>\n   <g id=\"patch_25\">\n    <path d=\"M 581.076724 137.766401 \nL 696.525 137.766401 \n\" style=\"fill:none;stroke:#000000;stroke-linecap:square;stroke-linejoin:miter;stroke-width:0.8;\"/>\n   </g>\n   <g id=\"patch_26\">\n    <path d=\"M 581.076724 22.318125 \nL 696.525 22.318125 \n\" style=\"fill:none;stroke:#000000;stroke-linecap:square;stroke-linejoin:miter;stroke-width:0.8;\"/>\n   </g>\n   <g id=\"text_35\">\n    <!-- t-shirt -->\n    <g transform=\"translate(620.870237 16.318125)scale(0.12 -0.12)\">\n     <use xlink:href=\"#DejaVuSans-116\"/>\n     <use x=\"39.208984\" xlink:href=\"#DejaVuSans-45\"/>\n     <use x=\"75.292969\" xlink:href=\"#DejaVuSans-115\"/>\n     <use x=\"127.392578\" xlink:href=\"#DejaVuSans-104\"/>\n     <use x=\"190.771484\" xlink:href=\"#DejaVuSans-105\"/>\n     <use x=\"218.554688\" xlink:href=\"#DejaVuSans-114\"/>\n     <use x=\"259.667969\" xlink:href=\"#DejaVuSans-116\"/>\n    </g>\n   </g>\n  </g>\n </g>\n <defs>\n  <clipPath id=\"paa80a4cf92\">\n   <rect height=\"115.448276\" width=\"115.448276\" x=\"26.925\" y=\"22.318125\"/>\n  </clipPath>\n  <clipPath id=\"p354f0b4bd3\">\n   <rect height=\"115.448276\" width=\"115.448276\" x=\"165.462931\" y=\"22.318125\"/>\n  </clipPath>\n  <clipPath id=\"p99c45970fd\">\n   <rect height=\"115.448276\" width=\"115.448276\" x=\"304.000862\" y=\"22.318125\"/>\n  </clipPath>\n  <clipPath id=\"p3fd2fb20b5\">\n   <rect height=\"115.448276\" width=\"115.448276\" x=\"442.538793\" y=\"22.318125\"/>\n  </clipPath>\n  <clipPath id=\"pf1f9d9c21e\">\n   <rect height=\"115.448276\" width=\"115.448276\" x=\"581.076724\" y=\"22.318125\"/>\n  </clipPath>\n </defs>\n</svg>\n"
          },
          "metadata": {
            "needs_background": "light"
          }
        }
      ]
    },
    {
      "cell_type": "markdown",
      "source": [
        "读取数据"
      ],
      "metadata": {
        "id": "mF4wYhR2thOK"
      }
    },
    {
      "cell_type": "code",
      "source": [
        "batch_size = 256\n",
        "if sys.platform.startswith('win'):\n",
        "  num_workers = 0\n",
        "else:\n",
        "  num_workers = 2\n",
        "train_iter = torch.utils.data.DataLoader(mnist_train,batch_size,shuffle=True,num_workers=num_workers)\n",
        "test_iter = torch.utils.data.DataLoader(mnist_test,batch_size,shuffle=True,num_workers=num_workers)"
      ],
      "metadata": {
        "id": "Jq4aH3j9txKN"
      },
      "execution_count": 7,
      "outputs": []
    },
    {
      "cell_type": "markdown",
      "source": [
        "初始化模型参数"
      ],
      "metadata": {
        "id": "Iy37KH5NwWvN"
      }
    },
    {
      "cell_type": "code",
      "source": [
        "num_inputs = 784\n",
        "num_outputs = 10\n",
        "num_hiddens = 256\n",
        "w1 = torch.tensor(np.random.normal(0,0.01,(num_inputs,num_hiddens)),dtype=torch.float)\n",
        "b1 = torch.zeros(num_hiddens,dtype=torch.float)\n",
        "w2 = torch.tensor(np.random.normal(0,0.01,(num_hiddens,num_outputs)),dtype=torch.float)\n",
        "b2 = torch.zeros(num_outputs,dtype=torch.float)\n",
        "params = [w1,b1,w2,b2]\n",
        "for param in params:\n",
        "  param.requires_grad_(requires_grad=True)"
      ],
      "metadata": {
        "id": "6COpo31gwZDw"
      },
      "execution_count": 8,
      "outputs": []
    },
    {
      "cell_type": "markdown",
      "source": [
        "定义激活函数"
      ],
      "metadata": {
        "id": "35l8IOQ0xpMg"
      }
    },
    {
      "cell_type": "code",
      "source": [
        "def relu(x):\n",
        "  return torch.max(input=x,other=torch.tensor(0.0))"
      ],
      "metadata": {
        "id": "FGH1rwN5xoZl"
      },
      "execution_count": 9,
      "outputs": []
    },
    {
      "cell_type": "markdown",
      "source": [
        "定义函数"
      ],
      "metadata": {
        "id": "S7EP3yNUvPtZ"
      }
    },
    {
      "cell_type": "code",
      "source": [
        "def net(x):\n",
        "  X = x.view((-1,num_inputs))\n",
        "  H = relu(torch.matmul(X,w1)+b1)\n",
        "  return torch.matmul(H,w2)+b2"
      ],
      "metadata": {
        "id": "Chu05-usvOhg"
      },
      "execution_count": 10,
      "outputs": []
    },
    {
      "cell_type": "markdown",
      "source": [
        "定义损失函数"
      ],
      "metadata": {
        "id": "ErmiJsC33lr9"
      }
    },
    {
      "cell_type": "code",
      "source": [
        "loss = torch.nn.CrossEntropyLoss() "
      ],
      "metadata": {
        "id": "4KtZLHfW3lMC"
      },
      "execution_count": 11,
      "outputs": []
    },
    {
      "cell_type": "markdown",
      "source": [
        "定义优化算法"
      ],
      "metadata": {
        "id": "18R3LvMs38tt"
      }
    },
    {
      "cell_type": "code",
      "source": [
        "def sgd(params,batch_size,lr):\n",
        "  for param in params:\n",
        "    param.data -=lr*param.grad/batch_size"
      ],
      "metadata": {
        "id": "Y2ZT5_4b4AQj"
      },
      "execution_count": 12,
      "outputs": []
    },
    {
      "cell_type": "markdown",
      "source": [
        "训练模型"
      ],
      "metadata": {
        "id": "1dCH_1bi4o0u"
      }
    },
    {
      "cell_type": "code",
      "source": [
        "def evaluate_accuracy(data_iter,net):\n",
        "  acc_sum=0.0\n",
        "  n = 0\n",
        "  for X,y in data_iter:\n",
        "    acc_sum += (net(X).argmax(dim=1)==y).float().sum().item()\n",
        "    n = y.shape[0]\n",
        "    return acc_sum/n"
      ],
      "metadata": {
        "id": "5rSR17b58Rxg"
      },
      "execution_count": 13,
      "outputs": []
    },
    {
      "cell_type": "code",
      "source": [
        "num_epochs = 5\n",
        "lr = 100.0\n",
        "def train_ch3(net,train_iter,test_iter,loss,num_epochs,batch_size,lr=None,params=None,optimizer=None):\n",
        "  for epoch in range(num_epochs):\n",
        "    train_l_sum=0.0\n",
        "    train_acc_sum=0.0\n",
        "    n = 0\n",
        "    for X,y in train_iter:\n",
        "      y_hat = net(X)\n",
        "      l = loss(y_hat,y).sum()\n",
        "\n",
        "      if optimizer is not None:\n",
        "        optimizer.zero_grad()\n",
        "      elif params is not None and params[0].grad is not None:\n",
        "        for param in params:\n",
        "          param.grad.data.zero_()\n",
        "\n",
        "      l.backward()\n",
        "      if optimizer is None:\n",
        "        sgd(params,batch_size,lr)\n",
        "      else:\n",
        "        optimizer.step()\n",
        "      train_l_sum += l.item()\n",
        "      train_acc_sum = (net(X).argmax(dim=1)==y).float().sum().item()\n",
        "      n += y.shape[0]\n",
        "      test_acc_sum = evaluate_accuracy(test_iter,net)\n",
        "    print('epoch %d,loss %.4f,trainacc %.3f,test acc %.3f'%(epoch+1,train_l_sum/n,train_acc_sum/n,test_acc_sum))\n"
      ],
      "metadata": {
        "id": "TOXOsX2H4ooO"
      },
      "execution_count": 16,
      "outputs": []
    },
    {
      "cell_type": "code",
      "source": [
        "train_ch3(net,train_iter,test_iter,loss,num_epochs,batch_size,lr,params)"
      ],
      "metadata": {
        "colab": {
          "base_uri": "https://localhost:8080/"
        },
        "id": "PYZiSzci-YJs",
        "outputId": "a24bc458-78fc-4022-c2e4-0275908ddbac"
      },
      "execution_count": 17,
      "outputs": [
        {
          "output_type": "stream",
          "name": "stdout",
          "text": [
            "epoch 1,loss 0.0014,trainacc 0.002,test acc 0.887\n",
            "epoch 2,loss 0.0013,trainacc 0.002,test acc 0.879\n",
            "epoch 3,loss 0.0013,trainacc 0.002,test acc 0.848\n",
            "epoch 4,loss 0.0012,trainacc 0.002,test acc 0.840\n",
            "epoch 5,loss 0.0012,trainacc 0.001,test acc 0.855\n"
          ]
        }
      ]
    },
    {
      "cell_type": "code",
      "source": [
        "x,y = iter(test_iter).next()\n",
        "true_labels = get_fashion_mnist_labels(y.numpy())\n",
        "pred_labels = get_fashion_mnist_labels(net(x).argmax(dim=1).numpy())\n",
        "title = [true+'\\n'+pred for true,pred in zip(true_labels,pred_labels)]\n",
        "show_fashion_mnist(x[0:9],title[0:9])"
      ],
      "metadata": {
        "colab": {
          "base_uri": "https://localhost:8080/",
          "height": 184
        },
        "id": "KUTIf3jaUUnM",
        "outputId": "71ed98cc-ff05-44dc-ea2e-a90f6c09abf3"
      },
      "execution_count": 18,
      "outputs": [
        {
          "output_type": "display_data",
          "data": {
            "text/plain": [
              "<Figure size 864x864 with 9 Axes>"
            ],
            "image/svg+xml": "<?xml version=\"1.0\" encoding=\"utf-8\" standalone=\"no\"?>\n<!DOCTYPE svg PUBLIC \"-//W3C//DTD SVG 1.1//EN\"\n  \"http://www.w3.org/Graphics/SVG/1.1/DTD/svg11.dtd\">\n<!-- Created with matplotlib (https://matplotlib.org/) -->\n<svg height=\"122.803436pt\" version=\"1.1\" viewBox=\"0 0 703.725 122.803436\" width=\"703.725pt\" xmlns=\"http://www.w3.org/2000/svg\" xmlns:xlink=\"http://www.w3.org/1999/xlink\">\n <defs>\n  <style type=\"text/css\">\n*{stroke-linecap:butt;stroke-linejoin:round;}\n  </style>\n </defs>\n <g id=\"figure_1\">\n  <g id=\"patch_1\">\n   <path d=\"M 0 122.803436 \nL 703.725 122.803436 \nL 703.725 -0 \nL 0 -0 \nz\n\" style=\"fill:none;\"/>\n  </g>\n  <g id=\"axes_1\">\n   <g id=\"patch_2\">\n    <path d=\"M 26.925 98.925311 \nL 90.094811 98.925311 \nL 90.094811 35.7555 \nL 26.925 35.7555 \nz\n\" style=\"fill:#ffffff;\"/>\n   </g>\n   <g clip-path=\"url(#p91363310c2)\">\n    <image height=\"64\" id=\"imagebcfe2f81dd\" transform=\"scale(1 -1)translate(0 -64)\" width=\"64\" x=\"26.925\" xlink:href=\"data:image/png;base64,\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\" y=\"-34.925311\"/>\n   </g>\n   <g id=\"matplotlib.axis_1\">\n    <g id=\"xtick_1\">\n     <g id=\"line2d_1\">\n      <defs>\n       <path d=\"M 0 0 \nL 0 3.5 \n\" id=\"m09f24a2416\" style=\"stroke:#000000;stroke-width:0.8;\"/>\n      </defs>\n      <g>\n       <use style=\"stroke:#000000;stroke-width:0.8;\" x=\"28.053032\" xlink:href=\"#m09f24a2416\" y=\"98.925311\"/>\n      </g>\n     </g>\n     <g id=\"text_1\">\n      <!-- 0 -->\n      <defs>\n       <path d=\"M 31.78125 66.40625 \nQ 24.171875 66.40625 20.328125 58.90625 \nQ 16.5 51.421875 16.5 36.375 \nQ 16.5 21.390625 20.328125 13.890625 \nQ 24.171875 6.390625 31.78125 6.390625 \nQ 39.453125 6.390625 43.28125 13.890625 \nQ 47.125 21.390625 47.125 36.375 \nQ 47.125 51.421875 43.28125 58.90625 \nQ 39.453125 66.40625 31.78125 66.40625 \nz\nM 31.78125 74.21875 \nQ 44.046875 74.21875 50.515625 64.515625 \nQ 56.984375 54.828125 56.984375 36.375 \nQ 56.984375 17.96875 50.515625 8.265625 \nQ 44.046875 -1.421875 31.78125 -1.421875 \nQ 19.53125 -1.421875 13.0625 8.265625 \nQ 6.59375 17.96875 6.59375 36.375 \nQ 6.59375 54.828125 13.0625 64.515625 \nQ 19.53125 74.21875 31.78125 74.21875 \nz\n\" id=\"DejaVuSans-48\"/>\n      </defs>\n      <g transform=\"translate(24.871782 113.523749)scale(0.1 -0.1)\">\n       <use xlink:href=\"#DejaVuSans-48\"/>\n      </g>\n     </g>\n    </g>\n    <g id=\"xtick_2\">\n     <g id=\"line2d_2\">\n      <g>\n       <use style=\"stroke:#000000;stroke-width:0.8;\" x=\"73.174326\" xlink:href=\"#m09f24a2416\" y=\"98.925311\"/>\n      </g>\n     </g>\n     <g id=\"text_2\">\n      <!-- 20 -->\n      <defs>\n       <path d=\"M 19.1875 8.296875 \nL 53.609375 8.296875 \nL 53.609375 0 \nL 7.328125 0 \nL 7.328125 8.296875 \nQ 12.9375 14.109375 22.625 23.890625 \nQ 32.328125 33.6875 34.8125 36.53125 \nQ 39.546875 41.84375 41.421875 45.53125 \nQ 43.3125 49.21875 43.3125 52.78125 \nQ 43.3125 58.59375 39.234375 62.25 \nQ 35.15625 65.921875 28.609375 65.921875 \nQ 23.96875 65.921875 18.8125 64.3125 \nQ 13.671875 62.703125 7.8125 59.421875 \nL 7.8125 69.390625 \nQ 13.765625 71.78125 18.9375 73 \nQ 24.125 74.21875 28.421875 74.21875 \nQ 39.75 74.21875 46.484375 68.546875 \nQ 53.21875 62.890625 53.21875 53.421875 \nQ 53.21875 48.921875 51.53125 44.890625 \nQ 49.859375 40.875 45.40625 35.40625 \nQ 44.1875 33.984375 37.640625 27.21875 \nQ 31.109375 20.453125 19.1875 8.296875 \nz\n\" id=\"DejaVuSans-50\"/>\n      </defs>\n      <g transform=\"translate(66.811826 113.523749)scale(0.1 -0.1)\">\n       <use xlink:href=\"#DejaVuSans-50\"/>\n       <use x=\"63.623047\" xlink:href=\"#DejaVuSans-48\"/>\n      </g>\n     </g>\n    </g>\n   </g>\n   <g id=\"matplotlib.axis_2\">\n    <g id=\"ytick_1\">\n     <g id=\"line2d_3\">\n      <defs>\n       <path d=\"M 0 0 \nL -3.5 0 \n\" id=\"m93576b6315\" style=\"stroke:#000000;stroke-width:0.8;\"/>\n      </defs>\n      <g>\n       <use style=\"stroke:#000000;stroke-width:0.8;\" x=\"26.925\" xlink:href=\"#m93576b6315\" y=\"36.883532\"/>\n      </g>\n     </g>\n     <g id=\"text_3\">\n      <!-- 0 -->\n      <g transform=\"translate(13.5625 40.682751)scale(0.1 -0.1)\">\n       <use xlink:href=\"#DejaVuSans-48\"/>\n      </g>\n     </g>\n    </g>\n    <g id=\"ytick_2\">\n     <g id=\"line2d_4\">\n      <g>\n       <use style=\"stroke:#000000;stroke-width:0.8;\" x=\"26.925\" xlink:href=\"#m93576b6315\" y=\"59.444179\"/>\n      </g>\n     </g>\n     <g id=\"text_4\">\n      <!-- 10 -->\n      <defs>\n       <path d=\"M 12.40625 8.296875 \nL 28.515625 8.296875 \nL 28.515625 63.921875 \nL 10.984375 60.40625 \nL 10.984375 69.390625 \nL 28.421875 72.90625 \nL 38.28125 72.90625 \nL 38.28125 8.296875 \nL 54.390625 8.296875 \nL 54.390625 0 \nL 12.40625 0 \nz\n\" id=\"DejaVuSans-49\"/>\n      </defs>\n      <g transform=\"translate(7.2 63.243398)scale(0.1 -0.1)\">\n       <use xlink:href=\"#DejaVuSans-49\"/>\n       <use x=\"63.623047\" xlink:href=\"#DejaVuSans-48\"/>\n      </g>\n     </g>\n    </g>\n    <g id=\"ytick_3\">\n     <g id=\"line2d_5\">\n      <g>\n       <use style=\"stroke:#000000;stroke-width:0.8;\" x=\"26.925\" xlink:href=\"#m93576b6315\" y=\"82.004826\"/>\n      </g>\n     </g>\n     <g id=\"text_5\">\n      <!-- 20 -->\n      <g transform=\"translate(7.2 85.804045)scale(0.1 -0.1)\">\n       <use xlink:href=\"#DejaVuSans-50\"/>\n       <use x=\"63.623047\" xlink:href=\"#DejaVuSans-48\"/>\n      </g>\n     </g>\n    </g>\n   </g>\n   <g id=\"patch_3\">\n    <path d=\"M 26.925 98.925311 \nL 26.925 35.7555 \n\" style=\"fill:none;stroke:#000000;stroke-linecap:square;stroke-linejoin:miter;stroke-width:0.8;\"/>\n   </g>\n   <g id=\"patch_4\">\n    <path d=\"M 90.094811 98.925311 \nL 90.094811 35.7555 \n\" style=\"fill:none;stroke:#000000;stroke-linecap:square;stroke-linejoin:miter;stroke-width:0.8;\"/>\n   </g>\n   <g id=\"patch_5\">\n    <path d=\"M 26.925 98.925311 \nL 90.094811 98.925311 \n\" style=\"fill:none;stroke:#000000;stroke-linecap:square;stroke-linejoin:miter;stroke-width:0.8;\"/>\n   </g>\n   <g id=\"patch_6\">\n    <path d=\"M 26.925 35.7555 \nL 90.094811 35.7555 \n\" style=\"fill:none;stroke:#000000;stroke-linecap:square;stroke-linejoin:miter;stroke-width:0.8;\"/>\n   </g>\n   <g id=\"text_6\">\n    <!-- pullover -->\n    <defs>\n     <path d=\"M 18.109375 8.203125 \nL 18.109375 -20.796875 \nL 9.078125 -20.796875 \nL 9.078125 54.6875 \nL 18.109375 54.6875 \nL 18.109375 46.390625 \nQ 20.953125 51.265625 25.265625 53.625 \nQ 29.59375 56 35.59375 56 \nQ 45.5625 56 51.78125 48.09375 \nQ 58.015625 40.1875 58.015625 27.296875 \nQ 58.015625 14.40625 51.78125 6.484375 \nQ 45.5625 -1.421875 35.59375 -1.421875 \nQ 29.59375 -1.421875 25.265625 0.953125 \nQ 20.953125 3.328125 18.109375 8.203125 \nz\nM 48.6875 27.296875 \nQ 48.6875 37.203125 44.609375 42.84375 \nQ 40.53125 48.484375 33.40625 48.484375 \nQ 26.265625 48.484375 22.1875 42.84375 \nQ 18.109375 37.203125 18.109375 27.296875 \nQ 18.109375 17.390625 22.1875 11.75 \nQ 26.265625 6.109375 33.40625 6.109375 \nQ 40.53125 6.109375 44.609375 11.75 \nQ 48.6875 17.390625 48.6875 27.296875 \nz\n\" id=\"DejaVuSans-112\"/>\n     <path d=\"M 8.5 21.578125 \nL 8.5 54.6875 \nL 17.484375 54.6875 \nL 17.484375 21.921875 \nQ 17.484375 14.15625 20.5 10.265625 \nQ 23.53125 6.390625 29.59375 6.390625 \nQ 36.859375 6.390625 41.078125 11.03125 \nQ 45.3125 15.671875 45.3125 23.6875 \nL 45.3125 54.6875 \nL 54.296875 54.6875 \nL 54.296875 0 \nL 45.3125 0 \nL 45.3125 8.40625 \nQ 42.046875 3.421875 37.71875 1 \nQ 33.40625 -1.421875 27.6875 -1.421875 \nQ 18.265625 -1.421875 13.375 4.4375 \nQ 8.5 10.296875 8.5 21.578125 \nz\nM 31.109375 56 \nz\n\" id=\"DejaVuSans-117\"/>\n     <path d=\"M 9.421875 75.984375 \nL 18.40625 75.984375 \nL 18.40625 0 \nL 9.421875 0 \nz\n\" id=\"DejaVuSans-108\"/>\n     <path d=\"M 30.609375 48.390625 \nQ 23.390625 48.390625 19.1875 42.75 \nQ 14.984375 37.109375 14.984375 27.296875 \nQ 14.984375 17.484375 19.15625 11.84375 \nQ 23.34375 6.203125 30.609375 6.203125 \nQ 37.796875 6.203125 41.984375 11.859375 \nQ 46.1875 17.53125 46.1875 27.296875 \nQ 46.1875 37.015625 41.984375 42.703125 \nQ 37.796875 48.390625 30.609375 48.390625 \nz\nM 30.609375 56 \nQ 42.328125 56 49.015625 48.375 \nQ 55.71875 40.765625 55.71875 27.296875 \nQ 55.71875 13.875 49.015625 6.21875 \nQ 42.328125 -1.421875 30.609375 -1.421875 \nQ 18.84375 -1.421875 12.171875 6.21875 \nQ 5.515625 13.875 5.515625 27.296875 \nQ 5.515625 40.765625 12.171875 48.375 \nQ 18.84375 56 30.609375 56 \nz\n\" id=\"DejaVuSans-111\"/>\n     <path d=\"M 2.984375 54.6875 \nL 12.5 54.6875 \nL 29.59375 8.796875 \nL 46.6875 54.6875 \nL 56.203125 54.6875 \nL 35.6875 0 \nL 23.484375 0 \nz\n\" id=\"DejaVuSans-118\"/>\n     <path d=\"M 56.203125 29.59375 \nL 56.203125 25.203125 \nL 14.890625 25.203125 \nQ 15.484375 15.921875 20.484375 11.0625 \nQ 25.484375 6.203125 34.421875 6.203125 \nQ 39.59375 6.203125 44.453125 7.46875 \nQ 49.3125 8.734375 54.109375 11.28125 \nL 54.109375 2.78125 \nQ 49.265625 0.734375 44.1875 -0.34375 \nQ 39.109375 -1.421875 33.890625 -1.421875 \nQ 20.796875 -1.421875 13.15625 6.1875 \nQ 5.515625 13.8125 5.515625 26.8125 \nQ 5.515625 40.234375 12.765625 48.109375 \nQ 20.015625 56 32.328125 56 \nQ 43.359375 56 49.78125 48.890625 \nQ 56.203125 41.796875 56.203125 29.59375 \nz\nM 47.21875 32.234375 \nQ 47.125 39.59375 43.09375 43.984375 \nQ 39.0625 48.390625 32.421875 48.390625 \nQ 24.90625 48.390625 20.390625 44.140625 \nQ 15.875 39.890625 15.1875 32.171875 \nz\n\" id=\"DejaVuSans-101\"/>\n     <path d=\"M 41.109375 46.296875 \nQ 39.59375 47.171875 37.8125 47.578125 \nQ 36.03125 48 33.890625 48 \nQ 26.265625 48 22.1875 43.046875 \nQ 18.109375 38.09375 18.109375 28.8125 \nL 18.109375 0 \nL 9.078125 0 \nL 9.078125 54.6875 \nL 18.109375 54.6875 \nL 18.109375 46.1875 \nQ 20.953125 51.171875 25.484375 53.578125 \nQ 30.03125 56 36.53125 56 \nQ 37.453125 56 38.578125 55.875 \nQ 39.703125 55.765625 41.0625 55.515625 \nz\n\" id=\"DejaVuSans-114\"/>\n    </defs>\n    <g transform=\"translate(34.183656 16.318125)scale(0.12 -0.12)\">\n     <use xlink:href=\"#DejaVuSans-112\"/>\n     <use x=\"63.476562\" xlink:href=\"#DejaVuSans-117\"/>\n     <use x=\"126.855469\" xlink:href=\"#DejaVuSans-108\"/>\n     <use x=\"154.638672\" xlink:href=\"#DejaVuSans-108\"/>\n     <use x=\"182.421875\" xlink:href=\"#DejaVuSans-111\"/>\n     <use x=\"243.603516\" xlink:href=\"#DejaVuSans-118\"/>\n     <use x=\"302.783203\" xlink:href=\"#DejaVuSans-101\"/>\n     <use x=\"364.306641\" xlink:href=\"#DejaVuSans-114\"/>\n    </g>\n    <!-- pullover -->\n    <g transform=\"translate(34.183656 29.7555)scale(0.12 -0.12)\">\n     <use xlink:href=\"#DejaVuSans-112\"/>\n     <use x=\"63.476562\" xlink:href=\"#DejaVuSans-117\"/>\n     <use x=\"126.855469\" xlink:href=\"#DejaVuSans-108\"/>\n     <use x=\"154.638672\" xlink:href=\"#DejaVuSans-108\"/>\n     <use x=\"182.421875\" xlink:href=\"#DejaVuSans-111\"/>\n     <use x=\"243.603516\" xlink:href=\"#DejaVuSans-118\"/>\n     <use x=\"302.783203\" xlink:href=\"#DejaVuSans-101\"/>\n     <use x=\"364.306641\" xlink:href=\"#DejaVuSans-114\"/>\n    </g>\n   </g>\n  </g>\n  <g id=\"axes_2\">\n   <g id=\"patch_7\">\n    <path d=\"M 102.728774 98.925311 \nL 165.898585 98.925311 \nL 165.898585 35.7555 \nL 102.728774 35.7555 \nz\n\" style=\"fill:#ffffff;\"/>\n   </g>\n   <g clip-path=\"url(#p123f61a5ec)\">\n    <image height=\"64\" id=\"image156012082e\" transform=\"scale(1 -1)translate(0 -64)\" width=\"64\" x=\"102.728774\" xlink:href=\"data:image/png;base64,\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\" y=\"-34.925311\"/>\n   </g>\n   <g id=\"matplotlib.axis_3\">\n    <g id=\"xtick_3\">\n     <g id=\"line2d_6\">\n      <g>\n       <use style=\"stroke:#000000;stroke-width:0.8;\" x=\"103.856806\" xlink:href=\"#m09f24a2416\" y=\"98.925311\"/>\n      </g>\n     </g>\n     <g id=\"text_7\">\n      <!-- 0 -->\n      <g transform=\"translate(100.675556 113.523749)scale(0.1 -0.1)\">\n       <use xlink:href=\"#DejaVuSans-48\"/>\n      </g>\n     </g>\n    </g>\n    <g id=\"xtick_4\">\n     <g id=\"line2d_7\">\n      <g>\n       <use style=\"stroke:#000000;stroke-width:0.8;\" x=\"148.9781\" xlink:href=\"#m09f24a2416\" y=\"98.925311\"/>\n      </g>\n     </g>\n     <g id=\"text_8\">\n      <!-- 20 -->\n      <g transform=\"translate(142.6156 113.523749)scale(0.1 -0.1)\">\n       <use xlink:href=\"#DejaVuSans-50\"/>\n       <use x=\"63.623047\" xlink:href=\"#DejaVuSans-48\"/>\n      </g>\n     </g>\n    </g>\n   </g>\n   <g id=\"matplotlib.axis_4\">\n    <g id=\"ytick_4\">\n     <g id=\"line2d_8\">\n      <g>\n       <use style=\"stroke:#000000;stroke-width:0.8;\" x=\"102.728774\" xlink:href=\"#m93576b6315\" y=\"36.883532\"/>\n      </g>\n     </g>\n     <g id=\"text_9\">\n      <!-- 0 -->\n      <g transform=\"translate(89.366274 40.682751)scale(0.1 -0.1)\">\n       <use xlink:href=\"#DejaVuSans-48\"/>\n      </g>\n     </g>\n    </g>\n    <g id=\"ytick_5\">\n     <g id=\"line2d_9\">\n      <g>\n       <use style=\"stroke:#000000;stroke-width:0.8;\" x=\"102.728774\" xlink:href=\"#m93576b6315\" y=\"59.444179\"/>\n      </g>\n     </g>\n     <g id=\"text_10\">\n      <!-- 10 -->\n      <g transform=\"translate(83.003774 63.243398)scale(0.1 -0.1)\">\n       <use xlink:href=\"#DejaVuSans-49\"/>\n       <use x=\"63.623047\" xlink:href=\"#DejaVuSans-48\"/>\n      </g>\n     </g>\n    </g>\n    <g id=\"ytick_6\">\n     <g id=\"line2d_10\">\n      <g>\n       <use style=\"stroke:#000000;stroke-width:0.8;\" x=\"102.728774\" xlink:href=\"#m93576b6315\" y=\"82.004826\"/>\n      </g>\n     </g>\n     <g id=\"text_11\">\n      <!-- 20 -->\n      <g transform=\"translate(83.003774 85.804045)scale(0.1 -0.1)\">\n       <use xlink:href=\"#DejaVuSans-50\"/>\n       <use x=\"63.623047\" xlink:href=\"#DejaVuSans-48\"/>\n      </g>\n     </g>\n    </g>\n   </g>\n   <g id=\"patch_8\">\n    <path d=\"M 102.728774 98.925311 \nL 102.728774 35.7555 \n\" style=\"fill:none;stroke:#000000;stroke-linecap:square;stroke-linejoin:miter;stroke-width:0.8;\"/>\n   </g>\n   <g id=\"patch_9\">\n    <path d=\"M 165.898585 98.925311 \nL 165.898585 35.7555 \n\" style=\"fill:none;stroke:#000000;stroke-linecap:square;stroke-linejoin:miter;stroke-width:0.8;\"/>\n   </g>\n   <g id=\"patch_10\">\n    <path d=\"M 102.728774 98.925311 \nL 165.898585 98.925311 \n\" style=\"fill:none;stroke:#000000;stroke-linecap:square;stroke-linejoin:miter;stroke-width:0.8;\"/>\n   </g>\n   <g id=\"patch_11\">\n    <path d=\"M 102.728774 35.7555 \nL 165.898585 35.7555 \n\" style=\"fill:none;stroke:#000000;stroke-linecap:square;stroke-linejoin:miter;stroke-width:0.8;\"/>\n   </g>\n   <g id=\"text_12\">\n    <!-- coat -->\n    <defs>\n     <path d=\"M 48.78125 52.59375 \nL 48.78125 44.1875 \nQ 44.96875 46.296875 41.140625 47.34375 \nQ 37.3125 48.390625 33.40625 48.390625 \nQ 24.65625 48.390625 19.8125 42.84375 \nQ 14.984375 37.3125 14.984375 27.296875 \nQ 14.984375 17.28125 19.8125 11.734375 \nQ 24.65625 6.203125 33.40625 6.203125 \nQ 37.3125 6.203125 41.140625 7.25 \nQ 44.96875 8.296875 48.78125 10.40625 \nL 48.78125 2.09375 \nQ 45.015625 0.34375 40.984375 -0.53125 \nQ 36.96875 -1.421875 32.421875 -1.421875 \nQ 20.0625 -1.421875 12.78125 6.34375 \nQ 5.515625 14.109375 5.515625 27.296875 \nQ 5.515625 40.671875 12.859375 48.328125 \nQ 20.21875 56 33.015625 56 \nQ 37.15625 56 41.109375 55.140625 \nQ 45.0625 54.296875 48.78125 52.59375 \nz\n\" id=\"DejaVuSans-99\"/>\n     <path d=\"M 34.28125 27.484375 \nQ 23.390625 27.484375 19.1875 25 \nQ 14.984375 22.515625 14.984375 16.5 \nQ 14.984375 11.71875 18.140625 8.90625 \nQ 21.296875 6.109375 26.703125 6.109375 \nQ 34.1875 6.109375 38.703125 11.40625 \nQ 43.21875 16.703125 43.21875 25.484375 \nL 43.21875 27.484375 \nz\nM 52.203125 31.203125 \nL 52.203125 0 \nL 43.21875 0 \nL 43.21875 8.296875 \nQ 40.140625 3.328125 35.546875 0.953125 \nQ 30.953125 -1.421875 24.3125 -1.421875 \nQ 15.921875 -1.421875 10.953125 3.296875 \nQ 6 8.015625 6 15.921875 \nQ 6 25.140625 12.171875 29.828125 \nQ 18.359375 34.515625 30.609375 34.515625 \nL 43.21875 34.515625 \nL 43.21875 35.40625 \nQ 43.21875 41.609375 39.140625 45 \nQ 35.0625 48.390625 27.6875 48.390625 \nQ 23 48.390625 18.546875 47.265625 \nQ 14.109375 46.140625 10.015625 43.890625 \nL 10.015625 52.203125 \nQ 14.9375 54.109375 19.578125 55.046875 \nQ 24.21875 56 28.609375 56 \nQ 40.484375 56 46.34375 49.84375 \nQ 52.203125 43.703125 52.203125 31.203125 \nz\n\" id=\"DejaVuSans-97\"/>\n     <path d=\"M 18.3125 70.21875 \nL 18.3125 54.6875 \nL 36.8125 54.6875 \nL 36.8125 47.703125 \nL 18.3125 47.703125 \nL 18.3125 18.015625 \nQ 18.3125 11.328125 20.140625 9.421875 \nQ 21.96875 7.515625 27.59375 7.515625 \nL 36.8125 7.515625 \nL 36.8125 0 \nL 27.59375 0 \nQ 17.1875 0 13.234375 3.875 \nQ 9.28125 7.765625 9.28125 18.015625 \nL 9.28125 47.703125 \nL 2.6875 47.703125 \nL 2.6875 54.6875 \nL 9.28125 54.6875 \nL 9.28125 70.21875 \nz\n\" id=\"DejaVuSans-116\"/>\n    </defs>\n    <g transform=\"translate(121.314304 16.318125)scale(0.12 -0.12)\">\n     <use xlink:href=\"#DejaVuSans-99\"/>\n     <use x=\"54.980469\" xlink:href=\"#DejaVuSans-111\"/>\n     <use x=\"116.162109\" xlink:href=\"#DejaVuSans-97\"/>\n     <use x=\"177.441406\" xlink:href=\"#DejaVuSans-116\"/>\n    </g>\n    <!-- coat -->\n    <g transform=\"translate(121.314304 29.7555)scale(0.12 -0.12)\">\n     <use xlink:href=\"#DejaVuSans-99\"/>\n     <use x=\"54.980469\" xlink:href=\"#DejaVuSans-111\"/>\n     <use x=\"116.162109\" xlink:href=\"#DejaVuSans-97\"/>\n     <use x=\"177.441406\" xlink:href=\"#DejaVuSans-116\"/>\n    </g>\n   </g>\n  </g>\n  <g id=\"axes_3\">\n   <g id=\"patch_12\">\n    <path d=\"M 178.532547 98.925311 \nL 241.702358 98.925311 \nL 241.702358 35.7555 \nL 178.532547 35.7555 \nz\n\" style=\"fill:#ffffff;\"/>\n   </g>\n   <g clip-path=\"url(#p7350c6eb8f)\">\n    <image height=\"64\" id=\"imagec53cbcb04e\" transform=\"scale(1 -1)translate(0 -64)\" width=\"64\" x=\"178.532547\" xlink:href=\"data:image/png;base64,\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\" y=\"-34.925311\"/>\n   </g>\n   <g id=\"matplotlib.axis_5\">\n    <g id=\"xtick_5\">\n     <g id=\"line2d_11\">\n      <g>\n       <use style=\"stroke:#000000;stroke-width:0.8;\" x=\"179.66058\" xlink:href=\"#m09f24a2416\" y=\"98.925311\"/>\n      </g>\n     </g>\n     <g id=\"text_13\">\n      <!-- 0 -->\n      <g transform=\"translate(176.47933 113.523749)scale(0.1 -0.1)\">\n       <use xlink:href=\"#DejaVuSans-48\"/>\n      </g>\n     </g>\n    </g>\n    <g id=\"xtick_6\">\n     <g id=\"line2d_12\">\n      <g>\n       <use style=\"stroke:#000000;stroke-width:0.8;\" x=\"224.781873\" xlink:href=\"#m09f24a2416\" y=\"98.925311\"/>\n      </g>\n     </g>\n     <g id=\"text_14\">\n      <!-- 20 -->\n      <g transform=\"translate(218.419373 113.523749)scale(0.1 -0.1)\">\n       <use xlink:href=\"#DejaVuSans-50\"/>\n       <use x=\"63.623047\" xlink:href=\"#DejaVuSans-48\"/>\n      </g>\n     </g>\n    </g>\n   </g>\n   <g id=\"matplotlib.axis_6\">\n    <g id=\"ytick_7\">\n     <g id=\"line2d_13\">\n      <g>\n       <use style=\"stroke:#000000;stroke-width:0.8;\" x=\"178.532547\" xlink:href=\"#m93576b6315\" y=\"36.883532\"/>\n      </g>\n     </g>\n     <g id=\"text_15\">\n      <!-- 0 -->\n      <g transform=\"translate(165.170047 40.682751)scale(0.1 -0.1)\">\n       <use xlink:href=\"#DejaVuSans-48\"/>\n      </g>\n     </g>\n    </g>\n    <g id=\"ytick_8\">\n     <g id=\"line2d_14\">\n      <g>\n       <use style=\"stroke:#000000;stroke-width:0.8;\" x=\"178.532547\" xlink:href=\"#m93576b6315\" y=\"59.444179\"/>\n      </g>\n     </g>\n     <g id=\"text_16\">\n      <!-- 10 -->\n      <g transform=\"translate(158.807547 63.243398)scale(0.1 -0.1)\">\n       <use xlink:href=\"#DejaVuSans-49\"/>\n       <use x=\"63.623047\" xlink:href=\"#DejaVuSans-48\"/>\n      </g>\n     </g>\n    </g>\n    <g id=\"ytick_9\">\n     <g id=\"line2d_15\">\n      <g>\n       <use style=\"stroke:#000000;stroke-width:0.8;\" x=\"178.532547\" xlink:href=\"#m93576b6315\" y=\"82.004826\"/>\n      </g>\n     </g>\n     <g id=\"text_17\">\n      <!-- 20 -->\n      <g transform=\"translate(158.807547 85.804045)scale(0.1 -0.1)\">\n       <use xlink:href=\"#DejaVuSans-50\"/>\n       <use x=\"63.623047\" xlink:href=\"#DejaVuSans-48\"/>\n      </g>\n     </g>\n    </g>\n   </g>\n   <g id=\"patch_13\">\n    <path d=\"M 178.532547 98.925311 \nL 178.532547 35.7555 \n\" style=\"fill:none;stroke:#000000;stroke-linecap:square;stroke-linejoin:miter;stroke-width:0.8;\"/>\n   </g>\n   <g id=\"patch_14\">\n    <path d=\"M 241.702358 98.925311 \nL 241.702358 35.7555 \n\" style=\"fill:none;stroke:#000000;stroke-linecap:square;stroke-linejoin:miter;stroke-width:0.8;\"/>\n   </g>\n   <g id=\"patch_15\">\n    <path d=\"M 178.532547 98.925311 \nL 241.702358 98.925311 \n\" style=\"fill:none;stroke:#000000;stroke-linecap:square;stroke-linejoin:miter;stroke-width:0.8;\"/>\n   </g>\n   <g id=\"patch_16\">\n    <path d=\"M 178.532547 35.7555 \nL 241.702358 35.7555 \n\" style=\"fill:none;stroke:#000000;stroke-linecap:square;stroke-linejoin:miter;stroke-width:0.8;\"/>\n   </g>\n   <g id=\"text_18\">\n    <!-- trouser -->\n    <defs>\n     <path d=\"M 44.28125 53.078125 \nL 44.28125 44.578125 \nQ 40.484375 46.53125 36.375 47.5 \nQ 32.28125 48.484375 27.875 48.484375 \nQ 21.1875 48.484375 17.84375 46.4375 \nQ 14.5 44.390625 14.5 40.28125 \nQ 14.5 37.15625 16.890625 35.375 \nQ 19.28125 33.59375 26.515625 31.984375 \nL 29.59375 31.296875 \nQ 39.15625 29.25 43.1875 25.515625 \nQ 47.21875 21.78125 47.21875 15.09375 \nQ 47.21875 7.46875 41.1875 3.015625 \nQ 35.15625 -1.421875 24.609375 -1.421875 \nQ 20.21875 -1.421875 15.453125 -0.5625 \nQ 10.6875 0.296875 5.421875 2 \nL 5.421875 11.28125 \nQ 10.40625 8.6875 15.234375 7.390625 \nQ 20.0625 6.109375 24.8125 6.109375 \nQ 31.15625 6.109375 34.5625 8.28125 \nQ 37.984375 10.453125 37.984375 14.40625 \nQ 37.984375 18.0625 35.515625 20.015625 \nQ 33.0625 21.96875 24.703125 23.78125 \nL 21.578125 24.515625 \nQ 13.234375 26.265625 9.515625 29.90625 \nQ 5.8125 33.546875 5.8125 39.890625 \nQ 5.8125 47.609375 11.28125 51.796875 \nQ 16.75 56 26.8125 56 \nQ 31.78125 56 36.171875 55.265625 \nQ 40.578125 54.546875 44.28125 53.078125 \nz\n\" id=\"DejaVuSans-115\"/>\n    </defs>\n    <g transform=\"translate(188.67589 16.318125)scale(0.12 -0.12)\">\n     <use xlink:href=\"#DejaVuSans-116\"/>\n     <use x=\"39.208984\" xlink:href=\"#DejaVuSans-114\"/>\n     <use x=\"78.072266\" xlink:href=\"#DejaVuSans-111\"/>\n     <use x=\"139.253906\" xlink:href=\"#DejaVuSans-117\"/>\n     <use x=\"202.632812\" xlink:href=\"#DejaVuSans-115\"/>\n     <use x=\"254.732422\" xlink:href=\"#DejaVuSans-101\"/>\n     <use x=\"316.255859\" xlink:href=\"#DejaVuSans-114\"/>\n    </g>\n    <!-- trouser -->\n    <g transform=\"translate(188.67589 29.7555)scale(0.12 -0.12)\">\n     <use xlink:href=\"#DejaVuSans-116\"/>\n     <use x=\"39.208984\" xlink:href=\"#DejaVuSans-114\"/>\n     <use x=\"78.072266\" xlink:href=\"#DejaVuSans-111\"/>\n     <use x=\"139.253906\" xlink:href=\"#DejaVuSans-117\"/>\n     <use x=\"202.632812\" xlink:href=\"#DejaVuSans-115\"/>\n     <use x=\"254.732422\" xlink:href=\"#DejaVuSans-101\"/>\n     <use x=\"316.255859\" xlink:href=\"#DejaVuSans-114\"/>\n    </g>\n   </g>\n  </g>\n  <g id=\"axes_4\">\n   <g id=\"patch_17\">\n    <path d=\"M 254.336321 98.925311 \nL 317.506132 98.925311 \nL 317.506132 35.7555 \nL 254.336321 35.7555 \nz\n\" style=\"fill:#ffffff;\"/>\n   </g>\n   <g clip-path=\"url(#pc937e7005c)\">\n    <image height=\"64\" id=\"imageecbbe2bb1a\" transform=\"scale(1 -1)translate(0 -64)\" width=\"64\" x=\"254.336321\" xlink:href=\"data:image/png;base64,\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\" y=\"-34.925311\"/>\n   </g>\n   <g id=\"matplotlib.axis_7\">\n    <g id=\"xtick_7\">\n     <g id=\"line2d_16\">\n      <g>\n       <use style=\"stroke:#000000;stroke-width:0.8;\" x=\"255.464353\" xlink:href=\"#m09f24a2416\" y=\"98.925311\"/>\n      </g>\n     </g>\n     <g id=\"text_19\">\n      <!-- 0 -->\n      <g transform=\"translate(252.283103 113.523749)scale(0.1 -0.1)\">\n       <use xlink:href=\"#DejaVuSans-48\"/>\n      </g>\n     </g>\n    </g>\n    <g id=\"xtick_8\">\n     <g id=\"line2d_17\">\n      <g>\n       <use style=\"stroke:#000000;stroke-width:0.8;\" x=\"300.585647\" xlink:href=\"#m09f24a2416\" y=\"98.925311\"/>\n      </g>\n     </g>\n     <g id=\"text_20\">\n      <!-- 20 -->\n      <g transform=\"translate(294.223147 113.523749)scale(0.1 -0.1)\">\n       <use xlink:href=\"#DejaVuSans-50\"/>\n       <use x=\"63.623047\" xlink:href=\"#DejaVuSans-48\"/>\n      </g>\n     </g>\n    </g>\n   </g>\n   <g id=\"matplotlib.axis_8\">\n    <g id=\"ytick_10\">\n     <g id=\"line2d_18\">\n      <g>\n       <use style=\"stroke:#000000;stroke-width:0.8;\" x=\"254.336321\" xlink:href=\"#m93576b6315\" y=\"36.883532\"/>\n      </g>\n     </g>\n     <g id=\"text_21\">\n      <!-- 0 -->\n      <g transform=\"translate(240.973821 40.682751)scale(0.1 -0.1)\">\n       <use xlink:href=\"#DejaVuSans-48\"/>\n      </g>\n     </g>\n    </g>\n    <g id=\"ytick_11\">\n     <g id=\"line2d_19\">\n      <g>\n       <use style=\"stroke:#000000;stroke-width:0.8;\" x=\"254.336321\" xlink:href=\"#m93576b6315\" y=\"59.444179\"/>\n      </g>\n     </g>\n     <g id=\"text_22\">\n      <!-- 10 -->\n      <g transform=\"translate(234.611321 63.243398)scale(0.1 -0.1)\">\n       <use xlink:href=\"#DejaVuSans-49\"/>\n       <use x=\"63.623047\" xlink:href=\"#DejaVuSans-48\"/>\n      </g>\n     </g>\n    </g>\n    <g id=\"ytick_12\">\n     <g id=\"line2d_20\">\n      <g>\n       <use style=\"stroke:#000000;stroke-width:0.8;\" x=\"254.336321\" xlink:href=\"#m93576b6315\" y=\"82.004826\"/>\n      </g>\n     </g>\n     <g id=\"text_23\">\n      <!-- 20 -->\n      <g transform=\"translate(234.611321 85.804045)scale(0.1 -0.1)\">\n       <use xlink:href=\"#DejaVuSans-50\"/>\n       <use x=\"63.623047\" xlink:href=\"#DejaVuSans-48\"/>\n      </g>\n     </g>\n    </g>\n   </g>\n   <g id=\"patch_18\">\n    <path d=\"M 254.336321 98.925311 \nL 254.336321 35.7555 \n\" style=\"fill:none;stroke:#000000;stroke-linecap:square;stroke-linejoin:miter;stroke-width:0.8;\"/>\n   </g>\n   <g id=\"patch_19\">\n    <path d=\"M 317.506132 98.925311 \nL 317.506132 35.7555 \n\" style=\"fill:none;stroke:#000000;stroke-linecap:square;stroke-linejoin:miter;stroke-width:0.8;\"/>\n   </g>\n   <g id=\"patch_20\">\n    <path d=\"M 254.336321 98.925311 \nL 317.506132 98.925311 \n\" style=\"fill:none;stroke:#000000;stroke-linecap:square;stroke-linejoin:miter;stroke-width:0.8;\"/>\n   </g>\n   <g id=\"patch_21\">\n    <path d=\"M 254.336321 35.7555 \nL 317.506132 35.7555 \n\" style=\"fill:none;stroke:#000000;stroke-linecap:square;stroke-linejoin:miter;stroke-width:0.8;\"/>\n   </g>\n   <g id=\"text_24\">\n    <!-- sneaker -->\n    <defs>\n     <path d=\"M 54.890625 33.015625 \nL 54.890625 0 \nL 45.90625 0 \nL 45.90625 32.71875 \nQ 45.90625 40.484375 42.875 44.328125 \nQ 39.84375 48.1875 33.796875 48.1875 \nQ 26.515625 48.1875 22.3125 43.546875 \nQ 18.109375 38.921875 18.109375 30.90625 \nL 18.109375 0 \nL 9.078125 0 \nL 9.078125 54.6875 \nL 18.109375 54.6875 \nL 18.109375 46.1875 \nQ 21.34375 51.125 25.703125 53.5625 \nQ 30.078125 56 35.796875 56 \nQ 45.21875 56 50.046875 50.171875 \nQ 54.890625 44.34375 54.890625 33.015625 \nz\n\" id=\"DejaVuSans-110\"/>\n     <path d=\"M 9.078125 75.984375 \nL 18.109375 75.984375 \nL 18.109375 31.109375 \nL 44.921875 54.6875 \nL 56.390625 54.6875 \nL 27.390625 29.109375 \nL 57.625 0 \nL 45.90625 0 \nL 18.109375 26.703125 \nL 18.109375 0 \nL 9.078125 0 \nz\n\" id=\"DejaVuSans-107\"/>\n    </defs>\n    <g transform=\"translate(262.209039 16.318125)scale(0.12 -0.12)\">\n     <use xlink:href=\"#DejaVuSans-115\"/>\n     <use x=\"52.099609\" xlink:href=\"#DejaVuSans-110\"/>\n     <use x=\"115.478516\" xlink:href=\"#DejaVuSans-101\"/>\n     <use x=\"177.001953\" xlink:href=\"#DejaVuSans-97\"/>\n     <use x=\"238.28125\" xlink:href=\"#DejaVuSans-107\"/>\n     <use x=\"292.566406\" xlink:href=\"#DejaVuSans-101\"/>\n     <use x=\"354.089844\" xlink:href=\"#DejaVuSans-114\"/>\n    </g>\n    <!-- pullover -->\n    <g transform=\"translate(261.594976 29.7555)scale(0.12 -0.12)\">\n     <use xlink:href=\"#DejaVuSans-112\"/>\n     <use x=\"63.476562\" xlink:href=\"#DejaVuSans-117\"/>\n     <use x=\"126.855469\" xlink:href=\"#DejaVuSans-108\"/>\n     <use x=\"154.638672\" xlink:href=\"#DejaVuSans-108\"/>\n     <use x=\"182.421875\" xlink:href=\"#DejaVuSans-111\"/>\n     <use x=\"243.603516\" xlink:href=\"#DejaVuSans-118\"/>\n     <use x=\"302.783203\" xlink:href=\"#DejaVuSans-101\"/>\n     <use x=\"364.306641\" xlink:href=\"#DejaVuSans-114\"/>\n    </g>\n   </g>\n  </g>\n  <g id=\"axes_5\">\n   <g id=\"patch_22\">\n    <path d=\"M 330.140094 98.925311 \nL 393.309906 98.925311 \nL 393.309906 35.7555 \nL 330.140094 35.7555 \nz\n\" style=\"fill:#ffffff;\"/>\n   </g>\n   <g clip-path=\"url(#p3d746136d6)\">\n    <image height=\"64\" id=\"image4413a77c49\" transform=\"scale(1 -1)translate(0 -64)\" width=\"64\" x=\"330.140094\" xlink:href=\"data:image/png;base64,\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\" y=\"-34.925311\"/>\n   </g>\n   <g id=\"matplotlib.axis_9\">\n    <g id=\"xtick_9\">\n     <g id=\"line2d_21\">\n      <g>\n       <use style=\"stroke:#000000;stroke-width:0.8;\" x=\"331.268127\" xlink:href=\"#m09f24a2416\" y=\"98.925311\"/>\n      </g>\n     </g>\n     <g id=\"text_25\">\n      <!-- 0 -->\n      <g transform=\"translate(328.086877 113.523749)scale(0.1 -0.1)\">\n       <use xlink:href=\"#DejaVuSans-48\"/>\n      </g>\n     </g>\n    </g>\n    <g id=\"xtick_10\">\n     <g id=\"line2d_22\">\n      <g>\n       <use style=\"stroke:#000000;stroke-width:0.8;\" x=\"376.38942\" xlink:href=\"#m09f24a2416\" y=\"98.925311\"/>\n      </g>\n     </g>\n     <g id=\"text_26\">\n      <!-- 20 -->\n      <g transform=\"translate(370.02692 113.523749)scale(0.1 -0.1)\">\n       <use xlink:href=\"#DejaVuSans-50\"/>\n       <use x=\"63.623047\" xlink:href=\"#DejaVuSans-48\"/>\n      </g>\n     </g>\n    </g>\n   </g>\n   <g id=\"matplotlib.axis_10\">\n    <g id=\"ytick_13\">\n     <g id=\"line2d_23\">\n      <g>\n       <use style=\"stroke:#000000;stroke-width:0.8;\" x=\"330.140094\" xlink:href=\"#m93576b6315\" y=\"36.883532\"/>\n      </g>\n     </g>\n     <g id=\"text_27\">\n      <!-- 0 -->\n      <g transform=\"translate(316.777594 40.682751)scale(0.1 -0.1)\">\n       <use xlink:href=\"#DejaVuSans-48\"/>\n      </g>\n     </g>\n    </g>\n    <g id=\"ytick_14\">\n     <g id=\"line2d_24\">\n      <g>\n       <use style=\"stroke:#000000;stroke-width:0.8;\" x=\"330.140094\" xlink:href=\"#m93576b6315\" y=\"59.444179\"/>\n      </g>\n     </g>\n     <g id=\"text_28\">\n      <!-- 10 -->\n      <g transform=\"translate(310.415094 63.243398)scale(0.1 -0.1)\">\n       <use xlink:href=\"#DejaVuSans-49\"/>\n       <use x=\"63.623047\" xlink:href=\"#DejaVuSans-48\"/>\n      </g>\n     </g>\n    </g>\n    <g id=\"ytick_15\">\n     <g id=\"line2d_25\">\n      <g>\n       <use style=\"stroke:#000000;stroke-width:0.8;\" x=\"330.140094\" xlink:href=\"#m93576b6315\" y=\"82.004826\"/>\n      </g>\n     </g>\n     <g id=\"text_29\">\n      <!-- 20 -->\n      <g transform=\"translate(310.415094 85.804045)scale(0.1 -0.1)\">\n       <use xlink:href=\"#DejaVuSans-50\"/>\n       <use x=\"63.623047\" xlink:href=\"#DejaVuSans-48\"/>\n      </g>\n     </g>\n    </g>\n   </g>\n   <g id=\"patch_23\">\n    <path d=\"M 330.140094 98.925311 \nL 330.140094 35.7555 \n\" style=\"fill:none;stroke:#000000;stroke-linecap:square;stroke-linejoin:miter;stroke-width:0.8;\"/>\n   </g>\n   <g id=\"patch_24\">\n    <path d=\"M 393.309906 98.925311 \nL 393.309906 35.7555 \n\" style=\"fill:none;stroke:#000000;stroke-linecap:square;stroke-linejoin:miter;stroke-width:0.8;\"/>\n   </g>\n   <g id=\"patch_25\">\n    <path d=\"M 330.140094 98.925311 \nL 393.309906 98.925311 \n\" style=\"fill:none;stroke:#000000;stroke-linecap:square;stroke-linejoin:miter;stroke-width:0.8;\"/>\n   </g>\n   <g id=\"patch_26\">\n    <path d=\"M 330.140094 35.7555 \nL 393.309906 35.7555 \n\" style=\"fill:none;stroke:#000000;stroke-linecap:square;stroke-linejoin:miter;stroke-width:0.8;\"/>\n   </g>\n   <g id=\"text_30\">\n    <!-- bag -->\n    <defs>\n     <path d=\"M 48.6875 27.296875 \nQ 48.6875 37.203125 44.609375 42.84375 \nQ 40.53125 48.484375 33.40625 48.484375 \nQ 26.265625 48.484375 22.1875 42.84375 \nQ 18.109375 37.203125 18.109375 27.296875 \nQ 18.109375 17.390625 22.1875 11.75 \nQ 26.265625 6.109375 33.40625 6.109375 \nQ 40.53125 6.109375 44.609375 11.75 \nQ 48.6875 17.390625 48.6875 27.296875 \nz\nM 18.109375 46.390625 \nQ 20.953125 51.265625 25.265625 53.625 \nQ 29.59375 56 35.59375 56 \nQ 45.5625 56 51.78125 48.09375 \nQ 58.015625 40.1875 58.015625 27.296875 \nQ 58.015625 14.40625 51.78125 6.484375 \nQ 45.5625 -1.421875 35.59375 -1.421875 \nQ 29.59375 -1.421875 25.265625 0.953125 \nQ 20.953125 3.328125 18.109375 8.203125 \nL 18.109375 0 \nL 9.078125 0 \nL 9.078125 75.984375 \nL 18.109375 75.984375 \nz\n\" id=\"DejaVuSans-98\"/>\n     <path d=\"M 45.40625 27.984375 \nQ 45.40625 37.75 41.375 43.109375 \nQ 37.359375 48.484375 30.078125 48.484375 \nQ 22.859375 48.484375 18.828125 43.109375 \nQ 14.796875 37.75 14.796875 27.984375 \nQ 14.796875 18.265625 18.828125 12.890625 \nQ 22.859375 7.515625 30.078125 7.515625 \nQ 37.359375 7.515625 41.375 12.890625 \nQ 45.40625 18.265625 45.40625 27.984375 \nz\nM 54.390625 6.78125 \nQ 54.390625 -7.171875 48.1875 -13.984375 \nQ 42 -20.796875 29.203125 -20.796875 \nQ 24.46875 -20.796875 20.265625 -20.09375 \nQ 16.0625 -19.390625 12.109375 -17.921875 \nL 12.109375 -9.1875 \nQ 16.0625 -11.328125 19.921875 -12.34375 \nQ 23.78125 -13.375 27.78125 -13.375 \nQ 36.625 -13.375 41.015625 -8.765625 \nQ 45.40625 -4.15625 45.40625 5.171875 \nL 45.40625 9.625 \nQ 42.625 4.78125 38.28125 2.390625 \nQ 33.9375 0 27.875 0 \nQ 17.828125 0 11.671875 7.65625 \nQ 5.515625 15.328125 5.515625 27.984375 \nQ 5.515625 40.671875 11.671875 48.328125 \nQ 17.828125 56 27.875 56 \nQ 33.9375 56 38.28125 53.609375 \nQ 42.625 51.21875 45.40625 46.390625 \nL 45.40625 54.6875 \nL 54.390625 54.6875 \nz\n\" id=\"DejaVuSans-103\"/>\n    </defs>\n    <g transform=\"translate(350.43 16.318125)scale(0.12 -0.12)\">\n     <use xlink:href=\"#DejaVuSans-98\"/>\n     <use x=\"63.476562\" xlink:href=\"#DejaVuSans-97\"/>\n     <use x=\"124.755859\" xlink:href=\"#DejaVuSans-103\"/>\n    </g>\n    <!-- bag -->\n    <g transform=\"translate(350.43 29.7555)scale(0.12 -0.12)\">\n     <use xlink:href=\"#DejaVuSans-98\"/>\n     <use x=\"63.476562\" xlink:href=\"#DejaVuSans-97\"/>\n     <use x=\"124.755859\" xlink:href=\"#DejaVuSans-103\"/>\n    </g>\n   </g>\n  </g>\n  <g id=\"axes_6\">\n   <g id=\"patch_27\">\n    <path d=\"M 405.943868 98.925311 \nL 469.113679 98.925311 \nL 469.113679 35.7555 \nL 405.943868 35.7555 \nz\n\" style=\"fill:#ffffff;\"/>\n   </g>\n   <g clip-path=\"url(#p4c4dc64d87)\">\n    <image height=\"64\" id=\"image5395b3ca90\" transform=\"scale(1 -1)translate(0 -64)\" width=\"64\" x=\"405.943868\" xlink:href=\"data:image/png;base64,\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\" y=\"-34.925311\"/>\n   </g>\n   <g id=\"matplotlib.axis_11\">\n    <g id=\"xtick_11\">\n     <g id=\"line2d_26\">\n      <g>\n       <use style=\"stroke:#000000;stroke-width:0.8;\" x=\"407.0719\" xlink:href=\"#m09f24a2416\" y=\"98.925311\"/>\n      </g>\n     </g>\n     <g id=\"text_31\">\n      <!-- 0 -->\n      <g transform=\"translate(403.89065 113.523749)scale(0.1 -0.1)\">\n       <use xlink:href=\"#DejaVuSans-48\"/>\n      </g>\n     </g>\n    </g>\n    <g id=\"xtick_12\">\n     <g id=\"line2d_27\">\n      <g>\n       <use style=\"stroke:#000000;stroke-width:0.8;\" x=\"452.193194\" xlink:href=\"#m09f24a2416\" y=\"98.925311\"/>\n      </g>\n     </g>\n     <g id=\"text_32\">\n      <!-- 20 -->\n      <g transform=\"translate(445.830694 113.523749)scale(0.1 -0.1)\">\n       <use xlink:href=\"#DejaVuSans-50\"/>\n       <use x=\"63.623047\" xlink:href=\"#DejaVuSans-48\"/>\n      </g>\n     </g>\n    </g>\n   </g>\n   <g id=\"matplotlib.axis_12\">\n    <g id=\"ytick_16\">\n     <g id=\"line2d_28\">\n      <g>\n       <use style=\"stroke:#000000;stroke-width:0.8;\" x=\"405.943868\" xlink:href=\"#m93576b6315\" y=\"36.883532\"/>\n      </g>\n     </g>\n     <g id=\"text_33\">\n      <!-- 0 -->\n      <g transform=\"translate(392.581368 40.682751)scale(0.1 -0.1)\">\n       <use xlink:href=\"#DejaVuSans-48\"/>\n      </g>\n     </g>\n    </g>\n    <g id=\"ytick_17\">\n     <g id=\"line2d_29\">\n      <g>\n       <use style=\"stroke:#000000;stroke-width:0.8;\" x=\"405.943868\" xlink:href=\"#m93576b6315\" y=\"59.444179\"/>\n      </g>\n     </g>\n     <g id=\"text_34\">\n      <!-- 10 -->\n      <g transform=\"translate(386.218868 63.243398)scale(0.1 -0.1)\">\n       <use xlink:href=\"#DejaVuSans-49\"/>\n       <use x=\"63.623047\" xlink:href=\"#DejaVuSans-48\"/>\n      </g>\n     </g>\n    </g>\n    <g id=\"ytick_18\">\n     <g id=\"line2d_30\">\n      <g>\n       <use style=\"stroke:#000000;stroke-width:0.8;\" x=\"405.943868\" xlink:href=\"#m93576b6315\" y=\"82.004826\"/>\n      </g>\n     </g>\n     <g id=\"text_35\">\n      <!-- 20 -->\n      <g transform=\"translate(386.218868 85.804045)scale(0.1 -0.1)\">\n       <use xlink:href=\"#DejaVuSans-50\"/>\n       <use x=\"63.623047\" xlink:href=\"#DejaVuSans-48\"/>\n      </g>\n     </g>\n    </g>\n   </g>\n   <g id=\"patch_28\">\n    <path d=\"M 405.943868 98.925311 \nL 405.943868 35.7555 \n\" style=\"fill:none;stroke:#000000;stroke-linecap:square;stroke-linejoin:miter;stroke-width:0.8;\"/>\n   </g>\n   <g id=\"patch_29\">\n    <path d=\"M 469.113679 98.925311 \nL 469.113679 35.7555 \n\" style=\"fill:none;stroke:#000000;stroke-linecap:square;stroke-linejoin:miter;stroke-width:0.8;\"/>\n   </g>\n   <g id=\"patch_30\">\n    <path d=\"M 405.943868 98.925311 \nL 469.113679 98.925311 \n\" style=\"fill:none;stroke:#000000;stroke-linecap:square;stroke-linejoin:miter;stroke-width:0.8;\"/>\n   </g>\n   <g id=\"patch_31\">\n    <path d=\"M 405.943868 35.7555 \nL 469.113679 35.7555 \n\" style=\"fill:none;stroke:#000000;stroke-linecap:square;stroke-linejoin:miter;stroke-width:0.8;\"/>\n   </g>\n   <g id=\"text_36\">\n    <!-- bag -->\n    <g transform=\"translate(426.233774 16.318125)scale(0.12 -0.12)\">\n     <use xlink:href=\"#DejaVuSans-98\"/>\n     <use x=\"63.476562\" xlink:href=\"#DejaVuSans-97\"/>\n     <use x=\"124.755859\" xlink:href=\"#DejaVuSans-103\"/>\n    </g>\n    <!-- bag -->\n    <g transform=\"translate(426.233774 29.7555)scale(0.12 -0.12)\">\n     <use xlink:href=\"#DejaVuSans-98\"/>\n     <use x=\"63.476562\" xlink:href=\"#DejaVuSans-97\"/>\n     <use x=\"124.755859\" xlink:href=\"#DejaVuSans-103\"/>\n    </g>\n   </g>\n  </g>\n  <g id=\"axes_7\">\n   <g id=\"patch_32\">\n    <path d=\"M 481.747642 98.925311 \nL 544.917453 98.925311 \nL 544.917453 35.7555 \nL 481.747642 35.7555 \nz\n\" style=\"fill:#ffffff;\"/>\n   </g>\n   <g clip-path=\"url(#p066487dee4)\">\n    <image height=\"64\" id=\"imagea7a9f2785d\" transform=\"scale(1 -1)translate(0 -64)\" width=\"64\" x=\"481.747642\" xlink:href=\"data:image/png;base64,\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\" y=\"-34.925311\"/>\n   </g>\n   <g id=\"matplotlib.axis_13\">\n    <g id=\"xtick_13\">\n     <g id=\"line2d_31\">\n      <g>\n       <use style=\"stroke:#000000;stroke-width:0.8;\" x=\"482.875674\" xlink:href=\"#m09f24a2416\" y=\"98.925311\"/>\n      </g>\n     </g>\n     <g id=\"text_37\">\n      <!-- 0 -->\n      <g transform=\"translate(479.694424 113.523749)scale(0.1 -0.1)\">\n       <use xlink:href=\"#DejaVuSans-48\"/>\n      </g>\n     </g>\n    </g>\n    <g id=\"xtick_14\">\n     <g id=\"line2d_32\">\n      <g>\n       <use style=\"stroke:#000000;stroke-width:0.8;\" x=\"527.996968\" xlink:href=\"#m09f24a2416\" y=\"98.925311\"/>\n      </g>\n     </g>\n     <g id=\"text_38\">\n      <!-- 20 -->\n      <g transform=\"translate(521.634468 113.523749)scale(0.1 -0.1)\">\n       <use xlink:href=\"#DejaVuSans-50\"/>\n       <use x=\"63.623047\" xlink:href=\"#DejaVuSans-48\"/>\n      </g>\n     </g>\n    </g>\n   </g>\n   <g id=\"matplotlib.axis_14\">\n    <g id=\"ytick_19\">\n     <g id=\"line2d_33\">\n      <g>\n       <use style=\"stroke:#000000;stroke-width:0.8;\" x=\"481.747642\" xlink:href=\"#m93576b6315\" y=\"36.883532\"/>\n      </g>\n     </g>\n     <g id=\"text_39\">\n      <!-- 0 -->\n      <g transform=\"translate(468.385142 40.682751)scale(0.1 -0.1)\">\n       <use xlink:href=\"#DejaVuSans-48\"/>\n      </g>\n     </g>\n    </g>\n    <g id=\"ytick_20\">\n     <g id=\"line2d_34\">\n      <g>\n       <use style=\"stroke:#000000;stroke-width:0.8;\" x=\"481.747642\" xlink:href=\"#m93576b6315\" y=\"59.444179\"/>\n      </g>\n     </g>\n     <g id=\"text_40\">\n      <!-- 10 -->\n      <g transform=\"translate(462.022642 63.243398)scale(0.1 -0.1)\">\n       <use xlink:href=\"#DejaVuSans-49\"/>\n       <use x=\"63.623047\" xlink:href=\"#DejaVuSans-48\"/>\n      </g>\n     </g>\n    </g>\n    <g id=\"ytick_21\">\n     <g id=\"line2d_35\">\n      <g>\n       <use style=\"stroke:#000000;stroke-width:0.8;\" x=\"481.747642\" xlink:href=\"#m93576b6315\" y=\"82.004826\"/>\n      </g>\n     </g>\n     <g id=\"text_41\">\n      <!-- 20 -->\n      <g transform=\"translate(462.022642 85.804045)scale(0.1 -0.1)\">\n       <use xlink:href=\"#DejaVuSans-50\"/>\n       <use x=\"63.623047\" xlink:href=\"#DejaVuSans-48\"/>\n      </g>\n     </g>\n    </g>\n   </g>\n   <g id=\"patch_33\">\n    <path d=\"M 481.747642 98.925311 \nL 481.747642 35.7555 \n\" style=\"fill:none;stroke:#000000;stroke-linecap:square;stroke-linejoin:miter;stroke-width:0.8;\"/>\n   </g>\n   <g id=\"patch_34\">\n    <path d=\"M 544.917453 98.925311 \nL 544.917453 35.7555 \n\" style=\"fill:none;stroke:#000000;stroke-linecap:square;stroke-linejoin:miter;stroke-width:0.8;\"/>\n   </g>\n   <g id=\"patch_35\">\n    <path d=\"M 481.747642 98.925311 \nL 544.917453 98.925311 \n\" style=\"fill:none;stroke:#000000;stroke-linecap:square;stroke-linejoin:miter;stroke-width:0.8;\"/>\n   </g>\n   <g id=\"patch_36\">\n    <path d=\"M 481.747642 35.7555 \nL 544.917453 35.7555 \n\" style=\"fill:none;stroke:#000000;stroke-linecap:square;stroke-linejoin:miter;stroke-width:0.8;\"/>\n   </g>\n   <g id=\"text_42\">\n    <!-- pullover -->\n    <g transform=\"translate(489.006297 16.318125)scale(0.12 -0.12)\">\n     <use xlink:href=\"#DejaVuSans-112\"/>\n     <use x=\"63.476562\" xlink:href=\"#DejaVuSans-117\"/>\n     <use x=\"126.855469\" xlink:href=\"#DejaVuSans-108\"/>\n     <use x=\"154.638672\" xlink:href=\"#DejaVuSans-108\"/>\n     <use x=\"182.421875\" xlink:href=\"#DejaVuSans-111\"/>\n     <use x=\"243.603516\" xlink:href=\"#DejaVuSans-118\"/>\n     <use x=\"302.783203\" xlink:href=\"#DejaVuSans-101\"/>\n     <use x=\"364.306641\" xlink:href=\"#DejaVuSans-114\"/>\n    </g>\n    <!-- pullover -->\n    <g transform=\"translate(489.006297 29.7555)scale(0.12 -0.12)\">\n     <use xlink:href=\"#DejaVuSans-112\"/>\n     <use x=\"63.476562\" xlink:href=\"#DejaVuSans-117\"/>\n     <use x=\"126.855469\" xlink:href=\"#DejaVuSans-108\"/>\n     <use x=\"154.638672\" xlink:href=\"#DejaVuSans-108\"/>\n     <use x=\"182.421875\" xlink:href=\"#DejaVuSans-111\"/>\n     <use x=\"243.603516\" xlink:href=\"#DejaVuSans-118\"/>\n     <use x=\"302.783203\" xlink:href=\"#DejaVuSans-101\"/>\n     <use x=\"364.306641\" xlink:href=\"#DejaVuSans-114\"/>\n    </g>\n   </g>\n  </g>\n  <g id=\"axes_8\">\n   <g id=\"patch_37\">\n    <path d=\"M 557.551415 98.925311 \nL 620.721226 98.925311 \nL 620.721226 35.7555 \nL 557.551415 35.7555 \nz\n\" style=\"fill:#ffffff;\"/>\n   </g>\n   <g clip-path=\"url(#p574c4e8f3e)\">\n    <image height=\"64\" id=\"image8b14482379\" transform=\"scale(1 -1)translate(0 -64)\" width=\"64\" x=\"557.551415\" xlink:href=\"data:image/png;base64,\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\" y=\"-34.925311\"/>\n   </g>\n   <g id=\"matplotlib.axis_15\">\n    <g id=\"xtick_15\">\n     <g id=\"line2d_36\">\n      <g>\n       <use style=\"stroke:#000000;stroke-width:0.8;\" x=\"558.679447\" xlink:href=\"#m09f24a2416\" y=\"98.925311\"/>\n      </g>\n     </g>\n     <g id=\"text_43\">\n      <!-- 0 -->\n      <g transform=\"translate(555.498197 113.523749)scale(0.1 -0.1)\">\n       <use xlink:href=\"#DejaVuSans-48\"/>\n      </g>\n     </g>\n    </g>\n    <g id=\"xtick_16\">\n     <g id=\"line2d_37\">\n      <g>\n       <use style=\"stroke:#000000;stroke-width:0.8;\" x=\"603.800741\" xlink:href=\"#m09f24a2416\" y=\"98.925311\"/>\n      </g>\n     </g>\n     <g id=\"text_44\">\n      <!-- 20 -->\n      <g transform=\"translate(597.438241 113.523749)scale(0.1 -0.1)\">\n       <use xlink:href=\"#DejaVuSans-50\"/>\n       <use x=\"63.623047\" xlink:href=\"#DejaVuSans-48\"/>\n      </g>\n     </g>\n    </g>\n   </g>\n   <g id=\"matplotlib.axis_16\">\n    <g id=\"ytick_22\">\n     <g id=\"line2d_38\">\n      <g>\n       <use style=\"stroke:#000000;stroke-width:0.8;\" x=\"557.551415\" xlink:href=\"#m93576b6315\" y=\"36.883532\"/>\n      </g>\n     </g>\n     <g id=\"text_45\">\n      <!-- 0 -->\n      <g transform=\"translate(544.188915 40.682751)scale(0.1 -0.1)\">\n       <use xlink:href=\"#DejaVuSans-48\"/>\n      </g>\n     </g>\n    </g>\n    <g id=\"ytick_23\">\n     <g id=\"line2d_39\">\n      <g>\n       <use style=\"stroke:#000000;stroke-width:0.8;\" x=\"557.551415\" xlink:href=\"#m93576b6315\" y=\"59.444179\"/>\n      </g>\n     </g>\n     <g id=\"text_46\">\n      <!-- 10 -->\n      <g transform=\"translate(537.826415 63.243398)scale(0.1 -0.1)\">\n       <use xlink:href=\"#DejaVuSans-49\"/>\n       <use x=\"63.623047\" xlink:href=\"#DejaVuSans-48\"/>\n      </g>\n     </g>\n    </g>\n    <g id=\"ytick_24\">\n     <g id=\"line2d_40\">\n      <g>\n       <use style=\"stroke:#000000;stroke-width:0.8;\" x=\"557.551415\" xlink:href=\"#m93576b6315\" y=\"82.004826\"/>\n      </g>\n     </g>\n     <g id=\"text_47\">\n      <!-- 20 -->\n      <g transform=\"translate(537.826415 85.804045)scale(0.1 -0.1)\">\n       <use xlink:href=\"#DejaVuSans-50\"/>\n       <use x=\"63.623047\" xlink:href=\"#DejaVuSans-48\"/>\n      </g>\n     </g>\n    </g>\n   </g>\n   <g id=\"patch_38\">\n    <path d=\"M 557.551415 98.925311 \nL 557.551415 35.7555 \n\" style=\"fill:none;stroke:#000000;stroke-linecap:square;stroke-linejoin:miter;stroke-width:0.8;\"/>\n   </g>\n   <g id=\"patch_39\">\n    <path d=\"M 620.721226 98.925311 \nL 620.721226 35.7555 \n\" style=\"fill:none;stroke:#000000;stroke-linecap:square;stroke-linejoin:miter;stroke-width:0.8;\"/>\n   </g>\n   <g id=\"patch_40\">\n    <path d=\"M 557.551415 98.925311 \nL 620.721226 98.925311 \n\" style=\"fill:none;stroke:#000000;stroke-linecap:square;stroke-linejoin:miter;stroke-width:0.8;\"/>\n   </g>\n   <g id=\"patch_41\">\n    <path d=\"M 557.551415 35.7555 \nL 620.721226 35.7555 \n\" style=\"fill:none;stroke:#000000;stroke-linecap:square;stroke-linejoin:miter;stroke-width:0.8;\"/>\n   </g>\n   <g id=\"text_48\">\n    <!-- trouser -->\n    <g transform=\"translate(567.694758 16.318125)scale(0.12 -0.12)\">\n     <use xlink:href=\"#DejaVuSans-116\"/>\n     <use x=\"39.208984\" xlink:href=\"#DejaVuSans-114\"/>\n     <use x=\"78.072266\" xlink:href=\"#DejaVuSans-111\"/>\n     <use x=\"139.253906\" xlink:href=\"#DejaVuSans-117\"/>\n     <use x=\"202.632812\" xlink:href=\"#DejaVuSans-115\"/>\n     <use x=\"254.732422\" xlink:href=\"#DejaVuSans-101\"/>\n     <use x=\"316.255859\" xlink:href=\"#DejaVuSans-114\"/>\n    </g>\n    <!-- trouser -->\n    <g transform=\"translate(567.694758 29.7555)scale(0.12 -0.12)\">\n     <use xlink:href=\"#DejaVuSans-116\"/>\n     <use x=\"39.208984\" xlink:href=\"#DejaVuSans-114\"/>\n     <use x=\"78.072266\" xlink:href=\"#DejaVuSans-111\"/>\n     <use x=\"139.253906\" xlink:href=\"#DejaVuSans-117\"/>\n     <use x=\"202.632812\" xlink:href=\"#DejaVuSans-115\"/>\n     <use x=\"254.732422\" xlink:href=\"#DejaVuSans-101\"/>\n     <use x=\"316.255859\" xlink:href=\"#DejaVuSans-114\"/>\n    </g>\n   </g>\n  </g>\n  <g id=\"axes_9\">\n   <g id=\"patch_42\">\n    <path d=\"M 633.355189 98.925311 \nL 696.525 98.925311 \nL 696.525 35.7555 \nL 633.355189 35.7555 \nz\n\" style=\"fill:#ffffff;\"/>\n   </g>\n   <g clip-path=\"url(#p42df2f63ba)\">\n    <image height=\"64\" id=\"image6e022ccb73\" transform=\"scale(1 -1)translate(0 -64)\" width=\"64\" x=\"633.355189\" xlink:href=\"data:image/png;base64,\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\" y=\"-34.925311\"/>\n   </g>\n   <g id=\"matplotlib.axis_17\">\n    <g id=\"xtick_17\">\n     <g id=\"line2d_41\">\n      <g>\n       <use style=\"stroke:#000000;stroke-width:0.8;\" x=\"634.483221\" xlink:href=\"#m09f24a2416\" y=\"98.925311\"/>\n      </g>\n     </g>\n     <g id=\"text_49\">\n      <!-- 0 -->\n      <g transform=\"translate(631.301971 113.523749)scale(0.1 -0.1)\">\n       <use xlink:href=\"#DejaVuSans-48\"/>\n      </g>\n     </g>\n    </g>\n    <g id=\"xtick_18\">\n     <g id=\"line2d_42\">\n      <g>\n       <use style=\"stroke:#000000;stroke-width:0.8;\" x=\"679.604515\" xlink:href=\"#m09f24a2416\" y=\"98.925311\"/>\n      </g>\n     </g>\n     <g id=\"text_50\">\n      <!-- 20 -->\n      <g transform=\"translate(673.242015 113.523749)scale(0.1 -0.1)\">\n       <use xlink:href=\"#DejaVuSans-50\"/>\n       <use x=\"63.623047\" xlink:href=\"#DejaVuSans-48\"/>\n      </g>\n     </g>\n    </g>\n   </g>\n   <g id=\"matplotlib.axis_18\">\n    <g id=\"ytick_25\">\n     <g id=\"line2d_43\">\n      <g>\n       <use style=\"stroke:#000000;stroke-width:0.8;\" x=\"633.355189\" xlink:href=\"#m93576b6315\" y=\"36.883532\"/>\n      </g>\n     </g>\n     <g id=\"text_51\">\n      <!-- 0 -->\n      <g transform=\"translate(619.992689 40.682751)scale(0.1 -0.1)\">\n       <use xlink:href=\"#DejaVuSans-48\"/>\n      </g>\n     </g>\n    </g>\n    <g id=\"ytick_26\">\n     <g id=\"line2d_44\">\n      <g>\n       <use style=\"stroke:#000000;stroke-width:0.8;\" x=\"633.355189\" xlink:href=\"#m93576b6315\" y=\"59.444179\"/>\n      </g>\n     </g>\n     <g id=\"text_52\">\n      <!-- 10 -->\n      <g transform=\"translate(613.630189 63.243398)scale(0.1 -0.1)\">\n       <use xlink:href=\"#DejaVuSans-49\"/>\n       <use x=\"63.623047\" xlink:href=\"#DejaVuSans-48\"/>\n      </g>\n     </g>\n    </g>\n    <g id=\"ytick_27\">\n     <g id=\"line2d_45\">\n      <g>\n       <use style=\"stroke:#000000;stroke-width:0.8;\" x=\"633.355189\" xlink:href=\"#m93576b6315\" y=\"82.004826\"/>\n      </g>\n     </g>\n     <g id=\"text_53\">\n      <!-- 20 -->\n      <g transform=\"translate(613.630189 85.804045)scale(0.1 -0.1)\">\n       <use xlink:href=\"#DejaVuSans-50\"/>\n       <use x=\"63.623047\" xlink:href=\"#DejaVuSans-48\"/>\n      </g>\n     </g>\n    </g>\n   </g>\n   <g id=\"patch_43\">\n    <path d=\"M 633.355189 98.925311 \nL 633.355189 35.7555 \n\" style=\"fill:none;stroke:#000000;stroke-linecap:square;stroke-linejoin:miter;stroke-width:0.8;\"/>\n   </g>\n   <g id=\"patch_44\">\n    <path d=\"M 696.525 98.925311 \nL 696.525 35.7555 \n\" style=\"fill:none;stroke:#000000;stroke-linecap:square;stroke-linejoin:miter;stroke-width:0.8;\"/>\n   </g>\n   <g id=\"patch_45\">\n    <path d=\"M 633.355189 98.925311 \nL 696.525 98.925311 \n\" style=\"fill:none;stroke:#000000;stroke-linecap:square;stroke-linejoin:miter;stroke-width:0.8;\"/>\n   </g>\n   <g id=\"patch_46\">\n    <path d=\"M 633.355189 35.7555 \nL 696.525 35.7555 \n\" style=\"fill:none;stroke:#000000;stroke-linecap:square;stroke-linejoin:miter;stroke-width:0.8;\"/>\n   </g>\n   <g id=\"text_54\">\n    <!-- dress -->\n    <defs>\n     <path d=\"M 45.40625 46.390625 \nL 45.40625 75.984375 \nL 54.390625 75.984375 \nL 54.390625 0 \nL 45.40625 0 \nL 45.40625 8.203125 \nQ 42.578125 3.328125 38.25 0.953125 \nQ 33.9375 -1.421875 27.875 -1.421875 \nQ 17.96875 -1.421875 11.734375 6.484375 \nQ 5.515625 14.40625 5.515625 27.296875 \nQ 5.515625 40.1875 11.734375 48.09375 \nQ 17.96875 56 27.875 56 \nQ 33.9375 56 38.25 53.625 \nQ 42.578125 51.265625 45.40625 46.390625 \nz\nM 14.796875 27.296875 \nQ 14.796875 17.390625 18.875 11.75 \nQ 22.953125 6.109375 30.078125 6.109375 \nQ 37.203125 6.109375 41.296875 11.75 \nQ 45.40625 17.390625 45.40625 27.296875 \nQ 45.40625 37.203125 41.296875 42.84375 \nQ 37.203125 48.484375 30.078125 48.484375 \nQ 22.953125 48.484375 18.875 42.84375 \nQ 14.796875 37.203125 14.796875 27.296875 \nz\n\" id=\"DejaVuSans-100\"/>\n    </defs>\n    <g transform=\"translate(648.856344 16.318125)scale(0.12 -0.12)\">\n     <use xlink:href=\"#DejaVuSans-100\"/>\n     <use x=\"63.476562\" xlink:href=\"#DejaVuSans-114\"/>\n     <use x=\"102.339844\" xlink:href=\"#DejaVuSans-101\"/>\n     <use x=\"163.863281\" xlink:href=\"#DejaVuSans-115\"/>\n     <use x=\"215.962891\" xlink:href=\"#DejaVuSans-115\"/>\n    </g>\n    <!-- dress -->\n    <g transform=\"translate(648.856344 29.7555)scale(0.12 -0.12)\">\n     <use xlink:href=\"#DejaVuSans-100\"/>\n     <use x=\"63.476562\" xlink:href=\"#DejaVuSans-114\"/>\n     <use x=\"102.339844\" xlink:href=\"#DejaVuSans-101\"/>\n     <use x=\"163.863281\" xlink:href=\"#DejaVuSans-115\"/>\n     <use x=\"215.962891\" xlink:href=\"#DejaVuSans-115\"/>\n    </g>\n   </g>\n  </g>\n </g>\n <defs>\n  <clipPath id=\"p91363310c2\">\n   <rect height=\"63.169811\" width=\"63.169811\" x=\"26.925\" y=\"35.7555\"/>\n  </clipPath>\n  <clipPath id=\"p123f61a5ec\">\n   <rect height=\"63.169811\" width=\"63.169811\" x=\"102.728774\" y=\"35.7555\"/>\n  </clipPath>\n  <clipPath id=\"p7350c6eb8f\">\n   <rect height=\"63.169811\" width=\"63.169811\" x=\"178.532547\" y=\"35.7555\"/>\n  </clipPath>\n  <clipPath id=\"pc937e7005c\">\n   <rect height=\"63.169811\" width=\"63.169811\" x=\"254.336321\" y=\"35.7555\"/>\n  </clipPath>\n  <clipPath id=\"p3d746136d6\">\n   <rect height=\"63.169811\" width=\"63.169811\" x=\"330.140094\" y=\"35.7555\"/>\n  </clipPath>\n  <clipPath id=\"p4c4dc64d87\">\n   <rect height=\"63.169811\" width=\"63.169811\" x=\"405.943868\" y=\"35.7555\"/>\n  </clipPath>\n  <clipPath id=\"p066487dee4\">\n   <rect height=\"63.169811\" width=\"63.169811\" x=\"481.747642\" y=\"35.7555\"/>\n  </clipPath>\n  <clipPath id=\"p574c4e8f3e\">\n   <rect height=\"63.169811\" width=\"63.169811\" x=\"557.551415\" y=\"35.7555\"/>\n  </clipPath>\n  <clipPath id=\"p42df2f63ba\">\n   <rect height=\"63.169811\" width=\"63.169811\" x=\"633.355189\" y=\"35.7555\"/>\n  </clipPath>\n </defs>\n</svg>\n"
          },
          "metadata": {
            "needs_background": "light"
          }
        }
      ]
    }
  ]
}