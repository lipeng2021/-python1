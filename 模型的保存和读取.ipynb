{
  "nbformat": 4,
  "nbformat_minor": 0,
  "metadata": {
    "colab": {
      "name": "模型的保存和读取.ipynb",
      "provenance": [],
      "collapsed_sections": [],
      "authorship_tag": "ABX9TyNNsJ0hsl3w0OoIarQEDD36",
      "include_colab_link": true
    },
    "kernelspec": {
      "name": "python3",
      "display_name": "Python 3"
    },
    "language_info": {
      "name": "python"
    },
    "accelerator": "GPU"
  },
  "cells": [
    {
      "cell_type": "markdown",
      "metadata": {
        "id": "view-in-github",
        "colab_type": "text"
      },
      "source": [
        "<a href=\"https://colab.research.google.com/github/lipeng2021/-python1/blob/main/%E6%A8%A1%E5%9E%8B%E7%9A%84%E4%BF%9D%E5%AD%98%E5%92%8C%E8%AF%BB%E5%8F%96.ipynb\" target=\"_parent\"><img src=\"https://colab.research.google.com/assets/colab-badge.svg\" alt=\"Open In Colab\"/></a>"
      ]
    },
    {
      "cell_type": "code",
      "execution_count": 2,
      "metadata": {
        "id": "ttBDTD3OSpqu"
      },
      "outputs": [],
      "source": [
        "import torch\n",
        "import torch.nn as nn"
      ]
    },
    {
      "cell_type": "code",
      "source": [
        "class MLP(nn.Module):\n",
        "  def __init__(self):\n",
        "    super(MLP,self).__init__()\n",
        "    self.hidden = nn.Linear(3,2)\n",
        "    self.act = nn.ReLU()\n",
        "    self.output = nn.Linear(2,1)\n",
        "  def forward(self,x):\n",
        "    y = self.output(self.act(self.hidden(x)))\n",
        "    return x\n",
        "net = MLP()\n",
        "print(net)\n",
        "net.state_dict()"
      ],
      "metadata": {
        "colab": {
          "base_uri": "https://localhost:8080/"
        },
        "id": "8P6N2_75SusK",
        "outputId": "a2b154ad-c57e-4c3c-f213-e0c339b117a5"
      },
      "execution_count": 3,
      "outputs": [
        {
          "output_type": "stream",
          "name": "stdout",
          "text": [
            "MLP(\n",
            "  (hidden): Linear(in_features=3, out_features=2, bias=True)\n",
            "  (act): ReLU()\n",
            "  (output): Linear(in_features=2, out_features=1, bias=True)\n",
            ")\n"
          ]
        },
        {
          "output_type": "execute_result",
          "data": {
            "text/plain": [
              "OrderedDict([('hidden.weight', tensor([[-0.5087, -0.2554,  0.0137],\n",
              "                      [-0.0377, -0.5522,  0.4578]])),\n",
              "             ('hidden.bias', tensor([-0.5472, -0.1267])),\n",
              "             ('output.weight', tensor([[ 0.2611, -0.5844]])),\n",
              "             ('output.bias', tensor([-0.4768]))])"
            ]
          },
          "metadata": {},
          "execution_count": 3
        }
      ]
    },
    {
      "cell_type": "code",
      "source": [
        "optimizer = torch.optim.SGD(net.parameters(),lr=0.001,momentum=0.9)\n",
        "optimizer.state_dict()"
      ],
      "metadata": {
        "colab": {
          "base_uri": "https://localhost:8080/"
        },
        "id": "nI3lCGtJTc6U",
        "outputId": "2fbed8ed-8c9c-4f3d-d5dc-56c88c6216da"
      },
      "execution_count": 4,
      "outputs": [
        {
          "output_type": "execute_result",
          "data": {
            "text/plain": [
              "{'param_groups': [{'dampening': 0,\n",
              "   'lr': 0.001,\n",
              "   'momentum': 0.9,\n",
              "   'nesterov': False,\n",
              "   'params': [0, 1, 2, 3],\n",
              "   'weight_decay': 0}],\n",
              " 'state': {}}"
            ]
          },
          "metadata": {},
          "execution_count": 4
        }
      ]
    },
    {
      "cell_type": "code",
      "source": [
        "PATH = '/net_state_dict.pth'\n",
        "x = torch.randn(2,3)\n",
        "y = net(x)\n",
        "torch.save(net.state_dict(),PATH)\n",
        "net2 = MLP()\n",
        "net2.load_state_dict(torch.load(PATH))\n",
        "y2 = net2(x)\n",
        "y2==y"
      ],
      "metadata": {
        "colab": {
          "base_uri": "https://localhost:8080/"
        },
        "id": "mqSTN0iyUqu8",
        "outputId": "60b7b192-f71a-45a4-eb11-51cb6f7c6307"
      },
      "execution_count": 5,
      "outputs": [
        {
          "output_type": "execute_result",
          "data": {
            "text/plain": [
              "tensor([[True, True, True],\n",
              "        [True, True, True]])"
            ]
          },
          "metadata": {},
          "execution_count": 5
        }
      ]
    },
    {
      "cell_type": "code",
      "source": [
        "import torch\n",
        "import torch.nn as nn"
      ],
      "metadata": {
        "id": "jIIJ2ztQWTpT"
      },
      "execution_count": 6,
      "outputs": []
    },
    {
      "cell_type": "code",
      "source": [
        "class MLP(nn.Module):\n",
        "  def __init__(self):\n",
        "    super(MLP,self).__init__()\n",
        "    self.hidden = nn.Linear(3,2)\n",
        "    self.act = nn.ReLU()\n",
        "    self.output = nn.Linear(2,1)\n",
        "  def forward(self,x):\n",
        "    y = self.output(self.act(self.hidden(x)))\n",
        "    return x"
      ],
      "metadata": {
        "id": "d20QNxSlWXrW"
      },
      "execution_count": 9,
      "outputs": []
    },
    {
      "cell_type": "code",
      "source": [
        "net = MLP()\n",
        "print(net)\n",
        "net.state_dict()\n",
        "optimizer = torch.optim.SGD(net.parameters(),lr=0.001,momentum=0.9)\n",
        "optimizer.state_dict()"
      ],
      "metadata": {
        "colab": {
          "base_uri": "https://localhost:8080/"
        },
        "id": "EZWx1ZTFW0fW",
        "outputId": "715fc446-614b-4b83-cfd2-8d9c8511f143"
      },
      "execution_count": 10,
      "outputs": [
        {
          "output_type": "stream",
          "name": "stdout",
          "text": [
            "MLP(\n",
            "  (hidden): Linear(in_features=3, out_features=2, bias=True)\n",
            "  (act): ReLU()\n",
            "  (output): Linear(in_features=2, out_features=1, bias=True)\n",
            ")\n"
          ]
        },
        {
          "output_type": "execute_result",
          "data": {
            "text/plain": [
              "{'param_groups': [{'dampening': 0,\n",
              "   'lr': 0.001,\n",
              "   'momentum': 0.9,\n",
              "   'nesterov': False,\n",
              "   'params': [0, 1, 2, 3],\n",
              "   'weight_decay': 0}],\n",
              " 'state': {}}"
            ]
          },
          "metadata": {},
          "execution_count": 10
        }
      ]
    },
    {
      "cell_type": "code",
      "source": [
        "PATH = '/MLP.pth'\n",
        "x = torch.randn(2,3)\n",
        "y = net(x)\n",
        "torch.save(net.state_dict(),PATH)\n",
        "\n",
        "net2 = MLP()\n",
        "net2.load_state_dict(torch.load(PATH))\n",
        "y1 = net2(x)\n",
        "y==y1"
      ],
      "metadata": {
        "colab": {
          "base_uri": "https://localhost:8080/"
        },
        "id": "rLecOmYwXIUb",
        "outputId": "fa4db15b-0dd1-4dc3-a4a1-45cbe351c9af"
      },
      "execution_count": 11,
      "outputs": [
        {
          "output_type": "execute_result",
          "data": {
            "text/plain": [
              "tensor([[True, True, True],\n",
              "        [True, True, True]])"
            ]
          },
          "metadata": {},
          "execution_count": 11
        }
      ]
    },
    {
      "cell_type": "markdown",
      "source": [
        "使用GPU进行计算"
      ],
      "metadata": {
        "id": "On9vn36iZECu"
      }
    },
    {
      "cell_type": "code",
      "source": [
        "!nvidia-smi"
      ],
      "metadata": {
        "colab": {
          "base_uri": "https://localhost:8080/"
        },
        "id": "nHJqnVhZZDod",
        "outputId": "cf151e7d-2588-4a97-d524-c62c0b8d36b0"
      },
      "execution_count": 12,
      "outputs": [
        {
          "output_type": "stream",
          "name": "stdout",
          "text": [
            "Tue Apr 19 10:37:18 2022       \n",
            "+-----------------------------------------------------------------------------+\n",
            "| NVIDIA-SMI 460.32.03    Driver Version: 460.32.03    CUDA Version: 11.2     |\n",
            "|-------------------------------+----------------------+----------------------+\n",
            "| GPU  Name        Persistence-M| Bus-Id        Disp.A | Volatile Uncorr. ECC |\n",
            "| Fan  Temp  Perf  Pwr:Usage/Cap|         Memory-Usage | GPU-Util  Compute M. |\n",
            "|                               |                      |               MIG M. |\n",
            "|===============================+======================+======================|\n",
            "|   0  Tesla K80           Off  | 00000000:00:04.0 Off |                    0 |\n",
            "| N/A   63C    P8    34W / 149W |      0MiB / 11441MiB |      0%      Default |\n",
            "|                               |                      |                  N/A |\n",
            "+-------------------------------+----------------------+----------------------+\n",
            "                                                                               \n",
            "+-----------------------------------------------------------------------------+\n",
            "| Processes:                                                                  |\n",
            "|  GPU   GI   CI        PID   Type   Process name                  GPU Memory |\n",
            "|        ID   ID                                                   Usage      |\n",
            "|=============================================================================|\n",
            "|  No running processes found                                                 |\n",
            "+-----------------------------------------------------------------------------+\n"
          ]
        }
      ]
    },
    {
      "cell_type": "code",
      "source": [
        "torch.cuda.is_available()"
      ],
      "metadata": {
        "colab": {
          "base_uri": "https://localhost:8080/"
        },
        "id": "qef6td6IZfuh",
        "outputId": "cec8600e-900b-48c8-9947-399e4aa1a4fd"
      },
      "execution_count": 13,
      "outputs": [
        {
          "output_type": "execute_result",
          "data": {
            "text/plain": [
              "True"
            ]
          },
          "metadata": {},
          "execution_count": 13
        }
      ]
    },
    {
      "cell_type": "code",
      "source": [
        "torch.cuda.device_count()"
      ],
      "metadata": {
        "colab": {
          "base_uri": "https://localhost:8080/"
        },
        "id": "40Bg9DKYZzUY",
        "outputId": "b30cc7b5-1541-4de0-c153-be767d91800c"
      },
      "execution_count": 14,
      "outputs": [
        {
          "output_type": "execute_result",
          "data": {
            "text/plain": [
              "1"
            ]
          },
          "metadata": {},
          "execution_count": 14
        }
      ]
    },
    {
      "cell_type": "code",
      "source": [
        "torch.cuda.get_device_name()"
      ],
      "metadata": {
        "colab": {
          "base_uri": "https://localhost:8080/",
          "height": 35
        },
        "id": "6vr9J1bjZ8Co",
        "outputId": "a01f98ef-3438-43a1-e9d1-49ed7828e8ec"
      },
      "execution_count": 15,
      "outputs": [
        {
          "output_type": "execute_result",
          "data": {
            "text/plain": [
              "'Tesla K80'"
            ],
            "application/vnd.google.colaboratory.intrinsic+json": {
              "type": "string"
            }
          },
          "metadata": {},
          "execution_count": 15
        }
      ]
    },
    {
      "cell_type": "code",
      "source": [
        "x = torch.randn(2,3)\n",
        "print(x)\n",
        "x = x.cuda()\n",
        "print(x)\n",
        "x.device"
      ],
      "metadata": {
        "colab": {
          "base_uri": "https://localhost:8080/"
        },
        "id": "TK3x6mRiaIEF",
        "outputId": "31678bd0-1e92-4fe4-9850-588f21f9f7c1"
      },
      "execution_count": 19,
      "outputs": [
        {
          "output_type": "stream",
          "name": "stdout",
          "text": [
            "tensor([[-0.0025,  0.6062, -1.8068],\n",
            "        [ 0.1075,  0.8474,  1.3085]])\n",
            "tensor([[-0.0025,  0.6062, -1.8068],\n",
            "        [ 0.1075,  0.8474,  1.3085]], device='cuda:0')\n"
          ]
        },
        {
          "output_type": "execute_result",
          "data": {
            "text/plain": [
              "device(type='cuda', index=0)"
            ]
          },
          "metadata": {},
          "execution_count": 19
        }
      ]
    },
    {
      "cell_type": "code",
      "source": [
        "device = torch.device('cuda' if torch.cuda.is_available()else 'cpu')\n",
        "x = torch.randn(4,4,device=device)\n",
        "print(x)\n",
        "y = torch.randn(2,2).to(device)\n",
        "print(y)"
      ],
      "metadata": {
        "colab": {
          "base_uri": "https://localhost:8080/"
        },
        "id": "xMQUWapAafpX",
        "outputId": "6a285ef2-6520-484b-8f93-1e4fef33c1af"
      },
      "execution_count": 21,
      "outputs": [
        {
          "output_type": "stream",
          "name": "stdout",
          "text": [
            "tensor([[ 2.0642, -0.5873,  1.0341, -0.2045],\n",
            "        [ 0.6999,  0.0767,  0.7450,  1.1429],\n",
            "        [ 0.6088,  0.7413,  0.3145, -0.4618],\n",
            "        [ 0.7544, -1.1328,  1.0907, -1.2556]], device='cuda:0')\n",
            "tensor([[ 0.4548,  0.5277],\n",
            "        [-0.4956, -0.1839]], device='cuda:0')\n"
          ]
        }
      ]
    },
    {
      "cell_type": "code",
      "source": [
        "net = nn.Linear(3,1)\n",
        "list(net.parameters())[0].device\n",
        "net.cuda()\n",
        "list(net.parameters())[0].device"
      ],
      "metadata": {
        "colab": {
          "base_uri": "https://localhost:8080/"
        },
        "id": "FBQh7o_ObTck",
        "outputId": "35cc1dcb-4114-4884-f611-c265495835dc"
      },
      "execution_count": 24,
      "outputs": [
        {
          "output_type": "execute_result",
          "data": {
            "text/plain": [
              "device(type='cuda', index=0)"
            ]
          },
          "metadata": {},
          "execution_count": 24
        }
      ]
    }
  ]
}