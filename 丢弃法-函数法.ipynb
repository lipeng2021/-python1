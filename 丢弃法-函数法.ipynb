{
  "nbformat": 4,
  "nbformat_minor": 0,
  "metadata": {
    "colab": {
      "name": "Untitled7.ipynb",
      "provenance": [],
      "collapsed_sections": [],
      "authorship_tag": "ABX9TyM31Iagm9sT42ocuSd6T9XN",
      "include_colab_link": true
    },
    "kernelspec": {
      "name": "python3",
      "display_name": "Python 3"
    },
    "language_info": {
      "name": "python"
    }
  },
  "cells": [
    {
      "cell_type": "markdown",
      "metadata": {
        "id": "view-in-github",
        "colab_type": "text"
      },
      "source": [
        "<a href=\"https://colab.research.google.com/github/lipeng2021/-python1/blob/main/%E4%B8%A2%E5%BC%83%E6%B3%95-%E5%87%BD%E6%95%B0%E6%B3%95.ipynb\" target=\"_parent\"><img src=\"https://colab.research.google.com/assets/colab-badge.svg\" alt=\"Open In Colab\"/></a>"
      ]
    },
    {
      "cell_type": "code",
      "source": [
        "%matplotlib inline\n",
        "import torch\n",
        "import IPython as display\n",
        "import torch.nn\n",
        "import numpy as np\n",
        "import torchvision\n",
        "import torchvision.transforms as transforms\n",
        "import sys\n",
        "import time\n",
        "import torch.nn as nn\n",
        "import torch.optim as optim\n",
        "FILENAME = './content/sample_data/lp'"
      ],
      "metadata": {
        "id": "VLWwgvEqIrIQ"
      },
      "execution_count": 68,
      "outputs": []
    },
    {
      "cell_type": "code",
      "source": [
        "def dropout(x,drop_prob):\n",
        "  x = x.float()\n",
        "  assert 0<= drop_prob <=1\n",
        "  keep_prob = 1-drop_prob\n",
        "  if keep_prob==0:\n",
        "    return torch.zeros_like(x)\n",
        "  mask = (torch.randn(x.shape)<keep_prob).float()\n",
        "  return mask*x/keep_prob"
      ],
      "metadata": {
        "id": "Ajs4cFMoMVU2"
      },
      "execution_count": 69,
      "outputs": []
    },
    {
      "cell_type": "code",
      "source": [
        "x = torch.arange(16).view(2,8)\n",
        "dropout(x,0)"
      ],
      "metadata": {
        "colab": {
          "base_uri": "https://localhost:8080/"
        },
        "id": "NWNQG4qPNJFY",
        "outputId": "bbd72296-0752-44b5-bff4-46b69dc7b7ed"
      },
      "execution_count": 70,
      "outputs": [
        {
          "output_type": "execute_result",
          "data": {
            "text/plain": [
              "tensor([[ 0.,  1.,  2.,  3.,  0.,  5.,  6.,  7.],\n",
              "        [ 8.,  9., 10.,  0.,  0., 13., 14., 15.]])"
            ]
          },
          "metadata": {},
          "execution_count": 70
        }
      ]
    },
    {
      "cell_type": "markdown",
      "source": [
        "初始化参数"
      ],
      "metadata": {
        "id": "lRzeia2MS3AX"
      }
    },
    {
      "cell_type": "code",
      "source": [
        "num_inputs =784\n",
        "num_outputs=10\n",
        "num_hiddens1 = 256\n",
        "num_hiddens2=256\n",
        "w1 = torch.tensor(np.random.normal(0,0.01,size=(num_inputs,num_hiddens1)),dtype=torch.float,requires_grad=True)\n",
        "w2 = torch.tensor(np.random.normal(0,0.01,size=(num_hiddens1,num_hiddens2)),dtype=torch.float,requires_grad=True)\n",
        "w3 = torch.tensor(np.random.normal(0,0.01,size=(num_hiddens2,num_outputs)),dtype=torch.float,requires_grad=True)\n",
        "b1 = torch.zeros(num_hiddens1,requires_grad=True)\n",
        "b2 = torch.zeros(num_hiddens2,requires_grad=True)\n",
        "b3 = torch.zeros(num_outputs,requires_grad=True)\n",
        "params = [w1,b1,w2,b2,w3,b3]"
      ],
      "metadata": {
        "id": "ManXtPMCOuGE"
      },
      "execution_count": 71,
      "outputs": []
    },
    {
      "cell_type": "code",
      "source": [
        "def relu(x):\n",
        "  return torch.max(input=x,other=(0,0))"
      ],
      "metadata": {
        "id": "W5Bop-8FTeD2"
      },
      "execution_count": 72,
      "outputs": []
    },
    {
      "cell_type": "code",
      "source": [
        "drop_prob1 = 0.2\n",
        "drop_prob2 = 0.5\n",
        "def net(x,is_training=True):\n",
        "  x = x.view(-1,num_inputs)\n",
        "  h1 = torch.matmul(x,w1)+b1\n",
        "  h1 = h1.relu()\n",
        "  if is_training:\n",
        "    h1=dropout(h1,drop_prob1)\n",
        "  h2 = torch.matmul(h1,w2)+b2\n",
        "  h2 = h2.relu()\n",
        "  if is_training:\n",
        "    h2 = dropout(h2,drop_prob2)\n",
        "  h3 = torch.matmul(h2,w3)+b3\n",
        "  return h3\n"
      ],
      "metadata": {
        "id": "XRaB3zDHRcWh"
      },
      "execution_count": 87,
      "outputs": []
    },
    {
      "cell_type": "markdown",
      "source": [
        "模型评估"
      ],
      "metadata": {
        "id": "IyKnLPgjVJCK"
      }
    },
    {
      "cell_type": "code",
      "source": [
        "def evaculate_accuracy(data_iter,net):\n",
        "  acc_sum = 0.0\n",
        "  num=0\n",
        "  for X,y in data_iter:\n",
        "    if isinstance(net,torch.nn.Module):\n",
        "      net.eval()\n",
        "      acc_sum += (net(X).argmax(dim=1)==y).float().sum().item()\n",
        "      net.train()\n",
        "    else:\n",
        "      if('is_training' in net.__code__.co_varnames):\n",
        "        acc_sum += (net(X,is_training=False).argmax(dim=1)==y).float().sum().item()\n",
        "      else:\n",
        "        acc_sum +=(net(X).argmax(dim=1)==y).float().sum().item()\n",
        "    num = y.shape[0]\n",
        "    return acc_sum/num"
      ],
      "metadata": {
        "id": "lF99AD2NVIba"
      },
      "execution_count": 74,
      "outputs": []
    },
    {
      "cell_type": "code",
      "source": [
        "mnist_train = torchvision.datasets.FashionMNIST(root=FILENAME,train=True,transform=transforms.ToTensor(),download=True)\n",
        "mnist_test = torchvision.datasets.FashionMNIST(root=FILENAME,train=False,transform=transforms.ToTensor(),download=True)"
      ],
      "metadata": {
        "id": "3y2vvlLJ_rHa"
      },
      "execution_count": 75,
      "outputs": []
    },
    {
      "cell_type": "markdown",
      "source": [
        "读取数据"
      ],
      "metadata": {
        "id": "NofFPNEAC8eq"
      }
    },
    {
      "cell_type": "code",
      "source": [
        "batch_size = 256\n",
        "if sys.platform.startswith('win'):\n",
        "  num_worker = 0\n",
        "else:\n",
        "  num_workers = 2\n",
        "train_iter=torch.utils.data.DataLoader(mnist_train,batch_size=batch_size,shuffle=True,num_workers=num_workers)\n",
        "test_iter=torch.utils.data.DataLoader(mnist_test,batch_size=batch_size,shuffle=True,num_workers=num_workers)"
      ],
      "metadata": {
        "id": "gn8Ipqh4_p_n"
      },
      "execution_count": 76,
      "outputs": []
    },
    {
      "cell_type": "markdown",
      "source": [
        "定义损失函数"
      ],
      "metadata": {
        "id": "i6f7kZsSC-rW"
      }
    },
    {
      "cell_type": "code",
      "source": [
        "loss = torch.nn.CrossEntropyLoss()\n",
        "optimizer = optim.SGD(params,lr=0.5)\n",
        "num_epochs = 5"
      ],
      "metadata": {
        "id": "Kx1RghJ1EP23"
      },
      "execution_count": 77,
      "outputs": []
    },
    {
      "cell_type": "markdown",
      "source": [
        "模型训练"
      ],
      "metadata": {
        "id": "6r5Q3WE3EYHT"
      }
    },
    {
      "cell_type": "code",
      "source": [
        "def train_dropout(net,train_iter,test_iter,batch_size,num_epochs,loss,params=None,optimizer=None):\n",
        "  for epoch in range(num_epochs):\n",
        "    train_ls=0.0\n",
        "    train_acc_sum=0.0\n",
        "    test_acc_sum = 0.0\n",
        "    n=0\n",
        "    for X,y in train_iter:\n",
        "      y_hat = net(X)\n",
        "      l = loss(y_hat,y).sum()\n",
        "      optimizer.zero_grad()\n",
        "      l.backward()\n",
        "      optimizer.step()\n",
        "      train_ls += l.item()\n",
        "      train_acc_sum += (net(X).argmax(dim=1)==y).float().sum().item()\n",
        "      n = y.shape[0]\n",
        "      test_acc_sum = evaculate_accuracy(test_iter,net)\n",
        "    print('epoch%d,loss%.4f,trainacc %.3f,test acc %.3f'%(epoch+1,train_ls/n,train_acc_sum/n,test_acc_sum))"
      ],
      "metadata": {
        "id": "fhMfwrwmEtfq"
      },
      "execution_count": 90,
      "outputs": []
    },
    {
      "cell_type": "code",
      "source": [
        "train_dropout(net,train_iter,test_iter,batch_size,num_epochs,loss,params,optimizer)"
      ],
      "metadata": {
        "id": "nX1BG9KBWkwQ"
      },
      "execution_count": null,
      "outputs": []
    }
  ]
}