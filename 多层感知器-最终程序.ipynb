{
  "nbformat": 4,
  "nbformat_minor": 0,
  "metadata": {
    "colab": {
      "name": "Untitled5.ipynb",
      "provenance": [],
      "collapsed_sections": [],
      "authorship_tag": "ABX9TyOQXnj3Du1aXirzdHSTXcyE",
      "include_colab_link": true
    },
    "kernelspec": {
      "name": "python3",
      "display_name": "Python 3"
    },
    "language_info": {
      "name": "python"
    },
    "accelerator": "GPU",
    "widgets": {
      "application/vnd.jupyter.widget-state+json": {
        "d91dbc8eeb4d4c5182bc7849ee6dc6ae": {
          "model_module": "@jupyter-widgets/controls",
          "model_name": "HBoxModel",
          "model_module_version": "1.5.0",
          "state": {
            "_dom_classes": [],
            "_model_module": "@jupyter-widgets/controls",
            "_model_module_version": "1.5.0",
            "_model_name": "HBoxModel",
            "_view_count": null,
            "_view_module": "@jupyter-widgets/controls",
            "_view_module_version": "1.5.0",
            "_view_name": "HBoxView",
            "box_style": "",
            "children": [
              "IPY_MODEL_2cd1f1dfaaca4b34a79005e65d889bd0",
              "IPY_MODEL_fc829af6b10548dd8b359b29f7ed337b",
              "IPY_MODEL_2c0d8eaeffff40b3963b083323c729f8"
            ],
            "layout": "IPY_MODEL_ea954916677e4d88986fdbe1ecf53d23"
          }
        },
        "2cd1f1dfaaca4b34a79005e65d889bd0": {
          "model_module": "@jupyter-widgets/controls",
          "model_name": "HTMLModel",
          "model_module_version": "1.5.0",
          "state": {
            "_dom_classes": [],
            "_model_module": "@jupyter-widgets/controls",
            "_model_module_version": "1.5.0",
            "_model_name": "HTMLModel",
            "_view_count": null,
            "_view_module": "@jupyter-widgets/controls",
            "_view_module_version": "1.5.0",
            "_view_name": "HTMLView",
            "description": "",
            "description_tooltip": null,
            "layout": "IPY_MODEL_8dab20da76024bb9a73df1082545a56d",
            "placeholder": "​",
            "style": "IPY_MODEL_5485a8748d5d494790983b5381e6ae6e",
            "value": ""
          }
        },
        "fc829af6b10548dd8b359b29f7ed337b": {
          "model_module": "@jupyter-widgets/controls",
          "model_name": "FloatProgressModel",
          "model_module_version": "1.5.0",
          "state": {
            "_dom_classes": [],
            "_model_module": "@jupyter-widgets/controls",
            "_model_module_version": "1.5.0",
            "_model_name": "FloatProgressModel",
            "_view_count": null,
            "_view_module": "@jupyter-widgets/controls",
            "_view_module_version": "1.5.0",
            "_view_name": "ProgressView",
            "bar_style": "success",
            "description": "",
            "description_tooltip": null,
            "layout": "IPY_MODEL_cf9c3d324af845afb02c8c12a89f3547",
            "max": 26421880,
            "min": 0,
            "orientation": "horizontal",
            "style": "IPY_MODEL_47902fbb535e47ceb80cddfbb4c0393d",
            "value": 26421880
          }
        },
        "2c0d8eaeffff40b3963b083323c729f8": {
          "model_module": "@jupyter-widgets/controls",
          "model_name": "HTMLModel",
          "model_module_version": "1.5.0",
          "state": {
            "_dom_classes": [],
            "_model_module": "@jupyter-widgets/controls",
            "_model_module_version": "1.5.0",
            "_model_name": "HTMLModel",
            "_view_count": null,
            "_view_module": "@jupyter-widgets/controls",
            "_view_module_version": "1.5.0",
            "_view_name": "HTMLView",
            "description": "",
            "description_tooltip": null,
            "layout": "IPY_MODEL_75e560e5e8ea4faa997917b0cb48ae51",
            "placeholder": "​",
            "style": "IPY_MODEL_662dd6a8656a4760ac4f005039c7fb26",
            "value": " 26422272/? [00:01&lt;00:00, 22513462.60it/s]"
          }
        },
        "ea954916677e4d88986fdbe1ecf53d23": {
          "model_module": "@jupyter-widgets/base",
          "model_name": "LayoutModel",
          "model_module_version": "1.2.0",
          "state": {
            "_model_module": "@jupyter-widgets/base",
            "_model_module_version": "1.2.0",
            "_model_name": "LayoutModel",
            "_view_count": null,
            "_view_module": "@jupyter-widgets/base",
            "_view_module_version": "1.2.0",
            "_view_name": "LayoutView",
            "align_content": null,
            "align_items": null,
            "align_self": null,
            "border": null,
            "bottom": null,
            "display": null,
            "flex": null,
            "flex_flow": null,
            "grid_area": null,
            "grid_auto_columns": null,
            "grid_auto_flow": null,
            "grid_auto_rows": null,
            "grid_column": null,
            "grid_gap": null,
            "grid_row": null,
            "grid_template_areas": null,
            "grid_template_columns": null,
            "grid_template_rows": null,
            "height": null,
            "justify_content": null,
            "justify_items": null,
            "left": null,
            "margin": null,
            "max_height": null,
            "max_width": null,
            "min_height": null,
            "min_width": null,
            "object_fit": null,
            "object_position": null,
            "order": null,
            "overflow": null,
            "overflow_x": null,
            "overflow_y": null,
            "padding": null,
            "right": null,
            "top": null,
            "visibility": null,
            "width": null
          }
        },
        "8dab20da76024bb9a73df1082545a56d": {
          "model_module": "@jupyter-widgets/base",
          "model_name": "LayoutModel",
          "model_module_version": "1.2.0",
          "state": {
            "_model_module": "@jupyter-widgets/base",
            "_model_module_version": "1.2.0",
            "_model_name": "LayoutModel",
            "_view_count": null,
            "_view_module": "@jupyter-widgets/base",
            "_view_module_version": "1.2.0",
            "_view_name": "LayoutView",
            "align_content": null,
            "align_items": null,
            "align_self": null,
            "border": null,
            "bottom": null,
            "display": null,
            "flex": null,
            "flex_flow": null,
            "grid_area": null,
            "grid_auto_columns": null,
            "grid_auto_flow": null,
            "grid_auto_rows": null,
            "grid_column": null,
            "grid_gap": null,
            "grid_row": null,
            "grid_template_areas": null,
            "grid_template_columns": null,
            "grid_template_rows": null,
            "height": null,
            "justify_content": null,
            "justify_items": null,
            "left": null,
            "margin": null,
            "max_height": null,
            "max_width": null,
            "min_height": null,
            "min_width": null,
            "object_fit": null,
            "object_position": null,
            "order": null,
            "overflow": null,
            "overflow_x": null,
            "overflow_y": null,
            "padding": null,
            "right": null,
            "top": null,
            "visibility": null,
            "width": null
          }
        },
        "5485a8748d5d494790983b5381e6ae6e": {
          "model_module": "@jupyter-widgets/controls",
          "model_name": "DescriptionStyleModel",
          "model_module_version": "1.5.0",
          "state": {
            "_model_module": "@jupyter-widgets/controls",
            "_model_module_version": "1.5.0",
            "_model_name": "DescriptionStyleModel",
            "_view_count": null,
            "_view_module": "@jupyter-widgets/base",
            "_view_module_version": "1.2.0",
            "_view_name": "StyleView",
            "description_width": ""
          }
        },
        "cf9c3d324af845afb02c8c12a89f3547": {
          "model_module": "@jupyter-widgets/base",
          "model_name": "LayoutModel",
          "model_module_version": "1.2.0",
          "state": {
            "_model_module": "@jupyter-widgets/base",
            "_model_module_version": "1.2.0",
            "_model_name": "LayoutModel",
            "_view_count": null,
            "_view_module": "@jupyter-widgets/base",
            "_view_module_version": "1.2.0",
            "_view_name": "LayoutView",
            "align_content": null,
            "align_items": null,
            "align_self": null,
            "border": null,
            "bottom": null,
            "display": null,
            "flex": null,
            "flex_flow": null,
            "grid_area": null,
            "grid_auto_columns": null,
            "grid_auto_flow": null,
            "grid_auto_rows": null,
            "grid_column": null,
            "grid_gap": null,
            "grid_row": null,
            "grid_template_areas": null,
            "grid_template_columns": null,
            "grid_template_rows": null,
            "height": null,
            "justify_content": null,
            "justify_items": null,
            "left": null,
            "margin": null,
            "max_height": null,
            "max_width": null,
            "min_height": null,
            "min_width": null,
            "object_fit": null,
            "object_position": null,
            "order": null,
            "overflow": null,
            "overflow_x": null,
            "overflow_y": null,
            "padding": null,
            "right": null,
            "top": null,
            "visibility": null,
            "width": null
          }
        },
        "47902fbb535e47ceb80cddfbb4c0393d": {
          "model_module": "@jupyter-widgets/controls",
          "model_name": "ProgressStyleModel",
          "model_module_version": "1.5.0",
          "state": {
            "_model_module": "@jupyter-widgets/controls",
            "_model_module_version": "1.5.0",
            "_model_name": "ProgressStyleModel",
            "_view_count": null,
            "_view_module": "@jupyter-widgets/base",
            "_view_module_version": "1.2.0",
            "_view_name": "StyleView",
            "bar_color": null,
            "description_width": ""
          }
        },
        "75e560e5e8ea4faa997917b0cb48ae51": {
          "model_module": "@jupyter-widgets/base",
          "model_name": "LayoutModel",
          "model_module_version": "1.2.0",
          "state": {
            "_model_module": "@jupyter-widgets/base",
            "_model_module_version": "1.2.0",
            "_model_name": "LayoutModel",
            "_view_count": null,
            "_view_module": "@jupyter-widgets/base",
            "_view_module_version": "1.2.0",
            "_view_name": "LayoutView",
            "align_content": null,
            "align_items": null,
            "align_self": null,
            "border": null,
            "bottom": null,
            "display": null,
            "flex": null,
            "flex_flow": null,
            "grid_area": null,
            "grid_auto_columns": null,
            "grid_auto_flow": null,
            "grid_auto_rows": null,
            "grid_column": null,
            "grid_gap": null,
            "grid_row": null,
            "grid_template_areas": null,
            "grid_template_columns": null,
            "grid_template_rows": null,
            "height": null,
            "justify_content": null,
            "justify_items": null,
            "left": null,
            "margin": null,
            "max_height": null,
            "max_width": null,
            "min_height": null,
            "min_width": null,
            "object_fit": null,
            "object_position": null,
            "order": null,
            "overflow": null,
            "overflow_x": null,
            "overflow_y": null,
            "padding": null,
            "right": null,
            "top": null,
            "visibility": null,
            "width": null
          }
        },
        "662dd6a8656a4760ac4f005039c7fb26": {
          "model_module": "@jupyter-widgets/controls",
          "model_name": "DescriptionStyleModel",
          "model_module_version": "1.5.0",
          "state": {
            "_model_module": "@jupyter-widgets/controls",
            "_model_module_version": "1.5.0",
            "_model_name": "DescriptionStyleModel",
            "_view_count": null,
            "_view_module": "@jupyter-widgets/base",
            "_view_module_version": "1.2.0",
            "_view_name": "StyleView",
            "description_width": ""
          }
        },
        "7f78759e4bde441792b84ed073423d7a": {
          "model_module": "@jupyter-widgets/controls",
          "model_name": "HBoxModel",
          "model_module_version": "1.5.0",
          "state": {
            "_dom_classes": [],
            "_model_module": "@jupyter-widgets/controls",
            "_model_module_version": "1.5.0",
            "_model_name": "HBoxModel",
            "_view_count": null,
            "_view_module": "@jupyter-widgets/controls",
            "_view_module_version": "1.5.0",
            "_view_name": "HBoxView",
            "box_style": "",
            "children": [
              "IPY_MODEL_0c27204013b54d02aed6ea06718e0106",
              "IPY_MODEL_7e1b8cef5c0a4f1c886fa03b34d65306",
              "IPY_MODEL_d4e99bbbf46a473f9a7d9cd8bfb1fc6e"
            ],
            "layout": "IPY_MODEL_523ba0eb87bc45b68015b46ad0921fbc"
          }
        },
        "0c27204013b54d02aed6ea06718e0106": {
          "model_module": "@jupyter-widgets/controls",
          "model_name": "HTMLModel",
          "model_module_version": "1.5.0",
          "state": {
            "_dom_classes": [],
            "_model_module": "@jupyter-widgets/controls",
            "_model_module_version": "1.5.0",
            "_model_name": "HTMLModel",
            "_view_count": null,
            "_view_module": "@jupyter-widgets/controls",
            "_view_module_version": "1.5.0",
            "_view_name": "HTMLView",
            "description": "",
            "description_tooltip": null,
            "layout": "IPY_MODEL_359144b0581e456fa2c79ea60f3bd3e4",
            "placeholder": "​",
            "style": "IPY_MODEL_dd8b50ed0a194ba3b0c3c8bd17b01334",
            "value": ""
          }
        },
        "7e1b8cef5c0a4f1c886fa03b34d65306": {
          "model_module": "@jupyter-widgets/controls",
          "model_name": "FloatProgressModel",
          "model_module_version": "1.5.0",
          "state": {
            "_dom_classes": [],
            "_model_module": "@jupyter-widgets/controls",
            "_model_module_version": "1.5.0",
            "_model_name": "FloatProgressModel",
            "_view_count": null,
            "_view_module": "@jupyter-widgets/controls",
            "_view_module_version": "1.5.0",
            "_view_name": "ProgressView",
            "bar_style": "success",
            "description": "",
            "description_tooltip": null,
            "layout": "IPY_MODEL_cba81d4fddcb42b688b813f15e404030",
            "max": 29515,
            "min": 0,
            "orientation": "horizontal",
            "style": "IPY_MODEL_2dc939aa81b546c6abd8da8e9aa9b350",
            "value": 29515
          }
        },
        "d4e99bbbf46a473f9a7d9cd8bfb1fc6e": {
          "model_module": "@jupyter-widgets/controls",
          "model_name": "HTMLModel",
          "model_module_version": "1.5.0",
          "state": {
            "_dom_classes": [],
            "_model_module": "@jupyter-widgets/controls",
            "_model_module_version": "1.5.0",
            "_model_name": "HTMLModel",
            "_view_count": null,
            "_view_module": "@jupyter-widgets/controls",
            "_view_module_version": "1.5.0",
            "_view_name": "HTMLView",
            "description": "",
            "description_tooltip": null,
            "layout": "IPY_MODEL_9b343f8ea14b463aa3382d929afe8c87",
            "placeholder": "​",
            "style": "IPY_MODEL_6933fe38dfc64c46a8faea8e029bd47b",
            "value": " 29696/? [00:00&lt;00:00, 134610.44it/s]"
          }
        },
        "523ba0eb87bc45b68015b46ad0921fbc": {
          "model_module": "@jupyter-widgets/base",
          "model_name": "LayoutModel",
          "model_module_version": "1.2.0",
          "state": {
            "_model_module": "@jupyter-widgets/base",
            "_model_module_version": "1.2.0",
            "_model_name": "LayoutModel",
            "_view_count": null,
            "_view_module": "@jupyter-widgets/base",
            "_view_module_version": "1.2.0",
            "_view_name": "LayoutView",
            "align_content": null,
            "align_items": null,
            "align_self": null,
            "border": null,
            "bottom": null,
            "display": null,
            "flex": null,
            "flex_flow": null,
            "grid_area": null,
            "grid_auto_columns": null,
            "grid_auto_flow": null,
            "grid_auto_rows": null,
            "grid_column": null,
            "grid_gap": null,
            "grid_row": null,
            "grid_template_areas": null,
            "grid_template_columns": null,
            "grid_template_rows": null,
            "height": null,
            "justify_content": null,
            "justify_items": null,
            "left": null,
            "margin": null,
            "max_height": null,
            "max_width": null,
            "min_height": null,
            "min_width": null,
            "object_fit": null,
            "object_position": null,
            "order": null,
            "overflow": null,
            "overflow_x": null,
            "overflow_y": null,
            "padding": null,
            "right": null,
            "top": null,
            "visibility": null,
            "width": null
          }
        },
        "359144b0581e456fa2c79ea60f3bd3e4": {
          "model_module": "@jupyter-widgets/base",
          "model_name": "LayoutModel",
          "model_module_version": "1.2.0",
          "state": {
            "_model_module": "@jupyter-widgets/base",
            "_model_module_version": "1.2.0",
            "_model_name": "LayoutModel",
            "_view_count": null,
            "_view_module": "@jupyter-widgets/base",
            "_view_module_version": "1.2.0",
            "_view_name": "LayoutView",
            "align_content": null,
            "align_items": null,
            "align_self": null,
            "border": null,
            "bottom": null,
            "display": null,
            "flex": null,
            "flex_flow": null,
            "grid_area": null,
            "grid_auto_columns": null,
            "grid_auto_flow": null,
            "grid_auto_rows": null,
            "grid_column": null,
            "grid_gap": null,
            "grid_row": null,
            "grid_template_areas": null,
            "grid_template_columns": null,
            "grid_template_rows": null,
            "height": null,
            "justify_content": null,
            "justify_items": null,
            "left": null,
            "margin": null,
            "max_height": null,
            "max_width": null,
            "min_height": null,
            "min_width": null,
            "object_fit": null,
            "object_position": null,
            "order": null,
            "overflow": null,
            "overflow_x": null,
            "overflow_y": null,
            "padding": null,
            "right": null,
            "top": null,
            "visibility": null,
            "width": null
          }
        },
        "dd8b50ed0a194ba3b0c3c8bd17b01334": {
          "model_module": "@jupyter-widgets/controls",
          "model_name": "DescriptionStyleModel",
          "model_module_version": "1.5.0",
          "state": {
            "_model_module": "@jupyter-widgets/controls",
            "_model_module_version": "1.5.0",
            "_model_name": "DescriptionStyleModel",
            "_view_count": null,
            "_view_module": "@jupyter-widgets/base",
            "_view_module_version": "1.2.0",
            "_view_name": "StyleView",
            "description_width": ""
          }
        },
        "cba81d4fddcb42b688b813f15e404030": {
          "model_module": "@jupyter-widgets/base",
          "model_name": "LayoutModel",
          "model_module_version": "1.2.0",
          "state": {
            "_model_module": "@jupyter-widgets/base",
            "_model_module_version": "1.2.0",
            "_model_name": "LayoutModel",
            "_view_count": null,
            "_view_module": "@jupyter-widgets/base",
            "_view_module_version": "1.2.0",
            "_view_name": "LayoutView",
            "align_content": null,
            "align_items": null,
            "align_self": null,
            "border": null,
            "bottom": null,
            "display": null,
            "flex": null,
            "flex_flow": null,
            "grid_area": null,
            "grid_auto_columns": null,
            "grid_auto_flow": null,
            "grid_auto_rows": null,
            "grid_column": null,
            "grid_gap": null,
            "grid_row": null,
            "grid_template_areas": null,
            "grid_template_columns": null,
            "grid_template_rows": null,
            "height": null,
            "justify_content": null,
            "justify_items": null,
            "left": null,
            "margin": null,
            "max_height": null,
            "max_width": null,
            "min_height": null,
            "min_width": null,
            "object_fit": null,
            "object_position": null,
            "order": null,
            "overflow": null,
            "overflow_x": null,
            "overflow_y": null,
            "padding": null,
            "right": null,
            "top": null,
            "visibility": null,
            "width": null
          }
        },
        "2dc939aa81b546c6abd8da8e9aa9b350": {
          "model_module": "@jupyter-widgets/controls",
          "model_name": "ProgressStyleModel",
          "model_module_version": "1.5.0",
          "state": {
            "_model_module": "@jupyter-widgets/controls",
            "_model_module_version": "1.5.0",
            "_model_name": "ProgressStyleModel",
            "_view_count": null,
            "_view_module": "@jupyter-widgets/base",
            "_view_module_version": "1.2.0",
            "_view_name": "StyleView",
            "bar_color": null,
            "description_width": ""
          }
        },
        "9b343f8ea14b463aa3382d929afe8c87": {
          "model_module": "@jupyter-widgets/base",
          "model_name": "LayoutModel",
          "model_module_version": "1.2.0",
          "state": {
            "_model_module": "@jupyter-widgets/base",
            "_model_module_version": "1.2.0",
            "_model_name": "LayoutModel",
            "_view_count": null,
            "_view_module": "@jupyter-widgets/base",
            "_view_module_version": "1.2.0",
            "_view_name": "LayoutView",
            "align_content": null,
            "align_items": null,
            "align_self": null,
            "border": null,
            "bottom": null,
            "display": null,
            "flex": null,
            "flex_flow": null,
            "grid_area": null,
            "grid_auto_columns": null,
            "grid_auto_flow": null,
            "grid_auto_rows": null,
            "grid_column": null,
            "grid_gap": null,
            "grid_row": null,
            "grid_template_areas": null,
            "grid_template_columns": null,
            "grid_template_rows": null,
            "height": null,
            "justify_content": null,
            "justify_items": null,
            "left": null,
            "margin": null,
            "max_height": null,
            "max_width": null,
            "min_height": null,
            "min_width": null,
            "object_fit": null,
            "object_position": null,
            "order": null,
            "overflow": null,
            "overflow_x": null,
            "overflow_y": null,
            "padding": null,
            "right": null,
            "top": null,
            "visibility": null,
            "width": null
          }
        },
        "6933fe38dfc64c46a8faea8e029bd47b": {
          "model_module": "@jupyter-widgets/controls",
          "model_name": "DescriptionStyleModel",
          "model_module_version": "1.5.0",
          "state": {
            "_model_module": "@jupyter-widgets/controls",
            "_model_module_version": "1.5.0",
            "_model_name": "DescriptionStyleModel",
            "_view_count": null,
            "_view_module": "@jupyter-widgets/base",
            "_view_module_version": "1.2.0",
            "_view_name": "StyleView",
            "description_width": ""
          }
        },
        "bca32338dfa744c2a38db1359e8ffd58": {
          "model_module": "@jupyter-widgets/controls",
          "model_name": "HBoxModel",
          "model_module_version": "1.5.0",
          "state": {
            "_dom_classes": [],
            "_model_module": "@jupyter-widgets/controls",
            "_model_module_version": "1.5.0",
            "_model_name": "HBoxModel",
            "_view_count": null,
            "_view_module": "@jupyter-widgets/controls",
            "_view_module_version": "1.5.0",
            "_view_name": "HBoxView",
            "box_style": "",
            "children": [
              "IPY_MODEL_cc6bca3031d140a1b789462d55e3056b",
              "IPY_MODEL_8fa0291e4f434bab9f7907f9d7d8003f",
              "IPY_MODEL_568581374eaa4bb9aedda698ae4408a2"
            ],
            "layout": "IPY_MODEL_d0b068b791544f59a51c163f4685206e"
          }
        },
        "cc6bca3031d140a1b789462d55e3056b": {
          "model_module": "@jupyter-widgets/controls",
          "model_name": "HTMLModel",
          "model_module_version": "1.5.0",
          "state": {
            "_dom_classes": [],
            "_model_module": "@jupyter-widgets/controls",
            "_model_module_version": "1.5.0",
            "_model_name": "HTMLModel",
            "_view_count": null,
            "_view_module": "@jupyter-widgets/controls",
            "_view_module_version": "1.5.0",
            "_view_name": "HTMLView",
            "description": "",
            "description_tooltip": null,
            "layout": "IPY_MODEL_59606bfecb0b42ab92194f9ec6c95d19",
            "placeholder": "​",
            "style": "IPY_MODEL_5ba2c1e262a94563ae1d76f4e582c878",
            "value": ""
          }
        },
        "8fa0291e4f434bab9f7907f9d7d8003f": {
          "model_module": "@jupyter-widgets/controls",
          "model_name": "FloatProgressModel",
          "model_module_version": "1.5.0",
          "state": {
            "_dom_classes": [],
            "_model_module": "@jupyter-widgets/controls",
            "_model_module_version": "1.5.0",
            "_model_name": "FloatProgressModel",
            "_view_count": null,
            "_view_module": "@jupyter-widgets/controls",
            "_view_module_version": "1.5.0",
            "_view_name": "ProgressView",
            "bar_style": "success",
            "description": "",
            "description_tooltip": null,
            "layout": "IPY_MODEL_2765222d2bcc4c1ea29b9079aa4f5b03",
            "max": 4422102,
            "min": 0,
            "orientation": "horizontal",
            "style": "IPY_MODEL_123525ce6544412d9882f58f34b45331",
            "value": 4422102
          }
        },
        "568581374eaa4bb9aedda698ae4408a2": {
          "model_module": "@jupyter-widgets/controls",
          "model_name": "HTMLModel",
          "model_module_version": "1.5.0",
          "state": {
            "_dom_classes": [],
            "_model_module": "@jupyter-widgets/controls",
            "_model_module_version": "1.5.0",
            "_model_name": "HTMLModel",
            "_view_count": null,
            "_view_module": "@jupyter-widgets/controls",
            "_view_module_version": "1.5.0",
            "_view_name": "HTMLView",
            "description": "",
            "description_tooltip": null,
            "layout": "IPY_MODEL_2b187f4ae58e4cd59ababa4e3e2bb57e",
            "placeholder": "​",
            "style": "IPY_MODEL_6975307310e74c49acc82ef658f2a359",
            "value": " 4422656/? [00:00&lt;00:00, 7752676.31it/s]"
          }
        },
        "d0b068b791544f59a51c163f4685206e": {
          "model_module": "@jupyter-widgets/base",
          "model_name": "LayoutModel",
          "model_module_version": "1.2.0",
          "state": {
            "_model_module": "@jupyter-widgets/base",
            "_model_module_version": "1.2.0",
            "_model_name": "LayoutModel",
            "_view_count": null,
            "_view_module": "@jupyter-widgets/base",
            "_view_module_version": "1.2.0",
            "_view_name": "LayoutView",
            "align_content": null,
            "align_items": null,
            "align_self": null,
            "border": null,
            "bottom": null,
            "display": null,
            "flex": null,
            "flex_flow": null,
            "grid_area": null,
            "grid_auto_columns": null,
            "grid_auto_flow": null,
            "grid_auto_rows": null,
            "grid_column": null,
            "grid_gap": null,
            "grid_row": null,
            "grid_template_areas": null,
            "grid_template_columns": null,
            "grid_template_rows": null,
            "height": null,
            "justify_content": null,
            "justify_items": null,
            "left": null,
            "margin": null,
            "max_height": null,
            "max_width": null,
            "min_height": null,
            "min_width": null,
            "object_fit": null,
            "object_position": null,
            "order": null,
            "overflow": null,
            "overflow_x": null,
            "overflow_y": null,
            "padding": null,
            "right": null,
            "top": null,
            "visibility": null,
            "width": null
          }
        },
        "59606bfecb0b42ab92194f9ec6c95d19": {
          "model_module": "@jupyter-widgets/base",
          "model_name": "LayoutModel",
          "model_module_version": "1.2.0",
          "state": {
            "_model_module": "@jupyter-widgets/base",
            "_model_module_version": "1.2.0",
            "_model_name": "LayoutModel",
            "_view_count": null,
            "_view_module": "@jupyter-widgets/base",
            "_view_module_version": "1.2.0",
            "_view_name": "LayoutView",
            "align_content": null,
            "align_items": null,
            "align_self": null,
            "border": null,
            "bottom": null,
            "display": null,
            "flex": null,
            "flex_flow": null,
            "grid_area": null,
            "grid_auto_columns": null,
            "grid_auto_flow": null,
            "grid_auto_rows": null,
            "grid_column": null,
            "grid_gap": null,
            "grid_row": null,
            "grid_template_areas": null,
            "grid_template_columns": null,
            "grid_template_rows": null,
            "height": null,
            "justify_content": null,
            "justify_items": null,
            "left": null,
            "margin": null,
            "max_height": null,
            "max_width": null,
            "min_height": null,
            "min_width": null,
            "object_fit": null,
            "object_position": null,
            "order": null,
            "overflow": null,
            "overflow_x": null,
            "overflow_y": null,
            "padding": null,
            "right": null,
            "top": null,
            "visibility": null,
            "width": null
          }
        },
        "5ba2c1e262a94563ae1d76f4e582c878": {
          "model_module": "@jupyter-widgets/controls",
          "model_name": "DescriptionStyleModel",
          "model_module_version": "1.5.0",
          "state": {
            "_model_module": "@jupyter-widgets/controls",
            "_model_module_version": "1.5.0",
            "_model_name": "DescriptionStyleModel",
            "_view_count": null,
            "_view_module": "@jupyter-widgets/base",
            "_view_module_version": "1.2.0",
            "_view_name": "StyleView",
            "description_width": ""
          }
        },
        "2765222d2bcc4c1ea29b9079aa4f5b03": {
          "model_module": "@jupyter-widgets/base",
          "model_name": "LayoutModel",
          "model_module_version": "1.2.0",
          "state": {
            "_model_module": "@jupyter-widgets/base",
            "_model_module_version": "1.2.0",
            "_model_name": "LayoutModel",
            "_view_count": null,
            "_view_module": "@jupyter-widgets/base",
            "_view_module_version": "1.2.0",
            "_view_name": "LayoutView",
            "align_content": null,
            "align_items": null,
            "align_self": null,
            "border": null,
            "bottom": null,
            "display": null,
            "flex": null,
            "flex_flow": null,
            "grid_area": null,
            "grid_auto_columns": null,
            "grid_auto_flow": null,
            "grid_auto_rows": null,
            "grid_column": null,
            "grid_gap": null,
            "grid_row": null,
            "grid_template_areas": null,
            "grid_template_columns": null,
            "grid_template_rows": null,
            "height": null,
            "justify_content": null,
            "justify_items": null,
            "left": null,
            "margin": null,
            "max_height": null,
            "max_width": null,
            "min_height": null,
            "min_width": null,
            "object_fit": null,
            "object_position": null,
            "order": null,
            "overflow": null,
            "overflow_x": null,
            "overflow_y": null,
            "padding": null,
            "right": null,
            "top": null,
            "visibility": null,
            "width": null
          }
        },
        "123525ce6544412d9882f58f34b45331": {
          "model_module": "@jupyter-widgets/controls",
          "model_name": "ProgressStyleModel",
          "model_module_version": "1.5.0",
          "state": {
            "_model_module": "@jupyter-widgets/controls",
            "_model_module_version": "1.5.0",
            "_model_name": "ProgressStyleModel",
            "_view_count": null,
            "_view_module": "@jupyter-widgets/base",
            "_view_module_version": "1.2.0",
            "_view_name": "StyleView",
            "bar_color": null,
            "description_width": ""
          }
        },
        "2b187f4ae58e4cd59ababa4e3e2bb57e": {
          "model_module": "@jupyter-widgets/base",
          "model_name": "LayoutModel",
          "model_module_version": "1.2.0",
          "state": {
            "_model_module": "@jupyter-widgets/base",
            "_model_module_version": "1.2.0",
            "_model_name": "LayoutModel",
            "_view_count": null,
            "_view_module": "@jupyter-widgets/base",
            "_view_module_version": "1.2.0",
            "_view_name": "LayoutView",
            "align_content": null,
            "align_items": null,
            "align_self": null,
            "border": null,
            "bottom": null,
            "display": null,
            "flex": null,
            "flex_flow": null,
            "grid_area": null,
            "grid_auto_columns": null,
            "grid_auto_flow": null,
            "grid_auto_rows": null,
            "grid_column": null,
            "grid_gap": null,
            "grid_row": null,
            "grid_template_areas": null,
            "grid_template_columns": null,
            "grid_template_rows": null,
            "height": null,
            "justify_content": null,
            "justify_items": null,
            "left": null,
            "margin": null,
            "max_height": null,
            "max_width": null,
            "min_height": null,
            "min_width": null,
            "object_fit": null,
            "object_position": null,
            "order": null,
            "overflow": null,
            "overflow_x": null,
            "overflow_y": null,
            "padding": null,
            "right": null,
            "top": null,
            "visibility": null,
            "width": null
          }
        },
        "6975307310e74c49acc82ef658f2a359": {
          "model_module": "@jupyter-widgets/controls",
          "model_name": "DescriptionStyleModel",
          "model_module_version": "1.5.0",
          "state": {
            "_model_module": "@jupyter-widgets/controls",
            "_model_module_version": "1.5.0",
            "_model_name": "DescriptionStyleModel",
            "_view_count": null,
            "_view_module": "@jupyter-widgets/base",
            "_view_module_version": "1.2.0",
            "_view_name": "StyleView",
            "description_width": ""
          }
        },
        "5411410dadf246949c7a73393251f7b6": {
          "model_module": "@jupyter-widgets/controls",
          "model_name": "HBoxModel",
          "model_module_version": "1.5.0",
          "state": {
            "_dom_classes": [],
            "_model_module": "@jupyter-widgets/controls",
            "_model_module_version": "1.5.0",
            "_model_name": "HBoxModel",
            "_view_count": null,
            "_view_module": "@jupyter-widgets/controls",
            "_view_module_version": "1.5.0",
            "_view_name": "HBoxView",
            "box_style": "",
            "children": [
              "IPY_MODEL_fae27de25e004f189bb81ea4ff2ea357",
              "IPY_MODEL_45da4dc702af4e1086f857b7d76e3d0c",
              "IPY_MODEL_0a85fd8985a14966b214f6dc25d57ad8"
            ],
            "layout": "IPY_MODEL_ad40ba4630ff403a8aca7fa035f5bde6"
          }
        },
        "fae27de25e004f189bb81ea4ff2ea357": {
          "model_module": "@jupyter-widgets/controls",
          "model_name": "HTMLModel",
          "model_module_version": "1.5.0",
          "state": {
            "_dom_classes": [],
            "_model_module": "@jupyter-widgets/controls",
            "_model_module_version": "1.5.0",
            "_model_name": "HTMLModel",
            "_view_count": null,
            "_view_module": "@jupyter-widgets/controls",
            "_view_module_version": "1.5.0",
            "_view_name": "HTMLView",
            "description": "",
            "description_tooltip": null,
            "layout": "IPY_MODEL_e0077aa183354bc9a0f5bd227295ecfd",
            "placeholder": "​",
            "style": "IPY_MODEL_cdb50b3d8a4745e482fef3c744d50e43",
            "value": ""
          }
        },
        "45da4dc702af4e1086f857b7d76e3d0c": {
          "model_module": "@jupyter-widgets/controls",
          "model_name": "FloatProgressModel",
          "model_module_version": "1.5.0",
          "state": {
            "_dom_classes": [],
            "_model_module": "@jupyter-widgets/controls",
            "_model_module_version": "1.5.0",
            "_model_name": "FloatProgressModel",
            "_view_count": null,
            "_view_module": "@jupyter-widgets/controls",
            "_view_module_version": "1.5.0",
            "_view_name": "ProgressView",
            "bar_style": "success",
            "description": "",
            "description_tooltip": null,
            "layout": "IPY_MODEL_6ac19ba1619b459c9e14735f2e4c159c",
            "max": 5148,
            "min": 0,
            "orientation": "horizontal",
            "style": "IPY_MODEL_2627ae829f4e4e089c89aeb8b1408918",
            "value": 5148
          }
        },
        "0a85fd8985a14966b214f6dc25d57ad8": {
          "model_module": "@jupyter-widgets/controls",
          "model_name": "HTMLModel",
          "model_module_version": "1.5.0",
          "state": {
            "_dom_classes": [],
            "_model_module": "@jupyter-widgets/controls",
            "_model_module_version": "1.5.0",
            "_model_name": "HTMLModel",
            "_view_count": null,
            "_view_module": "@jupyter-widgets/controls",
            "_view_module_version": "1.5.0",
            "_view_name": "HTMLView",
            "description": "",
            "description_tooltip": null,
            "layout": "IPY_MODEL_fbfc9a68207a4310910c24bcc0d2fa6a",
            "placeholder": "​",
            "style": "IPY_MODEL_f02de1638629466391fe0b905b1b313c",
            "value": " 6144/? [00:00&lt;00:00, 172071.71it/s]"
          }
        },
        "ad40ba4630ff403a8aca7fa035f5bde6": {
          "model_module": "@jupyter-widgets/base",
          "model_name": "LayoutModel",
          "model_module_version": "1.2.0",
          "state": {
            "_model_module": "@jupyter-widgets/base",
            "_model_module_version": "1.2.0",
            "_model_name": "LayoutModel",
            "_view_count": null,
            "_view_module": "@jupyter-widgets/base",
            "_view_module_version": "1.2.0",
            "_view_name": "LayoutView",
            "align_content": null,
            "align_items": null,
            "align_self": null,
            "border": null,
            "bottom": null,
            "display": null,
            "flex": null,
            "flex_flow": null,
            "grid_area": null,
            "grid_auto_columns": null,
            "grid_auto_flow": null,
            "grid_auto_rows": null,
            "grid_column": null,
            "grid_gap": null,
            "grid_row": null,
            "grid_template_areas": null,
            "grid_template_columns": null,
            "grid_template_rows": null,
            "height": null,
            "justify_content": null,
            "justify_items": null,
            "left": null,
            "margin": null,
            "max_height": null,
            "max_width": null,
            "min_height": null,
            "min_width": null,
            "object_fit": null,
            "object_position": null,
            "order": null,
            "overflow": null,
            "overflow_x": null,
            "overflow_y": null,
            "padding": null,
            "right": null,
            "top": null,
            "visibility": null,
            "width": null
          }
        },
        "e0077aa183354bc9a0f5bd227295ecfd": {
          "model_module": "@jupyter-widgets/base",
          "model_name": "LayoutModel",
          "model_module_version": "1.2.0",
          "state": {
            "_model_module": "@jupyter-widgets/base",
            "_model_module_version": "1.2.0",
            "_model_name": "LayoutModel",
            "_view_count": null,
            "_view_module": "@jupyter-widgets/base",
            "_view_module_version": "1.2.0",
            "_view_name": "LayoutView",
            "align_content": null,
            "align_items": null,
            "align_self": null,
            "border": null,
            "bottom": null,
            "display": null,
            "flex": null,
            "flex_flow": null,
            "grid_area": null,
            "grid_auto_columns": null,
            "grid_auto_flow": null,
            "grid_auto_rows": null,
            "grid_column": null,
            "grid_gap": null,
            "grid_row": null,
            "grid_template_areas": null,
            "grid_template_columns": null,
            "grid_template_rows": null,
            "height": null,
            "justify_content": null,
            "justify_items": null,
            "left": null,
            "margin": null,
            "max_height": null,
            "max_width": null,
            "min_height": null,
            "min_width": null,
            "object_fit": null,
            "object_position": null,
            "order": null,
            "overflow": null,
            "overflow_x": null,
            "overflow_y": null,
            "padding": null,
            "right": null,
            "top": null,
            "visibility": null,
            "width": null
          }
        },
        "cdb50b3d8a4745e482fef3c744d50e43": {
          "model_module": "@jupyter-widgets/controls",
          "model_name": "DescriptionStyleModel",
          "model_module_version": "1.5.0",
          "state": {
            "_model_module": "@jupyter-widgets/controls",
            "_model_module_version": "1.5.0",
            "_model_name": "DescriptionStyleModel",
            "_view_count": null,
            "_view_module": "@jupyter-widgets/base",
            "_view_module_version": "1.2.0",
            "_view_name": "StyleView",
            "description_width": ""
          }
        },
        "6ac19ba1619b459c9e14735f2e4c159c": {
          "model_module": "@jupyter-widgets/base",
          "model_name": "LayoutModel",
          "model_module_version": "1.2.0",
          "state": {
            "_model_module": "@jupyter-widgets/base",
            "_model_module_version": "1.2.0",
            "_model_name": "LayoutModel",
            "_view_count": null,
            "_view_module": "@jupyter-widgets/base",
            "_view_module_version": "1.2.0",
            "_view_name": "LayoutView",
            "align_content": null,
            "align_items": null,
            "align_self": null,
            "border": null,
            "bottom": null,
            "display": null,
            "flex": null,
            "flex_flow": null,
            "grid_area": null,
            "grid_auto_columns": null,
            "grid_auto_flow": null,
            "grid_auto_rows": null,
            "grid_column": null,
            "grid_gap": null,
            "grid_row": null,
            "grid_template_areas": null,
            "grid_template_columns": null,
            "grid_template_rows": null,
            "height": null,
            "justify_content": null,
            "justify_items": null,
            "left": null,
            "margin": null,
            "max_height": null,
            "max_width": null,
            "min_height": null,
            "min_width": null,
            "object_fit": null,
            "object_position": null,
            "order": null,
            "overflow": null,
            "overflow_x": null,
            "overflow_y": null,
            "padding": null,
            "right": null,
            "top": null,
            "visibility": null,
            "width": null
          }
        },
        "2627ae829f4e4e089c89aeb8b1408918": {
          "model_module": "@jupyter-widgets/controls",
          "model_name": "ProgressStyleModel",
          "model_module_version": "1.5.0",
          "state": {
            "_model_module": "@jupyter-widgets/controls",
            "_model_module_version": "1.5.0",
            "_model_name": "ProgressStyleModel",
            "_view_count": null,
            "_view_module": "@jupyter-widgets/base",
            "_view_module_version": "1.2.0",
            "_view_name": "StyleView",
            "bar_color": null,
            "description_width": ""
          }
        },
        "fbfc9a68207a4310910c24bcc0d2fa6a": {
          "model_module": "@jupyter-widgets/base",
          "model_name": "LayoutModel",
          "model_module_version": "1.2.0",
          "state": {
            "_model_module": "@jupyter-widgets/base",
            "_model_module_version": "1.2.0",
            "_model_name": "LayoutModel",
            "_view_count": null,
            "_view_module": "@jupyter-widgets/base",
            "_view_module_version": "1.2.0",
            "_view_name": "LayoutView",
            "align_content": null,
            "align_items": null,
            "align_self": null,
            "border": null,
            "bottom": null,
            "display": null,
            "flex": null,
            "flex_flow": null,
            "grid_area": null,
            "grid_auto_columns": null,
            "grid_auto_flow": null,
            "grid_auto_rows": null,
            "grid_column": null,
            "grid_gap": null,
            "grid_row": null,
            "grid_template_areas": null,
            "grid_template_columns": null,
            "grid_template_rows": null,
            "height": null,
            "justify_content": null,
            "justify_items": null,
            "left": null,
            "margin": null,
            "max_height": null,
            "max_width": null,
            "min_height": null,
            "min_width": null,
            "object_fit": null,
            "object_position": null,
            "order": null,
            "overflow": null,
            "overflow_x": null,
            "overflow_y": null,
            "padding": null,
            "right": null,
            "top": null,
            "visibility": null,
            "width": null
          }
        },
        "f02de1638629466391fe0b905b1b313c": {
          "model_module": "@jupyter-widgets/controls",
          "model_name": "DescriptionStyleModel",
          "model_module_version": "1.5.0",
          "state": {
            "_model_module": "@jupyter-widgets/controls",
            "_model_module_version": "1.5.0",
            "_model_name": "DescriptionStyleModel",
            "_view_count": null,
            "_view_module": "@jupyter-widgets/base",
            "_view_module_version": "1.2.0",
            "_view_name": "StyleView",
            "description_width": ""
          }
        }
      }
    }
  },
  "cells": [
    {
      "cell_type": "markdown",
      "metadata": {
        "id": "view-in-github",
        "colab_type": "text"
      },
      "source": [
        "<a href=\"https://colab.research.google.com/github/lipeng2021/-python1/blob/main/%E5%A4%9A%E5%B1%82%E6%84%9F%E7%9F%A5%E5%99%A8-%E6%9C%80%E7%BB%88%E7%A8%8B%E5%BA%8F.ipynb\" target=\"_parent\"><img src=\"https://colab.research.google.com/assets/colab-badge.svg\" alt=\"Open In Colab\"/></a>"
      ]
    },
    {
      "cell_type": "code",
      "execution_count": 5,
      "metadata": {
        "id": "JM83ZNh5XE9h"
      },
      "outputs": [],
      "source": [
        "import torch\n",
        "from IPython import display\n",
        "import torch.nn as nn\n",
        "import sys\n",
        "import torch.optim as optim\n",
        "import torchvision\n",
        "import torchvision.transforms as transforms\n",
        "import matplotlib.pyplot as plt\n",
        "import torch.nn.init as init\n",
        "FILENAME = './content/sample_data'"
      ]
    },
    {
      "cell_type": "code",
      "source": [
        "mnist_train = torchvision.datasets.FashionMNIST(root=FILENAME,train=True,transform=transforms.ToTensor(),download=True)\n",
        "mnist_test = torchvision.datasets.FashionMNIST(root=FILENAME,train=False,transform=transforms.ToTensor(),download=True)"
      ],
      "metadata": {
        "colab": {
          "base_uri": "https://localhost:8080/",
          "height": 453,
          "referenced_widgets": [
            "d91dbc8eeb4d4c5182bc7849ee6dc6ae",
            "2cd1f1dfaaca4b34a79005e65d889bd0",
            "fc829af6b10548dd8b359b29f7ed337b",
            "2c0d8eaeffff40b3963b083323c729f8",
            "ea954916677e4d88986fdbe1ecf53d23",
            "8dab20da76024bb9a73df1082545a56d",
            "5485a8748d5d494790983b5381e6ae6e",
            "cf9c3d324af845afb02c8c12a89f3547",
            "47902fbb535e47ceb80cddfbb4c0393d",
            "75e560e5e8ea4faa997917b0cb48ae51",
            "662dd6a8656a4760ac4f005039c7fb26",
            "7f78759e4bde441792b84ed073423d7a",
            "0c27204013b54d02aed6ea06718e0106",
            "7e1b8cef5c0a4f1c886fa03b34d65306",
            "d4e99bbbf46a473f9a7d9cd8bfb1fc6e",
            "523ba0eb87bc45b68015b46ad0921fbc",
            "359144b0581e456fa2c79ea60f3bd3e4",
            "dd8b50ed0a194ba3b0c3c8bd17b01334",
            "cba81d4fddcb42b688b813f15e404030",
            "2dc939aa81b546c6abd8da8e9aa9b350",
            "9b343f8ea14b463aa3382d929afe8c87",
            "6933fe38dfc64c46a8faea8e029bd47b",
            "bca32338dfa744c2a38db1359e8ffd58",
            "cc6bca3031d140a1b789462d55e3056b",
            "8fa0291e4f434bab9f7907f9d7d8003f",
            "568581374eaa4bb9aedda698ae4408a2",
            "d0b068b791544f59a51c163f4685206e",
            "59606bfecb0b42ab92194f9ec6c95d19",
            "5ba2c1e262a94563ae1d76f4e582c878",
            "2765222d2bcc4c1ea29b9079aa4f5b03",
            "123525ce6544412d9882f58f34b45331",
            "2b187f4ae58e4cd59ababa4e3e2bb57e",
            "6975307310e74c49acc82ef658f2a359",
            "5411410dadf246949c7a73393251f7b6",
            "fae27de25e004f189bb81ea4ff2ea357",
            "45da4dc702af4e1086f857b7d76e3d0c",
            "0a85fd8985a14966b214f6dc25d57ad8",
            "ad40ba4630ff403a8aca7fa035f5bde6",
            "e0077aa183354bc9a0f5bd227295ecfd",
            "cdb50b3d8a4745e482fef3c744d50e43",
            "6ac19ba1619b459c9e14735f2e4c159c",
            "2627ae829f4e4e089c89aeb8b1408918",
            "fbfc9a68207a4310910c24bcc0d2fa6a",
            "f02de1638629466391fe0b905b1b313c"
          ]
        },
        "id": "cL2P6-XkYHMh",
        "outputId": "c13ea1d1-3350-42fd-d051-8c880e06ed4e"
      },
      "execution_count": 6,
      "outputs": [
        {
          "output_type": "stream",
          "name": "stdout",
          "text": [
            "Downloading http://fashion-mnist.s3-website.eu-central-1.amazonaws.com/train-images-idx3-ubyte.gz\n",
            "Downloading http://fashion-mnist.s3-website.eu-central-1.amazonaws.com/train-images-idx3-ubyte.gz to ./content/sample_data/FashionMNIST/raw/train-images-idx3-ubyte.gz\n"
          ]
        },
        {
          "output_type": "display_data",
          "data": {
            "text/plain": [
              "  0%|          | 0/26421880 [00:00<?, ?it/s]"
            ],
            "application/vnd.jupyter.widget-view+json": {
              "version_major": 2,
              "version_minor": 0,
              "model_id": "d91dbc8eeb4d4c5182bc7849ee6dc6ae"
            }
          },
          "metadata": {}
        },
        {
          "output_type": "stream",
          "name": "stdout",
          "text": [
            "Extracting ./content/sample_data/FashionMNIST/raw/train-images-idx3-ubyte.gz to ./content/sample_data/FashionMNIST/raw\n",
            "\n",
            "Downloading http://fashion-mnist.s3-website.eu-central-1.amazonaws.com/train-labels-idx1-ubyte.gz\n",
            "Downloading http://fashion-mnist.s3-website.eu-central-1.amazonaws.com/train-labels-idx1-ubyte.gz to ./content/sample_data/FashionMNIST/raw/train-labels-idx1-ubyte.gz\n"
          ]
        },
        {
          "output_type": "display_data",
          "data": {
            "text/plain": [
              "  0%|          | 0/29515 [00:00<?, ?it/s]"
            ],
            "application/vnd.jupyter.widget-view+json": {
              "version_major": 2,
              "version_minor": 0,
              "model_id": "7f78759e4bde441792b84ed073423d7a"
            }
          },
          "metadata": {}
        },
        {
          "output_type": "stream",
          "name": "stdout",
          "text": [
            "Extracting ./content/sample_data/FashionMNIST/raw/train-labels-idx1-ubyte.gz to ./content/sample_data/FashionMNIST/raw\n",
            "\n",
            "Downloading http://fashion-mnist.s3-website.eu-central-1.amazonaws.com/t10k-images-idx3-ubyte.gz\n",
            "Downloading http://fashion-mnist.s3-website.eu-central-1.amazonaws.com/t10k-images-idx3-ubyte.gz to ./content/sample_data/FashionMNIST/raw/t10k-images-idx3-ubyte.gz\n"
          ]
        },
        {
          "output_type": "display_data",
          "data": {
            "text/plain": [
              "  0%|          | 0/4422102 [00:00<?, ?it/s]"
            ],
            "application/vnd.jupyter.widget-view+json": {
              "version_major": 2,
              "version_minor": 0,
              "model_id": "bca32338dfa744c2a38db1359e8ffd58"
            }
          },
          "metadata": {}
        },
        {
          "output_type": "stream",
          "name": "stdout",
          "text": [
            "Extracting ./content/sample_data/FashionMNIST/raw/t10k-images-idx3-ubyte.gz to ./content/sample_data/FashionMNIST/raw\n",
            "\n",
            "Downloading http://fashion-mnist.s3-website.eu-central-1.amazonaws.com/t10k-labels-idx1-ubyte.gz\n",
            "Downloading http://fashion-mnist.s3-website.eu-central-1.amazonaws.com/t10k-labels-idx1-ubyte.gz to ./content/sample_data/FashionMNIST/raw/t10k-labels-idx1-ubyte.gz\n"
          ]
        },
        {
          "output_type": "display_data",
          "data": {
            "text/plain": [
              "  0%|          | 0/5148 [00:00<?, ?it/s]"
            ],
            "application/vnd.jupyter.widget-view+json": {
              "version_major": 2,
              "version_minor": 0,
              "model_id": "5411410dadf246949c7a73393251f7b6"
            }
          },
          "metadata": {}
        },
        {
          "output_type": "stream",
          "name": "stdout",
          "text": [
            "Extracting ./content/sample_data/FashionMNIST/raw/t10k-labels-idx1-ubyte.gz to ./content/sample_data/FashionMNIST/raw\n",
            "\n"
          ]
        }
      ]
    },
    {
      "cell_type": "code",
      "source": [
        "def set_svg_figure():\n",
        "  display.set_matplotlib_formats('svg')"
      ],
      "metadata": {
        "id": "XeBv9jaxYp81"
      },
      "execution_count": 7,
      "outputs": []
    },
    {
      "cell_type": "code",
      "source": [
        "def get_fashion_mnist_labels(labels):\n",
        "  text_labels=['t-shirt','trouser','pullover','dress','coat','sandal','sneaker','bag','ankle','boot']\n",
        "  return (text_labels[int(i)]for i in labels)"
      ],
      "metadata": {
        "id": "SBf1od18Yvof"
      },
      "execution_count": 8,
      "outputs": []
    },
    {
      "cell_type": "code",
      "source": [
        "def show_fashion_mnist(images,labels):\n",
        "  set_svg_figure()\n",
        "  _,figures = plt.subplots(1,len(images),figsize=(12,12))\n",
        "  for f,image,lbl in zip(figures,images,labels):\n",
        "    f.imshow(image.view(28,28).numpy())\n",
        "    f.set_title(lbl)\n",
        "    f.axes.get_xaxis().set_visible(True)\n",
        "    f.axes.get_yaxis().set_visible(True)\n",
        "  plt.show()"
      ],
      "metadata": {
        "id": "wx2JGKkWZYJr"
      },
      "execution_count": 9,
      "outputs": []
    },
    {
      "cell_type": "code",
      "source": [
        "x=[]\n",
        "y=[]\n",
        "for i in range(5):\n",
        "  x.append(mnist_train[i][0])\n",
        "  y.append(mnist_train[i][1])\n",
        "show_fashion_mnist(x,get_fashion_mnist_labels(y))"
      ],
      "metadata": {
        "colab": {
          "base_uri": "https://localhost:8080/",
          "height": 236
        },
        "id": "7UXzojtYeLxB",
        "outputId": "9d1733e8-97d8-4fe4-8eeb-c66447f2293e"
      },
      "execution_count": 10,
      "outputs": [
        {
          "output_type": "display_data",
          "data": {
            "text/plain": [
              "<Figure size 864x864 with 5 Axes>"
            ],
            "image/svg+xml": "<?xml version=\"1.0\" encoding=\"utf-8\" standalone=\"no\"?>\n<!DOCTYPE svg PUBLIC \"-//W3C//DTD SVG 1.1//EN\"\n  \"http://www.w3.org/Graphics/SVG/1.1/DTD/svg11.dtd\">\n<!-- Created with matplotlib (https://matplotlib.org/) -->\n<svg height=\"161.644526pt\" version=\"1.1\" viewBox=\"0 0 703.725 161.644526\" width=\"703.725pt\" xmlns=\"http://www.w3.org/2000/svg\" xmlns:xlink=\"http://www.w3.org/1999/xlink\">\n <defs>\n  <style type=\"text/css\">\n*{stroke-linecap:butt;stroke-linejoin:round;}\n  </style>\n </defs>\n <g id=\"figure_1\">\n  <g id=\"patch_1\">\n   <path d=\"M 0 161.644526 \nL 703.725 161.644526 \nL 703.725 0 \nL 0 0 \nz\n\" style=\"fill:none;\"/>\n  </g>\n  <g id=\"axes_1\">\n   <g id=\"patch_2\">\n    <path d=\"M 26.925 137.766401 \nL 142.373276 137.766401 \nL 142.373276 22.318125 \nL 26.925 22.318125 \nz\n\" style=\"fill:#ffffff;\"/>\n   </g>\n   <g clip-path=\"url(#p85726c1c87)\">\n    <image height=\"116\" id=\"image5f7f52eccb\" transform=\"scale(1 -1)translate(0 -116)\" width=\"116\" x=\"26.925\" xlink:href=\"data:image/png;base64,\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\" y=\"-21.766401\"/>\n   </g>\n   <g id=\"matplotlib.axis_1\">\n    <g id=\"xtick_1\">\n     <g id=\"line2d_1\">\n      <defs>\n       <path d=\"M 0 0 \nL 0 3.5 \n\" id=\"m5b5b251fbf\" style=\"stroke:#000000;stroke-width:0.8;\"/>\n      </defs>\n      <g>\n       <use style=\"stroke:#000000;stroke-width:0.8;\" x=\"28.986576\" xlink:href=\"#m5b5b251fbf\" y=\"137.766401\"/>\n      </g>\n     </g>\n     <g id=\"text_1\">\n      <!-- 0 -->\n      <defs>\n       <path d=\"M 31.78125 66.40625 \nQ 24.171875 66.40625 20.328125 58.90625 \nQ 16.5 51.421875 16.5 36.375 \nQ 16.5 21.390625 20.328125 13.890625 \nQ 24.171875 6.390625 31.78125 6.390625 \nQ 39.453125 6.390625 43.28125 13.890625 \nQ 47.125 21.390625 47.125 36.375 \nQ 47.125 51.421875 43.28125 58.90625 \nQ 39.453125 66.40625 31.78125 66.40625 \nz\nM 31.78125 74.21875 \nQ 44.046875 74.21875 50.515625 64.515625 \nQ 56.984375 54.828125 56.984375 36.375 \nQ 56.984375 17.96875 50.515625 8.265625 \nQ 44.046875 -1.421875 31.78125 -1.421875 \nQ 19.53125 -1.421875 13.0625 8.265625 \nQ 6.59375 17.96875 6.59375 36.375 \nQ 6.59375 54.828125 13.0625 64.515625 \nQ 19.53125 74.21875 31.78125 74.21875 \nz\n\" id=\"DejaVuSans-48\"/>\n      </defs>\n      <g transform=\"translate(25.805326 152.364838)scale(0.1 -0.1)\">\n       <use xlink:href=\"#DejaVuSans-48\"/>\n      </g>\n     </g>\n    </g>\n    <g id=\"xtick_2\">\n     <g id=\"line2d_2\">\n      <g>\n       <use style=\"stroke:#000000;stroke-width:0.8;\" x=\"70.218103\" xlink:href=\"#m5b5b251fbf\" y=\"137.766401\"/>\n      </g>\n     </g>\n     <g id=\"text_2\">\n      <!-- 10 -->\n      <defs>\n       <path d=\"M 12.40625 8.296875 \nL 28.515625 8.296875 \nL 28.515625 63.921875 \nL 10.984375 60.40625 \nL 10.984375 69.390625 \nL 28.421875 72.90625 \nL 38.28125 72.90625 \nL 38.28125 8.296875 \nL 54.390625 8.296875 \nL 54.390625 0 \nL 12.40625 0 \nz\n\" id=\"DejaVuSans-49\"/>\n      </defs>\n      <g transform=\"translate(63.855603 152.364838)scale(0.1 -0.1)\">\n       <use xlink:href=\"#DejaVuSans-49\"/>\n       <use x=\"63.623047\" xlink:href=\"#DejaVuSans-48\"/>\n      </g>\n     </g>\n    </g>\n    <g id=\"xtick_3\">\n     <g id=\"line2d_3\">\n      <g>\n       <use style=\"stroke:#000000;stroke-width:0.8;\" x=\"111.449631\" xlink:href=\"#m5b5b251fbf\" y=\"137.766401\"/>\n      </g>\n     </g>\n     <g id=\"text_3\">\n      <!-- 20 -->\n      <defs>\n       <path d=\"M 19.1875 8.296875 \nL 53.609375 8.296875 \nL 53.609375 0 \nL 7.328125 0 \nL 7.328125 8.296875 \nQ 12.9375 14.109375 22.625 23.890625 \nQ 32.328125 33.6875 34.8125 36.53125 \nQ 39.546875 41.84375 41.421875 45.53125 \nQ 43.3125 49.21875 43.3125 52.78125 \nQ 43.3125 58.59375 39.234375 62.25 \nQ 35.15625 65.921875 28.609375 65.921875 \nQ 23.96875 65.921875 18.8125 64.3125 \nQ 13.671875 62.703125 7.8125 59.421875 \nL 7.8125 69.390625 \nQ 13.765625 71.78125 18.9375 73 \nQ 24.125 74.21875 28.421875 74.21875 \nQ 39.75 74.21875 46.484375 68.546875 \nQ 53.21875 62.890625 53.21875 53.421875 \nQ 53.21875 48.921875 51.53125 44.890625 \nQ 49.859375 40.875 45.40625 35.40625 \nQ 44.1875 33.984375 37.640625 27.21875 \nQ 31.109375 20.453125 19.1875 8.296875 \nz\n\" id=\"DejaVuSans-50\"/>\n      </defs>\n      <g transform=\"translate(105.087131 152.364838)scale(0.1 -0.1)\">\n       <use xlink:href=\"#DejaVuSans-50\"/>\n       <use x=\"63.623047\" xlink:href=\"#DejaVuSans-48\"/>\n      </g>\n     </g>\n    </g>\n   </g>\n   <g id=\"matplotlib.axis_2\">\n    <g id=\"ytick_1\">\n     <g id=\"line2d_4\">\n      <defs>\n       <path d=\"M 0 0 \nL -3.5 0 \n\" id=\"m14b2d82ee5\" style=\"stroke:#000000;stroke-width:0.8;\"/>\n      </defs>\n      <g>\n       <use style=\"stroke:#000000;stroke-width:0.8;\" x=\"26.925\" xlink:href=\"#m14b2d82ee5\" y=\"24.379701\"/>\n      </g>\n     </g>\n     <g id=\"text_4\">\n      <!-- 0 -->\n      <g transform=\"translate(13.5625 28.17892)scale(0.1 -0.1)\">\n       <use xlink:href=\"#DejaVuSans-48\"/>\n      </g>\n     </g>\n    </g>\n    <g id=\"ytick_2\">\n     <g id=\"line2d_5\">\n      <g>\n       <use style=\"stroke:#000000;stroke-width:0.8;\" x=\"26.925\" xlink:href=\"#m14b2d82ee5\" y=\"65.611228\"/>\n      </g>\n     </g>\n     <g id=\"text_5\">\n      <!-- 10 -->\n      <g transform=\"translate(7.2 69.410447)scale(0.1 -0.1)\">\n       <use xlink:href=\"#DejaVuSans-49\"/>\n       <use x=\"63.623047\" xlink:href=\"#DejaVuSans-48\"/>\n      </g>\n     </g>\n    </g>\n    <g id=\"ytick_3\">\n     <g id=\"line2d_6\">\n      <g>\n       <use style=\"stroke:#000000;stroke-width:0.8;\" x=\"26.925\" xlink:href=\"#m14b2d82ee5\" y=\"106.842756\"/>\n      </g>\n     </g>\n     <g id=\"text_6\">\n      <!-- 20 -->\n      <g transform=\"translate(7.2 110.641974)scale(0.1 -0.1)\">\n       <use xlink:href=\"#DejaVuSans-50\"/>\n       <use x=\"63.623047\" xlink:href=\"#DejaVuSans-48\"/>\n      </g>\n     </g>\n    </g>\n   </g>\n   <g id=\"patch_3\">\n    <path d=\"M 26.925 137.766401 \nL 26.925 22.318125 \n\" style=\"fill:none;stroke:#000000;stroke-linecap:square;stroke-linejoin:miter;stroke-width:0.8;\"/>\n   </g>\n   <g id=\"patch_4\">\n    <path d=\"M 142.373276 137.766401 \nL 142.373276 22.318125 \n\" style=\"fill:none;stroke:#000000;stroke-linecap:square;stroke-linejoin:miter;stroke-width:0.8;\"/>\n   </g>\n   <g id=\"patch_5\">\n    <path d=\"M 26.925 137.766401 \nL 142.373276 137.766401 \n\" style=\"fill:none;stroke:#000000;stroke-linecap:square;stroke-linejoin:miter;stroke-width:0.8;\"/>\n   </g>\n   <g id=\"patch_6\">\n    <path d=\"M 26.925 22.318125 \nL 142.373276 22.318125 \n\" style=\"fill:none;stroke:#000000;stroke-linecap:square;stroke-linejoin:miter;stroke-width:0.8;\"/>\n   </g>\n   <g id=\"text_7\">\n    <!-- boot -->\n    <defs>\n     <path d=\"M 48.6875 27.296875 \nQ 48.6875 37.203125 44.609375 42.84375 \nQ 40.53125 48.484375 33.40625 48.484375 \nQ 26.265625 48.484375 22.1875 42.84375 \nQ 18.109375 37.203125 18.109375 27.296875 \nQ 18.109375 17.390625 22.1875 11.75 \nQ 26.265625 6.109375 33.40625 6.109375 \nQ 40.53125 6.109375 44.609375 11.75 \nQ 48.6875 17.390625 48.6875 27.296875 \nz\nM 18.109375 46.390625 \nQ 20.953125 51.265625 25.265625 53.625 \nQ 29.59375 56 35.59375 56 \nQ 45.5625 56 51.78125 48.09375 \nQ 58.015625 40.1875 58.015625 27.296875 \nQ 58.015625 14.40625 51.78125 6.484375 \nQ 45.5625 -1.421875 35.59375 -1.421875 \nQ 29.59375 -1.421875 25.265625 0.953125 \nQ 20.953125 3.328125 18.109375 8.203125 \nL 18.109375 0 \nL 9.078125 0 \nL 9.078125 75.984375 \nL 18.109375 75.984375 \nz\n\" id=\"DejaVuSans-98\"/>\n     <path d=\"M 30.609375 48.390625 \nQ 23.390625 48.390625 19.1875 42.75 \nQ 14.984375 37.109375 14.984375 27.296875 \nQ 14.984375 17.484375 19.15625 11.84375 \nQ 23.34375 6.203125 30.609375 6.203125 \nQ 37.796875 6.203125 41.984375 11.859375 \nQ 46.1875 17.53125 46.1875 27.296875 \nQ 46.1875 37.015625 41.984375 42.703125 \nQ 37.796875 48.390625 30.609375 48.390625 \nz\nM 30.609375 56 \nQ 42.328125 56 49.015625 48.375 \nQ 55.71875 40.765625 55.71875 27.296875 \nQ 55.71875 13.875 49.015625 6.21875 \nQ 42.328125 -1.421875 30.609375 -1.421875 \nQ 18.84375 -1.421875 12.171875 6.21875 \nQ 5.515625 13.875 5.515625 27.296875 \nQ 5.515625 40.765625 12.171875 48.375 \nQ 18.84375 56 30.609375 56 \nz\n\" id=\"DejaVuSans-111\"/>\n     <path d=\"M 18.3125 70.21875 \nL 18.3125 54.6875 \nL 36.8125 54.6875 \nL 36.8125 47.703125 \nL 18.3125 47.703125 \nL 18.3125 18.015625 \nQ 18.3125 11.328125 20.140625 9.421875 \nQ 21.96875 7.515625 27.59375 7.515625 \nL 36.8125 7.515625 \nL 36.8125 0 \nL 27.59375 0 \nQ 17.1875 0 13.234375 3.875 \nQ 9.28125 7.765625 9.28125 18.015625 \nL 9.28125 47.703125 \nL 2.6875 47.703125 \nL 2.6875 54.6875 \nL 9.28125 54.6875 \nL 9.28125 70.21875 \nz\n\" id=\"DejaVuSans-116\"/>\n    </defs>\n    <g transform=\"translate(71.145388 16.318125)scale(0.12 -0.12)\">\n     <use xlink:href=\"#DejaVuSans-98\"/>\n     <use x=\"63.476562\" xlink:href=\"#DejaVuSans-111\"/>\n     <use x=\"124.658203\" xlink:href=\"#DejaVuSans-111\"/>\n     <use x=\"185.839844\" xlink:href=\"#DejaVuSans-116\"/>\n    </g>\n   </g>\n  </g>\n  <g id=\"axes_2\">\n   <g id=\"patch_7\">\n    <path d=\"M 165.462931 137.766401 \nL 280.911207 137.766401 \nL 280.911207 22.318125 \nL 165.462931 22.318125 \nz\n\" style=\"fill:#ffffff;\"/>\n   </g>\n   <g clip-path=\"url(#pc14d764229)\">\n    <image height=\"116\" id=\"image22566be9a5\" transform=\"scale(1 -1)translate(0 -116)\" width=\"116\" x=\"165.462931\" xlink:href=\"data:image/png;base64,\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\" y=\"-21.766401\"/>\n   </g>\n   <g id=\"matplotlib.axis_3\">\n    <g id=\"xtick_4\">\n     <g id=\"line2d_7\">\n      <g>\n       <use style=\"stroke:#000000;stroke-width:0.8;\" x=\"167.524507\" xlink:href=\"#m5b5b251fbf\" y=\"137.766401\"/>\n      </g>\n     </g>\n     <g id=\"text_8\">\n      <!-- 0 -->\n      <g transform=\"translate(164.343257 152.364838)scale(0.1 -0.1)\">\n       <use xlink:href=\"#DejaVuSans-48\"/>\n      </g>\n     </g>\n    </g>\n    <g id=\"xtick_5\">\n     <g id=\"line2d_8\">\n      <g>\n       <use style=\"stroke:#000000;stroke-width:0.8;\" x=\"208.756034\" xlink:href=\"#m5b5b251fbf\" y=\"137.766401\"/>\n      </g>\n     </g>\n     <g id=\"text_9\">\n      <!-- 10 -->\n      <g transform=\"translate(202.393534 152.364838)scale(0.1 -0.1)\">\n       <use xlink:href=\"#DejaVuSans-49\"/>\n       <use x=\"63.623047\" xlink:href=\"#DejaVuSans-48\"/>\n      </g>\n     </g>\n    </g>\n    <g id=\"xtick_6\">\n     <g id=\"line2d_9\">\n      <g>\n       <use style=\"stroke:#000000;stroke-width:0.8;\" x=\"249.987562\" xlink:href=\"#m5b5b251fbf\" y=\"137.766401\"/>\n      </g>\n     </g>\n     <g id=\"text_10\">\n      <!-- 20 -->\n      <g transform=\"translate(243.625062 152.364838)scale(0.1 -0.1)\">\n       <use xlink:href=\"#DejaVuSans-50\"/>\n       <use x=\"63.623047\" xlink:href=\"#DejaVuSans-48\"/>\n      </g>\n     </g>\n    </g>\n   </g>\n   <g id=\"matplotlib.axis_4\">\n    <g id=\"ytick_4\">\n     <g id=\"line2d_10\">\n      <g>\n       <use style=\"stroke:#000000;stroke-width:0.8;\" x=\"165.462931\" xlink:href=\"#m14b2d82ee5\" y=\"24.379701\"/>\n      </g>\n     </g>\n     <g id=\"text_11\">\n      <!-- 0 -->\n      <g transform=\"translate(152.100431 28.17892)scale(0.1 -0.1)\">\n       <use xlink:href=\"#DejaVuSans-48\"/>\n      </g>\n     </g>\n    </g>\n    <g id=\"ytick_5\">\n     <g id=\"line2d_11\">\n      <g>\n       <use style=\"stroke:#000000;stroke-width:0.8;\" x=\"165.462931\" xlink:href=\"#m14b2d82ee5\" y=\"65.611228\"/>\n      </g>\n     </g>\n     <g id=\"text_12\">\n      <!-- 10 -->\n      <g transform=\"translate(145.737931 69.410447)scale(0.1 -0.1)\">\n       <use xlink:href=\"#DejaVuSans-49\"/>\n       <use x=\"63.623047\" xlink:href=\"#DejaVuSans-48\"/>\n      </g>\n     </g>\n    </g>\n    <g id=\"ytick_6\">\n     <g id=\"line2d_12\">\n      <g>\n       <use style=\"stroke:#000000;stroke-width:0.8;\" x=\"165.462931\" xlink:href=\"#m14b2d82ee5\" y=\"106.842756\"/>\n      </g>\n     </g>\n     <g id=\"text_13\">\n      <!-- 20 -->\n      <g transform=\"translate(145.737931 110.641974)scale(0.1 -0.1)\">\n       <use xlink:href=\"#DejaVuSans-50\"/>\n       <use x=\"63.623047\" xlink:href=\"#DejaVuSans-48\"/>\n      </g>\n     </g>\n    </g>\n   </g>\n   <g id=\"patch_8\">\n    <path d=\"M 165.462931 137.766401 \nL 165.462931 22.318125 \n\" style=\"fill:none;stroke:#000000;stroke-linecap:square;stroke-linejoin:miter;stroke-width:0.8;\"/>\n   </g>\n   <g id=\"patch_9\">\n    <path d=\"M 280.911207 137.766401 \nL 280.911207 22.318125 \n\" style=\"fill:none;stroke:#000000;stroke-linecap:square;stroke-linejoin:miter;stroke-width:0.8;\"/>\n   </g>\n   <g id=\"patch_10\">\n    <path d=\"M 165.462931 137.766401 \nL 280.911207 137.766401 \n\" style=\"fill:none;stroke:#000000;stroke-linecap:square;stroke-linejoin:miter;stroke-width:0.8;\"/>\n   </g>\n   <g id=\"patch_11\">\n    <path d=\"M 165.462931 22.318125 \nL 280.911207 22.318125 \n\" style=\"fill:none;stroke:#000000;stroke-linecap:square;stroke-linejoin:miter;stroke-width:0.8;\"/>\n   </g>\n   <g id=\"text_14\">\n    <!-- t-shirt -->\n    <defs>\n     <path d=\"M 4.890625 31.390625 \nL 31.203125 31.390625 \nL 31.203125 23.390625 \nL 4.890625 23.390625 \nz\n\" id=\"DejaVuSans-45\"/>\n     <path d=\"M 44.28125 53.078125 \nL 44.28125 44.578125 \nQ 40.484375 46.53125 36.375 47.5 \nQ 32.28125 48.484375 27.875 48.484375 \nQ 21.1875 48.484375 17.84375 46.4375 \nQ 14.5 44.390625 14.5 40.28125 \nQ 14.5 37.15625 16.890625 35.375 \nQ 19.28125 33.59375 26.515625 31.984375 \nL 29.59375 31.296875 \nQ 39.15625 29.25 43.1875 25.515625 \nQ 47.21875 21.78125 47.21875 15.09375 \nQ 47.21875 7.46875 41.1875 3.015625 \nQ 35.15625 -1.421875 24.609375 -1.421875 \nQ 20.21875 -1.421875 15.453125 -0.5625 \nQ 10.6875 0.296875 5.421875 2 \nL 5.421875 11.28125 \nQ 10.40625 8.6875 15.234375 7.390625 \nQ 20.0625 6.109375 24.8125 6.109375 \nQ 31.15625 6.109375 34.5625 8.28125 \nQ 37.984375 10.453125 37.984375 14.40625 \nQ 37.984375 18.0625 35.515625 20.015625 \nQ 33.0625 21.96875 24.703125 23.78125 \nL 21.578125 24.515625 \nQ 13.234375 26.265625 9.515625 29.90625 \nQ 5.8125 33.546875 5.8125 39.890625 \nQ 5.8125 47.609375 11.28125 51.796875 \nQ 16.75 56 26.8125 56 \nQ 31.78125 56 36.171875 55.265625 \nQ 40.578125 54.546875 44.28125 53.078125 \nz\n\" id=\"DejaVuSans-115\"/>\n     <path d=\"M 54.890625 33.015625 \nL 54.890625 0 \nL 45.90625 0 \nL 45.90625 32.71875 \nQ 45.90625 40.484375 42.875 44.328125 \nQ 39.84375 48.1875 33.796875 48.1875 \nQ 26.515625 48.1875 22.3125 43.546875 \nQ 18.109375 38.921875 18.109375 30.90625 \nL 18.109375 0 \nL 9.078125 0 \nL 9.078125 75.984375 \nL 18.109375 75.984375 \nL 18.109375 46.1875 \nQ 21.34375 51.125 25.703125 53.5625 \nQ 30.078125 56 35.796875 56 \nQ 45.21875 56 50.046875 50.171875 \nQ 54.890625 44.34375 54.890625 33.015625 \nz\n\" id=\"DejaVuSans-104\"/>\n     <path d=\"M 9.421875 54.6875 \nL 18.40625 54.6875 \nL 18.40625 0 \nL 9.421875 0 \nz\nM 9.421875 75.984375 \nL 18.40625 75.984375 \nL 18.40625 64.59375 \nL 9.421875 64.59375 \nz\n\" id=\"DejaVuSans-105\"/>\n     <path d=\"M 41.109375 46.296875 \nQ 39.59375 47.171875 37.8125 47.578125 \nQ 36.03125 48 33.890625 48 \nQ 26.265625 48 22.1875 43.046875 \nQ 18.109375 38.09375 18.109375 28.8125 \nL 18.109375 0 \nL 9.078125 0 \nL 9.078125 54.6875 \nL 18.109375 54.6875 \nL 18.109375 46.1875 \nQ 20.953125 51.171875 25.484375 53.578125 \nQ 30.03125 56 36.53125 56 \nQ 37.453125 56 38.578125 55.875 \nQ 39.703125 55.765625 41.0625 55.515625 \nz\n\" id=\"DejaVuSans-114\"/>\n    </defs>\n    <g transform=\"translate(205.256444 16.318125)scale(0.12 -0.12)\">\n     <use xlink:href=\"#DejaVuSans-116\"/>\n     <use x=\"39.208984\" xlink:href=\"#DejaVuSans-45\"/>\n     <use x=\"75.292969\" xlink:href=\"#DejaVuSans-115\"/>\n     <use x=\"127.392578\" xlink:href=\"#DejaVuSans-104\"/>\n     <use x=\"190.771484\" xlink:href=\"#DejaVuSans-105\"/>\n     <use x=\"218.554688\" xlink:href=\"#DejaVuSans-114\"/>\n     <use x=\"259.667969\" xlink:href=\"#DejaVuSans-116\"/>\n    </g>\n   </g>\n  </g>\n  <g id=\"axes_3\">\n   <g id=\"patch_12\">\n    <path d=\"M 304.000862 137.766401 \nL 419.449138 137.766401 \nL 419.449138 22.318125 \nL 304.000862 22.318125 \nz\n\" style=\"fill:#ffffff;\"/>\n   </g>\n   <g clip-path=\"url(#p07746f13fd)\">\n    <image height=\"116\" id=\"image169c3239e6\" transform=\"scale(1 -1)translate(0 -116)\" width=\"116\" x=\"304.000862\" xlink:href=\"data:image/png;base64,\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\" y=\"-21.766401\"/>\n   </g>\n   <g id=\"matplotlib.axis_5\">\n    <g id=\"xtick_7\">\n     <g id=\"line2d_13\">\n      <g>\n       <use style=\"stroke:#000000;stroke-width:0.8;\" x=\"306.062438\" xlink:href=\"#m5b5b251fbf\" y=\"137.766401\"/>\n      </g>\n     </g>\n     <g id=\"text_15\">\n      <!-- 0 -->\n      <g transform=\"translate(302.881188 152.364838)scale(0.1 -0.1)\">\n       <use xlink:href=\"#DejaVuSans-48\"/>\n      </g>\n     </g>\n    </g>\n    <g id=\"xtick_8\">\n     <g id=\"line2d_14\">\n      <g>\n       <use style=\"stroke:#000000;stroke-width:0.8;\" x=\"347.293966\" xlink:href=\"#m5b5b251fbf\" y=\"137.766401\"/>\n      </g>\n     </g>\n     <g id=\"text_16\">\n      <!-- 10 -->\n      <g transform=\"translate(340.931466 152.364838)scale(0.1 -0.1)\">\n       <use xlink:href=\"#DejaVuSans-49\"/>\n       <use x=\"63.623047\" xlink:href=\"#DejaVuSans-48\"/>\n      </g>\n     </g>\n    </g>\n    <g id=\"xtick_9\">\n     <g id=\"line2d_15\">\n      <g>\n       <use style=\"stroke:#000000;stroke-width:0.8;\" x=\"388.525493\" xlink:href=\"#m5b5b251fbf\" y=\"137.766401\"/>\n      </g>\n     </g>\n     <g id=\"text_17\">\n      <!-- 20 -->\n      <g transform=\"translate(382.162993 152.364838)scale(0.1 -0.1)\">\n       <use xlink:href=\"#DejaVuSans-50\"/>\n       <use x=\"63.623047\" xlink:href=\"#DejaVuSans-48\"/>\n      </g>\n     </g>\n    </g>\n   </g>\n   <g id=\"matplotlib.axis_6\">\n    <g id=\"ytick_7\">\n     <g id=\"line2d_16\">\n      <g>\n       <use style=\"stroke:#000000;stroke-width:0.8;\" x=\"304.000862\" xlink:href=\"#m14b2d82ee5\" y=\"24.379701\"/>\n      </g>\n     </g>\n     <g id=\"text_18\">\n      <!-- 0 -->\n      <g transform=\"translate(290.638362 28.17892)scale(0.1 -0.1)\">\n       <use xlink:href=\"#DejaVuSans-48\"/>\n      </g>\n     </g>\n    </g>\n    <g id=\"ytick_8\">\n     <g id=\"line2d_17\">\n      <g>\n       <use style=\"stroke:#000000;stroke-width:0.8;\" x=\"304.000862\" xlink:href=\"#m14b2d82ee5\" y=\"65.611228\"/>\n      </g>\n     </g>\n     <g id=\"text_19\">\n      <!-- 10 -->\n      <g transform=\"translate(284.275862 69.410447)scale(0.1 -0.1)\">\n       <use xlink:href=\"#DejaVuSans-49\"/>\n       <use x=\"63.623047\" xlink:href=\"#DejaVuSans-48\"/>\n      </g>\n     </g>\n    </g>\n    <g id=\"ytick_9\">\n     <g id=\"line2d_18\">\n      <g>\n       <use style=\"stroke:#000000;stroke-width:0.8;\" x=\"304.000862\" xlink:href=\"#m14b2d82ee5\" y=\"106.842756\"/>\n      </g>\n     </g>\n     <g id=\"text_20\">\n      <!-- 20 -->\n      <g transform=\"translate(284.275862 110.641974)scale(0.1 -0.1)\">\n       <use xlink:href=\"#DejaVuSans-50\"/>\n       <use x=\"63.623047\" xlink:href=\"#DejaVuSans-48\"/>\n      </g>\n     </g>\n    </g>\n   </g>\n   <g id=\"patch_13\">\n    <path d=\"M 304.000862 137.766401 \nL 304.000862 22.318125 \n\" style=\"fill:none;stroke:#000000;stroke-linecap:square;stroke-linejoin:miter;stroke-width:0.8;\"/>\n   </g>\n   <g id=\"patch_14\">\n    <path d=\"M 419.449138 137.766401 \nL 419.449138 22.318125 \n\" style=\"fill:none;stroke:#000000;stroke-linecap:square;stroke-linejoin:miter;stroke-width:0.8;\"/>\n   </g>\n   <g id=\"patch_15\">\n    <path d=\"M 304.000862 137.766401 \nL 419.449138 137.766401 \n\" style=\"fill:none;stroke:#000000;stroke-linecap:square;stroke-linejoin:miter;stroke-width:0.8;\"/>\n   </g>\n   <g id=\"patch_16\">\n    <path d=\"M 304.000862 22.318125 \nL 419.449138 22.318125 \n\" style=\"fill:none;stroke:#000000;stroke-linecap:square;stroke-linejoin:miter;stroke-width:0.8;\"/>\n   </g>\n   <g id=\"text_21\">\n    <!-- t-shirt -->\n    <g transform=\"translate(343.794375 16.318125)scale(0.12 -0.12)\">\n     <use xlink:href=\"#DejaVuSans-116\"/>\n     <use x=\"39.208984\" xlink:href=\"#DejaVuSans-45\"/>\n     <use x=\"75.292969\" xlink:href=\"#DejaVuSans-115\"/>\n     <use x=\"127.392578\" xlink:href=\"#DejaVuSans-104\"/>\n     <use x=\"190.771484\" xlink:href=\"#DejaVuSans-105\"/>\n     <use x=\"218.554688\" xlink:href=\"#DejaVuSans-114\"/>\n     <use x=\"259.667969\" xlink:href=\"#DejaVuSans-116\"/>\n    </g>\n   </g>\n  </g>\n  <g id=\"axes_4\">\n   <g id=\"patch_17\">\n    <path d=\"M 442.538793 137.766401 \nL 557.987069 137.766401 \nL 557.987069 22.318125 \nL 442.538793 22.318125 \nz\n\" style=\"fill:#ffffff;\"/>\n   </g>\n   <g clip-path=\"url(#p2e8f63085c)\">\n    <image height=\"116\" id=\"image4abf56c6dd\" transform=\"scale(1 -1)translate(0 -116)\" width=\"116\" x=\"442.538793\" xlink:href=\"data:image/png;base64,\niVBORw0KGgoAAAANSUhEUgAAAHQAAAB0CAYAAABUmhYnAAAABHNCSVQICAgIfAhkiAAACB9JREFUeJztnc9vG0UUx2e9tuPYceI0xaSE/pRIWwlU0fbQ0kogVFohgZBQLwjoEYlD/wIkpB4RBw5cOVUcEBIIcYALQlSVKKKHCkR/qW3atCRp0iR2/Htt7y4HLv1+x3gbYTvR0/vcnnd2dpO3o+/MmzczzgnndGj6jJNIgh22mlgg5qId+Hj5wH6rzvDaHXzG3j1YxV831vmWMoht9AsovUUdKgx1qDDig3jIzHnUwHA2DXb2HpYvHGyDnciS5hpj3JuHwU4W8PrWpw/hO7zjgD1yE3V9qIBdieKrdeuZY78Mg904VQK7vjACdmYW+wbbv7gOtl+gl+4B2kKFoQ4VhjpUGAPRUGcGNZM/o3ij+/1B6Fi/JUniYi20548N4Q9t1OUYmqbwCr7EqefscezvP78Idm0NNdXEUIerO3E8vfLmPrBz5y9Zz/i/aAsVhjpUGOpQYQxEQ+NV1MBGPgA7VUCb8Rv2awYJtGNt1K/MPN3wAopuvIpjRrOMmnstP2k9c/wW6uzqcWoPAf6dIWlqstz97+wF2kKFoQ4VhjpUGOpQYQykU5Raxs5BYyter09gENstYfkgZc/BtzP4m0vx+/pT2EHJprFDEwTUKXoCmlnsiY3kymCXa1mwnTQGFjIPPLD7kVmgLVQY6lBhqEOFMRANHV7BAXWpid8R612ignbg2WrTymKdbpPuiaO9VsFAeo40N0hhfbO389YzJyZR67dlUUOrzTGwYyUs77RqYKuGKpGoQ4WhDhXGQDSUA+cOiYdP88Qu52cF9gR3OIGVhDEqQ2aziklhAf/lSdTQ4ZmkYcq78ZmlpQmweRIiTn2B2BImhfUjVK8tVBjqUGGoQ4UxEA3N3MGE5PDoONgOJWxxXNbpJDY0ecxJX1bxIv6ploa2Ue8c31i0d1I8uEzJ2nRPco3uX3jY/SV7gLZQYahDhaEOFcZANJQX3/qTuJAodRUTtFoZvD9urxsyJh5SGRZa/FbDePdxq9OM/rZTwyju7dkU2D4NXdOPOghxn9EWKgx1qDDUocIYiIYyGdJMTpoOkpQvVLRjuSZC8zqNIx+HNZSTogNa62SMMd4c5iGl6lhH8xkcDGdvV/EZ3V+pJ2gLFYY6VBjqUGH0R0MjNpLa/v0S2Dc+GgU7eQ8FrImXjTHGuBX8FstTaFvxX/p0a1M0R0uxXG9L9BiymaNFV0v47wyvXI2so9doCxWGOlQY6lBhqEOF0Z9OUdC9Q+HfvA328I2XwE4WsfzYPdrixBgTr+Mz4kVcCNTOYceqMYPRi0QVgwCuh/VVpuwkMWbxOHaK9n4+h+/AN0R0FnuBtlBhqEOFoQ4VxoYE55mpC7iI5+5bmHkdJCh6b4xpp/G3eAMnm+t5mtCm+H6SFhK5HtbXwrW7xhhjhh9inUNLWEd79oF90+P0QTMZbaHCUIcKQx0qjMFoaMT4qzaJY8bR/Stgr+ZwIa0xxjip7nrkLNPipDSOGcMdmPAVNOkdO+DtQQ3NXkn9R8mNQ1uoMNShwlCHCmMwGhox/hoqYtRzYQ0zrWM1W9+Sf9M4lJKx2W5l8Nt1aYfPRBX1kTfyMMaY5jhp6P0IHY86UaoPaAsVhjpUGOpQYWyKcWiQwO8qP4ETog9LuDmFMcY0c2jH61iHR9f9YYrD0qFG9TxvXGU90rRHWDM7JIBvMNpChaEOFYY6VBibYj7UGiPyzlSdoE+RE6tdTDEybVpE7I3zYiW8nsB1RsYYY/gAKLfDppIbjbZQYahDhaEOFcam0NDSLhynZigBKNZhcW+yiL/xhhU87kyUu48ZQ/pPcH3GGOPQJpK8UHkzoC1UGOpQYahDhaEOFcammOCubaOV0AEf42jf4w/RbpxN7khRJ4hiAC5FCTyavHY7fOq8yrtCq8bpYOqBTGgz2kKFoQ4VhjpUGJsisMADdj4FqdNn53rdJ6Q5OM8nTwQRO2CH0XnX1oKozYC2UGGoQ4WhDhVGXzQ0KsE4vmcX2rsrYDdWUPDcDnrH49AObwFWkMDyVpJZDctzcP/fStD0nrU389hotIUKQx0qDHWoMPqioVExzPd/vAD2uT/f6FreT9vBXKeCA0U+CdAqT+FkjvXyBHfH05wYKlM8cxTs3PlLT1BJb9EWKgx1qDDUocIYSCz3/se4OeN3y1vA9hZxJtEZwYFnLGnPp/p0bIN9ygOW59hva5Q20eCTmsr2tx7QYiWHFiIvn8RJ1okfcJGVv4ybgfQDbaHCUIcKQx0qDOeEc7rnk3qtk4fBXjuLJ/wWVnBnRKeIGcsBaahpR393DucQ5SLirCU+zinyERY8lvVHu+dOTX9wef0PWSfaQoWhDhWGOlQYfRmHzp6hTTEW6WgkyiGK5XH8lh5C/Wu37QSfVh01MIxTnbx5YwpFkiO/YeoJRJQXK/FYlzZV3kKbUK69dwTssS9/i37mOtEWKgx1qDDUocJQhwqjL52i6U+xkzN3Dq+Xl/Do45A6Gx6d0MDXO7Fzx3LX623qwfi0Sny1hNuk+H6H4DwFOJxV7Hi52/F0i0dzmIk23YdOEKMtVBjqUGGoQ4XRFw0N/rgOduZrHFBPf4inExY8nODOJDDJrOTZpy9MZjDgf3bbT2AfS+G3+k0FgxvVAPXv4tpesO9Xxq1nZpPYN3j50C2wP7t8AuxBBOMZbaHCUIcKQx0qjL5McK+X2PP7wJ5/DZPIxl+ft+5ZKKAm5r/CBU7Zi6jTjYO7wb77Nn7L7x7BpOhFjyYUjDGXvj0A9tQnv1plNhptocJQhwpDHSqMfwBnJjwKWgdjpgAAAABJRU5ErkJggg==\" y=\"-21.766401\"/>\n   </g>\n   <g id=\"matplotlib.axis_7\">\n    <g id=\"xtick_10\">\n     <g id=\"line2d_19\">\n      <g>\n       <use style=\"stroke:#000000;stroke-width:0.8;\" x=\"444.600369\" xlink:href=\"#m5b5b251fbf\" y=\"137.766401\"/>\n      </g>\n     </g>\n     <g id=\"text_22\">\n      <!-- 0 -->\n      <g transform=\"translate(441.419119 152.364838)scale(0.1 -0.1)\">\n       <use xlink:href=\"#DejaVuSans-48\"/>\n      </g>\n     </g>\n    </g>\n    <g id=\"xtick_11\">\n     <g id=\"line2d_20\">\n      <g>\n       <use style=\"stroke:#000000;stroke-width:0.8;\" x=\"485.831897\" xlink:href=\"#m5b5b251fbf\" y=\"137.766401\"/>\n      </g>\n     </g>\n     <g id=\"text_23\">\n      <!-- 10 -->\n      <g transform=\"translate(479.469397 152.364838)scale(0.1 -0.1)\">\n       <use xlink:href=\"#DejaVuSans-49\"/>\n       <use x=\"63.623047\" xlink:href=\"#DejaVuSans-48\"/>\n      </g>\n     </g>\n    </g>\n    <g id=\"xtick_12\">\n     <g id=\"line2d_21\">\n      <g>\n       <use style=\"stroke:#000000;stroke-width:0.8;\" x=\"527.063424\" xlink:href=\"#m5b5b251fbf\" y=\"137.766401\"/>\n      </g>\n     </g>\n     <g id=\"text_24\">\n      <!-- 20 -->\n      <g transform=\"translate(520.700924 152.364838)scale(0.1 -0.1)\">\n       <use xlink:href=\"#DejaVuSans-50\"/>\n       <use x=\"63.623047\" xlink:href=\"#DejaVuSans-48\"/>\n      </g>\n     </g>\n    </g>\n   </g>\n   <g id=\"matplotlib.axis_8\">\n    <g id=\"ytick_10\">\n     <g id=\"line2d_22\">\n      <g>\n       <use style=\"stroke:#000000;stroke-width:0.8;\" x=\"442.538793\" xlink:href=\"#m14b2d82ee5\" y=\"24.379701\"/>\n      </g>\n     </g>\n     <g id=\"text_25\">\n      <!-- 0 -->\n      <g transform=\"translate(429.176293 28.17892)scale(0.1 -0.1)\">\n       <use xlink:href=\"#DejaVuSans-48\"/>\n      </g>\n     </g>\n    </g>\n    <g id=\"ytick_11\">\n     <g id=\"line2d_23\">\n      <g>\n       <use style=\"stroke:#000000;stroke-width:0.8;\" x=\"442.538793\" xlink:href=\"#m14b2d82ee5\" y=\"65.611228\"/>\n      </g>\n     </g>\n     <g id=\"text_26\">\n      <!-- 10 -->\n      <g transform=\"translate(422.813793 69.410447)scale(0.1 -0.1)\">\n       <use xlink:href=\"#DejaVuSans-49\"/>\n       <use x=\"63.623047\" xlink:href=\"#DejaVuSans-48\"/>\n      </g>\n     </g>\n    </g>\n    <g id=\"ytick_12\">\n     <g id=\"line2d_24\">\n      <g>\n       <use style=\"stroke:#000000;stroke-width:0.8;\" x=\"442.538793\" xlink:href=\"#m14b2d82ee5\" y=\"106.842756\"/>\n      </g>\n     </g>\n     <g id=\"text_27\">\n      <!-- 20 -->\n      <g transform=\"translate(422.813793 110.641974)scale(0.1 -0.1)\">\n       <use xlink:href=\"#DejaVuSans-50\"/>\n       <use x=\"63.623047\" xlink:href=\"#DejaVuSans-48\"/>\n      </g>\n     </g>\n    </g>\n   </g>\n   <g id=\"patch_18\">\n    <path d=\"M 442.538793 137.766401 \nL 442.538793 22.318125 \n\" style=\"fill:none;stroke:#000000;stroke-linecap:square;stroke-linejoin:miter;stroke-width:0.8;\"/>\n   </g>\n   <g id=\"patch_19\">\n    <path d=\"M 557.987069 137.766401 \nL 557.987069 22.318125 \n\" style=\"fill:none;stroke:#000000;stroke-linecap:square;stroke-linejoin:miter;stroke-width:0.8;\"/>\n   </g>\n   <g id=\"patch_20\">\n    <path d=\"M 442.538793 137.766401 \nL 557.987069 137.766401 \n\" style=\"fill:none;stroke:#000000;stroke-linecap:square;stroke-linejoin:miter;stroke-width:0.8;\"/>\n   </g>\n   <g id=\"patch_21\">\n    <path d=\"M 442.538793 22.318125 \nL 557.987069 22.318125 \n\" style=\"fill:none;stroke:#000000;stroke-linecap:square;stroke-linejoin:miter;stroke-width:0.8;\"/>\n   </g>\n   <g id=\"text_28\">\n    <!-- dress -->\n    <defs>\n     <path d=\"M 45.40625 46.390625 \nL 45.40625 75.984375 \nL 54.390625 75.984375 \nL 54.390625 0 \nL 45.40625 0 \nL 45.40625 8.203125 \nQ 42.578125 3.328125 38.25 0.953125 \nQ 33.9375 -1.421875 27.875 -1.421875 \nQ 17.96875 -1.421875 11.734375 6.484375 \nQ 5.515625 14.40625 5.515625 27.296875 \nQ 5.515625 40.1875 11.734375 48.09375 \nQ 17.96875 56 27.875 56 \nQ 33.9375 56 38.25 53.625 \nQ 42.578125 51.265625 45.40625 46.390625 \nz\nM 14.796875 27.296875 \nQ 14.796875 17.390625 18.875 11.75 \nQ 22.953125 6.109375 30.078125 6.109375 \nQ 37.203125 6.109375 41.296875 11.75 \nQ 45.40625 17.390625 45.40625 27.296875 \nQ 45.40625 37.203125 41.296875 42.84375 \nQ 37.203125 48.484375 30.078125 48.484375 \nQ 22.953125 48.484375 18.875 42.84375 \nQ 14.796875 37.203125 14.796875 27.296875 \nz\n\" id=\"DejaVuSans-100\"/>\n     <path d=\"M 56.203125 29.59375 \nL 56.203125 25.203125 \nL 14.890625 25.203125 \nQ 15.484375 15.921875 20.484375 11.0625 \nQ 25.484375 6.203125 34.421875 6.203125 \nQ 39.59375 6.203125 44.453125 7.46875 \nQ 49.3125 8.734375 54.109375 11.28125 \nL 54.109375 2.78125 \nQ 49.265625 0.734375 44.1875 -0.34375 \nQ 39.109375 -1.421875 33.890625 -1.421875 \nQ 20.796875 -1.421875 13.15625 6.1875 \nQ 5.515625 13.8125 5.515625 26.8125 \nQ 5.515625 40.234375 12.765625 48.109375 \nQ 20.015625 56 32.328125 56 \nQ 43.359375 56 49.78125 48.890625 \nQ 56.203125 41.796875 56.203125 29.59375 \nz\nM 47.21875 32.234375 \nQ 47.125 39.59375 43.09375 43.984375 \nQ 39.0625 48.390625 32.421875 48.390625 \nQ 24.90625 48.390625 20.390625 44.140625 \nQ 15.875 39.890625 15.1875 32.171875 \nz\n\" id=\"DejaVuSans-101\"/>\n    </defs>\n    <g transform=\"translate(484.179181 16.318125)scale(0.12 -0.12)\">\n     <use xlink:href=\"#DejaVuSans-100\"/>\n     <use x=\"63.476562\" xlink:href=\"#DejaVuSans-114\"/>\n     <use x=\"102.339844\" xlink:href=\"#DejaVuSans-101\"/>\n     <use x=\"163.863281\" xlink:href=\"#DejaVuSans-115\"/>\n     <use x=\"215.962891\" xlink:href=\"#DejaVuSans-115\"/>\n    </g>\n   </g>\n  </g>\n  <g id=\"axes_5\">\n   <g id=\"patch_22\">\n    <path d=\"M 581.076724 137.766401 \nL 696.525 137.766401 \nL 696.525 22.318125 \nL 581.076724 22.318125 \nz\n\" style=\"fill:#ffffff;\"/>\n   </g>\n   <g clip-path=\"url(#p17b9819cf7)\">\n    <image height=\"116\" id=\"image0cba8de14a\" transform=\"scale(1 -1)translate(0 -116)\" width=\"116\" x=\"581.076724\" xlink:href=\"data:image/png;base64,\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\" y=\"-21.766401\"/>\n   </g>\n   <g id=\"matplotlib.axis_9\">\n    <g id=\"xtick_13\">\n     <g id=\"line2d_25\">\n      <g>\n       <use style=\"stroke:#000000;stroke-width:0.8;\" x=\"583.1383\" xlink:href=\"#m5b5b251fbf\" y=\"137.766401\"/>\n      </g>\n     </g>\n     <g id=\"text_29\">\n      <!-- 0 -->\n      <g transform=\"translate(579.95705 152.364838)scale(0.1 -0.1)\">\n       <use xlink:href=\"#DejaVuSans-48\"/>\n      </g>\n     </g>\n    </g>\n    <g id=\"xtick_14\">\n     <g id=\"line2d_26\">\n      <g>\n       <use style=\"stroke:#000000;stroke-width:0.8;\" x=\"624.369828\" xlink:href=\"#m5b5b251fbf\" y=\"137.766401\"/>\n      </g>\n     </g>\n     <g id=\"text_30\">\n      <!-- 10 -->\n      <g transform=\"translate(618.007328 152.364838)scale(0.1 -0.1)\">\n       <use xlink:href=\"#DejaVuSans-49\"/>\n       <use x=\"63.623047\" xlink:href=\"#DejaVuSans-48\"/>\n      </g>\n     </g>\n    </g>\n    <g id=\"xtick_15\">\n     <g id=\"line2d_27\">\n      <g>\n       <use style=\"stroke:#000000;stroke-width:0.8;\" x=\"665.601355\" xlink:href=\"#m5b5b251fbf\" y=\"137.766401\"/>\n      </g>\n     </g>\n     <g id=\"text_31\">\n      <!-- 20 -->\n      <g transform=\"translate(659.238855 152.364838)scale(0.1 -0.1)\">\n       <use xlink:href=\"#DejaVuSans-50\"/>\n       <use x=\"63.623047\" xlink:href=\"#DejaVuSans-48\"/>\n      </g>\n     </g>\n    </g>\n   </g>\n   <g id=\"matplotlib.axis_10\">\n    <g id=\"ytick_13\">\n     <g id=\"line2d_28\">\n      <g>\n       <use style=\"stroke:#000000;stroke-width:0.8;\" x=\"581.076724\" xlink:href=\"#m14b2d82ee5\" y=\"24.379701\"/>\n      </g>\n     </g>\n     <g id=\"text_32\">\n      <!-- 0 -->\n      <g transform=\"translate(567.714224 28.17892)scale(0.1 -0.1)\">\n       <use xlink:href=\"#DejaVuSans-48\"/>\n      </g>\n     </g>\n    </g>\n    <g id=\"ytick_14\">\n     <g id=\"line2d_29\">\n      <g>\n       <use style=\"stroke:#000000;stroke-width:0.8;\" x=\"581.076724\" xlink:href=\"#m14b2d82ee5\" y=\"65.611228\"/>\n      </g>\n     </g>\n     <g id=\"text_33\">\n      <!-- 10 -->\n      <g transform=\"translate(561.351724 69.410447)scale(0.1 -0.1)\">\n       <use xlink:href=\"#DejaVuSans-49\"/>\n       <use x=\"63.623047\" xlink:href=\"#DejaVuSans-48\"/>\n      </g>\n     </g>\n    </g>\n    <g id=\"ytick_15\">\n     <g id=\"line2d_30\">\n      <g>\n       <use style=\"stroke:#000000;stroke-width:0.8;\" x=\"581.076724\" xlink:href=\"#m14b2d82ee5\" y=\"106.842756\"/>\n      </g>\n     </g>\n     <g id=\"text_34\">\n      <!-- 20 -->\n      <g transform=\"translate(561.351724 110.641974)scale(0.1 -0.1)\">\n       <use xlink:href=\"#DejaVuSans-50\"/>\n       <use x=\"63.623047\" xlink:href=\"#DejaVuSans-48\"/>\n      </g>\n     </g>\n    </g>\n   </g>\n   <g id=\"patch_23\">\n    <path d=\"M 581.076724 137.766401 \nL 581.076724 22.318125 \n\" style=\"fill:none;stroke:#000000;stroke-linecap:square;stroke-linejoin:miter;stroke-width:0.8;\"/>\n   </g>\n   <g id=\"patch_24\">\n    <path d=\"M 696.525 137.766401 \nL 696.525 22.318125 \n\" style=\"fill:none;stroke:#000000;stroke-linecap:square;stroke-linejoin:miter;stroke-width:0.8;\"/>\n   </g>\n   <g id=\"patch_25\">\n    <path d=\"M 581.076724 137.766401 \nL 696.525 137.766401 \n\" style=\"fill:none;stroke:#000000;stroke-linecap:square;stroke-linejoin:miter;stroke-width:0.8;\"/>\n   </g>\n   <g id=\"patch_26\">\n    <path d=\"M 581.076724 22.318125 \nL 696.525 22.318125 \n\" style=\"fill:none;stroke:#000000;stroke-linecap:square;stroke-linejoin:miter;stroke-width:0.8;\"/>\n   </g>\n   <g id=\"text_35\">\n    <!-- t-shirt -->\n    <g transform=\"translate(620.870237 16.318125)scale(0.12 -0.12)\">\n     <use xlink:href=\"#DejaVuSans-116\"/>\n     <use x=\"39.208984\" xlink:href=\"#DejaVuSans-45\"/>\n     <use x=\"75.292969\" xlink:href=\"#DejaVuSans-115\"/>\n     <use x=\"127.392578\" xlink:href=\"#DejaVuSans-104\"/>\n     <use x=\"190.771484\" xlink:href=\"#DejaVuSans-105\"/>\n     <use x=\"218.554688\" xlink:href=\"#DejaVuSans-114\"/>\n     <use x=\"259.667969\" xlink:href=\"#DejaVuSans-116\"/>\n    </g>\n   </g>\n  </g>\n </g>\n <defs>\n  <clipPath id=\"p85726c1c87\">\n   <rect height=\"115.448276\" width=\"115.448276\" x=\"26.925\" y=\"22.318125\"/>\n  </clipPath>\n  <clipPath id=\"pc14d764229\">\n   <rect height=\"115.448276\" width=\"115.448276\" x=\"165.462931\" y=\"22.318125\"/>\n  </clipPath>\n  <clipPath id=\"p07746f13fd\">\n   <rect height=\"115.448276\" width=\"115.448276\" x=\"304.000862\" y=\"22.318125\"/>\n  </clipPath>\n  <clipPath id=\"p2e8f63085c\">\n   <rect height=\"115.448276\" width=\"115.448276\" x=\"442.538793\" y=\"22.318125\"/>\n  </clipPath>\n  <clipPath id=\"p17b9819cf7\">\n   <rect height=\"115.448276\" width=\"115.448276\" x=\"581.076724\" y=\"22.318125\"/>\n  </clipPath>\n </defs>\n</svg>\n"
          },
          "metadata": {
            "needs_background": "light"
          }
        }
      ]
    },
    {
      "cell_type": "markdown",
      "source": [
        "读取数据"
      ],
      "metadata": {
        "id": "w597QVBZe4Mg"
      }
    },
    {
      "cell_type": "code",
      "source": [
        "batch_size =256\n",
        "if sys.platform.startswith('win'):\n",
        "  num_workers = 0\n",
        "else:\n",
        "  num_workers = 2\n",
        "train_iter = torch.utils.data.DataLoader(mnist_train,batch_size,shuffle=True,num_workers=num_workers)\n",
        "test_iter = torch.utils.data.DataLoader(mnist_train,batch_size,shuffle=True,num_workers=num_workers)"
      ],
      "metadata": {
        "id": "6Hbe1AECerHP"
      },
      "execution_count": 11,
      "outputs": []
    },
    {
      "cell_type": "markdown",
      "source": [
        "定义函数"
      ],
      "metadata": {
        "id": "aWckmM1of6nw"
      }
    },
    {
      "cell_type": "code",
      "source": [
        "num_inputs = 784\n",
        "num_hiddens = 256\n",
        "num_outputs = 10\n",
        "class LinearNet(nn.Module):\n",
        "  def __init__(self,num_inputs,num_outputs):\n",
        "    super(LinearNet,self).__init__()\n",
        "    self.linear = nn.Linear(num_inputs,num_outputs)\n",
        "  def forwards(self,x):\n",
        "    y = self.linear(x.view(x.shape[0],-1))\n",
        "    return y"
      ],
      "metadata": {
        "id": "c4RqO91rf8R1"
      },
      "execution_count": 12,
      "outputs": []
    },
    {
      "cell_type": "code",
      "source": [
        "class FlattenLayer(nn.Module):\n",
        "  def __init__(self):\n",
        "    super(FlattenLayer,self).__init__()\n",
        "  def forward(self,x):\n",
        "    return x.view(x.shape[0],-1)"
      ],
      "metadata": {
        "id": "KkLExTBfifCk"
      },
      "execution_count": 13,
      "outputs": []
    },
    {
      "cell_type": "code",
      "source": [
        "from collections import OrderedDict\n",
        "net = nn.Sequential(\n",
        "    FlattenLayer(),\n",
        "    nn.Linear(num_inputs,num_hiddens),\n",
        "    nn.ReLU(),\n",
        "    nn.Linear(num_hiddens,num_outputs),\n",
        ")\n",
        "for param in net.parameters():\n",
        "  init.normal_(param,mean=0,std=0.01)"
      ],
      "metadata": {
        "id": "ULXNxXP6h_Di"
      },
      "execution_count": 14,
      "outputs": []
    },
    {
      "cell_type": "markdown",
      "source": [
        "读取数据并进行训练"
      ],
      "metadata": {
        "id": "FmVFko-tf0K_"
      }
    },
    {
      "cell_type": "code",
      "source": [
        "loss= torch.nn.CrossEntropyLoss()\n",
        "optimizer = optim.SGD(net.parameters(),lr=0.5)\n",
        "num_epochs = 5"
      ],
      "metadata": {
        "id": "WAmYXt0sfsXT"
      },
      "execution_count": 15,
      "outputs": []
    },
    {
      "cell_type": "code",
      "source": [
        "def sgd(params,batch_size,lr):\n",
        "  for param in params:\n",
        "    param.data += lr*param.grad/batch_size"
      ],
      "metadata": {
        "id": "0DH-ot-ZoaLE"
      },
      "execution_count": 16,
      "outputs": []
    },
    {
      "cell_type": "code",
      "source": [
        "def evaluate_accuracy(data_iter,net):\n",
        "  acc_sum =0.0\n",
        "  n = 0 \n",
        "  for X,y in data_iter:\n",
        "    acc_sum += (net(X).argmax(dim=1)==y).float().sum().item()\n",
        "    n += y.shape[0]\n",
        "  return acc_sum/n"
      ],
      "metadata": {
        "id": "0_-fE2r_p74Q"
      },
      "execution_count": 17,
      "outputs": []
    },
    {
      "cell_type": "code",
      "source": [
        "def train_ch4(net,train_iter,test_iter,loss,num_epochs,batch_size,params=None,lr=None,optimizer=None):\n",
        "  for epoch in range(num_epochs):\n",
        "    train_loss = 0.0\n",
        "    train_acc_sum = 0.0\n",
        "    n = 0\n",
        "    num =0\n",
        "    for X,y in train_iter:\n",
        "      y_hat = net(X)\n",
        "      l = loss(y_hat,y).sum()\n",
        "\n",
        "      if optimizer is not None:\n",
        "        optimizer.zero_grad()\n",
        "      elif optimizer is not None and params[0].grad is not None:\n",
        "        for param in params:\n",
        "          param.grad.zero()\n",
        "      \n",
        "      l.backward()\n",
        "      if optimizer is None:\n",
        "        sgd(params,batch_size,lr)\n",
        "      else:\n",
        "        optimizer.step()\n",
        "      train_loss += l.item()\n",
        "      train_acc_sum = (y_hat.argmax(dim=1)==y).float().sum().item()\n",
        "      n = y.shape[0]\n",
        "      test_acc_sum = evaluate_accuracy(test_iter,net)\n",
        "      num+=1\n",
        "      print('num:%d'%num,end=',')\n",
        "    print('epoch%d,loss%.4f,trainacc %.3f,test acc %.3f'%(epoch+1,train_loss/n,train_acc_sum/n,test_acc_sum))"
      ],
      "metadata": {
        "id": "qZyuc4_Ykl8Z"
      },
      "execution_count": 20,
      "outputs": []
    },
    {
      "cell_type": "code",
      "source": [
        "train_ch4(net,train_iter,test_iter,loss,num_epochs,batch_size,None,None,optimizer)"
      ],
      "metadata": {
        "id": "ha2OOaPDrB0k",
        "colab": {
          "base_uri": "https://localhost:8080/"
        },
        "outputId": "80f0fae1-e222-4008-9e80-bd35b5277326"
      },
      "execution_count": 21,
      "outputs": [
        {
          "output_type": "stream",
          "name": "stdout",
          "text": [
            "num:1,num:2,num:3,num:4,num:5,num:6,num:7,num:8,num:9,num:10,num:11,num:12,num:13,num:14,num:15,num:16,num:17,num:18,num:19,num:20,num:21,num:22,num:23,num:24,num:25,num:26,num:27,num:28,num:29,num:30,num:31,num:32,num:33,num:34,num:35,num:36,num:37,num:38,num:39,num:40,num:41,num:42,num:43,num:44,num:45,num:46,num:47,num:48,num:49,num:50,num:51,num:52,num:53,num:54,num:55,num:56,num:57,num:58,num:59,num:60,num:61,num:62,num:63,num:64,num:65,num:66,num:67,num:68,num:69,num:70,num:71,num:72,num:73,num:74,num:75,num:76,num:77,num:78,num:79,num:80,num:81,num:82,num:83,num:84,num:85,num:86,num:87,num:88,num:89,num:90,num:91,num:92,num:93,num:94,num:95,num:96,num:97,num:98,num:99,num:100,num:101,num:102,num:103,num:104,num:105,num:106,num:107,num:108,num:109,num:110,num:111,num:112,num:113,num:114,num:115,num:116,num:117,num:118,num:119,num:120,num:121,num:122,num:123,num:124,num:125,num:126,num:127,num:128,num:129,num:130,num:131,num:132,num:133,num:134,num:135,num:136,num:137,num:138,num:139,num:140,num:141,num:142,num:143,num:144,num:145,num:146,num:147,num:148,num:149,num:150,num:151,num:152,num:153,num:154,num:155,num:156,num:157,num:158,num:159,num:160,num:161,num:162,num:163,num:164,num:165,num:166,num:167,num:168,num:169,num:170,num:171,num:172,num:173,num:174,num:175,num:176,num:177,num:178,num:179,num:180,num:181,num:182,num:183,num:184,num:185,num:186,num:187,num:188,num:189,num:190,num:191,num:192,num:193,num:194,num:195,num:196,num:197,num:198,num:199,num:200,num:201,num:202,num:203,num:204,num:205,num:206,num:207,num:208,num:209,num:210,num:211,num:212,num:213,num:214,num:215,num:216,num:217,num:218,num:219,num:220,num:221,num:222,num:223,num:224,num:225,num:226,num:227,num:228,num:229,num:230,num:231,num:232,num:233,num:234,num:235,epoch1,loss2.1029,trainacc 0.781,test acc 0.763\n",
            "num:1,num:2,num:3,num:4,num:5,num:6,num:7,num:8,num:9,num:10,num:11,num:12,num:13,num:14,num:15,num:16,num:17,num:18,num:19,num:20,num:21,num:22,num:23,num:24,num:25,num:26,num:27,num:28,num:29,num:30,num:31,num:32,num:33,num:34,num:35,num:36,num:37,num:38,num:39,num:40,num:41,num:42,num:43,num:44,num:45,num:46,num:47,num:48,num:49,num:50,num:51,num:52,num:53,num:54,num:55,num:56,num:57,num:58,num:59,num:60,num:61,num:62,num:63,num:64,num:65,num:66,num:67,num:68,num:69,num:70,num:71,num:72,num:73,num:74,num:75,num:76,num:77,num:78,num:79,num:80,num:81,num:82,num:83,num:84,num:85,num:86,num:87,num:88,num:89,num:90,num:91,num:92,num:93,num:94,num:95,num:96,num:97,num:98,num:99,num:100,num:101,num:102,num:103,num:104,num:105,num:106,num:107,num:108,num:109,num:110,num:111,num:112,num:113,num:114,num:115,num:116,num:117,num:118,num:119,num:120,num:121,num:122,num:123,num:124,num:125,num:126,num:127,num:128,num:129,num:130,num:131,num:132,num:133,num:134,num:135,num:136,num:137,num:138,num:139,num:140,num:141,num:142,num:143,num:144,num:145,num:146,num:147,num:148,num:149,num:150,num:151,num:152,num:153,num:154,num:155,num:156,num:157,num:158,num:159,num:160,num:161,num:162,num:163,num:164,num:165,num:166,num:167,num:168,num:169,num:170,num:171,num:172,num:173,num:174,num:175,num:176,num:177,num:178,num:179,num:180,num:181,num:182,num:183,num:184,num:185,num:186,num:187,num:188,num:189,num:190,num:191,num:192,num:193,num:194,num:195,num:196,num:197,num:198,num:199,num:200,num:201,num:202,num:203,num:204,num:205,num:206,num:207,num:208,num:209,num:210,num:211,num:212,num:213,num:214,num:215,num:216,num:217,num:218,num:219,num:220,num:221,num:222,num:223,num:224,num:225,num:226,num:227,num:228,num:229,num:230,num:231,num:232,num:233,num:234,num:235,epoch2,loss1.2264,trainacc 0.812,test acc 0.838\n",
            "num:1,num:2,num:3,num:4,num:5,num:6,num:7,num:8,num:9,num:10,num:11,num:12,num:13,num:14,num:15,num:16,num:17,num:18,num:19,num:20,num:21,num:22,num:23,num:24,num:25,num:26,num:27,num:28,num:29,num:30,num:31,num:32,num:33,num:34,num:35,num:36,num:37,num:38,num:39,num:40,num:41,num:42,num:43,num:44,num:45,num:46,num:47,num:48,num:49,num:50,num:51,num:52,num:53,num:54,num:55,num:56,num:57,num:58,num:59,num:60,num:61,num:62,num:63,num:64,num:65,num:66,num:67,num:68,num:69,num:70,num:71,num:72,num:73,num:74,num:75,num:76,num:77,num:78,num:79,num:80,num:81,num:82,num:83,num:84,num:85,num:86,num:87,num:88,num:89,num:90,num:91,num:92,num:93,num:94,num:95,num:96,num:97,num:98,num:99,num:100,num:101,num:102,num:103,num:104,num:105,num:106,num:107,num:108,num:109,num:110,num:111,num:112,num:113,num:114,num:115,num:116,num:117,num:118,num:119,num:120,num:121,num:122,num:123,num:124,num:125,num:126,num:127,num:128,num:129,num:130,num:131,num:132,num:133,num:134,num:135,num:136,num:137,num:138,num:139,num:140,num:141,num:142,num:143,num:144,num:145,num:146,num:147,num:148,num:149,num:150,num:151,num:152,num:153,num:154,num:155,num:156,num:157,num:158,num:159,num:160,num:161,num:162,num:163,num:164,num:165,num:166,num:167,num:168,num:169,num:170,num:171,num:172,num:173,num:174,num:175,num:176,num:177,num:178,num:179,num:180,num:181,num:182,num:183,num:184,num:185,num:186,num:187,num:188,num:189,num:190,num:191,num:192,num:193,num:194,num:195,num:196,num:197,num:198,num:199,num:200,num:201,num:202,num:203,num:204,num:205,num:206,num:207,num:208,num:209,num:210,num:211,num:212,num:213,num:214,num:215,num:216,num:217,num:218,num:219,num:220,num:221,num:222,num:223,num:224,num:225,num:226,num:227,num:228,num:229,num:230,num:231,num:232,num:233,num:234,num:235,epoch3,loss1.0504,trainacc 0.885,test acc 0.857\n",
            "num:1,num:2,num:3,num:4,num:5,num:6,num:7,num:8,num:9,num:10,num:11,num:12,num:13,num:14,num:15,num:16,num:17,num:18,num:19,num:20,num:21,num:22,num:23,num:24,num:25,num:26,num:27,num:28,num:29,num:30,num:31,num:32,num:33,num:34,num:35,num:36,num:37,num:38,num:39,num:40,num:41,num:42,num:43,num:44,num:45,num:46,num:47,num:48,num:49,num:50,num:51,num:52,num:53,num:54,num:55,num:56,num:57,num:58,num:59,num:60,num:61,num:62,num:63,num:64,num:65,num:66,num:67,num:68,num:69,num:70,num:71,num:72,num:73,num:74,num:75,num:76,num:77,num:78,num:79,num:80,num:81,num:82,num:83,num:84,num:85,num:86,num:87,num:88,num:89,num:90,num:91,num:92,num:93,num:94,num:95,num:96,num:97,num:98,num:99,num:100,num:101,num:102,num:103,num:104,num:105,num:106,num:107,num:108,num:109,num:110,num:111,num:112,num:113,num:114,num:115,num:116,num:117,num:118,num:119,num:120,num:121,num:122,num:123,num:124,num:125,num:126,num:127,num:128,num:129,num:130,num:131,num:132,num:133,num:134,num:135,num:136,num:137,num:138,num:139,num:140,num:141,num:142,num:143,num:144,num:145,num:146,num:147,num:148,num:149,num:150,num:151,num:152,num:153,num:154,num:155,num:156,num:157,num:158,num:159,num:160,num:161,num:162,num:163,num:164,num:165,num:166,num:167,num:168,num:169,num:170,num:171,num:172,num:173,num:174,num:175,num:176,num:177,num:178,num:179,num:180,num:181,num:182,num:183,num:184,num:185,num:186,num:187,num:188,num:189,num:190,num:191,num:192,num:193,num:194,num:195,num:196,num:197,num:198,num:199,num:200,num:201,num:202,num:203,num:204,num:205,num:206,num:207,num:208,num:209,num:210,num:211,num:212,num:213,num:214,num:215,num:216,num:217,num:218,num:219,num:220,num:221,num:222,num:223,num:224,num:225,num:226,num:227,num:228,num:229,num:230,num:231,num:232,num:233,num:234,num:235,epoch4,loss0.9678,trainacc 0.885,test acc 0.850\n",
            "num:1,num:2,num:3,num:4,num:5,num:6,num:7,num:8,num:9,num:10,num:11,num:12,num:13,num:14,num:15,num:16,num:17,num:18,num:19,num:20,num:21,num:22,num:23,num:24,num:25,num:26,num:27,num:28,num:29,num:30,num:31,num:32,num:33,num:34,num:35,num:36,num:37,num:38,num:39,num:40,num:41,num:42,num:43,num:44,num:45,num:46,num:47,num:48,num:49,num:50,num:51,num:52,num:53,num:54,num:55,num:56,num:57,num:58,num:59,num:60,num:61,num:62,num:63,num:64,num:65,num:66,num:67,num:68,num:69,num:70,num:71,num:72,num:73,num:74,num:75,num:76,num:77,num:78,num:79,num:80,num:81,num:82,num:83,num:84,num:85,num:86,num:87,num:88,num:89,num:90,num:91,num:92,num:93,num:94,num:95,num:96,num:97,num:98,num:99,num:100,num:101,num:102,num:103,num:104,num:105,num:106,num:107,num:108,num:109,num:110,num:111,num:112,num:113,num:114,num:115,num:116,num:117,num:118,num:119,num:120,num:121,num:122,num:123,num:124,num:125,num:126,num:127,num:128,num:129,num:130,num:131,num:132,num:133,num:134,num:135,num:136,num:137,num:138,num:139,num:140,num:141,num:142,num:143,num:144,num:145,num:146,num:147,num:148,num:149,num:150,num:151,num:152,num:153,num:154,num:155,num:156,num:157,num:158,num:159,num:160,num:161,num:162,num:163,num:164,num:165,num:166,num:167,num:168,num:169,num:170,num:171,num:172,num:173,num:174,num:175,num:176,num:177,num:178,num:179,num:180,num:181,num:182,num:183,num:184,num:185,num:186,num:187,num:188,num:189,num:190,num:191,num:192,num:193,num:194,num:195,num:196,num:197,num:198,num:199,num:200,num:201,num:202,num:203,num:204,num:205,num:206,num:207,num:208,num:209,num:210,num:211,num:212,num:213,num:214,num:215,num:216,num:217,num:218,num:219,num:220,num:221,num:222,num:223,num:224,num:225,num:226,num:227,num:228,num:229,num:230,num:231,num:232,num:233,num:234,num:235,epoch5,loss0.9244,trainacc 0.823,test acc 0.820\n"
          ]
        }
      ]
    },
    {
      "cell_type": "code",
      "source": [
        "for X,y in test_iter:\n",
        "  true_labels = get_fashion_mnist_labels(y.numpy())\n",
        "  pred_labels = get_fashion_mnist_labels(net(X).argmax(dim=1).numpy())\n",
        "titles = [true+'\\n'+pred for true,pred in zip(true_labels,pred_labels)]\n",
        "show_fashion_mnist(X[0:9],title[0:9])"
      ],
      "metadata": {
        "colab": {
          "base_uri": "https://localhost:8080/",
          "height": 245
        },
        "id": "pz9xenu_Svwu",
        "outputId": "db0fb4c3-9523-4f44-b70c-6957bcbff6e2"
      },
      "execution_count": 1,
      "outputs": [
        {
          "output_type": "error",
          "ename": "NameError",
          "evalue": "ignored",
          "traceback": [
            "\u001b[0;31m---------------------------------------------------------------------------\u001b[0m",
            "\u001b[0;31mNameError\u001b[0m                                 Traceback (most recent call last)",
            "\u001b[0;32m<ipython-input-1-0a926ee463ff>\u001b[0m in \u001b[0;36m<module>\u001b[0;34m()\u001b[0m\n\u001b[0;32m----> 1\u001b[0;31m \u001b[0;32mfor\u001b[0m \u001b[0mX\u001b[0m\u001b[0;34m,\u001b[0m\u001b[0my\u001b[0m \u001b[0;32min\u001b[0m \u001b[0mtest_iter\u001b[0m\u001b[0;34m:\u001b[0m\u001b[0;34m\u001b[0m\u001b[0;34m\u001b[0m\u001b[0m\n\u001b[0m\u001b[1;32m      2\u001b[0m   \u001b[0mtrue_labels\u001b[0m \u001b[0;34m=\u001b[0m \u001b[0mget_fashion_mnist_labels\u001b[0m\u001b[0;34m(\u001b[0m\u001b[0my\u001b[0m\u001b[0;34m.\u001b[0m\u001b[0mnumpy\u001b[0m\u001b[0;34m(\u001b[0m\u001b[0;34m)\u001b[0m\u001b[0;34m)\u001b[0m\u001b[0;34m\u001b[0m\u001b[0;34m\u001b[0m\u001b[0m\n\u001b[1;32m      3\u001b[0m   \u001b[0mpred_labels\u001b[0m \u001b[0;34m=\u001b[0m \u001b[0mget_fashion_mnist_labels\u001b[0m\u001b[0;34m(\u001b[0m\u001b[0mnet\u001b[0m\u001b[0;34m(\u001b[0m\u001b[0mX\u001b[0m\u001b[0;34m)\u001b[0m\u001b[0;34m.\u001b[0m\u001b[0margmax\u001b[0m\u001b[0;34m(\u001b[0m\u001b[0mdim\u001b[0m\u001b[0;34m=\u001b[0m\u001b[0;36m1\u001b[0m\u001b[0;34m)\u001b[0m\u001b[0;34m.\u001b[0m\u001b[0mnumpy\u001b[0m\u001b[0;34m(\u001b[0m\u001b[0;34m)\u001b[0m\u001b[0;34m)\u001b[0m\u001b[0;34m\u001b[0m\u001b[0;34m\u001b[0m\u001b[0m\n\u001b[1;32m      4\u001b[0m \u001b[0mtitles\u001b[0m \u001b[0;34m=\u001b[0m \u001b[0;34m[\u001b[0m\u001b[0mtrue\u001b[0m\u001b[0;34m+\u001b[0m\u001b[0;34m'\\n'\u001b[0m\u001b[0;34m+\u001b[0m\u001b[0mpred\u001b[0m \u001b[0;32mfor\u001b[0m \u001b[0mtrue\u001b[0m\u001b[0;34m,\u001b[0m\u001b[0mpred\u001b[0m \u001b[0;32min\u001b[0m \u001b[0mzip\u001b[0m\u001b[0;34m(\u001b[0m\u001b[0mtrue_labels\u001b[0m\u001b[0;34m,\u001b[0m\u001b[0mpred_labels\u001b[0m\u001b[0;34m)\u001b[0m\u001b[0;34m]\u001b[0m\u001b[0;34m\u001b[0m\u001b[0;34m\u001b[0m\u001b[0m\n\u001b[1;32m      5\u001b[0m \u001b[0mshow_fashion_mnist\u001b[0m\u001b[0;34m(\u001b[0m\u001b[0mX\u001b[0m\u001b[0;34m[\u001b[0m\u001b[0;36m0\u001b[0m\u001b[0;34m:\u001b[0m\u001b[0;36m9\u001b[0m\u001b[0;34m]\u001b[0m\u001b[0;34m,\u001b[0m\u001b[0mtitle\u001b[0m\u001b[0;34m[\u001b[0m\u001b[0;36m0\u001b[0m\u001b[0;34m:\u001b[0m\u001b[0;36m9\u001b[0m\u001b[0;34m]\u001b[0m\u001b[0;34m)\u001b[0m\u001b[0;34m\u001b[0m\u001b[0;34m\u001b[0m\u001b[0m\n",
            "\u001b[0;31mNameError\u001b[0m: name 'test_iter' is not defined"
          ]
        }
      ]
    }
  ]
}