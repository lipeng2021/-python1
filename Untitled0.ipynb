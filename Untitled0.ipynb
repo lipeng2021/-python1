{
  "nbformat": 4,
  "nbformat_minor": 0,
  "metadata": {
    "colab": {
      "name": "Untitled0.ipynb",
      "provenance": [],
      "collapsed_sections": [],
      "mount_file_id": "1GG5U6B5EVfqEhoFndYDVXTrFG_F0jft-",
      "authorship_tag": "ABX9TyM5vRHG290mKPEa22YEXgMd",
      "include_colab_link": true
    },
    "kernelspec": {
      "name": "python3",
      "display_name": "Python 3"
    },
    "language_info": {
      "name": "python"
    },
    "accelerator": "GPU"
  },
  "cells": [
    {
      "cell_type": "markdown",
      "metadata": {
        "id": "view-in-github",
        "colab_type": "text"
      },
      "source": [
        "<a href=\"https://colab.research.google.com/github/lipeng2021/-python1/blob/main/Untitled0.ipynb\" target=\"_parent\"><img src=\"https://colab.research.google.com/assets/colab-badge.svg\" alt=\"Open In Colab\"/></a>"
      ]
    },
    {
      "cell_type": "code",
      "source": [
        "import torch\n",
        "from time import time"
      ],
      "metadata": {
        "id": "dKjGsLxMkpMo"
      },
      "execution_count": null,
      "outputs": []
    },
    {
      "cell_type": "markdown",
      "source": [
        "开始训练"
      ],
      "metadata": {
        "id": "MhJaQK_ckpeJ"
      }
    },
    {
      "cell_type": "code",
      "source": [
        "x = torch.ones(1000)\n",
        "y = torch.ones(1000)\n",
        "z = torch.zeros(1000)\n",
        "start = time()\n",
        "for i in range(1000):\n",
        "  z[i]=x[i]+y[i]\n",
        "\n",
        "print(time()-start)\n"
      ],
      "metadata": {
        "colab": {
          "base_uri": "https://localhost:8080/"
        },
        "id": "e2xocHleAl6m",
        "outputId": "741626ea-a472-48d8-987c-25307c73f1fc"
      },
      "execution_count": null,
      "outputs": [
        {
          "output_type": "stream",
          "name": "stdout",
          "text": [
            "0.015424728393554688\n"
          ]
        }
      ]
    },
    {
      "cell_type": "code",
      "source": [
        "x = torch.ones(1000)\n",
        "y = torch.ones(1000)\n",
        "z = torch.zeros(1000)\n",
        "start = time()\n",
        "z = x+y\n",
        "\n",
        "print(time()-start)"
      ],
      "metadata": {
        "colab": {
          "base_uri": "https://localhost:8080/",
          "height": 137
        },
        "id": "i0UZCO0IBga6",
        "outputId": "b3dc5aad-076b-4b98-f495-5fcde684c91d"
      },
      "execution_count": 14,
      "outputs": [
        {
          "output_type": "error",
          "ename": "SyntaxError",
          "evalue": "ignored",
          "traceback": [
            "\u001b[0;36m  File \u001b[0;32m\"<ipython-input-14-0d48a0d0b637>\"\u001b[0;36m, line \u001b[0;32m8\u001b[0m\n\u001b[0;31m    git clone https://github.com/lipeng2021/-python1.git\u001b[0m\n\u001b[0m            ^\u001b[0m\n\u001b[0;31mSyntaxError\u001b[0m\u001b[0;31m:\u001b[0m invalid syntax\n"
          ]
        }
      ]
    }
  ]
}