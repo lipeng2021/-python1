{
  "nbformat": 4,
  "nbformat_minor": 0,
  "metadata": {
    "colab": {
      "name": "5-1卷积神经网络.ipynb",
      "provenance": [],
      "authorship_tag": "ABX9TyOsGEyzJcvV6c3Y4ihFoRx7",
      "include_colab_link": true
    },
    "kernelspec": {
      "name": "python3",
      "display_name": "Python 3"
    },
    "language_info": {
      "name": "python"
    }
  },
  "cells": [
    {
      "cell_type": "markdown",
      "metadata": {
        "id": "view-in-github",
        "colab_type": "text"
      },
      "source": [
        "<a href=\"https://colab.research.google.com/github/lipeng2021/-python1/blob/main/5_1%E5%8D%B7%E7%A7%AF%E7%A5%9E%E7%BB%8F%E7%BD%91%E7%BB%9C.ipynb\" target=\"_parent\"><img src=\"https://colab.research.google.com/assets/colab-badge.svg\" alt=\"Open In Colab\"/></a>"
      ]
    },
    {
      "cell_type": "code",
      "execution_count": 2,
      "metadata": {
        "id": "38RywyR6ulOr"
      },
      "outputs": [],
      "source": [
        "import torch\n",
        "import torch.nn as nn"
      ]
    },
    {
      "cell_type": "code",
      "source": [
        "def corr2d(x,k):\n",
        "  h,w = k.shape\n",
        "  y = torch.zeros(x.shape[0]-h+1,x.shape[1]-w+1)\n",
        "  for i in range(y.shape[0]):\n",
        "    for j in range(y.shape[1]):\n",
        "      y[i,j] = (x[i:i+h,j:j+w]*k).sum()\n",
        "  return y "
      ],
      "metadata": {
        "id": "AJbUrZWVusLC"
      },
      "execution_count": 3,
      "outputs": []
    },
    {
      "cell_type": "code",
      "source": [
        "x = torch.arange(9).view(3,3)\n",
        "k = torch.arange(4).view(2,2)\n",
        "corr2d(x,k)"
      ],
      "metadata": {
        "colab": {
          "base_uri": "https://localhost:8080/"
        },
        "id": "SxYuB7ssvH-R",
        "outputId": "697370c9-34a9-42ff-907e-c9db694c19a7"
      },
      "execution_count": 4,
      "outputs": [
        {
          "output_type": "execute_result",
          "data": {
            "text/plain": [
              "tensor([[19., 25.],\n",
              "        [37., 43.]])"
            ]
          },
          "metadata": {},
          "execution_count": 4
        }
      ]
    },
    {
      "cell_type": "code",
      "source": [
        "class Cov2D(nn.Module):\n",
        "  def __init__(self,kernel_size):\n",
        "    super(Cov2D,self).__init__()\n",
        "    self.weight = nn.Parameter(torch.randn(kernel_size))\n",
        "    print(self.weight)\n",
        "    self.bias = nn.Parameter(torch.randn(1))\n",
        "    print(self.bias)\n",
        "  def forward(self,x):\n",
        "    return corr2d(x,self.weight)+self.bias"
      ],
      "metadata": {
        "id": "qndUgDrixbYU"
      },
      "execution_count": 5,
      "outputs": []
    },
    {
      "cell_type": "code",
      "source": [
        "x = torch.ones(6,8)\n",
        "x[:,2:5]=0\n",
        "print(x)\n",
        "k = torch.tensor([[1,-1]])\n",
        "print(k)\n",
        "y = corr2d(x,k)\n",
        "print(y)"
      ],
      "metadata": {
        "colab": {
          "base_uri": "https://localhost:8080/"
        },
        "id": "1d44KgBDzGXh",
        "outputId": "73de96ac-a840-49af-83bd-7c59d16af901"
      },
      "execution_count": 6,
      "outputs": [
        {
          "output_type": "stream",
          "name": "stdout",
          "text": [
            "tensor([[1., 1., 0., 0., 0., 1., 1., 1.],\n",
            "        [1., 1., 0., 0., 0., 1., 1., 1.],\n",
            "        [1., 1., 0., 0., 0., 1., 1., 1.],\n",
            "        [1., 1., 0., 0., 0., 1., 1., 1.],\n",
            "        [1., 1., 0., 0., 0., 1., 1., 1.],\n",
            "        [1., 1., 0., 0., 0., 1., 1., 1.]])\n",
            "tensor([[ 1, -1]])\n",
            "tensor([[ 0.,  1.,  0.,  0., -1.,  0.,  0.],\n",
            "        [ 0.,  1.,  0.,  0., -1.,  0.,  0.],\n",
            "        [ 0.,  1.,  0.,  0., -1.,  0.,  0.],\n",
            "        [ 0.,  1.,  0.,  0., -1.,  0.,  0.],\n",
            "        [ 0.,  1.,  0.,  0., -1.,  0.,  0.],\n",
            "        [ 0.,  1.,  0.,  0., -1.,  0.,  0.]])\n"
          ]
        }
      ]
    },
    {
      "cell_type": "code",
      "source": [
        "cov2d = Cov2D(kernel_size=(1,2))\n",
        "step = 20\n",
        "lr = 0.01\n",
        "for i in range(step):\n",
        "  y_hat = cov2d(x)\n",
        "  l = ((y_hat-y)**2).sum()\n",
        "  l.backward()\n",
        "  cov2d.weight.data -=lr*cov2d.weight.grad\n",
        "  cov2d.bias.data -=lr*cov2d.bias.grad\n",
        "  \n",
        "  cov2d.weight.grad.fill_(0)\n",
        "  cov2d.weight.grad.fill_(0)\n",
        "\n",
        "  if (i+1)%5==0:\n",
        "    print('epoch:%d,loss:%f'%(i+1,l.item()))\n",
        "  \n",
        "print('weight:',cov2d.weight.data)\n",
        "print('bias:',cov2d.bias.data)\n",
        "\n"
      ],
      "metadata": {
        "colab": {
          "base_uri": "https://localhost:8080/"
        },
        "id": "QB8QV6V_zS9M",
        "outputId": "37bcf829-4580-4d32-dda0-da89cdbb0df2"
      },
      "execution_count": 7,
      "outputs": [
        {
          "output_type": "stream",
          "name": "stdout",
          "text": [
            "Parameter containing:\n",
            "tensor([[ 0.3885, -1.5317]], requires_grad=True)\n",
            "Parameter containing:\n",
            "tensor([0.1174], requires_grad=True)\n",
            "epoch:5,loss:2.974430\n",
            "epoch:10,loss:0.003150\n",
            "epoch:15,loss:0.000557\n",
            "epoch:20,loss:0.000148\n",
            "weight: tensor([[ 0.9969, -0.9969]])\n",
            "bias: tensor([1.7060e-05])\n"
          ]
        }
      ]
    },
    {
      "cell_type": "code",
      "source": [
        "def com_cov2d(cov2d,x):\n",
        "  x = x.view((1,1)+x.shape)\n",
        "  y = conv2d(x)\n",
        "  return y.view(y.shape[2:])"
      ],
      "metadata": {
        "id": "mgl-bDyZEx5S"
      },
      "execution_count": 8,
      "outputs": []
    },
    {
      "cell_type": "code",
      "source": [
        "conv2d = nn.Conv2d(in_channels=1,out_channels=1,kernel_size=3,padding=1)\n",
        "x = torch.randn(8,8)\n",
        "com_cov2d(conv2d,x).shape"
      ],
      "metadata": {
        "colab": {
          "base_uri": "https://localhost:8080/"
        },
        "id": "T9eZXJ-HFuEj",
        "outputId": "2321dd7c-6d64-4a08-f286-1708c15fe05c"
      },
      "execution_count": 9,
      "outputs": [
        {
          "output_type": "execute_result",
          "data": {
            "text/plain": [
              "torch.Size([8, 8])"
            ]
          },
          "metadata": {},
          "execution_count": 9
        }
      ]
    },
    {
      "cell_type": "code",
      "source": [
        "x = torch.randn(8,8)\n",
        "print((1,1)+x.shape)"
      ],
      "metadata": {
        "colab": {
          "base_uri": "https://localhost:8080/"
        },
        "id": "duKohJWFGyuy",
        "outputId": "a671b008-78d7-4d3b-80e3-7745e34d32cf"
      },
      "execution_count": 10,
      "outputs": [
        {
          "output_type": "stream",
          "name": "stdout",
          "text": [
            "(1, 1, 8, 8)\n"
          ]
        }
      ]
    },
    {
      "cell_type": "code",
      "source": [
        "from torch.nn import common_types\n",
        "conv2d = nn.Conv2d(in_channels=1,out_channels=1,kernel_size=(5,3),padding=(2,1))\n",
        "com_cov2d(conv2d,x).shape"
      ],
      "metadata": {
        "colab": {
          "base_uri": "https://localhost:8080/"
        },
        "id": "3H4wvhGyHHoE",
        "outputId": "18046299-8680-4511-96e6-5c3246ea2c37"
      },
      "execution_count": 11,
      "outputs": [
        {
          "output_type": "execute_result",
          "data": {
            "text/plain": [
              "torch.Size([8, 8])"
            ]
          },
          "metadata": {},
          "execution_count": 11
        }
      ]
    },
    {
      "cell_type": "code",
      "source": [
        "conv2d=nn.Conv2d(1,1,3,2,1)\n",
        "com_cov2d(conv2d,x).shape"
      ],
      "metadata": {
        "colab": {
          "base_uri": "https://localhost:8080/"
        },
        "id": "IxCYJi0TICHX",
        "outputId": "d889f0eb-ad4d-460e-9db3-97436dbb2e5f"
      },
      "execution_count": 12,
      "outputs": [
        {
          "output_type": "execute_result",
          "data": {
            "text/plain": [
              "torch.Size([4, 4])"
            ]
          },
          "metadata": {},
          "execution_count": 12
        }
      ]
    },
    {
      "cell_type": "code",
      "source": [
        "x = torch.randn(9,12)\n",
        "conv2d=nn.Conv2d(1,1,(3,5),(3,4),(0,1))\n",
        "com_cov2d(conv2d,x).shape"
      ],
      "metadata": {
        "colab": {
          "base_uri": "https://localhost:8080/"
        },
        "id": "MQXiKx3EIeSW",
        "outputId": "629462f7-5778-4967-9403-1d2080a074da"
      },
      "execution_count": 13,
      "outputs": [
        {
          "output_type": "execute_result",
          "data": {
            "text/plain": [
              "torch.Size([3, 3])"
            ]
          },
          "metadata": {},
          "execution_count": 13
        }
      ]
    },
    {
      "cell_type": "code",
      "source": [
        "x = torch.arange(16,dtype=torch.float).view(1,1,4,4)\n",
        "print(x)\n",
        "pool2d = nn.MaxPool2d(3,stride=3)\n",
        "pool2d(x)"
      ],
      "metadata": {
        "colab": {
          "base_uri": "https://localhost:8080/"
        },
        "id": "sglT8FK-sBAI",
        "outputId": "0e2f281f-bbbd-4bf8-e122-40fd1bf8882a"
      },
      "execution_count": 22,
      "outputs": [
        {
          "output_type": "stream",
          "name": "stdout",
          "text": [
            "tensor([[[[ 0.,  1.,  2.,  3.],\n",
            "          [ 4.,  5.,  6.,  7.],\n",
            "          [ 8.,  9., 10., 11.],\n",
            "          [12., 13., 14., 15.]]]])\n"
          ]
        },
        {
          "output_type": "execute_result",
          "data": {
            "text/plain": [
              "tensor([[[[10.]]]])"
            ]
          },
          "metadata": {},
          "execution_count": 22
        }
      ]
    }
  ]
}