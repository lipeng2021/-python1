{
  "nbformat": 4,
  "nbformat_minor": 0,
  "metadata": {
    "colab": {
      "name": "6-1语言模型.ipynb",
      "provenance": [],
      "authorship_tag": "ABX9TyN71dcoBzBUaeQYjnypQ+Gh",
      "include_colab_link": true
    },
    "kernelspec": {
      "name": "python3",
      "display_name": "Python 3"
    },
    "language_info": {
      "name": "python"
    }
  },
  "cells": [
    {
      "cell_type": "markdown",
      "metadata": {
        "id": "view-in-github",
        "colab_type": "text"
      },
      "source": [
        "<a href=\"https://colab.research.google.com/github/lipeng2021/-python1/blob/main/6_1%E8%AF%AD%E8%A8%80%E6%A8%A1%E5%9E%8B.ipynb\" target=\"_parent\"><img src=\"https://colab.research.google.com/assets/colab-badge.svg\" alt=\"Open In Colab\"/></a>"
      ]
    },
    {
      "cell_type": "code",
      "execution_count": 9,
      "metadata": {
        "id": "Ut8Lx7vr-no-"
      },
      "outputs": [],
      "source": [
        "import torch\n",
        "import torch.nn as nn\n",
        "import random\n",
        "import zipfile"
      ]
    },
    {
      "cell_type": "code",
      "source": [
        "with zipfile.ZipFile('/home/jaychou_lyrics.txt.zip')as zin:\n",
        "   with zin.open('jaychou_lyrics.txt')as f:\n",
        "     corpus_chars = f.read().decode('utf-8')\n",
        "corpus_chars[:40]"
      ],
      "metadata": {
        "colab": {
          "base_uri": "https://localhost:8080/",
          "height": 34
        },
        "id": "nHHOD85j77sb",
        "outputId": "ef53d9c4-7104-4d46-aec1-05bfea366395"
      },
      "execution_count": 10,
      "outputs": [
        {
          "output_type": "execute_result",
          "data": {
            "text/plain": [
              "'想要有直升机\\n想要和你飞到宇宙去\\n想要和你融化在一起\\n融化在宇宙里\\n我每天每天每'"
            ],
            "application/vnd.google.colaboratory.intrinsic+json": {
              "type": "string"
            }
          },
          "metadata": {},
          "execution_count": 10
        }
      ]
    },
    {
      "cell_type": "code",
      "source": [
        "corpus_chars= corpus_chars.replace('\\n',' ').replace('\\r',' ')\n",
        "corpus_chars = corpus_chars[:10000]\n",
        "\n"
      ],
      "metadata": {
        "id": "4LveWxaBSloH"
      },
      "execution_count": 11,
      "outputs": []
    },
    {
      "cell_type": "code",
      "source": [
        "idx_to_char = list(set(corpus_chars))\n",
        "char_to_idx = dict([(char,i)for i,char in enumerate(idx_to_char)])\n",
        "vocab_size = len(char_to_idx)\n",
        "print(vocab_size)\n",
        "corpus_indices = [char_to_idx[char]for char in corpus_chars]\n",
        "sample = corpus_indices[:20]\n",
        "print('char:',corpus_chars[:20])\n",
        "print('indices:',sample)"
      ],
      "metadata": {
        "colab": {
          "base_uri": "https://localhost:8080/"
        },
        "id": "7M45aoCjQ9FC",
        "outputId": "318069b8-77ce-4f61-f61f-10d33ab7ef68"
      },
      "execution_count": 12,
      "outputs": [
        {
          "output_type": "stream",
          "name": "stdout",
          "text": [
            "1027\n",
            "char: 想要有直升机 想要和你飞到宇宙去 想要和\n",
            "indices: [538, 25, 996, 95, 779, 998, 620, 538, 25, 296, 685, 457, 505, 455, 585, 847, 620, 538, 25, 296]\n"
          ]
        }
      ]
    },
    {
      "cell_type": "code",
      "source": [
        "def load_data_jay_lyrics():\n",
        "  with zipfile.ZipFile('/home/jaychou_lyrics.txt.zip') as zin:\n",
        "    with zin.open('jaychou_lyrics.txt')as f:\n",
        "      corpus_chars = f.read().decode('utf-8')\n",
        "  corpus_chars = corpus_chars.replace('\\n',' ').replace('\\r',' ')\n",
        "  corpus_chars = corpus_chars[:10000]\n",
        "  idx_to_char = list(set(corpus_chars))\n",
        "  char_to_idx = dict([(char,i)for i,char in enumerate(idx_to_char)])\n",
        "  vocab_size = len(char_to_idx)\n",
        "  corpus_indics = [char_to_idx[char]for char in corpus_chars]\n",
        "  return corpus_indices,char_to_idx,idx_to_char,vocab_size"
      ],
      "metadata": {
        "id": "k57dQ-uQWX7N"
      },
      "execution_count": 13,
      "outputs": []
    },
    {
      "cell_type": "markdown",
      "source": [
        "随机采样："
      ],
      "metadata": {
        "id": "YtbGTbB15QCZ"
      }
    },
    {
      "cell_type": "code",
      "source": [
        "def data_iter_random(corpus_indices,batch_size,num_steps,device=None):\n",
        "  num_examples = (len(corpus_indices)-1)//num_steps\n",
        "  print('num_examples=',num_examples)\n",
        "  epoch_size = num_examples//batch_size\n",
        "  print('epoch_size=',epoch_size)\n",
        "  example_indices = list(range(num_examples))\n",
        "  random.shuffle(example_indices)\n",
        "  print('example_indices=',example_indices)\n",
        "  def _data(pos):\n",
        "    return corpus_indices[pos:pos+num_steps]\n",
        "  if device is None:\n",
        "    device = torch.device('cuda'if torch.cuda.is_available()else 'cpu')\n",
        "    print('device=',device)\n",
        "  for i in range(epoch_size):\n",
        "    i = i*batch_size\n",
        "    batch_indices = example_indices[i:i+batch_size]\n",
        "    print('batch_indices=',batch_indices)\n",
        "    X = [_data(j*num_steps)for j in batch_indices]\n",
        "    print('X=',X)\n",
        "    Y = [_data(j*num_steps+1)for j in batch_indices]\n",
        "    yield torch.tensor(X,dtype=torch.float32,device=device)\n",
        "    yield torch.tensor(Y,dtype=torch.float32,device=device)\n",
        "  "
      ],
      "metadata": {
        "id": "nBnN--BmeN8D"
      },
      "execution_count": 35,
      "outputs": []
    },
    {
      "cell_type": "code",
      "source": [
        "my_seq=list(range(30))\n",
        "num = 0 \n",
        "for X,Y in data_iter_random(my_seq,batch_size=2,num_steps=6):\n",
        "  print(X)\n",
        "  print(Y)"
      ],
      "metadata": {
        "colab": {
          "base_uri": "https://localhost:8080/"
        },
        "id": "6LqfCTYolYFc",
        "outputId": "6a50ae43-283b-4c00-98af-ef42299006bc"
      },
      "execution_count": 37,
      "outputs": [
        {
          "output_type": "stream",
          "name": "stdout",
          "text": [
            "num_examples= 4\n",
            "epoch_size= 2\n",
            "example_indices= [3, 0, 2, 1]\n",
            "device= cpu\n",
            "batch_indices= [3, 0]\n",
            "X= [[18, 19, 20, 21, 22, 23], [0, 1, 2, 3, 4, 5]]\n",
            "tensor([18., 19., 20., 21., 22., 23.])\n",
            "tensor([0., 1., 2., 3., 4., 5.])\n",
            "tensor([19., 20., 21., 22., 23., 24.])\n",
            "tensor([1., 2., 3., 4., 5., 6.])\n",
            "batch_indices= [2, 1]\n",
            "X= [[12, 13, 14, 15, 16, 17], [6, 7, 8, 9, 10, 11]]\n",
            "tensor([12., 13., 14., 15., 16., 17.])\n",
            "tensor([ 6.,  7.,  8.,  9., 10., 11.])\n",
            "tensor([13., 14., 15., 16., 17., 18.])\n",
            "tensor([ 7.,  8.,  9., 10., 11., 12.])\n"
          ]
        }
      ]
    },
    {
      "cell_type": "markdown",
      "source": [
        "相邻采样："
      ],
      "metadata": {
        "id": "SvmgRi945T4k"
      }
    },
    {
      "cell_type": "code",
      "source": [
        "from torch.cuda import is_available\n",
        "def data_iter_consecutive(corpus_indices,batch_size,num_steps,device=None):\n",
        "  if device==None:\n",
        "    device = torch.device('cuda'if (torch.cuda.is_available())else 'cpu')\n",
        "  corpus_indices = torch.tensor(corpus_indices,dtype=torch.float32,device=device)\n",
        "  data_len = len(corpus_indices)\n",
        "  print('data_len:',data_len)\n",
        "  batch_len = data_len//batch_size\n",
        "  print('batch_len:',batch_len)\n",
        "  indices =corpus_indices[0:batch_size*batch_len].view(batch_size,batch_len)\n",
        "  print('indices',indices)\n",
        "  epoch_size = (batch_len-1)//num_steps\n",
        "  print('epoch_size',epoch_size)\n",
        "  for i in range(epoch_size):\n",
        "    i = i*num_steps\n",
        "    X = indices[:,i:i+num_steps]\n",
        "    Y = indices[:,i+1:i+num_steps+1]\n",
        "    yield X,Y"
      ],
      "metadata": {
        "id": "86ZRDjUtzEuW"
      },
      "execution_count": 46,
      "outputs": []
    },
    {
      "cell_type": "code",
      "source": [
        "my_seq=list(range(30))\n",
        "num = 0\n",
        "for X,Y in data_iter_consecutive(my_seq,batch_size=2,num_steps=6):\n",
        "  print(X)\n",
        "  print(Y)"
      ],
      "metadata": {
        "id": "zKxtKYFPCAJQ"
      },
      "execution_count": null,
      "outputs": []
    },
    {
      "cell_type": "code",
      "source": [
        ""
      ],
      "metadata": {
        "id": "TlGdkTT_C_4o"
      },
      "execution_count": null,
      "outputs": []
    },
    {
      "cell_type": "code",
      "source": [
        ""
      ],
      "metadata": {
        "id": "T_RJRE0y6Hgv"
      },
      "execution_count": null,
      "outputs": []
    }
  ]
}