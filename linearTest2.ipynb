{
  "nbformat": 4,
  "nbformat_minor": 0,
  "metadata": {
    "colab": {
      "name": "Untitled1.ipynb",
      "provenance": [],
      "authorship_tag": "ABX9TyPXt/WxKyObvMgV9MQnt1K7",
      "include_colab_link": true
    },
    "kernelspec": {
      "name": "python3",
      "display_name": "Python 3"
    },
    "language_info": {
      "name": "python"
    }
  },
  "cells": [
    {
      "cell_type": "markdown",
      "metadata": {
        "id": "view-in-github",
        "colab_type": "text"
      },
      "source": [
        "<a href=\"https://colab.research.google.com/github/lipeng2021/-python1/blob/main/linearTest2.ipynb\" target=\"_parent\"><img src=\"https://colab.research.google.com/assets/colab-badge.svg\" alt=\"Open In Colab\"/></a>"
      ]
    },
    {
      "cell_type": "code",
      "execution_count": 42,
      "metadata": {
        "id": "iRbb_m-oNaqJ"
      },
      "outputs": [],
      "source": [
        "%matplotlib inline\n",
        "import torch\n",
        "import random\n",
        "from matplotlib import pyplot as plt\n",
        "from IPython import display\n",
        "import numpy as np"
      ]
    },
    {
      "cell_type": "code",
      "source": [
        "true_w = [2,-3.4]\n",
        "true_b = 4.2\n",
        "num_inputs = 2\n",
        "num_examples = 1000\n",
        "features = torch.tensor(np.random.normal(0,1,(num_examples,num_inputs)),dtype=torch.float)\n",
        "labels = true_w[0]*features[:,0]+true_w[1]*features[:,1]+true_b\n",
        "labels += torch.tensor(np.random.normal(0,0.01,size=labels.size()),dtype=torch.float)"
      ],
      "metadata": {
        "id": "0YDia0gZOQrP"
      },
      "execution_count": 43,
      "outputs": []
    },
    {
      "cell_type": "code",
      "source": [
        "import torch.utils.data as Data\n",
        "batch_size=10\n",
        "dataset = Data.TensorDataset(features,labels)\n",
        "data_iter = Data.DataLoader(dataset,batch_size,shuffle=True)"
      ],
      "metadata": {
        "id": "ufQ1Ge63PBjR"
      },
      "execution_count": 44,
      "outputs": []
    },
    {
      "cell_type": "code",
      "source": [
        "def set_svg_figure():\n",
        "  display.set_matplotlib_formats('svg')\n",
        "def set_figsize(figsize=(3.5,2.5)):\n",
        "  plt.rcParams['figure.figsize']=figsize\n",
        "set_figsize()\n",
        "plt.scatter(features[:,1].numpy(),labels.numpy(),1)"
      ],
      "metadata": {
        "colab": {
          "base_uri": "https://localhost:8080/",
          "height": 202
        },
        "id": "6nz_h6sGQixn",
        "outputId": "38c805df-63fb-4c1e-c63e-51b3ffe3d8de"
      },
      "execution_count": 45,
      "outputs": [
        {
          "output_type": "execute_result",
          "data": {
            "text/plain": [
              "<matplotlib.collections.PathCollection at 0x7fd9bd9fbe10>"
            ]
          },
          "metadata": {},
          "execution_count": 45
        },
        {
          "output_type": "display_data",
          "data": {
            "text/plain": [
              "<Figure size 252x180 with 1 Axes>"
            ],
            "image/png": "[encoded data removed]"
          },
          "metadata": {
            "needs_background": "light"
          }
        }
      ]
    },
    {
      "cell_type": "markdown",
      "source": [
        "定义模型"
      ],
      "metadata": {
        "id": "8o6bCeyWVxYy"
      }
    },
    {
      "cell_type": "code",
      "source": [
        "import torch.nn as nn\n",
        "class LinearNet(nn.Module):\n",
        "  def __init__(self,n_features):\n",
        "    super(LinearNet,self).__init__()\n",
        "    self.linear = nn.Linear(n_features,1)\n",
        "  def forward(self,x):\n",
        "    y = self.linear(x)\n",
        "    return y\n",
        "net = LinearNet(num_inputs)"
      ],
      "metadata": {
        "id": "WKBZOhPURTw1"
      },
      "execution_count": 46,
      "outputs": []
    },
    {
      "cell_type": "code",
      "source": [
        "from torch.nn.modules.container import Sequential\n",
        "net = Sequential(\n",
        "    nn.Linear(num_inputs,1)\n",
        ")"
      ],
      "metadata": {
        "id": "a73yfo9FUEpa"
      },
      "execution_count": 47,
      "outputs": []
    },
    {
      "cell_type": "markdown",
      "source": [
        "初始化模型参数"
      ],
      "metadata": {
        "id": "9IrcbWacV0gI"
      }
    },
    {
      "cell_type": "code",
      "source": [
        "from torch.nn import init\n",
        "init.normal_(net[0].weight,mean=0,std=0.01)\n",
        "init.constant_(net[0].bias,val=0)"
      ],
      "metadata": {
        "colab": {
          "base_uri": "https://localhost:8080/"
        },
        "id": "ylczAOv9VYVI",
        "outputId": "1afd87df-e235-43d2-b85b-9c6dc9fb45ea"
      },
      "execution_count": 48,
      "outputs": [
        {
          "output_type": "execute_result",
          "data": {
            "text/plain": [
              "Parameter containing:\n",
              "tensor([0.], requires_grad=True)"
            ]
          },
          "metadata": {},
          "execution_count": 48
        }
      ]
    },
    {
      "cell_type": "markdown",
      "source": [
        "定义损失函数"
      ],
      "metadata": {
        "id": "YISkxRBeW9jD"
      }
    },
    {
      "cell_type": "code",
      "source": [
        "loss = nn.MSELoss()"
      ],
      "metadata": {
        "id": "kfE8gpvjW__Q"
      },
      "execution_count": 49,
      "outputs": []
    },
    {
      "cell_type": "markdown",
      "source": [
        "定义优化算法"
      ],
      "metadata": {
        "id": "yAFcp5NiXKbG"
      }
    },
    {
      "cell_type": "code",
      "source": [
        "import torch.optim as optim\n",
        "optimizer = optim.SGD(net.parameters(),lr=0.03)"
      ],
      "metadata": {
        "id": "bm2zWFKDXMlt"
      },
      "execution_count": 50,
      "outputs": []
    },
    {
      "cell_type": "markdown",
      "source": [
        "训练模型"
      ],
      "metadata": {
        "id": "bc2OgxN6YtiV"
      }
    },
    {
      "cell_type": "code",
      "source": [
        "num_epoch =3\n",
        "for epoch in range(1,num_epoch+1):\n",
        "  for X,y in data_iter:\n",
        "    output = net(X)\n",
        "    l = loss(output,y.view(-1,1))\n",
        "    optimizer.zero_grad()\n",
        "    l.backward()\n",
        "    optimizer.step()\n",
        "  print('epoch %d,loss %f' % (epoch+1,l.item()))"
      ],
      "metadata": {
        "colab": {
          "base_uri": "https://localhost:8080/"
        },
        "id": "93-lmQ5RYu-W",
        "outputId": "cd0a639e-4490-49ef-f2b1-7e06d9b8cdc9"
      },
      "execution_count": 51,
      "outputs": [
        {
          "output_type": "stream",
          "name": "stdout",
          "text": [
            "epoch 2,loss 0.000314\n",
            "epoch 3,loss 0.000058\n",
            "epoch 4,loss 0.000112\n"
          ]
        }
      ]
    },
    {
      "cell_type": "code",
      "source": [
        "print(true_w,'\\n',net[0].weight)\n",
        "print(true_b,'\\n',net[0].bias)"
      ],
      "metadata": {
        "colab": {
          "base_uri": "https://localhost:8080/"
        },
        "id": "UgEhnbgabNL1",
        "outputId": "98f99a4e-46aa-4701-bd18-a39d80b0dd97"
      },
      "execution_count": 52,
      "outputs": [
        {
          "output_type": "stream",
          "name": "stdout",
          "text": [
            "[2, -3.4] \n",
            " Parameter containing:\n",
            "tensor([[ 1.9995, -3.4006]], requires_grad=True)\n",
            "4.2 \n",
            " Parameter containing:\n",
            "tensor([4.1994], requires_grad=True)\n"
          ]
        }
      ]
    }
  ]
}