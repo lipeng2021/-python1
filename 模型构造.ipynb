{
  "nbformat": 4,
  "nbformat_minor": 0,
  "metadata": {
    "colab": {
      "name": "模型构造.ipynb",
      "provenance": [],
      "authorship_tag": "ABX9TyPkt0vRAQ/Tk9ydYb8m0jPy",
      "include_colab_link": true
    },
    "kernelspec": {
      "name": "python3",
      "display_name": "Python 3"
    },
    "language_info": {
      "name": "python"
    }
  },
  "cells": [
    {
      "cell_type": "markdown",
      "metadata": {
        "id": "view-in-github",
        "colab_type": "text"
      },
      "source": [
        "<a href=\"https://colab.research.google.com/github/lipeng2021/-python1/blob/main/%E6%A8%A1%E5%9E%8B%E6%9E%84%E9%80%A0.ipynb\" target=\"_parent\"><img src=\"https://colab.research.google.com/assets/colab-badge.svg\" alt=\"Open In Colab\"/></a>"
      ]
    },
    {
      "cell_type": "code",
      "source": [
        "import torch\n",
        "import torch.nn as nn\n",
        "import torch.nn.init as init"
      ],
      "metadata": {
        "id": "5vIMjFdRYi-V"
      },
      "execution_count": 1,
      "outputs": []
    },
    {
      "cell_type": "code",
      "source": [
        "class MLP(nn.Module):\n",
        "  def __init__(self,**kwargs):\n",
        "    super(MLP,self).__init__()\n",
        "    self.hidden = nn.Linear(784,256)\n",
        "    self.act = nn.ReLU()\n",
        "    self.output = nn.Linear(256,10)\n",
        "  def forward(self,x):\n",
        "    y = self.output(self.act(self.hidden(x)))\n",
        "    return y"
      ],
      "metadata": {
        "id": "DOBFinbbYukv"
      },
      "execution_count": 2,
      "outputs": []
    },
    {
      "cell_type": "code",
      "source": [
        "x = torch.rand(2,784)\n",
        "net =MLP()\n",
        "print(net)\n",
        "net(x)"
      ],
      "metadata": {
        "colab": {
          "base_uri": "https://localhost:8080/"
        },
        "id": "oIzxC8ztYzGe",
        "outputId": "eb9a2694-6777-4daf-ec20-6469d5195c03"
      },
      "execution_count": 3,
      "outputs": [
        {
          "output_type": "stream",
          "name": "stdout",
          "text": [
            "MLP(\n",
            "  (hidden): Linear(in_features=784, out_features=256, bias=True)\n",
            "  (act): ReLU()\n",
            "  (output): Linear(in_features=256, out_features=10, bias=True)\n",
            ")\n"
          ]
        },
        {
          "output_type": "execute_result",
          "data": {
            "text/plain": [
              "tensor([[ 0.1003,  0.3327, -0.2624,  0.1068, -0.0332,  0.2999, -0.0733, -0.0424,\n",
              "         -0.0334,  0.0086],\n",
              "        [ 0.1065,  0.3937, -0.3036,  0.0947, -0.0496,  0.3313, -0.0601, -0.0962,\n",
              "          0.0670, -0.0234]], grad_fn=<AddmmBackward0>)"
            ]
          },
          "metadata": {},
          "execution_count": 3
        }
      ]
    },
    {
      "cell_type": "code",
      "source": [
        "net1 = nn.Sequential(\n",
        "    nn.Linear(784,256),\n",
        "    nn.ReLU(),\n",
        "    nn.Linear(256,10)\n",
        ")"
      ],
      "metadata": {
        "id": "R3JKhWfnaN0K"
      },
      "execution_count": 4,
      "outputs": []
    },
    {
      "cell_type": "code",
      "source": [
        "x = torch.rand(2,784)\n",
        "print(net1)\n",
        "net1(x)"
      ],
      "metadata": {
        "colab": {
          "base_uri": "https://localhost:8080/"
        },
        "id": "fmAHm0dvaYU1",
        "outputId": "88404769-191c-41f0-d34a-dff367d3a755"
      },
      "execution_count": 5,
      "outputs": [
        {
          "output_type": "stream",
          "name": "stdout",
          "text": [
            "Sequential(\n",
            "  (0): Linear(in_features=784, out_features=256, bias=True)\n",
            "  (1): ReLU()\n",
            "  (2): Linear(in_features=256, out_features=10, bias=True)\n",
            ")\n"
          ]
        },
        {
          "output_type": "execute_result",
          "data": {
            "text/plain": [
              "tensor([[ 0.1284, -0.0015,  0.1384, -0.0879, -0.0630, -0.0819, -0.2315,  0.3294,\n",
              "          0.1394, -0.1326],\n",
              "        [ 0.1279, -0.0411,  0.1881, -0.0106, -0.0058, -0.0950, -0.2629,  0.1619,\n",
              "          0.1048, -0.2527]], grad_fn=<AddmmBackward0>)"
            ]
          },
          "metadata": {},
          "execution_count": 5
        }
      ]
    },
    {
      "cell_type": "code",
      "source": [
        "from collections import OrderedDict\n",
        "net2 = nn.Sequential(\n",
        "    OrderedDict([\n",
        "        ('hidden',nn.Linear(784,256)),\n",
        "        ('act',nn.ReLU()),\n",
        "        ('output',nn.Linear(256,10)),\n",
        "    ])\n",
        ")"
      ],
      "metadata": {
        "id": "0_QnVWxmag8K"
      },
      "execution_count": 6,
      "outputs": []
    },
    {
      "cell_type": "code",
      "source": [
        "x = torch.rand(2,784)\n",
        "print(net2)\n",
        "net2(x)"
      ],
      "metadata": {
        "colab": {
          "base_uri": "https://localhost:8080/"
        },
        "id": "p17z6klBa5-5",
        "outputId": "72b0cf27-80a8-425b-b781-ed43f327cd86"
      },
      "execution_count": 7,
      "outputs": [
        {
          "output_type": "stream",
          "name": "stdout",
          "text": [
            "Sequential(\n",
            "  (hidden): Linear(in_features=784, out_features=256, bias=True)\n",
            "  (act): ReLU()\n",
            "  (output): Linear(in_features=256, out_features=10, bias=True)\n",
            ")\n"
          ]
        },
        {
          "output_type": "execute_result",
          "data": {
            "text/plain": [
              "tensor([[-0.1911, -0.1158,  0.0908,  0.0540,  0.0565, -0.1761,  0.1281,  0.0830,\n",
              "         -0.1433, -0.0575],\n",
              "        [-0.1449, -0.0501,  0.1540, -0.0054,  0.0503, -0.1702,  0.1484,  0.0709,\n",
              "          0.0668, -0.1051]], grad_fn=<AddmmBackward0>)"
            ]
          },
          "metadata": {},
          "execution_count": 7
        }
      ]
    },
    {
      "cell_type": "code",
      "source": [
        "net4 = nn.ModuleList([nn.Linear(784,256),nn.ReLU()])\n",
        "net4.append(nn.Linear(256,10))"
      ],
      "metadata": {
        "colab": {
          "base_uri": "https://localhost:8080/"
        },
        "id": "rkeDXpFRdzEk",
        "outputId": "d470e418-a867-4ecc-be9c-3beea8d7e99f"
      },
      "execution_count": 8,
      "outputs": [
        {
          "output_type": "execute_result",
          "data": {
            "text/plain": [
              "ModuleList(\n",
              "  (0): Linear(in_features=784, out_features=256, bias=True)\n",
              "  (1): ReLU()\n",
              "  (2): Linear(in_features=256, out_features=10, bias=True)\n",
              ")"
            ]
          },
          "metadata": {},
          "execution_count": 8
        }
      ]
    },
    {
      "cell_type": "code",
      "source": [
        "x = torch.rand(2,784)\n",
        "print(net4)"
      ],
      "metadata": {
        "colab": {
          "base_uri": "https://localhost:8080/"
        },
        "id": "jlKxRUsKeSHi",
        "outputId": "69a26c99-3a0e-42c3-deaa-78ac2c2ed8a8"
      },
      "execution_count": 9,
      "outputs": [
        {
          "output_type": "stream",
          "name": "stdout",
          "text": [
            "ModuleList(\n",
            "  (0): Linear(in_features=784, out_features=256, bias=True)\n",
            "  (1): ReLU()\n",
            "  (2): Linear(in_features=256, out_features=10, bias=True)\n",
            ")\n"
          ]
        }
      ]
    },
    {
      "cell_type": "code",
      "source": [
        "net5 = nn.ModuleDict(\n",
        "    {\n",
        "        'hidden':nn.Linear(784,256),\n",
        "        'act':nn.ReLU()\n",
        "    }\n",
        ")\n",
        "net5['output'] = nn.Linear(256,10)\n",
        "print(net5)\n",
        "print(net5['act'])"
      ],
      "metadata": {
        "colab": {
          "base_uri": "https://localhost:8080/"
        },
        "id": "vZTuP1mIefsP",
        "outputId": "110c6f09-b94e-4ebf-822a-9c7ba6e68244"
      },
      "execution_count": 10,
      "outputs": [
        {
          "output_type": "stream",
          "name": "stdout",
          "text": [
            "ModuleDict(\n",
            "  (hidden): Linear(in_features=784, out_features=256, bias=True)\n",
            "  (act): ReLU()\n",
            "  (output): Linear(in_features=256, out_features=10, bias=True)\n",
            ")\n",
            "ReLU()\n"
          ]
        }
      ]
    },
    {
      "cell_type": "code",
      "source": [
        "net = nn.Sequential(\n",
        "    nn.Linear(4,3),\n",
        "    nn.ReLU(),\n",
        "    nn.Linear(3,1)\n",
        "    )\n",
        "print(net)\n",
        "x = torch.rand(2,4)\n",
        "y=net(x).sum()\n",
        "print(y)"
      ],
      "metadata": {
        "colab": {
          "base_uri": "https://localhost:8080/"
        },
        "id": "6vrhwo7ZfI8h",
        "outputId": "c0340c60-71e7-4f7e-aac7-e681874adb5c"
      },
      "execution_count": 11,
      "outputs": [
        {
          "output_type": "stream",
          "name": "stdout",
          "text": [
            "Sequential(\n",
            "  (0): Linear(in_features=4, out_features=3, bias=True)\n",
            "  (1): ReLU()\n",
            "  (2): Linear(in_features=3, out_features=1, bias=True)\n",
            ")\n",
            "tensor(-0.1632, grad_fn=<SumBackward0>)\n"
          ]
        }
      ]
    },
    {
      "cell_type": "code",
      "source": [
        "print(type(net.named_parameters()))\n",
        "for name,param in net.named_parameters():\n",
        "  print(name,param.size())"
      ],
      "metadata": {
        "colab": {
          "base_uri": "https://localhost:8080/"
        },
        "id": "-mPyOjNcoBUy",
        "outputId": "185cc906-aaa3-4abb-f273-bff1d828b95d"
      },
      "execution_count": 12,
      "outputs": [
        {
          "output_type": "stream",
          "name": "stdout",
          "text": [
            "<class 'generator'>\n",
            "0.weight torch.Size([3, 4])\n",
            "0.bias torch.Size([3])\n",
            "2.weight torch.Size([1, 3])\n",
            "2.bias torch.Size([1])\n"
          ]
        }
      ]
    },
    {
      "cell_type": "code",
      "source": [
        "for name,param in net.named_parameters():\n",
        "  if 'weight' in name:\n",
        "    init.normal_(param,mean=0,std=0.01)\n",
        "    #print(param)\n",
        "  if 'bias' in name:\n",
        "    init.constant_(param,val=0)\n",
        "    print(name,param.data)"
      ],
      "metadata": {
        "colab": {
          "base_uri": "https://localhost:8080/"
        },
        "id": "PH39p3hstcLA",
        "outputId": "a9b208b3-84e9-4435-915e-11188d0ccf14"
      },
      "execution_count": 13,
      "outputs": [
        {
          "output_type": "stream",
          "name": "stdout",
          "text": [
            "0.bias tensor([0., 0., 0.])\n",
            "2.bias tensor([0.])\n"
          ]
        }
      ]
    },
    {
      "cell_type": "markdown",
      "source": [
        "自定义初始化方法"
      ],
      "metadata": {
        "id": "n5Qmo_iougEm"
      }
    },
    {
      "cell_type": "code",
      "source": [
        "def normal_(tensor,mean=0,std=1):\n",
        "  with torch.no_grad():\n",
        "    return tensor.normal_(mean,std)"
      ],
      "metadata": {
        "id": "JhEw4MPoujc2"
      },
      "execution_count": 14,
      "outputs": []
    },
    {
      "cell_type": "code",
      "source": [
        "def init_weight_(tensor):\n",
        "  with torch.no_grad():\n",
        "    tensor.uniform_(-10,10)\n",
        "    print(tensor.uniform_(-10,10))\n",
        "    tensor*=(tensor.abs()>=5).float()\n",
        "for name,param in net.named_parameters():\n",
        "  if 'weight' in name:\n",
        "    init_weight_(param)\n",
        "    print(name,param.data)"
      ],
      "metadata": {
        "colab": {
          "base_uri": "https://localhost:8080/"
        },
        "id": "-8_Sl8XkwZQA",
        "outputId": "67d52f36-ddf2-4bf2-8fb7-26bbbf758c83"
      },
      "execution_count": 15,
      "outputs": [
        {
          "output_type": "stream",
          "name": "stdout",
          "text": [
            "Parameter containing:\n",
            "tensor([[ 9.8035,  7.3941, -6.3200,  4.7369],\n",
            "        [ 2.7777,  1.9657,  8.3675, -0.0401],\n",
            "        [-9.8950,  0.6667, -9.6167,  6.0028]], requires_grad=True)\n",
            "0.weight tensor([[ 9.8035,  7.3941, -6.3200,  0.0000],\n",
            "        [ 0.0000,  0.0000,  8.3675, -0.0000],\n",
            "        [-9.8950,  0.0000, -9.6167,  6.0028]])\n",
            "Parameter containing:\n",
            "tensor([[-2.1296,  6.0269,  2.0759]], requires_grad=True)\n",
            "2.weight tensor([[-0.0000, 6.0269, 0.0000]])\n"
          ]
        }
      ]
    },
    {
      "cell_type": "code",
      "source": [
        "linear = nn.Linear(1,1,bias=False)\n",
        "net8 = nn.Sequential(linear,linear,linear,linear)\n",
        "for name,param in net8.named_parameters():\n",
        "  init.constant_(param,val=2)\n",
        "  print(name,param.data)"
      ],
      "metadata": {
        "colab": {
          "base_uri": "https://localhost:8080/"
        },
        "id": "906jPXyZysfs",
        "outputId": "3d241ff9-925f-463f-fd5c-6e8a1246db9d"
      },
      "execution_count": 30,
      "outputs": [
        {
          "output_type": "stream",
          "name": "stdout",
          "text": [
            "0.weight tensor([[2.]])\n"
          ]
        }
      ]
    },
    {
      "cell_type": "code",
      "source": [
        "x=torch.ones(1,1)\n",
        "print(net8(x))\n",
        "net8.zero_grad()\n",
        "y = net8(x).sum()\n",
        "print(y)\n",
        "\n",
        "y.backward()\n",
        "print(net8[0].weight.grad)\n",
        "print(net8[1].weight.grad)"
      ],
      "metadata": {
        "colab": {
          "base_uri": "https://localhost:8080/"
        },
        "id": "WOxt5m_j0jMM",
        "outputId": "92ae8bf3-5aab-4aa9-bf8e-767e13c99ccc"
      },
      "execution_count": 31,
      "outputs": [
        {
          "output_type": "stream",
          "name": "stdout",
          "text": [
            "tensor([[16.]], grad_fn=<MmBackward0>)\n",
            "tensor(16., grad_fn=<SumBackward0>)\n",
            "tensor([[32.]])\n",
            "tensor([[32.]])\n"
          ]
        }
      ]
    },
    {
      "cell_type": "code",
      "source": [
        "x = torch.ones(2,1)\n",
        "y = x+2\n",
        "z = y*y*2\n",
        "class Mylinear(nn.Module):\n",
        "  def __init__(self) -> None:\n",
        "      super(Mylinear,self).__init__()\n",
        "  def forward(self,x):\n",
        "    y = (x+2)**2*2\n",
        "    return y"
      ],
      "metadata": {
        "id": "IsV7U1Px9wDm"
      },
      "execution_count": 39,
      "outputs": []
    },
    {
      "cell_type": "code",
      "source": [
        "x = torch.ones(2,2,requires_grad=True)\n",
        "print(x)\n",
        "net = Mylinear()\n",
        "print(net)\n",
        "y=net(x).sum()\n",
        "print(x.grad)"
      ],
      "metadata": {
        "colab": {
          "base_uri": "https://localhost:8080/"
        },
        "id": "T6NisWB--m8h",
        "outputId": "ae889db7-4ad2-4ca9-d2b3-f0e050e34324"
      },
      "execution_count": 53,
      "outputs": [
        {
          "output_type": "stream",
          "name": "stdout",
          "text": [
            "tensor([[1., 1.],\n",
            "        [1., 1.]], requires_grad=True)\n",
            "Mylinear()\n",
            "None\n"
          ]
        }
      ]
    },
    {
      "cell_type": "code",
      "source": [
        "import torch\n",
        "\n",
        "x = torch.ones((2,2),requires_grad=True)\n",
        "print(\"x>>>\",x)\n",
        "\n",
        "y = x+2\n",
        "z = y*y*3\n",
        "out = z.mean()\n",
        "print(\"out>>>\",out)\n",
        "out.backward()\n",
        "print(\"x.grad>>>\",x.grad)"
      ],
      "metadata": {
        "colab": {
          "base_uri": "https://localhost:8080/"
        },
        "id": "-UfSzryLA7ca",
        "outputId": "47af3d1e-29df-4943-992e-e69e996bd61c"
      },
      "execution_count": 56,
      "outputs": [
        {
          "output_type": "stream",
          "name": "stdout",
          "text": [
            "x>>> tensor([[1., 1.],\n",
            "        [1., 1.]], requires_grad=True)\n",
            "out>>> tensor(27., grad_fn=<MeanBackward0>)\n",
            "x.grad>>> tensor([[4.5000, 4.5000],\n",
            "        [4.5000, 4.5000]])\n"
          ]
        }
      ]
    },
    {
      "cell_type": "code",
      "source": [
        "class CenteredLayer(nn.Module):\n",
        "  def __init__(self,**kwargs):\n",
        "    super(CenteredLayer,self).__init__()\n",
        "  def forward(self,x):\n",
        "    return x-x.mean()"
      ],
      "metadata": {
        "id": "OUlqNizPH3G8"
      },
      "execution_count": 58,
      "outputs": []
    },
    {
      "cell_type": "code",
      "source": [
        "x = torch.tensor([1,2,3,4,5],dtype=torch.float)\n",
        "net = CenteredLayer()\n",
        "net(x)"
      ],
      "metadata": {
        "colab": {
          "base_uri": "https://localhost:8080/"
        },
        "id": "MJZ1dhQIILre",
        "outputId": "36bf5805-4719-475a-9f61-940696ab9755"
      },
      "execution_count": 60,
      "outputs": [
        {
          "output_type": "execute_result",
          "data": {
            "text/plain": [
              "tensor([-2., -1.,  0.,  1.,  2.])"
            ]
          },
          "metadata": {},
          "execution_count": 60
        }
      ]
    },
    {
      "cell_type": "code",
      "source": [
        "net1 = nn.Sequential(nn.Linear(8,128),CenteredLayer())\n",
        "y = net1(torch.rand(4,8))\n",
        "print(y.mean().item())"
      ],
      "metadata": {
        "colab": {
          "base_uri": "https://localhost:8080/"
        },
        "id": "Bg5GJZN3IgHz",
        "outputId": "b09795d2-7ffb-44df-8c74-1cb9365c6022"
      },
      "execution_count": 61,
      "outputs": [
        {
          "output_type": "stream",
          "name": "stdout",
          "text": [
            "0.0\n"
          ]
        }
      ]
    },
    {
      "cell_type": "code",
      "source": [
        "class MyDense(nn.Module):\n",
        "  def __init__(self):\n",
        "    super(MyDense,self).__init__()\n",
        "    self.params = nn.ParameterList([nn.Parameter(torch.randn(4,4))for i in range(3)])\n",
        "    self.params.append(nn.Parameter(torch.randn(4,1)))\n",
        "  def forward(self,x):\n",
        "    for i in range(len(self.params)):\n",
        "      print(len(self.params))\n",
        "      x = torch.mm(x,self.params[i])\n",
        "    return x\n",
        "net = MyDense()\n",
        "print(net)\n",
        "x = torch.ones(4,4)\n",
        "net(x)"
      ],
      "metadata": {
        "id": "JR5wQL0CJyqq"
      },
      "execution_count": null,
      "outputs": []
    },
    {
      "cell_type": "code",
      "source": [
        "class MyDictDense(nn.Module):\n",
        "  def __init__(self):\n",
        "    super(MyDictDense,self).__init__()\n",
        "    self.params = nn.ParameterDict({\n",
        "        'linear1':nn.Parameter(torch.randn(4,4)),\n",
        "        'linear2':nn.Parameter(torch.randn(4,1)),\n",
        "    })\n",
        "    self.params['linear3'] = nn.Parameter(torch.randn(4,2))\n",
        "  def forward(self,x,choice='linear1'):\n",
        "    return torch.mm(x,self.params[choice])\n",
        "net = MyDictDense()\n",
        "print(net)\n",
        "x = torch.randn(1,4)\n",
        "net(x,choice='linear2')\n",
        "net(x,choice='linear1')\n",
        "net(x,choice='linear3')"
      ],
      "metadata": {
        "colab": {
          "base_uri": "https://localhost:8080/"
        },
        "id": "nvumChXELxV2",
        "outputId": "556e2096-5e31-4735-a5cd-e42bcd577e6e"
      },
      "execution_count": 72,
      "outputs": [
        {
          "output_type": "stream",
          "name": "stdout",
          "text": [
            "MyDictDense(\n",
            "  (params): ParameterDict(\n",
            "      (linear1): Parameter containing: [torch.FloatTensor of size 4x4]\n",
            "      (linear2): Parameter containing: [torch.FloatTensor of size 4x1]\n",
            "      (linear3): Parameter containing: [torch.FloatTensor of size 4x2]\n",
            "  )\n",
            ")\n"
          ]
        },
        {
          "output_type": "execute_result",
          "data": {
            "text/plain": [
              "tensor([[-3.8823,  0.1533]], grad_fn=<MmBackward0>)"
            ]
          },
          "metadata": {},
          "execution_count": 72
        }
      ]
    },
    {
      "cell_type": "code",
      "source": [
        "x = torch.ones(3)\n",
        "torch.save(x,'/x.pt1')\n",
        "x2 = torch.load('/x.pt1')\n",
        "print(x)"
      ],
      "metadata": {
        "colab": {
          "base_uri": "https://localhost:8080/"
        },
        "id": "8iegeupJNYtm",
        "outputId": "9d53aec3-ed95-430f-e9e7-3147203766b4"
      },
      "execution_count": 79,
      "outputs": [
        {
          "output_type": "stream",
          "name": "stdout",
          "text": [
            "tensor([1., 1., 1.])\n"
          ]
        }
      ]
    }
  ]
}